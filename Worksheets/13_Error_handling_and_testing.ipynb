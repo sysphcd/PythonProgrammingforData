{
  "nbformat": 4,
  "nbformat_minor": 0,
  "metadata": {
    "colab": {
      "name": "13. Error-handling-and-testing.ipynb",
      "provenance": [],
      "collapsed_sections": [],
      "include_colab_link": true
    },
    "kernelspec": {
      "name": "python3",
      "display_name": "Python 3"
    },
    "language_info": {
      "name": "python"
    }
  },
  "cells": [
    {
      "cell_type": "markdown",
      "metadata": {
        "id": "view-in-github",
        "colab_type": "text"
      },
      "source": [
        "<a href=\"https://colab.research.google.com/github/sysphcd/PythonProgrammingforData/blob/main/Worksheets/13_Error_handling_and_testing.ipynb\" target=\"_parent\"><img src=\"https://colab.research.google.com/assets/colab-badge.svg\" alt=\"Open In Colab\"/></a>"
      ]
    },
    {
      "cell_type": "markdown",
      "metadata": {
        "id": "llhPjzuu7KLX"
      },
      "source": [
        "# Dealing with errors\n",
        "---\n",
        "\n",
        "There are various types of error that a well written function will handle but which can sometimes be forgotten.\n",
        "\n",
        "Errors can be categorised into:\n",
        "*  Syntax errors  \n",
        "errors in the code that stop it from being interpreted and run - these are often picked up by the code editor, or by Python when it tries to translate the code before running it  \n",
        "\n",
        "*  Logic errors  \n",
        "these are hard to pick up and rely on good testing or user feedback.  A logic error will result in 'wrong' data or functionality  \n",
        "\n",
        "*  Runtime errors  \n",
        "these are generally caused by operations that work perfectly well with the 'right' data but fall over if they encounter the 'wrong' data.\n",
        "\n",
        "### Exercise 1  \n",
        "---\n",
        "\n",
        "The code below has a `syntax` error.  Correct the error and run the code.\n"
      ]
    },
    {
      "cell_type": "code",
      "metadata": {
        "id": "fqvRJOFz7HEs",
        "colab": {
          "base_uri": "https://localhost:8080/"
        },
        "outputId": "84737015-8f5d-4e2b-c344-d09148e2ea25"
      },
      "source": [
        "def get_list():\n",
        "  # mylist = [\"red\",'yellow','pink',\"green\",'orange',\"purple\".\"blue\"] # Syntax error at the end of the list item. It should be a , in front of \"blue\"\n",
        "  mylist = [\"red\",'yellow','pink',\"green\",'orange',\"purple\",\"blue\"]\n",
        "  return mylist\n",
        "\n",
        "the_list = get_list()\n",
        "print(the_list)"
      ],
      "execution_count": null,
      "outputs": [
        {
          "output_type": "stream",
          "name": "stdout",
          "text": [
            "['red', 'yellow', 'pink', 'green', 'orange', 'purple', 'blue']\n"
          ]
        }
      ]
    },
    {
      "cell_type": "markdown",
      "metadata": {
        "id": "G8fVmU5h86Dn"
      },
      "source": [
        "### Exercise 2 \n",
        "---\n",
        "\n",
        "The code below has a `logic` error.  The function is being run by a test, which will fail on first run.  Correct the error and run the code to get the test to pass."
      ]
    },
    {
      "cell_type": "code",
      "metadata": {
        "id": "irDAREWJ9AdV",
        "colab": {
          "base_uri": "https://localhost:8080/"
        },
        "outputId": "94e8a57b-1969-4375-de5b-17bcb93b6ad2"
      },
      "source": [
        "def calculate_average(nums):\n",
        "  total = 0\n",
        "  for num in nums:\n",
        "    total += num\n",
        "  #return total   # logic error\n",
        "  return total/len(nums)\n",
        "\n",
        "# Test\n",
        "actual = calculate_average([4,2,6,8,3,1])\n",
        "expected = 4\n",
        "if  actual == expected:\n",
        "  print(\"Test passed\")\n",
        "else:\n",
        "  print(\"Test failed, expected\", expected, \"but got\", actual)\n"
      ],
      "execution_count": null,
      "outputs": [
        {
          "output_type": "stream",
          "name": "stdout",
          "text": [
            "Test passed\n"
          ]
        }
      ]
    },
    {
      "cell_type": "markdown",
      "metadata": {
        "id": "sBXNkQqJ9bX-"
      },
      "source": [
        "### Exercise 3\n",
        "---\n",
        "\n",
        "The code below does not have any errors and will run perfectly well, until it receives some data that doesn't fit what it is expecting.  Run the code, entering the number 16, it will crash (a runtime error) because the Python input() function always returns a string, which can't be divided.  One solution is to convert the input to an integer.  This will deal with the input problem in most cases.  \n",
        "\n",
        "Make a change to the function code to convert the input into an int.  Then run the test again, there should be no runtime error and the test should now pass."
      ]
    },
    {
      "cell_type": "code",
      "metadata": {
        "id": "1A5DkNo59ZZA",
        "colab": {
          "base_uri": "https://localhost:8080/"
        },
        "outputId": "eb4b7e7f-42bc-49e3-e9b6-abb9f2c6ec1c"
      },
      "source": [
        "def get_user_input():\n",
        "  user_input = input(\"Please enter a number \")\n",
        "  return int(user_input)   # It will be a runtime error, if we don't convert into an integer.\n",
        "\n",
        "### Test 1 - user enters 16 ###\n",
        "print(\"Test 1 - with valid integer\")\n",
        "actual = get_user_input() / 2\n",
        "expected = 8\n",
        "if  actual == expected:\n",
        "  print(\"Test passed\")\n",
        "else:\n",
        "  print(\"Test failed, expected\", expected, \"but got\", actual)\n"
      ],
      "execution_count": null,
      "outputs": [
        {
          "output_type": "stream",
          "name": "stdout",
          "text": [
            "Test 1 - with valid integer\n",
            "Please enter a number 16\n",
            "Test passed\n"
          ]
        }
      ]
    },
    {
      "cell_type": "markdown",
      "metadata": {
        "id": "1UI44hURAgf2"
      },
      "source": [
        "### Exercise 4\n",
        "---\n",
        "\n",
        "The solution you have just implemented will solve the known problem that input() always returns a string, BUT, what if the user actually enters something that isn't a number?  Run the code below, it will crash with the input **six** but we don't want users to be informed of an input error by the program crashing! \n",
        "\n",
        "This error is not a given (like inputs always being strings) it has to be anticipated as a possibility.  \n",
        "\n",
        "In these cases - often from any form of input not being of the right type, including from the user, a file, an API call, a database read or function parameters - we want to try to handle the error and to allow the program to deal with it gracefully, instead of crashing.\n",
        "\n",
        "Most programming languages have instructions for handling runtime errors like this.  In any situation where there is potential for runtime errors, you can use:  \n",
        "\n",
        "```\n",
        "try:\n",
        "  # code to run\n",
        "except:\n",
        "  # what to do if there is an error, to handle the problem gracefully and move on\n",
        "```\n",
        "If a runtime error occurs at any point within the `try` section, processing will switch to the `except` section and run the code there (this might report the problem to the user, then stop so that processing continues from before the try, or it might log the error, inform the user and shut the program down).  What is done in the `except` section depends on the severity of the error and its effect on the further running of the program (ie data might be corrupted at this point and so it is not advisable to continue).  \n",
        "\n",
        "In the example below, the runtime error occurs when it is trying to divide numbers that are not valid, so we will use `try: .. except: ..` in the function to ensure that a valid number is always returned and that an error message to the user is shown if the input was invalid.  For this example, if there is an invalid input we will return 0 (so we are always returning a valid input but it will result in 0 when divided so for the purposes of this example, this will do)\n",
        "\n",
        "### Add a second test for invalid integers\n",
        "\n",
        "Add a second test to the code below:\n",
        "\n",
        "This test should expect that the result is 0 when the user enters a word, such as `six`.\n",
        "\n",
        "The code below now has two tests, the first expects the user to enter 16 and the second expects the user to enter the word *six*\n",
        "\n",
        "Run the code, first enter 16 and you should see that the first test still passes, even though the code has been changed to include the `try...except`.  \n",
        "\n",
        "You will be asked to enter a number again (as there are 2 tests).  Enter `six` and you should see that this test also passes, but should see an error message letting you know that this was an invalid number.  The code is doing exactly what it should do:  \n",
        "\n",
        "```\n",
        "Test 1 - with valid integer\n",
        "Please enter a number 16\n",
        "Test passed\n",
        "\n",
        "Test 2 - with invalid integer\n",
        "Please enter a number six\n",
        "Invalid number, run the function again\n",
        "Test passed\n",
        "```"
      ]
    },
    {
      "cell_type": "code",
      "metadata": {
        "id": "2ce-rQZ6gmBM",
        "colab": {
          "base_uri": "https://localhost:8080/"
        },
        "outputId": "10cd9072-198c-48f3-b40b-96780a805114"
      },
      "source": [
        "def get_user_input():\n",
        "  try:\n",
        "    user_input = int(input(\"Please enter a number \"))\n",
        "    return user_input\n",
        "  except:\n",
        "    print(\"Invalid number, run the function again\")\n",
        "    return 0\n",
        "\n",
        "### Test 1 - user enters 16 ###\n",
        "print(\"Test 1 - with valid integer\")\n",
        "actual = get_user_input() / 2\n",
        "expected = 8\n",
        "if  actual == expected:\n",
        "  print(\"Test passed\")\n",
        "else:\n",
        "  print(\"Test failed, expected\", expected, \"but got\", actual)\n",
        "\n",
        "### Test 2 - user enters six ###\n",
        "print(\"Test 2 - with invalid integer\")\n",
        "# ADD YOUR TEST CODE HERE #\n",
        "actual2 = get_user_input() / 2\n",
        "expected = 0\n",
        "if actual2 == expected:\n",
        "  print(\"Test passed\")\n",
        "else: \n",
        "  print(\"Test failed, expected\", expected, \"but got\", actual2)"
      ],
      "execution_count": null,
      "outputs": [
        {
          "output_type": "stream",
          "name": "stdout",
          "text": [
            "Test 1 - with valid integer\n",
            "Please enter a number 16\n",
            "Test passed\n",
            "Test 2 - with invalid integer\n",
            "Please enter a number six\n",
            "Invalid number, run the function again\n",
            "Test passed\n"
          ]
        }
      ]
    },
    {
      "cell_type": "markdown",
      "metadata": {
        "id": "QmeO2NR0gpYi"
      },
      "source": [
        "### Exercise 5 - add a third test\n",
        "---\n",
        "\n",
        "Add a Test 3, to test for the user just pressing enter and not entering anything at all) The expected result will be the same as Test 2\n",
        "\n"
      ]
    },
    {
      "cell_type": "code",
      "metadata": {
        "id": "z69J6BTDBCMG",
        "colab": {
          "base_uri": "https://localhost:8080/"
        },
        "outputId": "60a51fec-adcd-4c1a-e3fb-e9427c1c9968"
      },
      "source": [
        "def get_user_input():\n",
        "  try:\n",
        "    user_input = int(input(\"Please enter a number \"))\n",
        "    return user_input\n",
        "  except:\n",
        "    print(\"Invalid number, run the function again\")\n",
        "    return 0\n",
        "\n",
        "### Test 1 - user enters 16 ###\n",
        "print(\"Test 1 - with valid integer\")\n",
        "actual = get_user_input() / 2\n",
        "expected = 8\n",
        "if  actual == expected:\n",
        "  print(\"Test passed\")\n",
        "else:\n",
        "  print(\"Test failed, expected\", expected, \"but got\", actual)\n",
        "\n",
        "### Test 2 - user enters six ###\n",
        "print(\"Test 2 - with invalid integer\")\n",
        "# COPY YOUR TEST CODE HERE #\n",
        "actual2 = get_user_input() / 2\n",
        "expected2 = 0\n",
        "if  actual2 == expected2:\n",
        "  print(\"Test passed\")\n",
        "else:\n",
        "  print(\"Test failed, expected\", expected2, \"but got\", actual2)\n",
        "\n",
        "### Test 3 - user enters nothing ###\n",
        "print(\"Test 3 - with empty integer\")\n",
        "# ADD YOUR TEST CODE HERE #\n",
        "actual3 = get_user_input() / 2\n",
        "expected3 = 0\n",
        "if  actual3 == expected3:\n",
        "  print(\"Test passed\")\n",
        "else:\n",
        "  print(\"Test failed, expected\", expected3, \"but got\", actual3)\n",
        "\n"
      ],
      "execution_count": null,
      "outputs": [
        {
          "output_type": "stream",
          "name": "stdout",
          "text": [
            "Test 1 - with valid integer\n",
            "Please enter a number 16\n",
            "Test passed\n",
            "Test 2 - with invalid integer\n",
            "Please enter a number six\n",
            "Invalid number, run the function again\n",
            "Test passed\n",
            "Test 3 - with empty integer\n",
            "Please enter a number \n",
            "Invalid number, run the function again\n",
            "Test passed\n"
          ]
        }
      ]
    },
    {
      "cell_type": "markdown",
      "metadata": {
        "id": "Ol_Z4kRpJEVr"
      },
      "source": [
        "### Exercise 6 - opening a file\n",
        "---\n",
        "\n",
        "Write a function that will return an open file if it is given the file name.  If the file doesn't exist, a message should be shown to the user and the function should return None.  If the file does exist, and is opened correctly, the function should return the file to the caller.  \n",
        "\n",
        "The code has been started for you and two tests have been written.  \n",
        "\n",
        "Run the program with the second test commented out, to test that it works if the file doesn't exist (this assumes that you don't have a file called `error.txt` in the same directory as this notebook.  \n",
        "\n",
        "Now create a text file called **valid_file.txt** in the same directory as this notebook.  Uncomment the second test and run again.  Both tests should now pass.\n",
        "\n",
        "*Note*:  The tests look a little different now - this time instead of comparing actual with expected, the test looks at if the actual result is None or not None.  This is because it is impossible to tell what result will be returned for a valid file, as this is dependent on the file and the operating system.  It is sufficient to know that the file is opened if it exists and that the program doesn't crash if it doesn't.\n",
        "\n"
      ]
    },
    {
      "cell_type": "code",
      "source": [
        "# from google.colab import drive\n",
        "# drive.mount(\"/content/drive\")\n",
        "# def get_file(filename):\n",
        "#    try:\n",
        "#        file = open(\"/content/drive/My Drive/Colab Notebooks/\"+filename)\n",
        "\n",
        "# This piece of code helps to open a Colab file from the local drive"
      ],
      "metadata": {
        "id": "zRg2HDcCcYa2"
      },
      "execution_count": null,
      "outputs": []
    },
    {
      "cell_type": "code",
      "metadata": {
        "id": "F2syhzV7KzB7",
        "colab": {
          "base_uri": "https://localhost:8080/"
        },
        "outputId": "ee55e695-16af-4199-b6dc-a341212c5ab6"
      },
      "source": [
        "import os\n",
        "\n",
        "def get_file(filename):\n",
        "  # add your code here to open the file and return it, or to print an error message and return None\n",
        "  try:\n",
        "    file = open(filename)\n",
        "    return file\n",
        "  except:\n",
        "    #with open(\"valid_file.txt\", mode=\"x\") as file:\n",
        "    print(\"File does not exist\")\n",
        "    return None\n",
        "  #else:\n",
        "\n",
        "\n",
        "# Test 1 - try to open a file that doesn't exist\n",
        "print(\"Test 1 file doesn't exist\")\n",
        "actual = get_file(\"error.txt\")\n",
        "if actual is None:\n",
        "  print(\"Test passed\")\n",
        "else:\n",
        "  print(\"Test failed, should have received None\")\n",
        "\n",
        "# Test 2 - try to open a file that does exist\n",
        "print(\"\\nTest 2 file does exist\")\n",
        "# with open(\"valid_file.txt\", mode=\"x\") as file:\n",
        "actual = get_file(\"valid_file.txt\")\n",
        "if actual is not None:\n",
        "  print(\"Test passed\")\n",
        "else:\n",
        "  print(\"Test failed, should have received file\")"
      ],
      "execution_count": null,
      "outputs": [
        {
          "output_type": "stream",
          "name": "stdout",
          "text": [
            "Test 1 file doesn't exist\n",
            "File does not exist\n",
            "Test passed\n",
            "\n",
            "Test 2 file does exist\n",
            "Test passed\n"
          ]
        }
      ]
    },
    {
      "cell_type": "markdown",
      "metadata": {
        "id": "OACfOBCiRJkZ"
      },
      "source": [
        "### Exercise 7 - write a test\n",
        "---\n",
        "\n",
        "The function in the code cell below will take two parameters (two integers), and will return the result of dividing the first by the second, rounded to 2 decimal places.  If either isn't a number, it will return -999999  (not an impossible answer but improbable).\n",
        "\n",
        "Write a test for this function that will run it with the numbers 15 and 3 and will expect the answer to be 5."
      ]
    },
    {
      "cell_type": "code",
      "metadata": {
        "id": "HScLyIF4SY6o",
        "colab": {
          "base_uri": "https://localhost:8080/"
        },
        "outputId": "f7884c7b-90e3-4c80-89a3-591b14a79a62"
      },
      "source": [
        "def divide_nums(num1, num2):\n",
        "  try:\n",
        "    answer = num1 / num2\n",
        "    return round(answer,2)\n",
        "  except:\n",
        "    return -999999\n",
        "\n",
        "# Test 1 - works with valid numbers (15 divided by 3 is 5)\n",
        "actual = divide_nums(15, 3)\n",
        "if actual ==5.00:\n",
        "  print(\"Test passed\")\n",
        "else:\n",
        "  print(\"Test failed, should have received file\")\n",
        "\n",
        "# Test 2 - works with invalid numbers \n",
        "actual = divide_nums(15, 'three')\n",
        "if actual ==-999999:\n",
        "  print(\"Test passed\")\n",
        "else:\n",
        "  print(\"Test failed, should have received file\")  "
      ],
      "execution_count": null,
      "outputs": [
        {
          "output_type": "stream",
          "name": "stdout",
          "text": [
            "Test passed\n",
            "Test passed\n"
          ]
        }
      ]
    },
    {
      "cell_type": "markdown",
      "metadata": {
        "id": "eYfYXH9PTA5W"
      },
      "source": [
        "### Exercise 8 - add two more tests\n",
        "---\n",
        "\n",
        "Add two more tests for this function:\n",
        "\n",
        "*Test 2* - Test running the function with the numbers `(20, 0.3)` and expect the answer to be `66.67`\n",
        "\n",
        "*Test 3* - Test running the function with `(20, None)` and expect the answer to be `-999999`\n",
        "\n",
        "Run the tests and then **modify the function** so that the test using the numbers `(20, 0.3)` passes."
      ]
    },
    {
      "cell_type": "code",
      "metadata": {
        "id": "zYD_a_dlWIbf",
        "colab": {
          "base_uri": "https://localhost:8080/"
        },
        "outputId": "cc6b58f4-d742-410c-d951-b100e30125e7"
      },
      "source": [
        "def divide_nums(num1, num2):\n",
        "  try:\n",
        "    answer = num1 / num2\n",
        "    return round(answer,2)\n",
        "  except:\n",
        "    return -999999\n",
        "\n",
        "## COPY YOUR TEST CODE, THEN ADD THE TWO EXTRA TESTS\n",
        " \n",
        "# Test 1 - works with valid numbers (15 divided by 3 is 5)\n",
        "actual = divide_nums(15, 3)\n",
        "if actual ==5.00:\n",
        "  print(\"Test passed\")\n",
        "else:\n",
        "  print(\"Test failed, should have received file\")\n",
        "\n",
        "# Test 2 - works with valid numbers (20 divided by 0.3 is 66.67)\n",
        "actual = divide_nums(20, 0.3)\n",
        "if actual ==66.67:\n",
        "  print(\"Test passed\")\n",
        "else:\n",
        "  print(\"Test failed, should have received file\")\n",
        "\n",
        "# Test 3 - works with valid numbers (20 divided by None is -999999)\n",
        "actual = divide_nums(20, None)\n",
        "if actual ==-999999:\n",
        "  print(\"Test passed\")\n",
        "else:\n",
        "  print(\"Test failed, should have received file\")"
      ],
      "execution_count": null,
      "outputs": [
        {
          "output_type": "stream",
          "name": "stdout",
          "text": [
            "Test passed\n",
            "Test passed\n",
            "Test passed\n"
          ]
        }
      ]
    },
    {
      "cell_type": "markdown",
      "metadata": {
        "id": "ZaluV9ejWUqs"
      },
      "source": [
        "### Exercise 9 - function with `try..except` and test\n",
        "---\n",
        "\n",
        "Write a function called **find_list_average(numlist, listname)** that will accept a list of numbers `(numlist)` and a word representing the name of the list `(listname)`.  The function will calculate the average of `numlist` and will return the string \"The average of the numbers in \" + `listname` + \" is \" + `str(average)` + \".\"\n",
        "\n",
        "Use `try..except` to catch any runtime errors that might occur and return `\"There was a problem\"` if any do.\n",
        "\n",
        "Write a set of tests for this function to test that:  \n",
        "*  a valid set of numbers, with a valid name works\n",
        "*  it catches the error if the parameters are round the wrong way `(listname, numlist)` rather than `(numlist, listname)`\n",
        "*  it catches the error is the list is empty (which might result in dividing by 0)\n",
        "*  it catches the error if the numlist contains null values (None)\n",
        "*  it shows the result `The average of the numbers in unnamed list is 4.5.` if the listname is an empty string.  Note:  this test may well fail unless you had code in your function to deal with the string being empty.  This is a logic error - change the code so that if the listname is \"\" it will be set to \"unnamed list\".  Then run the tests again, they should all pass."
      ]
    },
    {
      "cell_type": "code",
      "source": [
        "def find_list_average(numlist, listname):\n",
        "  \n",
        "  total = 0\n",
        "  try: \n",
        "    for n in numlist:\n",
        "      total += n\n",
        "    average = total/len(numlist)\n",
        "    if listname == \"\":\n",
        "      listname = \"unnamed list\"\n",
        "    return \"The average of the numbers in \" + listname + \" is \" + str(average) + \".\" \n",
        "  except ValueError:\n",
        "    return \"The list is null\"  \n",
        "  except:\n",
        "    return \"There was a problem\" \n",
        "    \n",
        "\n",
        "\n",
        "    \n",
        "  \n",
        "# Test1 : a valid set of numbers, with a valid name works\n",
        "numlist = [3,6,8,5,10,21]\n",
        "listname = \"numlist\"\n",
        "actual = find_list_average(numlist, listname)\n",
        "expected = \"The average of the numbers in numlist is 8.833333333333334.\"\n",
        "if actual == expected:\n",
        "  print(\"Test passed\")\n",
        "else:\n",
        "  print(\"Test failed\")\n",
        "\n",
        "\n",
        "# Test2 : parameters are round the wrong way\n",
        "actual = find_list_average(listname, numlist)\n",
        "expected = \"There was a problem\"\n",
        "if actual == expected:\n",
        "  print(\"Test passed\")\n",
        "else:\n",
        "  print(\"Test failed\")\n",
        "\n",
        "# Test3 :  list is empty\n",
        "numlist = []\n",
        "listname = \"numlist\"\n",
        "actual = find_list_average(numlist, listname)\n",
        "expected = \"There was a problem\"\n",
        "if actual == expected:\n",
        "  print(\"Test passed\")\n",
        "else:\n",
        "  print(\"Test failed\")\n",
        "\n",
        "# Test4 :  numlist contains null values\n",
        "\n",
        "numlist = [3,6,8,None,10,21]\n",
        "listname = \"numlist\"\n",
        "actual = find_list_average(numlist, listname)\n",
        "expected = \"There was a problem\"\n",
        "if actual == expected:\n",
        "  print(\"Test passed\")\n",
        "else:\n",
        "  print(\"Test failed\")\n",
        "\n",
        "# Test5 : the result The average of the numbers in unnamed list is 4.5. if the listname is an empty string.\n",
        "numlist = [3,6,8,5,10,21]\n",
        "listname = \"\"\n",
        "actual = find_list_average(numlist, listname)\n",
        "expected = \"The average of the numbers in unnamed list is 8.833333333333334.\"\n",
        "if actual == expected:\n",
        "  print(\"Test passed\")\n",
        "else:\n",
        "  print(\"Test failed\")"
      ],
      "metadata": {
        "colab": {
          "base_uri": "https://localhost:8080/"
        },
        "id": "P6wtTWLuOGkx",
        "outputId": "b14129c3-3113-46ae-fde7-d0f854f0551d"
      },
      "execution_count": null,
      "outputs": [
        {
          "output_type": "stream",
          "name": "stdout",
          "text": [
            "Test passed\n",
            "Test passed\n",
            "Test passed\n",
            "Test passed\n",
            "Test passed\n"
          ]
        }
      ]
    },
    {
      "cell_type": "markdown",
      "metadata": {
        "id": "PFbTeF6ZrHoP"
      },
      "source": [
        "### Exercise 10 - further reference\n",
        "\n",
        "You might want to look at this tutorial for more on [exception handling](https://www.python-course.eu/python3_exception_handling.php)\n",
        "\n",
        "and this tutorial for more on [test driven development](https://www.tutorialspoint.com/software_testing_dictionary/test_driven_development.htm)"
      ]
    },
    {
      "cell_type": "markdown",
      "metadata": {
        "id": "yQyytEbnZ1lw"
      },
      "source": [
        "# Reflection\n",
        "----\n",
        "\n",
        "## What skills have you demonstrated in completing this notebook?"
      ]
    },
    {
      "cell_type": "markdown",
      "metadata": {
        "id": "M9IqO6KNbSUk"
      },
      "source": [
        "Your answer: learned try...except... syntax, how to test and refactor codes"
      ]
    },
    {
      "cell_type": "markdown",
      "metadata": {
        "id": "Zgexd27sZ1ly"
      },
      "source": [
        "## What caused you the most difficulty?"
      ]
    },
    {
      "cell_type": "markdown",
      "metadata": {
        "id": "aDYmIIcEbT7x"
      },
      "source": [
        "Your answer: which part of codes need to catch the error, nest try ... except... or except what type or error to do different things or even raise a error"
      ]
    }
  ]
}