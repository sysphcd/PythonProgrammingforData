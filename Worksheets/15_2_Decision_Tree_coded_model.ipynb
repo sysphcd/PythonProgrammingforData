{
  "nbformat": 4,
  "nbformat_minor": 0,
  "metadata": {
    "colab": {
      "name": "15.2 Decision-Tree-coded-model.ipynb",
      "provenance": [],
      "collapsed_sections": [],
      "include_colab_link": true
    },
    "kernelspec": {
      "display_name": "Python 3",
      "language": "python",
      "name": "python3"
    },
    "language_info": {
      "codemirror_mode": {
        "name": "ipython",
        "version": 3
      },
      "file_extension": ".py",
      "mimetype": "text/x-python",
      "name": "python",
      "nbconvert_exporter": "python",
      "pygments_lexer": "ipython3",
      "version": "3.8.5"
    }
  },
  "cells": [
    {
      "cell_type": "markdown",
      "metadata": {
        "id": "view-in-github",
        "colab_type": "text"
      },
      "source": [
        "<a href=\"https://colab.research.google.com/github/sysphcd/PythonProgrammingforData/blob/main/Worksheets/15_2_Decision_Tree_coded_model.ipynb\" target=\"_parent\"><img src=\"https://colab.research.google.com/assets/colab-badge.svg\" alt=\"Open In Colab\"/></a>"
      ]
    },
    {
      "cell_type": "markdown",
      "source": [
        "# Coding a simple decision tree\n",
        "---\n",
        "\n",
        "In this worksheet we are going to work with a data set, using the idea of a decision tree class.  We are going to simplify the model and use Python code to make a simple decision tree classification model.  We will do this for two reasons:\n",
        "*   writing the code is often good for helping to understand what is going on under the bonnet of a library function\n",
        "*   it is a good coding exercise for practice as it mostly depends on calculations and if..elif..else statements\n",
        "\n",
        "In this worksheet we are going to code a decision tree which will use the calculated probabilities to make decisions about whether a row of given data would be classified as Iris-virginica, or not, based on sepal and petal dimensions.  It is easier to classify between two values (Iris-virginica or not).  Later, using this information, species would be further predicted by probabilities of error.\n",
        "\n",
        "![Iris-petals and sepals](https://www.math.umd.edu/~petersd/666/html/iris_with_labels.jpg)\n",
        "\n",
        "# The workflow is:\n",
        "*  divide the data set into 70% of the rows for training and 30% for testing  (we can increase the size of the training set later)\n",
        "*  find the mean for each of the 4 size columns\n",
        "*  calculate the proportion of each column that are on or above mean that are of a species (ie proportion of petal-lengths on or above mean that are Iris-virginica)\n",
        "*  infer the proportion of each that are not of that species (using 1 - proportion above).  In both cases we are looking to find if either of these is 1, which could be infered as definitely not that species. \n",
        "*  calculate a Gini Index that will indicate the probability that a prediction will be incorrect\n",
        "*  use the results of the Gini Index to model a decision tree\n",
        "*  code the decision tree model into a function that will return whether or not a row in the test set is predicted to be of species Iris-virginica\n",
        "*  use the decision tree function to predict, for each row in the test set, if the species will be Iris-virginicia or not, using a set of nested if statements to classify\n",
        "*  compare the predicted values against the actual values in the test set - what proportion were predicted correctly?\n"
      ],
      "metadata": {
        "id": "ipDfTE4B5NHc"
      }
    },
    {
      "cell_type": "markdown",
      "source": [
        "# About the data set\n",
        "\n",
        "\n",
        "---\n",
        "Iris Flower dataset is a University of California, Irvine (UCI) Database from their Machine learning depository.\n",
        "\n",
        "UCI machine learning repository: The UCI Machine Learning Repository is a collection of databases, and data generators that are used by the machine learning community to do experiments and analysis of machine learning algorithms on data.\n",
        "\n",
        "For the sake of this project, it has been cleaned and uploaded to github at https://raw.githubusercontent.com/jbrownlee/Datasets/master/iris.csv\n",
        "\n",
        "\n"
      ],
      "metadata": {
        "id": "BvaD9dTthrbQ"
      }
    },
    {
      "cell_type": "markdown",
      "metadata": {
        "id": "4iR8g8h_Ol0j"
      },
      "source": [
        "### Exercise 1 - investigate the iris data set\n",
        "---\n",
        "Let's start by looking at the data.  We are going to use a data set that contains data on iris flowers.\n",
        "\n",
        "Read the data at this location: https://raw.githubusercontent.com/jbrownlee/Datasets/master/iris.csv into a dataframe called iris_data\n",
        "\n",
        "The columns in the CSV file do not have headings, when you read the file, add column headings like this:\n",
        "```\n",
        "url = \"https://raw.githubusercontent.com/jbrownlee/Datasets/master/iris.csv\"\n",
        "names = ['sepal-length', 'sepal-width', 'petal-length', 'petal-width', 'species']\n",
        "iris_data = pd.read_csv(url, name=names)\n",
        "```\n",
        "*  Take a look at the column info (how many columns, what type of data, any missing data?)\n",
        "*  Take a look at the data values in the first 10 and the last 10 records to get an idea of the type of values included\n",
        "*  Find out how many unique values there are in the species column\n",
        "*  Find out the maximum, minimum, mean, median and upper and lower quartile values in each of the columns\n"
      ]
    },
    {
      "cell_type": "code",
      "metadata": {
        "id": "eGZuOLPYPgL5"
      },
      "source": [
        "import pandas as pd\n",
        "url = \"https://raw.githubusercontent.com/jbrownlee/Datasets/master/iris.csv\"\n",
        "names = ['sepal-length', 'sepal-width', 'petal-length', 'petal-width', 'species']\n",
        "iris_data = pd.read_csv(url, names=names)\n"
      ],
      "execution_count": 193,
      "outputs": []
    },
    {
      "cell_type": "code",
      "source": [
        "# the column info (how many columns, what type of data, any missing data?)\n",
        "print(iris_data.info())\n",
        "# print(iris_data.shape)\n",
        "# print(type(iris_data))"
      ],
      "metadata": {
        "colab": {
          "base_uri": "https://localhost:8080/"
        },
        "id": "kgXIvfKQxD-K",
        "outputId": "f4da9b72-f268-4fb4-9007-0da52b044ef3"
      },
      "execution_count": 194,
      "outputs": [
        {
          "output_type": "stream",
          "name": "stdout",
          "text": [
            "<class 'pandas.core.frame.DataFrame'>\n",
            "RangeIndex: 150 entries, 0 to 149\n",
            "Data columns (total 5 columns):\n",
            " #   Column        Non-Null Count  Dtype  \n",
            "---  ------        --------------  -----  \n",
            " 0   sepal-length  150 non-null    float64\n",
            " 1   sepal-width   150 non-null    float64\n",
            " 2   petal-length  150 non-null    float64\n",
            " 3   petal-width   150 non-null    float64\n",
            " 4   species       150 non-null    object \n",
            "dtypes: float64(4), object(1)\n",
            "memory usage: 6.0+ KB\n",
            "None\n"
          ]
        }
      ]
    },
    {
      "cell_type": "code",
      "source": [
        "# Take a look at the data values in the first 10 and the last 10 records to get an idea of the type of values included\n",
        "print(iris_data.head(10))\n",
        "print(iris_data.tail(10))"
      ],
      "metadata": {
        "colab": {
          "base_uri": "https://localhost:8080/"
        },
        "id": "fQIrG8wnxwZf",
        "outputId": "fcbb4069-f9a2-41bc-8b83-0bc95c9b1263"
      },
      "execution_count": 195,
      "outputs": [
        {
          "output_type": "stream",
          "name": "stdout",
          "text": [
            "   sepal-length  sepal-width  petal-length  petal-width      species\n",
            "0           5.1          3.5           1.4          0.2  Iris-setosa\n",
            "1           4.9          3.0           1.4          0.2  Iris-setosa\n",
            "2           4.7          3.2           1.3          0.2  Iris-setosa\n",
            "3           4.6          3.1           1.5          0.2  Iris-setosa\n",
            "4           5.0          3.6           1.4          0.2  Iris-setosa\n",
            "5           5.4          3.9           1.7          0.4  Iris-setosa\n",
            "6           4.6          3.4           1.4          0.3  Iris-setosa\n",
            "7           5.0          3.4           1.5          0.2  Iris-setosa\n",
            "8           4.4          2.9           1.4          0.2  Iris-setosa\n",
            "9           4.9          3.1           1.5          0.1  Iris-setosa\n",
            "     sepal-length  sepal-width  petal-length  petal-width         species\n",
            "140           6.7          3.1           5.6          2.4  Iris-virginica\n",
            "141           6.9          3.1           5.1          2.3  Iris-virginica\n",
            "142           5.8          2.7           5.1          1.9  Iris-virginica\n",
            "143           6.8          3.2           5.9          2.3  Iris-virginica\n",
            "144           6.7          3.3           5.7          2.5  Iris-virginica\n",
            "145           6.7          3.0           5.2          2.3  Iris-virginica\n",
            "146           6.3          2.5           5.0          1.9  Iris-virginica\n",
            "147           6.5          3.0           5.2          2.0  Iris-virginica\n",
            "148           6.2          3.4           5.4          2.3  Iris-virginica\n",
            "149           5.9          3.0           5.1          1.8  Iris-virginica\n"
          ]
        }
      ]
    },
    {
      "cell_type": "code",
      "source": [
        "print(iris_data.isnull().values.any())"
      ],
      "metadata": {
        "colab": {
          "base_uri": "https://localhost:8080/"
        },
        "id": "0s2vsYQYM8Ek",
        "outputId": "78bb54f2-c75d-496c-97ed-0045aed99bca"
      },
      "execution_count": 196,
      "outputs": [
        {
          "output_type": "stream",
          "name": "stdout",
          "text": [
            "False\n"
          ]
        }
      ]
    },
    {
      "cell_type": "code",
      "source": [
        "# how many unique values there are in the species column\n",
        "species_type = iris_data['species'].unique()\n",
        "print(\"----The following are the three class or species types of iris in the data set ---- \\n\",*species_type, sep = \"   \")\n",
        "# count the number of distinct observations for each column \n",
        "print(\"\\n----The number of distinct observations for each column -----\")\n",
        "print(iris_data.nunique())"
      ],
      "metadata": {
        "colab": {
          "base_uri": "https://localhost:8080/"
        },
        "id": "LEV86vyymEy9",
        "outputId": "c837818e-1c1e-4376-8f35-3eedd6be3d7a"
      },
      "execution_count": 197,
      "outputs": [
        {
          "output_type": "stream",
          "name": "stdout",
          "text": [
            "----The following are the three class or species types of iris in the data set ---- \n",
            "   Iris-setosa   Iris-versicolor   Iris-virginica\n",
            "\n",
            "----The number of distinct observations for each column -----\n",
            "sepal-length    35\n",
            "sepal-width     23\n",
            "petal-length    43\n",
            "petal-width     22\n",
            "species          3\n",
            "dtype: int64\n"
          ]
        }
      ]
    },
    {
      "cell_type": "code",
      "source": [
        "print('sepal-length max=',iris_data['sepal-length'].max(),'min=',iris_data['sepal-length'].min(),'median=',iris_data['sepal-length'].median(), 'mean=',iris_data['sepal-length'].mean(), 'Q3=',iris_data['sepal-length'].quantile(.75),'Q1=',iris_data['sepal-length'].quantile(.25))\n",
        "print('sepal-width max=',iris_data['sepal-width'].max(),'min=',iris_data['sepal-width'].min(),'median=',iris_data['sepal-width'].median(), 'mean=',iris_data['sepal-width'].mean(), 'Q3=',iris_data['sepal-width'].quantile(.75),'Q1=',iris_data['sepal-width'].quantile(.25))\n",
        "print('petal-length max=',iris_data['petal-length'].max(),'min=',iris_data['petal-length'].min(),'median=',iris_data['petal-length'].median(), 'mean=',iris_data['petal-length'].mean(), 'Q3=',iris_data['petal-length'].quantile(.75),'Q1=',iris_data['petal-length'].quantile(.25))\n",
        "print('petal-width max=',iris_data['petal-width'].max(),'min=',iris_data['petal-width'].min(),'median=',iris_data['petal-width'].median(), 'mean=',iris_data['petal-width'].mean(), 'Q3=',iris_data['petal-width'].quantile(.75),'Q1=',iris_data['petal-width'].quantile(.25))\n"
      ],
      "metadata": {
        "colab": {
          "base_uri": "https://localhost:8080/"
        },
        "id": "k6FUx2nWDrEs",
        "outputId": "576fb91b-a82e-489c-ae72-84a664ff095b"
      },
      "execution_count": 198,
      "outputs": [
        {
          "output_type": "stream",
          "name": "stdout",
          "text": [
            "sepal-length max= 7.9 min= 4.3 median= 5.8 mean= 5.843333333333335 Q3= 6.4 Q1= 5.1\n",
            "sepal-width max= 4.4 min= 2.0 median= 3.0 mean= 3.0540000000000007 Q3= 3.3 Q1= 2.8\n",
            "petal-length max= 6.9 min= 1.0 median= 4.35 mean= 3.7586666666666693 Q3= 5.1 Q1= 1.6\n",
            "petal-width max= 2.5 min= 0.1 median= 1.3 mean= 1.1986666666666672 Q3= 1.8 Q1= 0.3\n"
          ]
        }
      ]
    },
    {
      "cell_type": "code",
      "source": [
        "# Find out the maximum, minimum, median and upper and lower quartile values in each of the columns\n",
        "print(iris_data.describe().T)"
      ],
      "metadata": {
        "colab": {
          "base_uri": "https://localhost:8080/"
        },
        "id": "RJheCHWpmfYw",
        "outputId": "b0545abb-62c7-4eb8-a6ae-340f09b8e431"
      },
      "execution_count": 199,
      "outputs": [
        {
          "output_type": "stream",
          "name": "stdout",
          "text": [
            "              count      mean       std  min  25%   50%  75%  max\n",
            "sepal-length  150.0  5.843333  0.828066  4.3  5.1  5.80  6.4  7.9\n",
            "sepal-width   150.0  3.054000  0.433594  2.0  2.8  3.00  3.3  4.4\n",
            "petal-length  150.0  3.758667  1.764420  1.0  1.6  4.35  5.1  6.9\n",
            "petal-width   150.0  1.198667  0.763161  0.1  0.3  1.30  1.8  2.5\n"
          ]
        }
      ]
    },
    {
      "cell_type": "markdown",
      "metadata": {
        "id": "0b8Pm0bK_Ca1"
      },
      "source": [
        "### Exercise 2 - split the data into train and test sets\n",
        "---\n",
        "\n",
        "Split the data set into and 70% train, 30% test, split.  From now, just use the train data set.\n"
      ]
    },
    {
      "cell_type": "code",
      "metadata": {
        "id": "CSG-ZEPEawMJ"
      },
      "source": [
        "# Import the train_test_split function\n",
        "from sklearn.model_selection import train_test_split\n",
        "\n",
        "# Divide the data set into 70% of the rows for training and 30% for testing\n",
        "train, test = train_test_split(iris_data, test_size=0.30)"
      ],
      "execution_count": 200,
      "outputs": []
    },
    {
      "cell_type": "markdown",
      "metadata": {
        "id": "nd-9JfKbQl-q"
      },
      "source": [
        "### Exercise 3 - assumptions and classification\n",
        "---\n",
        "\n",
        "Let's make some assumptions based on the data\n",
        "\n",
        "1.  Iris-setosa, Iris-versicolor, Iris-virginica are the full range of types of iris to be analysed\n",
        "2.  Although this is a small data set, the means are fairly representative\n",
        "\n",
        "With these in mind, let's start by classifying sepal/petal size into long/short and wide/narrow with values on or above the mean taken as long or wide and those below as short or narrow.\n",
        "\n",
        "This is a starting point.  We will be trying to find a value (indicator) for each column where rows on or above do not contain any of a particular species, this might indicate that this column is a good (if not rough) indicator of species.  For now, the indicator is the mean.\n",
        "\n",
        "*  Drop any null values from each column\n",
        "\n",
        "Calculate, and store the means of the four columns\n",
        "\n",
        "*  **Test**:\n",
        "Display train.describe() to see the value of the means of the training set. Print the four means and compare to the output of train.describe() to check that they have been calculated correctly.\n",
        "\n",
        "*  Create a new dataframe with the numeric columns encoded so show a 1 for any value that is above the mean for its column and 0 for any that isn't.\n",
        "\n",
        "\n"
      ]
    },
    {
      "cell_type": "code",
      "source": [
        "# Check and drop any null values from each column in train dataframe\n",
        "print(train.isnull().values.any())\n",
        "train.dropna(subset = [\"sepal-length\", \"sepal-width\",\"petal-length\",\"petal-width\"])"
      ],
      "metadata": {
        "colab": {
          "base_uri": "https://localhost:8080/",
          "height": 0
        },
        "id": "u3r0yAKRoB2i",
        "outputId": "b1068b29-5b7b-4d2f-d45d-5cd1a58f2fde"
      },
      "execution_count": 201,
      "outputs": [
        {
          "output_type": "stream",
          "name": "stdout",
          "text": [
            "False\n"
          ]
        },
        {
          "output_type": "execute_result",
          "data": {
            "text/plain": [
              "     sepal-length  sepal-width  petal-length  petal-width          species\n",
              "115           6.4          3.2           5.3          2.3   Iris-virginica\n",
              "83            6.0          2.7           5.1          1.6  Iris-versicolor\n",
              "103           6.3          2.9           5.6          1.8   Iris-virginica\n",
              "111           6.4          2.7           5.3          1.9   Iris-virginica\n",
              "28            5.2          3.4           1.4          0.2      Iris-setosa\n",
              "..            ...          ...           ...          ...              ...\n",
              "89            5.5          2.5           4.0          1.3  Iris-versicolor\n",
              "24            4.8          3.4           1.9          0.2      Iris-setosa\n",
              "130           7.4          2.8           6.1          1.9   Iris-virginica\n",
              "19            5.1          3.8           1.5          0.3      Iris-setosa\n",
              "3             4.6          3.1           1.5          0.2      Iris-setosa\n",
              "\n",
              "[105 rows x 5 columns]"
            ],
            "text/html": [
              "\n",
              "  <div id=\"df-66e34080-f870-4f2c-82df-4d712e25eaf0\">\n",
              "    <div class=\"colab-df-container\">\n",
              "      <div>\n",
              "<style scoped>\n",
              "    .dataframe tbody tr th:only-of-type {\n",
              "        vertical-align: middle;\n",
              "    }\n",
              "\n",
              "    .dataframe tbody tr th {\n",
              "        vertical-align: top;\n",
              "    }\n",
              "\n",
              "    .dataframe thead th {\n",
              "        text-align: right;\n",
              "    }\n",
              "</style>\n",
              "<table border=\"1\" class=\"dataframe\">\n",
              "  <thead>\n",
              "    <tr style=\"text-align: right;\">\n",
              "      <th></th>\n",
              "      <th>sepal-length</th>\n",
              "      <th>sepal-width</th>\n",
              "      <th>petal-length</th>\n",
              "      <th>petal-width</th>\n",
              "      <th>species</th>\n",
              "    </tr>\n",
              "  </thead>\n",
              "  <tbody>\n",
              "    <tr>\n",
              "      <th>115</th>\n",
              "      <td>6.4</td>\n",
              "      <td>3.2</td>\n",
              "      <td>5.3</td>\n",
              "      <td>2.3</td>\n",
              "      <td>Iris-virginica</td>\n",
              "    </tr>\n",
              "    <tr>\n",
              "      <th>83</th>\n",
              "      <td>6.0</td>\n",
              "      <td>2.7</td>\n",
              "      <td>5.1</td>\n",
              "      <td>1.6</td>\n",
              "      <td>Iris-versicolor</td>\n",
              "    </tr>\n",
              "    <tr>\n",
              "      <th>103</th>\n",
              "      <td>6.3</td>\n",
              "      <td>2.9</td>\n",
              "      <td>5.6</td>\n",
              "      <td>1.8</td>\n",
              "      <td>Iris-virginica</td>\n",
              "    </tr>\n",
              "    <tr>\n",
              "      <th>111</th>\n",
              "      <td>6.4</td>\n",
              "      <td>2.7</td>\n",
              "      <td>5.3</td>\n",
              "      <td>1.9</td>\n",
              "      <td>Iris-virginica</td>\n",
              "    </tr>\n",
              "    <tr>\n",
              "      <th>28</th>\n",
              "      <td>5.2</td>\n",
              "      <td>3.4</td>\n",
              "      <td>1.4</td>\n",
              "      <td>0.2</td>\n",
              "      <td>Iris-setosa</td>\n",
              "    </tr>\n",
              "    <tr>\n",
              "      <th>...</th>\n",
              "      <td>...</td>\n",
              "      <td>...</td>\n",
              "      <td>...</td>\n",
              "      <td>...</td>\n",
              "      <td>...</td>\n",
              "    </tr>\n",
              "    <tr>\n",
              "      <th>89</th>\n",
              "      <td>5.5</td>\n",
              "      <td>2.5</td>\n",
              "      <td>4.0</td>\n",
              "      <td>1.3</td>\n",
              "      <td>Iris-versicolor</td>\n",
              "    </tr>\n",
              "    <tr>\n",
              "      <th>24</th>\n",
              "      <td>4.8</td>\n",
              "      <td>3.4</td>\n",
              "      <td>1.9</td>\n",
              "      <td>0.2</td>\n",
              "      <td>Iris-setosa</td>\n",
              "    </tr>\n",
              "    <tr>\n",
              "      <th>130</th>\n",
              "      <td>7.4</td>\n",
              "      <td>2.8</td>\n",
              "      <td>6.1</td>\n",
              "      <td>1.9</td>\n",
              "      <td>Iris-virginica</td>\n",
              "    </tr>\n",
              "    <tr>\n",
              "      <th>19</th>\n",
              "      <td>5.1</td>\n",
              "      <td>3.8</td>\n",
              "      <td>1.5</td>\n",
              "      <td>0.3</td>\n",
              "      <td>Iris-setosa</td>\n",
              "    </tr>\n",
              "    <tr>\n",
              "      <th>3</th>\n",
              "      <td>4.6</td>\n",
              "      <td>3.1</td>\n",
              "      <td>1.5</td>\n",
              "      <td>0.2</td>\n",
              "      <td>Iris-setosa</td>\n",
              "    </tr>\n",
              "  </tbody>\n",
              "</table>\n",
              "<p>105 rows × 5 columns</p>\n",
              "</div>\n",
              "      <button class=\"colab-df-convert\" onclick=\"convertToInteractive('df-66e34080-f870-4f2c-82df-4d712e25eaf0')\"\n",
              "              title=\"Convert this dataframe to an interactive table.\"\n",
              "              style=\"display:none;\">\n",
              "        \n",
              "  <svg xmlns=\"http://www.w3.org/2000/svg\" height=\"24px\"viewBox=\"0 0 24 24\"\n",
              "       width=\"24px\">\n",
              "    <path d=\"M0 0h24v24H0V0z\" fill=\"none\"/>\n",
              "    <path d=\"M18.56 5.44l.94 2.06.94-2.06 2.06-.94-2.06-.94-.94-2.06-.94 2.06-2.06.94zm-11 1L8.5 8.5l.94-2.06 2.06-.94-2.06-.94L8.5 2.5l-.94 2.06-2.06.94zm10 10l.94 2.06.94-2.06 2.06-.94-2.06-.94-.94-2.06-.94 2.06-2.06.94z\"/><path d=\"M17.41 7.96l-1.37-1.37c-.4-.4-.92-.59-1.43-.59-.52 0-1.04.2-1.43.59L10.3 9.45l-7.72 7.72c-.78.78-.78 2.05 0 2.83L4 21.41c.39.39.9.59 1.41.59.51 0 1.02-.2 1.41-.59l7.78-7.78 2.81-2.81c.8-.78.8-2.07 0-2.86zM5.41 20L4 18.59l7.72-7.72 1.47 1.35L5.41 20z\"/>\n",
              "  </svg>\n",
              "      </button>\n",
              "      \n",
              "  <style>\n",
              "    .colab-df-container {\n",
              "      display:flex;\n",
              "      flex-wrap:wrap;\n",
              "      gap: 12px;\n",
              "    }\n",
              "\n",
              "    .colab-df-convert {\n",
              "      background-color: #E8F0FE;\n",
              "      border: none;\n",
              "      border-radius: 50%;\n",
              "      cursor: pointer;\n",
              "      display: none;\n",
              "      fill: #1967D2;\n",
              "      height: 32px;\n",
              "      padding: 0 0 0 0;\n",
              "      width: 32px;\n",
              "    }\n",
              "\n",
              "    .colab-df-convert:hover {\n",
              "      background-color: #E2EBFA;\n",
              "      box-shadow: 0px 1px 2px rgba(60, 64, 67, 0.3), 0px 1px 3px 1px rgba(60, 64, 67, 0.15);\n",
              "      fill: #174EA6;\n",
              "    }\n",
              "\n",
              "    [theme=dark] .colab-df-convert {\n",
              "      background-color: #3B4455;\n",
              "      fill: #D2E3FC;\n",
              "    }\n",
              "\n",
              "    [theme=dark] .colab-df-convert:hover {\n",
              "      background-color: #434B5C;\n",
              "      box-shadow: 0px 1px 3px 1px rgba(0, 0, 0, 0.15);\n",
              "      filter: drop-shadow(0px 1px 2px rgba(0, 0, 0, 0.3));\n",
              "      fill: #FFFFFF;\n",
              "    }\n",
              "  </style>\n",
              "\n",
              "      <script>\n",
              "        const buttonEl =\n",
              "          document.querySelector('#df-66e34080-f870-4f2c-82df-4d712e25eaf0 button.colab-df-convert');\n",
              "        buttonEl.style.display =\n",
              "          google.colab.kernel.accessAllowed ? 'block' : 'none';\n",
              "\n",
              "        async function convertToInteractive(key) {\n",
              "          const element = document.querySelector('#df-66e34080-f870-4f2c-82df-4d712e25eaf0');\n",
              "          const dataTable =\n",
              "            await google.colab.kernel.invokeFunction('convertToInteractive',\n",
              "                                                     [key], {});\n",
              "          if (!dataTable) return;\n",
              "\n",
              "          const docLinkHtml = 'Like what you see? Visit the ' +\n",
              "            '<a target=\"_blank\" href=https://colab.research.google.com/notebooks/data_table.ipynb>data table notebook</a>'\n",
              "            + ' to learn more about interactive tables.';\n",
              "          element.innerHTML = '';\n",
              "          dataTable['output_type'] = 'display_data';\n",
              "          await google.colab.output.renderOutput(dataTable, element);\n",
              "          const docLink = document.createElement('div');\n",
              "          docLink.innerHTML = docLinkHtml;\n",
              "          element.appendChild(docLink);\n",
              "        }\n",
              "      </script>\n",
              "    </div>\n",
              "  </div>\n",
              "  "
            ]
          },
          "metadata": {},
          "execution_count": 201
        }
      ]
    },
    {
      "cell_type": "code",
      "source": [
        "print('Train shape : ',train.shape, 'Test shape : ',test.shape)\n",
        "print(train.describe().T)"
      ],
      "metadata": {
        "colab": {
          "base_uri": "https://localhost:8080/"
        },
        "id": "a8ujYhYh5916",
        "outputId": "80a15436-8594-4069-c03c-94ba51501c27"
      },
      "execution_count": 202,
      "outputs": [
        {
          "output_type": "stream",
          "name": "stdout",
          "text": [
            "Train shape :  (105, 5) Test shape :  (45, 5)\n",
            "              count      mean       std  min  25%  50%  75%  max\n",
            "sepal-length  105.0  5.734286  0.756743  4.3  5.1  5.7  6.3  7.9\n",
            "sepal-width   105.0  3.039048  0.444084  2.0  2.7  3.0  3.3  4.4\n",
            "petal-length  105.0  3.608571  1.717171  1.1  1.5  4.1  5.0  6.4\n",
            "petal-width   105.0  1.147619  0.763607  0.1  0.2  1.3  1.8  2.5\n"
          ]
        }
      ]
    },
    {
      "cell_type": "code",
      "source": [
        "# Find the mean for each type column\n",
        "sepal_length_mean = train['sepal-length'].mean()\n",
        "sepal_width_mean = train['sepal-width'].mean()\n",
        "petal_length_mean = train['petal-length'].mean()\n",
        "petal_width_mean = train['petal-width'].mean()    \n",
        "# Print the four means and compare to the output of train.describe() to check that they have been calculated correctly.\n",
        "print('sepal_length_mean = ', sepal_length_mean, ' sepal_width_mean = ', sepal_width_mean)\n",
        "print('petal_length_mean = ', petal_length_mean, ' petal_width_mean =', petal_width_mean)"
      ],
      "metadata": {
        "colab": {
          "base_uri": "https://localhost:8080/"
        },
        "id": "p-hhlnthqMUt",
        "outputId": "530ad1f3-d90c-453e-d49e-c4a24a9fad54"
      },
      "execution_count": 203,
      "outputs": [
        {
          "output_type": "stream",
          "name": "stdout",
          "text": [
            "sepal_length_mean =  5.7342857142857175  sepal_width_mean =  3.0390476190476194\n",
            "petal_length_mean =  3.608571428571427  petal_width_mean = 1.147619047619048\n"
          ]
        }
      ]
    },
    {
      "cell_type": "code",
      "source": [
        "# Another way to find the mean for each type column\n",
        "train[['sepal-length','sepal-width','petal-length','petal-width']].mean()"
      ],
      "metadata": {
        "id": "r40BDROT1jv_",
        "colab": {
          "base_uri": "https://localhost:8080/"
        },
        "outputId": "6842ace9-5c00-4968-ff89-70f9710cba94"
      },
      "execution_count": 204,
      "outputs": [
        {
          "output_type": "execute_result",
          "data": {
            "text/plain": [
              "sepal-length    5.734286\n",
              "sepal-width     3.039048\n",
              "petal-length    3.608571\n",
              "petal-width     1.147619\n",
              "dtype: float64"
            ]
          },
          "metadata": {},
          "execution_count": 204
        }
      ]
    },
    {
      "cell_type": "code",
      "metadata": {
        "id": "rAahb5HSWiw-"
      },
      "source": [
        "# Function encode : to encode each value into 1 (on or above indicator) and 0 (below indicator) by comparing with indicator\n",
        "def encode(df, **kwds):\n",
        "  key = kwds['key']\n",
        "  indicator = kwds['indicator']\n",
        "  if df[key] >= indicator:\n",
        "    return 1\n",
        "  return 0"
      ],
      "execution_count": 205,
      "outputs": []
    },
    {
      "cell_type": "code",
      "source": [
        "# Make a new copy of train dataset for encoding\n",
        "encodedmean_train = train.copy()\n",
        "# Encode all values for each column comparing with mean indicator \n",
        "encodedmean_train['sepal-length'] = encodedmean_train.apply(encode, axis=1, key='sepal-length', indicator=sepal_length_mean)\n",
        "encodedmean_train['sepal-width']  = encodedmean_train.apply(encode, axis=1, key='sepal-width',  indicator=sepal_width_mean)\n",
        "encodedmean_train['petal-length'] = encodedmean_train.apply(encode, axis=1, key='petal-length', indicator=petal_length_mean)\n",
        "encodedmean_train['petal-width']  = encodedmean_train.apply(encode, axis=1, key='petal-width',  indicator=petal_width_mean)\n",
        "display(encodedmean_train)\n",
        "# Find out the number of rows of each species in train dataset\n",
        "print(encodedmean_train['species'].value_counts())"
      ],
      "metadata": {
        "colab": {
          "base_uri": "https://localhost:8080/",
          "height": 0
        },
        "id": "F4laio6oKElW",
        "outputId": "990e577e-ad44-4687-ec6a-d96a16be8638"
      },
      "execution_count": 206,
      "outputs": [
        {
          "output_type": "display_data",
          "data": {
            "text/plain": [
              "     sepal-length  sepal-width  petal-length  petal-width          species\n",
              "115             1            1             1            1   Iris-virginica\n",
              "83              1            0             1            1  Iris-versicolor\n",
              "103             1            0             1            1   Iris-virginica\n",
              "111             1            0             1            1   Iris-virginica\n",
              "28              0            1             0            0      Iris-setosa\n",
              "..            ...          ...           ...          ...              ...\n",
              "89              0            0             1            1  Iris-versicolor\n",
              "24              0            1             0            0      Iris-setosa\n",
              "130             1            0             1            1   Iris-virginica\n",
              "19              0            1             0            0      Iris-setosa\n",
              "3               0            1             0            0      Iris-setosa\n",
              "\n",
              "[105 rows x 5 columns]"
            ],
            "text/html": [
              "\n",
              "  <div id=\"df-4ab4d3ed-4df7-4160-a4a1-d24e322dc1f0\">\n",
              "    <div class=\"colab-df-container\">\n",
              "      <div>\n",
              "<style scoped>\n",
              "    .dataframe tbody tr th:only-of-type {\n",
              "        vertical-align: middle;\n",
              "    }\n",
              "\n",
              "    .dataframe tbody tr th {\n",
              "        vertical-align: top;\n",
              "    }\n",
              "\n",
              "    .dataframe thead th {\n",
              "        text-align: right;\n",
              "    }\n",
              "</style>\n",
              "<table border=\"1\" class=\"dataframe\">\n",
              "  <thead>\n",
              "    <tr style=\"text-align: right;\">\n",
              "      <th></th>\n",
              "      <th>sepal-length</th>\n",
              "      <th>sepal-width</th>\n",
              "      <th>petal-length</th>\n",
              "      <th>petal-width</th>\n",
              "      <th>species</th>\n",
              "    </tr>\n",
              "  </thead>\n",
              "  <tbody>\n",
              "    <tr>\n",
              "      <th>115</th>\n",
              "      <td>1</td>\n",
              "      <td>1</td>\n",
              "      <td>1</td>\n",
              "      <td>1</td>\n",
              "      <td>Iris-virginica</td>\n",
              "    </tr>\n",
              "    <tr>\n",
              "      <th>83</th>\n",
              "      <td>1</td>\n",
              "      <td>0</td>\n",
              "      <td>1</td>\n",
              "      <td>1</td>\n",
              "      <td>Iris-versicolor</td>\n",
              "    </tr>\n",
              "    <tr>\n",
              "      <th>103</th>\n",
              "      <td>1</td>\n",
              "      <td>0</td>\n",
              "      <td>1</td>\n",
              "      <td>1</td>\n",
              "      <td>Iris-virginica</td>\n",
              "    </tr>\n",
              "    <tr>\n",
              "      <th>111</th>\n",
              "      <td>1</td>\n",
              "      <td>0</td>\n",
              "      <td>1</td>\n",
              "      <td>1</td>\n",
              "      <td>Iris-virginica</td>\n",
              "    </tr>\n",
              "    <tr>\n",
              "      <th>28</th>\n",
              "      <td>0</td>\n",
              "      <td>1</td>\n",
              "      <td>0</td>\n",
              "      <td>0</td>\n",
              "      <td>Iris-setosa</td>\n",
              "    </tr>\n",
              "    <tr>\n",
              "      <th>...</th>\n",
              "      <td>...</td>\n",
              "      <td>...</td>\n",
              "      <td>...</td>\n",
              "      <td>...</td>\n",
              "      <td>...</td>\n",
              "    </tr>\n",
              "    <tr>\n",
              "      <th>89</th>\n",
              "      <td>0</td>\n",
              "      <td>0</td>\n",
              "      <td>1</td>\n",
              "      <td>1</td>\n",
              "      <td>Iris-versicolor</td>\n",
              "    </tr>\n",
              "    <tr>\n",
              "      <th>24</th>\n",
              "      <td>0</td>\n",
              "      <td>1</td>\n",
              "      <td>0</td>\n",
              "      <td>0</td>\n",
              "      <td>Iris-setosa</td>\n",
              "    </tr>\n",
              "    <tr>\n",
              "      <th>130</th>\n",
              "      <td>1</td>\n",
              "      <td>0</td>\n",
              "      <td>1</td>\n",
              "      <td>1</td>\n",
              "      <td>Iris-virginica</td>\n",
              "    </tr>\n",
              "    <tr>\n",
              "      <th>19</th>\n",
              "      <td>0</td>\n",
              "      <td>1</td>\n",
              "      <td>0</td>\n",
              "      <td>0</td>\n",
              "      <td>Iris-setosa</td>\n",
              "    </tr>\n",
              "    <tr>\n",
              "      <th>3</th>\n",
              "      <td>0</td>\n",
              "      <td>1</td>\n",
              "      <td>0</td>\n",
              "      <td>0</td>\n",
              "      <td>Iris-setosa</td>\n",
              "    </tr>\n",
              "  </tbody>\n",
              "</table>\n",
              "<p>105 rows × 5 columns</p>\n",
              "</div>\n",
              "      <button class=\"colab-df-convert\" onclick=\"convertToInteractive('df-4ab4d3ed-4df7-4160-a4a1-d24e322dc1f0')\"\n",
              "              title=\"Convert this dataframe to an interactive table.\"\n",
              "              style=\"display:none;\">\n",
              "        \n",
              "  <svg xmlns=\"http://www.w3.org/2000/svg\" height=\"24px\"viewBox=\"0 0 24 24\"\n",
              "       width=\"24px\">\n",
              "    <path d=\"M0 0h24v24H0V0z\" fill=\"none\"/>\n",
              "    <path d=\"M18.56 5.44l.94 2.06.94-2.06 2.06-.94-2.06-.94-.94-2.06-.94 2.06-2.06.94zm-11 1L8.5 8.5l.94-2.06 2.06-.94-2.06-.94L8.5 2.5l-.94 2.06-2.06.94zm10 10l.94 2.06.94-2.06 2.06-.94-2.06-.94-.94-2.06-.94 2.06-2.06.94z\"/><path d=\"M17.41 7.96l-1.37-1.37c-.4-.4-.92-.59-1.43-.59-.52 0-1.04.2-1.43.59L10.3 9.45l-7.72 7.72c-.78.78-.78 2.05 0 2.83L4 21.41c.39.39.9.59 1.41.59.51 0 1.02-.2 1.41-.59l7.78-7.78 2.81-2.81c.8-.78.8-2.07 0-2.86zM5.41 20L4 18.59l7.72-7.72 1.47 1.35L5.41 20z\"/>\n",
              "  </svg>\n",
              "      </button>\n",
              "      \n",
              "  <style>\n",
              "    .colab-df-container {\n",
              "      display:flex;\n",
              "      flex-wrap:wrap;\n",
              "      gap: 12px;\n",
              "    }\n",
              "\n",
              "    .colab-df-convert {\n",
              "      background-color: #E8F0FE;\n",
              "      border: none;\n",
              "      border-radius: 50%;\n",
              "      cursor: pointer;\n",
              "      display: none;\n",
              "      fill: #1967D2;\n",
              "      height: 32px;\n",
              "      padding: 0 0 0 0;\n",
              "      width: 32px;\n",
              "    }\n",
              "\n",
              "    .colab-df-convert:hover {\n",
              "      background-color: #E2EBFA;\n",
              "      box-shadow: 0px 1px 2px rgba(60, 64, 67, 0.3), 0px 1px 3px 1px rgba(60, 64, 67, 0.15);\n",
              "      fill: #174EA6;\n",
              "    }\n",
              "\n",
              "    [theme=dark] .colab-df-convert {\n",
              "      background-color: #3B4455;\n",
              "      fill: #D2E3FC;\n",
              "    }\n",
              "\n",
              "    [theme=dark] .colab-df-convert:hover {\n",
              "      background-color: #434B5C;\n",
              "      box-shadow: 0px 1px 3px 1px rgba(0, 0, 0, 0.15);\n",
              "      filter: drop-shadow(0px 1px 2px rgba(0, 0, 0, 0.3));\n",
              "      fill: #FFFFFF;\n",
              "    }\n",
              "  </style>\n",
              "\n",
              "      <script>\n",
              "        const buttonEl =\n",
              "          document.querySelector('#df-4ab4d3ed-4df7-4160-a4a1-d24e322dc1f0 button.colab-df-convert');\n",
              "        buttonEl.style.display =\n",
              "          google.colab.kernel.accessAllowed ? 'block' : 'none';\n",
              "\n",
              "        async function convertToInteractive(key) {\n",
              "          const element = document.querySelector('#df-4ab4d3ed-4df7-4160-a4a1-d24e322dc1f0');\n",
              "          const dataTable =\n",
              "            await google.colab.kernel.invokeFunction('convertToInteractive',\n",
              "                                                     [key], {});\n",
              "          if (!dataTable) return;\n",
              "\n",
              "          const docLinkHtml = 'Like what you see? Visit the ' +\n",
              "            '<a target=\"_blank\" href=https://colab.research.google.com/notebooks/data_table.ipynb>data table notebook</a>'\n",
              "            + ' to learn more about interactive tables.';\n",
              "          element.innerHTML = '';\n",
              "          dataTable['output_type'] = 'display_data';\n",
              "          await google.colab.output.renderOutput(dataTable, element);\n",
              "          const docLink = document.createElement('div');\n",
              "          docLink.innerHTML = docLinkHtml;\n",
              "          element.appendChild(docLink);\n",
              "        }\n",
              "      </script>\n",
              "    </div>\n",
              "  </div>\n",
              "  "
            ]
          },
          "metadata": {}
        },
        {
          "output_type": "stream",
          "name": "stdout",
          "text": [
            "Iris-setosa        37\n",
            "Iris-versicolor    36\n",
            "Iris-virginica     32\n",
            "Name: species, dtype: int64\n"
          ]
        }
      ]
    },
    {
      "cell_type": "markdown",
      "metadata": {
        "id": "t9lP8lC1dCsa"
      },
      "source": [
        "### Exercise 4 - Calculate the proportion of values on or above the mean that are of each species\n",
        "\n",
        "We are going to focus on the `Iris-virginica` species first.\n",
        "\n",
        "First we will calculate, for each dimension column (`sepal-length, sepal-width, petal-length, petal-width`) what proportion of values in that column, where the value is on or above the mean, are classified as `Iris-virginica`.\n",
        "\n",
        "We will do this by filtering all the records in each column of the the `train` set that are on or above the mean and match the species .  Then use the outcome to calculate the proportion of the full `train` set for which a value on or above the mean that are of species `Iris-virginica`.\n",
        "\n",
        "*  filter for values in the `sepal-length` column being on or above the mean and the species column being `Iris-virginica`.  Then divide the count of rows in this filtered dataset by the count of rows in a second data set, filtered for just the value being on or above the mean.\n",
        "\n",
        "*  Do this for all four columns, for `Iris-virginica`  (4 operations).\n",
        "\n",
        "Print the results to see which columns look like they might most reliably predict the species as `Iris-virginica` (the result is as close as possible to 1).  The highest numbers may indicate the most reliable indicators, but we will do some more before coming to this conclusion.\n",
        "\n",
        "*  By definition, those on or above the mean that are NOT Iris_virginica will be `1 - the proportion of those that are.  Calculate these\n",
        "\n",
        "The first one has been done for you.\n",
        "\n",
        "*  We will also need the proportion of those BELOW the mean that are NOT Iris-virginica.  Calculate these in the same way\n",
        "\n"
      ]
    },
    {
      "cell_type": "code",
      "metadata": {
        "id": "W9mzsFwbyruW"
      },
      "source": [
        "# Function to calculate the proportion of each column that are ON OR ABOVE indicator that are of a species\n",
        "def cal_proportion_aboveindi(df, specie, col_name, indicator):\n",
        "  train_spec = df[(df[col_name] == 1) & (df['species'] == specie)][col_name].count()\n",
        "  train_all = df[df[col_name] == 1][col_name].count()\n",
        "  proportion = train_spec / train_all\n",
        "  print(col_name , \" - Number of rows = \",  train_spec, \", Total rows above \", indicator ,\" = \", train_all,\" ,Proportion = \", proportion)\n",
        "  return proportion\n"
      ],
      "execution_count": 207,
      "outputs": []
    },
    {
      "cell_type": "code",
      "source": [
        "# Get the dataframes and proportion calcuations of those ABOVE the mean for 3 species\n",
        "print(\"-----------------------------------value >= mean for Iris-virginica -----------------------------------\")\n",
        "prop_sl_vir_abovemean = cal_proportion_aboveindi(encodedmean_train, 'Iris-virginica', 'sepal-length', 'mean')\n",
        "prop_sw_vir_abovemean = cal_proportion_aboveindi(encodedmean_train, 'Iris-virginica', 'sepal-width', 'mean') \n",
        "prop_pl_vir_abovemean = cal_proportion_aboveindi(encodedmean_train, 'Iris-virginica', 'petal-length', 'mean') \n",
        "prop_pw_vir_abovemean = cal_proportion_aboveindi(encodedmean_train, 'Iris-virginica', 'petal-width', 'mean')\n",
        "   \n",
        "print(\"-----------------------------------value >= mean for Iris-versicolor-----------------------------------\")\n",
        "prop_sl_ver_abovemean = cal_proportion_aboveindi(encodedmean_train, 'Iris-versicolor', 'sepal-length', 'mean') \n",
        "prop_sw_ver_abovemean = cal_proportion_aboveindi(encodedmean_train, 'Iris-versicolor', 'sepal-width', 'mean') \n",
        "prop_pl_ver_abovemean = cal_proportion_aboveindi(encodedmean_train, 'Iris-versicolor', 'petal-length', 'mean') \n",
        "prop_pw_ver_abovemean = cal_proportion_aboveindi(encodedmean_train, 'Iris-versicolor', 'petal-width', 'mean')   \n",
        "\n",
        "print(\"-----------------------------------value >= mean for Iris-setosa-----------------------------------\")\n",
        "prop_sl_set_abovemean = cal_proportion_aboveindi(encodedmean_train, 'Iris-setosa', 'sepal-length', 'mean') \n",
        "prop_sw_set_abovemean = cal_proportion_aboveindi(encodedmean_train, 'Iris-setosa', 'sepal-width', 'mean') \n",
        "prop_pl_set_abovemean = cal_proportion_aboveindi(encodedmean_train, 'Iris-setosa', 'petal-length', 'mean') \n",
        "prop_pw_set_abovemean = cal_proportion_aboveindi(encodedmean_train, 'Iris-setosa', 'petal-width', 'mean')   \n"
      ],
      "metadata": {
        "colab": {
          "base_uri": "https://localhost:8080/"
        },
        "id": "FIdfhT6iUi02",
        "outputId": "ea14ac13-58f1-435e-a2a2-b501f9d593b3"
      },
      "execution_count": 208,
      "outputs": [
        {
          "output_type": "stream",
          "name": "stdout",
          "text": [
            "-----------------------------------value >= mean for Iris-virginica -----------------------------------\n",
            "sepal-length  - Number of rows =  30 , Total rows above  mean  =  50  ,Proportion =  0.6\n",
            "sepal-width  - Number of rows =  11 , Total rows above  mean  =  46  ,Proportion =  0.2391304347826087\n",
            "petal-length  - Number of rows =  32 , Total rows above  mean  =  62  ,Proportion =  0.5161290322580645\n",
            "petal-width  - Number of rows =  32 , Total rows above  mean  =  59  ,Proportion =  0.5423728813559322\n",
            "-----------------------------------value >= mean for Iris-versicolor-----------------------------------\n",
            "sepal-length  - Number of rows =  19 , Total rows above  mean  =  50  ,Proportion =  0.38\n",
            "sepal-width  - Number of rows =  4 , Total rows above  mean  =  46  ,Proportion =  0.08695652173913043\n",
            "petal-length  - Number of rows =  30 , Total rows above  mean  =  62  ,Proportion =  0.4838709677419355\n",
            "petal-width  - Number of rows =  27 , Total rows above  mean  =  59  ,Proportion =  0.4576271186440678\n",
            "-----------------------------------value >= mean for Iris-setosa-----------------------------------\n",
            "sepal-length  - Number of rows =  1 , Total rows above  mean  =  50  ,Proportion =  0.02\n",
            "sepal-width  - Number of rows =  31 , Total rows above  mean  =  46  ,Proportion =  0.6739130434782609\n",
            "petal-length  - Number of rows =  0 , Total rows above  mean  =  62  ,Proportion =  0.0\n",
            "petal-width  - Number of rows =  0 , Total rows above  mean  =  59  ,Proportion =  0.0\n"
          ]
        }
      ]
    },
    {
      "cell_type": "markdown",
      "metadata": {
        "id": "M-HgetRIxJpx"
      },
      "source": [
        "### Exercise 5 - Calculate the proportion of each column, where the value is below mean, that are of species `Iris-virginica`\n",
        "\n",
        "Repeat the code above, this time looking for values below the mean"
      ]
    },
    {
      "cell_type": "code",
      "metadata": {
        "id": "sMvl5HFuxpwS"
      },
      "source": [
        "# Function to calculate the proportion of each column that are BELOW indicator that are of a species\n",
        "def cal_proportion_belowindi(df, specie, col_name, indicator):\n",
        "  train_spec = df[(df[col_name] == 0) & (df['species'] == specie)][col_name].count()\n",
        "  train_all = df[df[col_name] == 0][col_name].count()\n",
        "  proportion = train_spec / train_all\n",
        "  print(col_name , \" - Number of rows = \",  train_spec, \", Total rows above \", indicator ,\" = \", train_all,\" ,Proportion = \", proportion)\n",
        "  return proportion \n"
      ],
      "execution_count": 209,
      "outputs": []
    },
    {
      "cell_type": "code",
      "source": [
        "# Get the dataframes and proportion calcuations of those BELOW the mean for 3 species\n",
        "print(\"-----------------------------------value < mean for Iris-virginica -----------------------------------\")\n",
        "prop_sl_vir_belowmean = cal_proportion_belowindi(encodedmean_train, 'Iris-virginica', 'sepal-length', 'mean')\n",
        "prop_sw_vir_belowmean = cal_proportion_belowindi(encodedmean_train, 'Iris-virginica', 'sepal-width', 'mean') \n",
        "prop_pl_vir_belowmean = cal_proportion_belowindi(encodedmean_train, 'Iris-virginica', 'petal-length', 'mean') \n",
        "prop_pw_vir_belowmean = cal_proportion_belowindi(encodedmean_train, 'Iris-virginica', 'petal-width', 'mean') "
      ],
      "metadata": {
        "colab": {
          "base_uri": "https://localhost:8080/"
        },
        "id": "4Ld9YIx3o4hs",
        "outputId": "3da48dd3-1879-449d-9382-cf6a3f465af6"
      },
      "execution_count": 210,
      "outputs": [
        {
          "output_type": "stream",
          "name": "stdout",
          "text": [
            "-----------------------------------value < mean for Iris-virginica -----------------------------------\n",
            "sepal-length  - Number of rows =  2 , Total rows above  mean  =  55  ,Proportion =  0.03636363636363636\n",
            "sepal-width  - Number of rows =  21 , Total rows above  mean  =  59  ,Proportion =  0.3559322033898305\n",
            "petal-length  - Number of rows =  0 , Total rows above  mean  =  43  ,Proportion =  0.0\n",
            "petal-width  - Number of rows =  0 , Total rows above  mean  =  46  ,Proportion =  0.0\n"
          ]
        }
      ]
    },
    {
      "cell_type": "markdown",
      "metadata": {
        "id": "09zWalzsOZrt"
      },
      "source": [
        "### Exercise 5 - calculate for the other two Iris species\n",
        "---\n",
        "\n",
        "Do the same calculations for the Iris-versicolor species, then for the Iris-setosa species.\n",
        "\n",
        "\n",
        "\n",
        "\n"
      ]
    },
    {
      "cell_type": "code",
      "metadata": {
        "id": "JYL8B3HhmKAy",
        "colab": {
          "base_uri": "https://localhost:8080/"
        },
        "outputId": "56e12c34-5da6-4f5f-fe42-670d70dfcdb5"
      },
      "source": [
        "print(\"-----------------------------------value < mean for Iris-versicolor-----------------------------------\")\n",
        "prop_sl_ver_belowmean = cal_proportion_belowindi(encodedmean_train, 'Iris-versicolor', 'sepal-length', 'mean') \n",
        "prop_sw_ver_belowmean = cal_proportion_belowindi(encodedmean_train, 'Iris-versicolor', 'sepal-width', 'mean') \n",
        "prop_pl_ver_belowmean = cal_proportion_belowindi(encodedmean_train, 'Iris-versicolor', 'petal-length', 'mean')\n",
        "prop_pw_ver_belowmean = cal_proportion_belowindi(encodedmean_train, 'Iris-versicolor', 'petal-width', 'mean') \n",
        "\n",
        "print(\"-----------------------------------value < mean for Iris-setosa-----------------------------------\")\n",
        "prop_sl_set_belowmean = cal_proportion_belowindi(encodedmean_train, 'Iris-setosa', 'sepal-length', 'mean')\n",
        "prop_sw_set_belowmean = cal_proportion_belowindi(encodedmean_train, 'Iris-setosa', 'sepal-width', 'mean')\n",
        "prop_pl_set_belowmean = cal_proportion_belowindi(encodedmean_train, 'Iris-setosa', 'petal-length', 'mean')\n",
        "prop_pw_set_belowmean = cal_proportion_belowindi(encodedmean_train, 'Iris-setosa', 'petal-width', 'mean')"
      ],
      "execution_count": 211,
      "outputs": [
        {
          "output_type": "stream",
          "name": "stdout",
          "text": [
            "-----------------------------------value < mean for Iris-versicolor-----------------------------------\n",
            "sepal-length  - Number of rows =  17 , Total rows above  mean  =  55  ,Proportion =  0.3090909090909091\n",
            "sepal-width  - Number of rows =  32 , Total rows above  mean  =  59  ,Proportion =  0.5423728813559322\n",
            "petal-length  - Number of rows =  6 , Total rows above  mean  =  43  ,Proportion =  0.13953488372093023\n",
            "petal-width  - Number of rows =  9 , Total rows above  mean  =  46  ,Proportion =  0.1956521739130435\n",
            "-----------------------------------value < mean for Iris-setosa-----------------------------------\n",
            "sepal-length  - Number of rows =  36 , Total rows above  mean  =  55  ,Proportion =  0.6545454545454545\n",
            "sepal-width  - Number of rows =  6 , Total rows above  mean  =  59  ,Proportion =  0.1016949152542373\n",
            "petal-length  - Number of rows =  37 , Total rows above  mean  =  43  ,Proportion =  0.8604651162790697\n",
            "petal-width  - Number of rows =  37 , Total rows above  mean  =  46  ,Proportion =  0.8043478260869565\n"
          ]
        }
      ]
    },
    {
      "cell_type": "markdown",
      "metadata": {
        "id": "5Ix6Hh0Uy9MS"
      },
      "source": [
        "### Exercise 6 - predict from the results\n",
        "---\n",
        "\n",
        "Create a list of dictionaries from the results Exercise 4 and 5 (e.g. {'species':..., 'above_mean': 0.xx, 'below_mean': 0.xx}  \n",
        "\n",
        "Then use a loop to go through the list and print:  \n",
        "*  any species and indicator (above or below mean) that can reliably be predicted.  A reliable prediction may be one over 0.5"
      ]
    },
    {
      "cell_type": "code",
      "source": [
        "# Create a list of dictionaries from the propotion results\n",
        "propotion_list = [{'species':'Iris-virginica',\n",
        " 'type':['sepal-length','sepal-width','petal-length', 'petal-width'],\n",
        " 'above_indi':[prop_sl_vir_abovemean,prop_sw_vir_abovemean,prop_pl_vir_abovemean,prop_pw_vir_abovemean],\n",
        " 'below_indi':[prop_sl_vir_belowmean, prop_sw_vir_belowmean,prop_pl_vir_belowmean,prop_pw_vir_belowmean]\n",
        "},{'species':'Iris-versicolor',\n",
        " 'type':['sepal-length','sepal-width','petal-length', 'petal-width'],\n",
        " 'above_indi':[prop_sl_ver_abovemean,prop_sw_ver_abovemean,prop_pl_ver_abovemean,prop_pw_ver_abovemean],\n",
        " 'below_indi':[prop_sl_ver_belowmean, prop_sw_ver_belowmean,prop_pl_ver_belowmean,prop_pw_ver_belowmean]\n",
        "},{'species':'Iris-setosa',\n",
        " 'type':['sepal-length','sepal-width','petal-length', 'petal-width'],\n",
        " 'above_indi':[prop_sl_set_abovemean,prop_sw_set_abovemean,prop_pl_set_abovemean,prop_pw_set_abovemean],\n",
        " 'below_indi':[prop_sl_set_belowmean, prop_sw_set_belowmean,prop_pl_set_belowmean,prop_pw_set_belowmean]\n",
        "}]\n",
        " \n",
        "display(propotion_list)"
      ],
      "metadata": {
        "colab": {
          "base_uri": "https://localhost:8080/",
          "height": 0
        },
        "id": "4IgJvPmsqexD",
        "outputId": "f7f616dc-b99e-4542-a03b-975b0e50d0fa"
      },
      "execution_count": 212,
      "outputs": [
        {
          "output_type": "display_data",
          "data": {
            "text/plain": [
              "[{'above_indi': [0.6,\n",
              "   0.2391304347826087,\n",
              "   0.5161290322580645,\n",
              "   0.5423728813559322],\n",
              "  'below_indi': [0.03636363636363636, 0.3559322033898305, 0.0, 0.0],\n",
              "  'species': 'Iris-virginica',\n",
              "  'type': ['sepal-length', 'sepal-width', 'petal-length', 'petal-width']},\n",
              " {'above_indi': [0.38,\n",
              "   0.08695652173913043,\n",
              "   0.4838709677419355,\n",
              "   0.4576271186440678],\n",
              "  'below_indi': [0.3090909090909091,\n",
              "   0.5423728813559322,\n",
              "   0.13953488372093023,\n",
              "   0.1956521739130435],\n",
              "  'species': 'Iris-versicolor',\n",
              "  'type': ['sepal-length', 'sepal-width', 'petal-length', 'petal-width']},\n",
              " {'above_indi': [0.02, 0.6739130434782609, 0.0, 0.0],\n",
              "  'below_indi': [0.6545454545454545,\n",
              "   0.1016949152542373,\n",
              "   0.8604651162790697,\n",
              "   0.8043478260869565],\n",
              "  'species': 'Iris-setosa',\n",
              "  'type': ['sepal-length', 'sepal-width', 'petal-length', 'petal-width']}]"
            ]
          },
          "metadata": {}
        }
      ]
    },
    {
      "cell_type": "code",
      "source": [
        "# For loops to print out the propotion list above: to show which columns are reliable predictors over 0.5\n",
        "def printout_list(prop_list, indicator):\n",
        "  for spec in prop_list:\n",
        "    for key, value in spec.items():\n",
        "      if key == 'species':\n",
        "        print(spec[key] ,'\\t\\t\\t >= ',indicator, '\\t\\t\\t< ',indicator)\n",
        "      if key == 'type':\n",
        "        for t, a, b in zip(spec['type'], spec['above_indi'], spec['below_indi']):\n",
        "            # print('\\t\\t', t, '\\t\\t\\t', a, '\\t\\t\\t', b)\n",
        "            if a >= 0.5:\n",
        "              print('\\t\\t', t, '\\t\\t\\t', a, '\\t\\t\\t', ' ')\n",
        "            elif b >= 0.5:  \n",
        "              print('\\t\\t', t, '\\t\\t\\t', ' ' , '\\t\\t\\t', b) "
      ],
      "metadata": {
        "id": "LsgKEiMMVHsh"
      },
      "execution_count": 213,
      "outputs": []
    },
    {
      "cell_type": "code",
      "source": [
        "# For loops to print out the propotion list above: to show which columns are reliable predictors over 0.5\n",
        "printout_list(propotion_list, 'mean')"
      ],
      "metadata": {
        "colab": {
          "base_uri": "https://localhost:8080/"
        },
        "id": "PVyt1MgfV4_9",
        "outputId": "f02d0782-925c-4f9f-f884-fdfa20609d85"
      },
      "execution_count": 214,
      "outputs": [
        {
          "output_type": "stream",
          "name": "stdout",
          "text": [
            "Iris-virginica \t\t\t >=  mean \t\t\t<  mean\n",
            "\t\t sepal-length \t\t\t 0.6 \t\t\t  \n",
            "\t\t petal-length \t\t\t 0.5161290322580645 \t\t\t  \n",
            "\t\t petal-width \t\t\t 0.5423728813559322 \t\t\t  \n",
            "Iris-versicolor \t\t\t >=  mean \t\t\t<  mean\n",
            "\t\t sepal-width \t\t\t   \t\t\t 0.5423728813559322\n",
            "Iris-setosa \t\t\t >=  mean \t\t\t<  mean\n",
            "\t\t sepal-length \t\t\t   \t\t\t 0.6545454545454545\n",
            "\t\t sepal-width \t\t\t 0.6739130434782609 \t\t\t  \n",
            "\t\t petal-length \t\t\t   \t\t\t 0.8604651162790697\n",
            "\t\t petal-width \t\t\t   \t\t\t 0.8043478260869565\n"
          ]
        }
      ]
    },
    {
      "cell_type": "markdown",
      "metadata": {
        "id": "ws2TxeRrnIJ4"
      },
      "source": [
        "### Exercise 6 - Make a decision tree\n",
        "---\n",
        "\n",
        "Use pencil and paper or a graphical application to create a decision tree for Iris-virginica, using the following rules (use the picture below as a guide):\n",
        "\n",
        "*  The column with the highest indicator is placed at the top\n",
        "*  Other columns are placed in order below\n",
        "*  The rest of the columns are placed in order below these\n",
        "\n",
        "Any column where one branch (on or above mean OR below mean) has an indicator of 0, could be classified as a strong indicator of Iris_virginica being the species.  Anything else, unless there is something very close to 0, could be classified as a weak indicator of Iris_virginica being the species.\n",
        "\n",
        "Let's code the decision tree using the following logic for this decision tree (yours might be slightly different):\n",
        "\n",
        "![Decision tree](https://drive.google.com/uc?id=1CTo23EHwR2IPCRjcfSyCQsT_oQ5Exwso)\n",
        "\n",
        "In the decision tree above, there is no certainty below petal-length so our decision tree will only include petal-width and petal-length.\n",
        "\n",
        "\n"
      ]
    },
    {
      "cell_type": "markdown",
      "source": [
        "![IMG_8836.jpg](data:image/jpeg;base64,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)"
      ],
      "metadata": {
        "id": "xXzjUMdXOWuJ"
      }
    },
    {
      "cell_type": "code",
      "source": [
        "# find the mean for each of the 4 size columns in test dataframe\n",
        "test_sl_mean = test['sepal-length'].mean()\n",
        "test_sw_mean = test['sepal-width'].mean()\n",
        "test_pl_mean = test['petal-length'].mean()\n",
        "test_pw_mean = test['petal-width'].mean()    \n",
        "# Print the four means and compare to the output of test.describe() to check that they have been calculated correctly.\n",
        "print('test_sl_mean = ', test_sl_mean, ' test_sw_mean = ', test_sw_mean)\n",
        "print('test_pl_mean = ', test_pl_mean, ' test_pw_mean =', test_pw_mean)\n",
        "print(test.describe())"
      ],
      "metadata": {
        "colab": {
          "base_uri": "https://localhost:8080/"
        },
        "id": "cVwUGzsRNxKn",
        "outputId": "0bd31cf4-5bd6-42b1-d959-175eeee16066"
      },
      "execution_count": 215,
      "outputs": [
        {
          "output_type": "stream",
          "name": "stdout",
          "text": [
            "test_sl_mean =  6.097777777777777  test_sw_mean =  3.088888888888889\n",
            "test_pl_mean =  4.108888888888888  test_pw_mean = 1.3177777777777777\n",
            "       sepal-length  sepal-width  petal-length  petal-width\n",
            "count     45.000000    45.000000     45.000000    45.000000\n",
            "mean       6.097778     3.088889      4.108889     1.317778\n",
            "std        0.934804     0.410777      1.842161     0.757174\n",
            "min        4.400000     2.300000      1.000000     0.100000\n",
            "25%        5.400000     2.800000      1.700000     0.400000\n",
            "50%        6.200000     3.000000      4.600000     1.500000\n",
            "75%        6.700000     3.400000      5.400000     2.000000\n",
            "max        7.700000     4.100000      6.900000     2.400000\n"
          ]
        }
      ]
    },
    {
      "cell_type": "code",
      "source": [
        "test_mean = test.copy() # keep original test dataframe in test and encode in test_mean dataframe\n",
        "# encode the 4 columns in test dataframe\n",
        "test_mean['sepal-length'] = test_mean.apply(encode, axis=1, key='sepal-length', indicator=test_sl_mean)\n",
        "test_mean['sepal-width'] = test_mean.apply(encode, axis=1, key='sepal-width', indicator=test_sw_mean)\n",
        "test_mean['petal-length'] = test_mean.apply(encode, axis=1, key='petal-length', indicator=test_pl_mean)\n",
        "test_mean['petal-width'] = test_mean.apply(encode, axis=1, key='petal-width', indicator=test_pw_mean)\n",
        "display(test_mean.info())\n",
        "test_mean.head()"
      ],
      "metadata": {
        "colab": {
          "base_uri": "https://localhost:8080/",
          "height": 0
        },
        "id": "ghvQtkZfM2DQ",
        "outputId": "9dab0543-e5f9-4170-fbaf-c56395198823"
      },
      "execution_count": 216,
      "outputs": [
        {
          "output_type": "stream",
          "name": "stdout",
          "text": [
            "<class 'pandas.core.frame.DataFrame'>\n",
            "Int64Index: 45 entries, 110 to 7\n",
            "Data columns (total 5 columns):\n",
            " #   Column        Non-Null Count  Dtype \n",
            "---  ------        --------------  ----- \n",
            " 0   sepal-length  45 non-null     int64 \n",
            " 1   sepal-width   45 non-null     int64 \n",
            " 2   petal-length  45 non-null     int64 \n",
            " 3   petal-width   45 non-null     int64 \n",
            " 4   species       45 non-null     object\n",
            "dtypes: int64(4), object(1)\n",
            "memory usage: 2.1+ KB\n"
          ]
        },
        {
          "output_type": "display_data",
          "data": {
            "text/plain": [
              "None"
            ]
          },
          "metadata": {}
        },
        {
          "output_type": "execute_result",
          "data": {
            "text/plain": [
              "     sepal-length  sepal-width  petal-length  petal-width          species\n",
              "110             1            1             1            1   Iris-virginica\n",
              "11              0            1             0            0      Iris-setosa\n",
              "106             0            0             1            1   Iris-virginica\n",
              "44              0            1             0            0      Iris-setosa\n",
              "86              1            1             1            1  Iris-versicolor"
            ],
            "text/html": [
              "\n",
              "  <div id=\"df-3bb76639-0acf-4e6d-8b86-1f47e51681ab\">\n",
              "    <div class=\"colab-df-container\">\n",
              "      <div>\n",
              "<style scoped>\n",
              "    .dataframe tbody tr th:only-of-type {\n",
              "        vertical-align: middle;\n",
              "    }\n",
              "\n",
              "    .dataframe tbody tr th {\n",
              "        vertical-align: top;\n",
              "    }\n",
              "\n",
              "    .dataframe thead th {\n",
              "        text-align: right;\n",
              "    }\n",
              "</style>\n",
              "<table border=\"1\" class=\"dataframe\">\n",
              "  <thead>\n",
              "    <tr style=\"text-align: right;\">\n",
              "      <th></th>\n",
              "      <th>sepal-length</th>\n",
              "      <th>sepal-width</th>\n",
              "      <th>petal-length</th>\n",
              "      <th>petal-width</th>\n",
              "      <th>species</th>\n",
              "    </tr>\n",
              "  </thead>\n",
              "  <tbody>\n",
              "    <tr>\n",
              "      <th>110</th>\n",
              "      <td>1</td>\n",
              "      <td>1</td>\n",
              "      <td>1</td>\n",
              "      <td>1</td>\n",
              "      <td>Iris-virginica</td>\n",
              "    </tr>\n",
              "    <tr>\n",
              "      <th>11</th>\n",
              "      <td>0</td>\n",
              "      <td>1</td>\n",
              "      <td>0</td>\n",
              "      <td>0</td>\n",
              "      <td>Iris-setosa</td>\n",
              "    </tr>\n",
              "    <tr>\n",
              "      <th>106</th>\n",
              "      <td>0</td>\n",
              "      <td>0</td>\n",
              "      <td>1</td>\n",
              "      <td>1</td>\n",
              "      <td>Iris-virginica</td>\n",
              "    </tr>\n",
              "    <tr>\n",
              "      <th>44</th>\n",
              "      <td>0</td>\n",
              "      <td>1</td>\n",
              "      <td>0</td>\n",
              "      <td>0</td>\n",
              "      <td>Iris-setosa</td>\n",
              "    </tr>\n",
              "    <tr>\n",
              "      <th>86</th>\n",
              "      <td>1</td>\n",
              "      <td>1</td>\n",
              "      <td>1</td>\n",
              "      <td>1</td>\n",
              "      <td>Iris-versicolor</td>\n",
              "    </tr>\n",
              "  </tbody>\n",
              "</table>\n",
              "</div>\n",
              "      <button class=\"colab-df-convert\" onclick=\"convertToInteractive('df-3bb76639-0acf-4e6d-8b86-1f47e51681ab')\"\n",
              "              title=\"Convert this dataframe to an interactive table.\"\n",
              "              style=\"display:none;\">\n",
              "        \n",
              "  <svg xmlns=\"http://www.w3.org/2000/svg\" height=\"24px\"viewBox=\"0 0 24 24\"\n",
              "       width=\"24px\">\n",
              "    <path d=\"M0 0h24v24H0V0z\" fill=\"none\"/>\n",
              "    <path d=\"M18.56 5.44l.94 2.06.94-2.06 2.06-.94-2.06-.94-.94-2.06-.94 2.06-2.06.94zm-11 1L8.5 8.5l.94-2.06 2.06-.94-2.06-.94L8.5 2.5l-.94 2.06-2.06.94zm10 10l.94 2.06.94-2.06 2.06-.94-2.06-.94-.94-2.06-.94 2.06-2.06.94z\"/><path d=\"M17.41 7.96l-1.37-1.37c-.4-.4-.92-.59-1.43-.59-.52 0-1.04.2-1.43.59L10.3 9.45l-7.72 7.72c-.78.78-.78 2.05 0 2.83L4 21.41c.39.39.9.59 1.41.59.51 0 1.02-.2 1.41-.59l7.78-7.78 2.81-2.81c.8-.78.8-2.07 0-2.86zM5.41 20L4 18.59l7.72-7.72 1.47 1.35L5.41 20z\"/>\n",
              "  </svg>\n",
              "      </button>\n",
              "      \n",
              "  <style>\n",
              "    .colab-df-container {\n",
              "      display:flex;\n",
              "      flex-wrap:wrap;\n",
              "      gap: 12px;\n",
              "    }\n",
              "\n",
              "    .colab-df-convert {\n",
              "      background-color: #E8F0FE;\n",
              "      border: none;\n",
              "      border-radius: 50%;\n",
              "      cursor: pointer;\n",
              "      display: none;\n",
              "      fill: #1967D2;\n",
              "      height: 32px;\n",
              "      padding: 0 0 0 0;\n",
              "      width: 32px;\n",
              "    }\n",
              "\n",
              "    .colab-df-convert:hover {\n",
              "      background-color: #E2EBFA;\n",
              "      box-shadow: 0px 1px 2px rgba(60, 64, 67, 0.3), 0px 1px 3px 1px rgba(60, 64, 67, 0.15);\n",
              "      fill: #174EA6;\n",
              "    }\n",
              "\n",
              "    [theme=dark] .colab-df-convert {\n",
              "      background-color: #3B4455;\n",
              "      fill: #D2E3FC;\n",
              "    }\n",
              "\n",
              "    [theme=dark] .colab-df-convert:hover {\n",
              "      background-color: #434B5C;\n",
              "      box-shadow: 0px 1px 3px 1px rgba(0, 0, 0, 0.15);\n",
              "      filter: drop-shadow(0px 1px 2px rgba(0, 0, 0, 0.3));\n",
              "      fill: #FFFFFF;\n",
              "    }\n",
              "  </style>\n",
              "\n",
              "      <script>\n",
              "        const buttonEl =\n",
              "          document.querySelector('#df-3bb76639-0acf-4e6d-8b86-1f47e51681ab button.colab-df-convert');\n",
              "        buttonEl.style.display =\n",
              "          google.colab.kernel.accessAllowed ? 'block' : 'none';\n",
              "\n",
              "        async function convertToInteractive(key) {\n",
              "          const element = document.querySelector('#df-3bb76639-0acf-4e6d-8b86-1f47e51681ab');\n",
              "          const dataTable =\n",
              "            await google.colab.kernel.invokeFunction('convertToInteractive',\n",
              "                                                     [key], {});\n",
              "          if (!dataTable) return;\n",
              "\n",
              "          const docLinkHtml = 'Like what you see? Visit the ' +\n",
              "            '<a target=\"_blank\" href=https://colab.research.google.com/notebooks/data_table.ipynb>data table notebook</a>'\n",
              "            + ' to learn more about interactive tables.';\n",
              "          element.innerHTML = '';\n",
              "          dataTable['output_type'] = 'display_data';\n",
              "          await google.colab.output.renderOutput(dataTable, element);\n",
              "          const docLink = document.createElement('div');\n",
              "          docLink.innerHTML = docLinkHtml;\n",
              "          element.appendChild(docLink);\n",
              "        }\n",
              "      </script>\n",
              "    </div>\n",
              "  </div>\n",
              "  "
            ]
          },
          "metadata": {},
          "execution_count": 216
        }
      ]
    },
    {
      "cell_type": "code",
      "metadata": {
        "id": "tkCCL0ERDife"
      },
      "source": [
        "# Decision Tree to get species \n",
        "def get_species(df, measure_type):\n",
        "  # if df['petal-width'] == 0 and df['petal-length'] == 0:\n",
        "  #       return 'iris-setosa'\n",
        "  #       if df['petal-width'] == 0:\n",
        "  #           return 'iris-versicolor'\n",
        "  #   return 'Iris-virginica' \n",
        "\n",
        "  if df['sepal-length'] == 0 and df['petal-width'] == 0 and df['petal-length'] == 0:\n",
        "    return None\n",
        "  else:\n",
        "    return 'Iris-virginica'\n",
        "  \n",
        "  # # ADD CODE HERE TO RETURN None if sepal-width is below mean (encoded as 0) , otherwise return 'Iris-versicolor'\n",
        "  # if df['sepal-width'] == 1:\n",
        "  #   return None\n",
        "  # else:\n",
        "  #   return 'Iris-versicolor'\n",
        "\n",
        "  # # ADD CODE HERE TO RETURN None if sepal-width is below mean (encoded as 0) , otherwise return 'Iris-setosa'\n",
        "  # if (df['petal-length'] == 1) and (df['petal-width'] ==1):\n",
        "  #   return None\n",
        "  # else :\n",
        "  #   return 'Iris-setosa' \n",
        "\n",
        "\n"
      ],
      "execution_count": 217,
      "outputs": []
    },
    {
      "cell_type": "code",
      "source": [
        "# use the get_species(df) function to predict the species, count how many are predicted correct and use this to calculate the proportion correct\n",
        "def predict_prop(test_df, measure_type):\n",
        "  correct = 0\n",
        "  test_size = test_df.shape[0]\n",
        "  print(test_size)\n",
        "  for i in range(0, test_size):\n",
        "    species = get_species(test_df.iloc[i], measure_type)\n",
        "    if species == test_df.iloc[i]['species']:\n",
        "        correct += 1\n",
        "  print(correct)\n",
        "  return correct / test_size\n",
        "\n",
        "prop_mean = predict_prop(test_mean, 'mean')\n",
        "print(\"Proportion correctly identified Iris-virginica with mean\", prop_mean) "
      ],
      "metadata": {
        "colab": {
          "base_uri": "https://localhost:8080/"
        },
        "id": "5LXKr-OGtbPW",
        "outputId": "d01fe775-ed73-48e2-ba07-b5f020c08d1a"
      },
      "execution_count": 218,
      "outputs": [
        {
          "output_type": "stream",
          "name": "stdout",
          "text": [
            "45\n",
            "18\n",
            "Proportion correctly identified Iris-virginica with mean 0.4\n"
          ]
        }
      ]
    },
    {
      "cell_type": "markdown",
      "metadata": {
        "id": "-2tQcT5ILtxl"
      },
      "source": [
        "### Exercise 7 - change the measure\n",
        "\n",
        "We are currently using the mean to act as the decision making line.  We can use the decision tree with a different line.\n",
        "\n",
        "Change the mean values so that you are instead using the median instead for all four columns.  The code should not need changing except for where you calculated the mean.\n",
        "\n",
        "Run all the code again.  Is the proportion of correct values better this time?   Is the decision tree still appropriate?\n"
      ]
    },
    {
      "cell_type": "code",
      "source": [
        "# calculate median: can be changed for different calcualations\n",
        "def cal_median(df, key):\n",
        "  return df[key].median()\n",
        "\n",
        "train_sl_median = cal_median(train, 'sepal-length') \n",
        "train_sw_median = cal_median(train, 'sepal-width') \n",
        "train_pl_median = cal_median(train, 'petal-length') \n",
        "train_pw_median = cal_median(train, 'petal-width')     \n",
        "# Print the four means and compare to the output of train.describe() to check that they have been calculated correctly.\n",
        "print('train_sl_median = ', train_sl_median, ' train_sw_median = ', train_sw_median)\n",
        "print('train_pl_median = ', train_pl_median, ' train_pw_median =', train_pw_median)\n",
        "print(train.describe())"
      ],
      "metadata": {
        "colab": {
          "base_uri": "https://localhost:8080/"
        },
        "id": "-oKB6oXNV9Iq",
        "outputId": "2762f87b-a259-4555-90d2-ad4c9eb55011"
      },
      "execution_count": 219,
      "outputs": [
        {
          "output_type": "stream",
          "name": "stdout",
          "text": [
            "train_sl_median =  5.7  train_sw_median =  3.0\n",
            "train_pl_median =  4.1  train_pw_median = 1.3\n",
            "       sepal-length  sepal-width  petal-length  petal-width\n",
            "count    105.000000   105.000000    105.000000   105.000000\n",
            "mean       5.734286     3.039048      3.608571     1.147619\n",
            "std        0.756743     0.444084      1.717171     0.763607\n",
            "min        4.300000     2.000000      1.100000     0.100000\n",
            "25%        5.100000     2.700000      1.500000     0.200000\n",
            "50%        5.700000     3.000000      4.100000     1.300000\n",
            "75%        6.300000     3.300000      5.000000     1.800000\n",
            "max        7.900000     4.400000      6.400000     2.500000\n"
          ]
        }
      ]
    },
    {
      "cell_type": "code",
      "source": [
        "encodedmedian_train = train.copy()\n",
        "# encode each column with median: 1: >= median 0:<median\n",
        "encodedmedian_train['sepal-length'] = encodedmedian_train.apply(encode, axis=1, key='sepal-length', indicator=train_sl_median)\n",
        "encodedmedian_train['sepal-width'] = encodedmedian_train.apply(encode, axis=1, key='sepal-width', indicator=train_sw_median)\n",
        "encodedmedian_train['petal-length'] = encodedmedian_train.apply(encode, axis=1, key='petal-length', indicator=train_pl_median)\n",
        "encodedmedian_train['petal-width'] = encodedmedian_train.apply(encode, axis=1, key='petal-width', indicator=train_pw_median)\n",
        "# print(encodedmedian_train)"
      ],
      "metadata": {
        "id": "d6lVhb_nNVwJ"
      },
      "execution_count": 220,
      "outputs": []
    },
    {
      "cell_type": "code",
      "source": [
        "# Get the dataframes and proportion calcuations of those ON OR ABOVE the median for 3 species\n",
        "print(\"---------------value >= median for Iris-virginica-----------------------------------\")\n",
        "prop_sl_vir_abovemedian = cal_proportion_aboveindi(encodedmedian_train, 'Iris-virginica', 'sepal-length', 'median')\n",
        "prop_sw_vir_abovemedian = cal_proportion_aboveindi(encodedmedian_train, 'Iris-virginica', 'sepal-width', 'median') \n",
        "prop_pl_vir_abovemedian = cal_proportion_aboveindi(encodedmedian_train, 'Iris-virginica', 'petal-length', 'median') \n",
        "prop_pw_vir_abovemedian = cal_proportion_aboveindi(encodedmedian_train, 'Iris-virginica', 'petal-width', 'median') \n",
        "print(\"---------------value >= median for Iris-versicolor -----------------------------------\")\n",
        "prop_sl_ver_abovemedian = cal_proportion_aboveindi(encodedmedian_train, 'Iris-versicolor', 'sepal-length', 'median') \n",
        "prop_sw_ver_abovemedian = cal_proportion_aboveindi(encodedmedian_train, 'Iris-versicolor', 'sepal-width', 'median') \n",
        "prop_pl_ver_abovemedian = cal_proportion_aboveindi(encodedmedian_train, 'Iris-versicolor', 'petal-length', 'median') \n",
        "prop_pw_ver_abovemedian = cal_proportion_aboveindi(encodedmedian_train, 'Iris-versicolor', 'petal-width', 'median') \n",
        "\n",
        "print(\"---------------value >= median for Iris-setosa-----------------------------------\")\n",
        "prop_sl_set_abovemedian = cal_proportion_aboveindi(encodedmedian_train, 'Iris-setosa', 'sepal-length', 'median') \n",
        "prop_sw_set_abovemedian = cal_proportion_aboveindi(encodedmedian_train, 'Iris-setosa', 'sepal-width', 'median') \n",
        "prop_pl_set_abovemedian = cal_proportion_aboveindi(encodedmedian_train, 'Iris-setosa', 'petal-length', 'median') \n",
        "prop_pw_set_abovemedian = cal_proportion_aboveindi(encodedmedian_train, 'Iris-setosa', 'petal-width', 'median') \n"
      ],
      "metadata": {
        "colab": {
          "base_uri": "https://localhost:8080/"
        },
        "id": "VoQyIp5bfPbH",
        "outputId": "be337671-ad12-4ba5-e7a8-02d0292b4cf9"
      },
      "execution_count": 221,
      "outputs": [
        {
          "output_type": "stream",
          "name": "stdout",
          "text": [
            "---------------value >= median for Iris-virginica-----------------------------------\n",
            "sepal-length  - Number of rows =  31 , Total rows above  median  =  55  ,Proportion =  0.5636363636363636\n",
            "sepal-width  - Number of rows =  20 , Total rows above  median  =  66  ,Proportion =  0.30303030303030304\n",
            "petal-length  - Number of rows =  32 , Total rows above  median  =  53  ,Proportion =  0.6037735849056604\n",
            "petal-width  - Number of rows =  32 , Total rows above  median  =  55  ,Proportion =  0.5818181818181818\n",
            "---------------value >= median for Iris-versicolor -----------------------------------\n",
            "sepal-length  - Number of rows =  22 , Total rows above  median  =  55  ,Proportion =  0.4\n",
            "sepal-width  - Number of rows =  9 , Total rows above  median  =  66  ,Proportion =  0.13636363636363635\n",
            "petal-length  - Number of rows =  21 , Total rows above  median  =  53  ,Proportion =  0.39622641509433965\n",
            "petal-width  - Number of rows =  23 , Total rows above  median  =  55  ,Proportion =  0.41818181818181815\n",
            "---------------value >= median for Iris-setosa-----------------------------------\n",
            "sepal-length  - Number of rows =  2 , Total rows above  median  =  55  ,Proportion =  0.03636363636363636\n",
            "sepal-width  - Number of rows =  37 , Total rows above  median  =  66  ,Proportion =  0.5606060606060606\n",
            "petal-length  - Number of rows =  0 , Total rows above  median  =  53  ,Proportion =  0.0\n",
            "petal-width  - Number of rows =  0 , Total rows above  median  =  55  ,Proportion =  0.0\n"
          ]
        }
      ]
    },
    {
      "cell_type": "code",
      "source": [
        "# Get the dataframes and proportion calcuations of those BELOW the Median for 3 species\n",
        "print(\"-----------------------------------value < median for Iris-virginica -----------------------------------\")\n",
        "prop_sl_vir_belowmedian = cal_proportion_belowindi(encodedmedian_train, 'Iris-virginica', 'sepal-length','Median')\n",
        "# display(df_col1_virginica)\n",
        "prop_sw_vir_belowmedian = cal_proportion_belowindi(encodedmedian_train, 'Iris-virginica', 'sepal-width','Median') \n",
        "prop_pl_vir_belowmedian = cal_proportion_belowindi(encodedmedian_train, 'Iris-virginica', 'petal-length','Median') \n",
        "prop_pw_vir_belowmedian = cal_proportion_belowindi(encodedmedian_train, 'Iris-virginica', 'petal-width','Median') \n",
        "print(\"-----------------------------------value < median for Iris-versicolor -----------------------------------\")\n",
        "prop_sl_ver_belowmedian = cal_proportion_belowindi(encodedmedian_train, 'Iris-versicolor', 'sepal-length','Median') \n",
        "prop_sw_ver_belowmedian = cal_proportion_belowindi(encodedmedian_train, 'Iris-versicolor', 'sepal-width','Median') \n",
        "prop_pl_ver_belowmedian = cal_proportion_belowindi(encodedmedian_train, 'Iris-versicolor', 'petal-length','Median') \n",
        "prop_pw_ver_belowmedian = cal_proportion_belowindi(encodedmedian_train, 'Iris-versicolor', 'petal-width','Median') \n",
        "\n",
        "print(\"-----------------------------------value < median for Iris-setosa-----------------------------------\")\n",
        "prop_sl_set_belowmedian = cal_proportion_belowindi(encodedmedian_train, 'Iris-setosa', 'sepal-length','Median') \n",
        "prop_sw_set_belowmedian = cal_proportion_belowindi(encodedmedian_train, 'Iris-setosa', 'sepal-width','Median') \n",
        "prop_pl_set_belowmedian = cal_proportion_belowindi(encodedmedian_train, 'Iris-setosa', 'petal-length','Median') \n",
        "prop_pw_set_belowmedian = cal_proportion_belowindi(encodedmedian_train, 'Iris-setosa', 'petal-width','Median') "
      ],
      "metadata": {
        "colab": {
          "base_uri": "https://localhost:8080/"
        },
        "id": "yvIPF2lyigW_",
        "outputId": "9afcdf99-2d63-40af-ab9c-6d9c6d458718"
      },
      "execution_count": 222,
      "outputs": [
        {
          "output_type": "stream",
          "name": "stdout",
          "text": [
            "-----------------------------------value < median for Iris-virginica -----------------------------------\n",
            "sepal-length  - Number of rows =  1 , Total rows above  Median  =  50  ,Proportion =  0.02\n",
            "sepal-width  - Number of rows =  12 , Total rows above  Median  =  39  ,Proportion =  0.3076923076923077\n",
            "petal-length  - Number of rows =  0 , Total rows above  Median  =  52  ,Proportion =  0.0\n",
            "petal-width  - Number of rows =  0 , Total rows above  Median  =  50  ,Proportion =  0.0\n",
            "-----------------------------------value < median for Iris-versicolor -----------------------------------\n",
            "sepal-length  - Number of rows =  14 , Total rows above  Median  =  50  ,Proportion =  0.28\n",
            "sepal-width  - Number of rows =  27 , Total rows above  Median  =  39  ,Proportion =  0.6923076923076923\n",
            "petal-length  - Number of rows =  15 , Total rows above  Median  =  52  ,Proportion =  0.28846153846153844\n",
            "petal-width  - Number of rows =  13 , Total rows above  Median  =  50  ,Proportion =  0.26\n",
            "-----------------------------------value < median for Iris-setosa-----------------------------------\n",
            "sepal-length  - Number of rows =  35 , Total rows above  Median  =  50  ,Proportion =  0.7\n",
            "sepal-width  - Number of rows =  0 , Total rows above  Median  =  39  ,Proportion =  0.0\n",
            "petal-length  - Number of rows =  37 , Total rows above  Median  =  52  ,Proportion =  0.7115384615384616\n",
            "petal-width  - Number of rows =  37 , Total rows above  Median  =  50  ,Proportion =  0.74\n"
          ]
        }
      ]
    },
    {
      "cell_type": "code",
      "source": [
        "# Create a list of dictionaries from the results of median calculations\n",
        "propotion_list_median = [{'species':'Iris-virginica',\n",
        " 'type':['sepal-length','sepal-width','petal-length', 'petal-width'],\n",
        " 'above_indi':[prop_sl_vir_abovemedian,prop_sw_vir_abovemedian,prop_pl_vir_abovemedian,prop_pw_vir_abovemedian],\n",
        " 'below_indi':[prop_sl_vir_belowmedian,prop_sw_vir_belowmedian,prop_pl_vir_belowmedian,prop_pw_vir_belowmedian]\n",
        "},{'species':'Iris-versicolor',\n",
        " 'type':['sepal-length','sepal-width','petal-length', 'petal-width'],\n",
        " 'above_indi':[prop_sl_ver_abovemedian,prop_sw_ver_abovemedian,prop_pl_ver_abovemedian,prop_pw_ver_abovemedian],\n",
        " 'below_indi':[prop_sl_ver_belowmedian, prop_sw_ver_belowmedian,prop_pl_ver_belowmedian,prop_pw_ver_belowmedian]\n",
        "},{'species':'Iris-setosa',\n",
        " 'type':['sepal-length','sepal-width','petal-length', 'petal-width'],\n",
        " 'above_indi':[prop_sl_set_abovemedian,prop_sw_set_abovemedian,prop_pl_set_abovemedian,prop_pw_set_abovemedian],\n",
        " 'below_indi':[prop_sl_set_belowmedian, prop_sw_set_belowmedian,prop_pl_set_belowmedian,prop_pw_set_belowmedian]\n",
        "}]\n",
        " \n",
        "display(propotion_list_median)"
      ],
      "metadata": {
        "colab": {
          "base_uri": "https://localhost:8080/",
          "height": 0
        },
        "id": "58S1fGPjjvvd",
        "outputId": "b8abf35e-a6ab-4b56-a1de-66981e891614"
      },
      "execution_count": 223,
      "outputs": [
        {
          "output_type": "display_data",
          "data": {
            "text/plain": [
              "[{'above_indi': [0.5636363636363636,\n",
              "   0.30303030303030304,\n",
              "   0.6037735849056604,\n",
              "   0.5818181818181818],\n",
              "  'below_indi': [0.02, 0.3076923076923077, 0.0, 0.0],\n",
              "  'species': 'Iris-virginica',\n",
              "  'type': ['sepal-length', 'sepal-width', 'petal-length', 'petal-width']},\n",
              " {'above_indi': [0.4,\n",
              "   0.13636363636363635,\n",
              "   0.39622641509433965,\n",
              "   0.41818181818181815],\n",
              "  'below_indi': [0.28, 0.6923076923076923, 0.28846153846153844, 0.26],\n",
              "  'species': 'Iris-versicolor',\n",
              "  'type': ['sepal-length', 'sepal-width', 'petal-length', 'petal-width']},\n",
              " {'above_indi': [0.03636363636363636, 0.5606060606060606, 0.0, 0.0],\n",
              "  'below_indi': [0.7, 0.0, 0.7115384615384616, 0.74],\n",
              "  'species': 'Iris-setosa',\n",
              "  'type': ['sepal-length', 'sepal-width', 'petal-length', 'petal-width']}]"
            ]
          },
          "metadata": {}
        }
      ]
    },
    {
      "cell_type": "code",
      "source": [
        "printout_list(propotion_list_median, 'median')"
      ],
      "metadata": {
        "colab": {
          "base_uri": "https://localhost:8080/"
        },
        "id": "aRqwuvmykPKr",
        "outputId": "18a16f95-8143-4377-977e-f3d52d7e4b74"
      },
      "execution_count": 224,
      "outputs": [
        {
          "output_type": "stream",
          "name": "stdout",
          "text": [
            "Iris-virginica \t\t\t >=  median \t\t\t<  median\n",
            "\t\t sepal-length \t\t\t 0.5636363636363636 \t\t\t  \n",
            "\t\t petal-length \t\t\t 0.6037735849056604 \t\t\t  \n",
            "\t\t petal-width \t\t\t 0.5818181818181818 \t\t\t  \n",
            "Iris-versicolor \t\t\t >=  median \t\t\t<  median\n",
            "\t\t sepal-width \t\t\t   \t\t\t 0.6923076923076923\n",
            "Iris-setosa \t\t\t >=  median \t\t\t<  median\n",
            "\t\t sepal-length \t\t\t   \t\t\t 0.7\n",
            "\t\t sepal-width \t\t\t 0.5606060606060606 \t\t\t  \n",
            "\t\t petal-length \t\t\t   \t\t\t 0.7115384615384616\n",
            "\t\t petal-width \t\t\t   \t\t\t 0.74\n"
          ]
        }
      ]
    },
    {
      "cell_type": "code",
      "source": [
        "# propotion_mean = pd.DataFrame.from_dict(propotion_list) \n",
        "# # print(propotion_mean)\n",
        "# propotion_median = pd.DataFrame.from_dict(propotion_list_median) \n",
        "# # print(propotion_median)\n",
        "# table_mean = pd.pivot_table(propotion_mean, values=['above_mean','below_mean'], index=['species','type'],columns=['type']) #, aggfunc=np.sum)\n",
        "# table_median = pd.pivot_table(propotion_median, values=['above_mean','below_mean'], index=['species','type'],columns=['type'])\n",
        "# print(table_mean)\n",
        "# print(table_median)"
      ],
      "metadata": {
        "id": "TO97wyptz5In"
      },
      "execution_count": 225,
      "outputs": []
    },
    {
      "cell_type": "markdown",
      "source": [
        "![IMG_8827.jpg](data:image/jpeg;base64,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)"
      ],
      "metadata": {
        "id": "oIXGAGE443lj"
      }
    },
    {
      "cell_type": "code",
      "source": [
        "\n",
        "# find the median for each of the 4 size columns in test dataframe : test has original data\n",
        "test_sl_median = test['sepal-length'].median()\n",
        "test_sw_median = test['sepal-width'].median()\n",
        "test_pl_median = test['petal-length'].median()\n",
        "test_pw_median = test['petal-width'].median()    \n",
        "# Print the four medians and compare to the output of test.describe() to check that they have been calculated correctly.\n",
        "print('test_sl_median = ', test_sl_median, ' test_sw_median = ', test_sw_median)\n",
        "print('test_pl_median = ', test_pl_median, ' test_pw_median =', test_pw_median)\n",
        "print(test.describe())"
      ],
      "metadata": {
        "colab": {
          "base_uri": "https://localhost:8080/"
        },
        "id": "0pmasaCt6AP1",
        "outputId": "0ffb1ee0-147a-4b3d-b4da-ce76ec9c5634"
      },
      "execution_count": 226,
      "outputs": [
        {
          "output_type": "stream",
          "name": "stdout",
          "text": [
            "test_sl_median =  6.2  test_sw_median =  3.0\n",
            "test_pl_median =  4.6  test_pw_median = 1.5\n",
            "       sepal-length  sepal-width  petal-length  petal-width\n",
            "count     45.000000    45.000000     45.000000    45.000000\n",
            "mean       6.097778     3.088889      4.108889     1.317778\n",
            "std        0.934804     0.410777      1.842161     0.757174\n",
            "min        4.400000     2.300000      1.000000     0.100000\n",
            "25%        5.400000     2.800000      1.700000     0.400000\n",
            "50%        6.200000     3.000000      4.600000     1.500000\n",
            "75%        6.700000     3.400000      5.400000     2.000000\n",
            "max        7.700000     4.100000      6.900000     2.400000\n"
          ]
        }
      ]
    },
    {
      "cell_type": "code",
      "source": [
        "# test1 has original data and assigns to test2, make changes on test2 and keep original data in test1 \n",
        "test_median = test.copy()\n",
        "# encode the 4 columns \n",
        "test_median['sepal-length'] = test_median.apply(encode, axis=1, key='sepal-length', indicator=test_sl_median)\n",
        "test_median['sepal-width'] = test_median.apply(encode, axis=1, key='sepal-width', indicator=test_sw_median)\n",
        "test_median['petal-length'] = test_median.apply(encode, axis=1, key='petal-length', indicator=test_pl_median)\n",
        "test_median['petal-width'] = test_median.apply(encode, axis=1, key='petal-width', indicator=test_pw_median)\n",
        "display(test_median.head())\n"
      ],
      "metadata": {
        "colab": {
          "base_uri": "https://localhost:8080/",
          "height": 0
        },
        "id": "Y-W9cxqs60c8",
        "outputId": "210f5245-480c-49ee-8301-a81b28271195"
      },
      "execution_count": 227,
      "outputs": [
        {
          "output_type": "display_data",
          "data": {
            "text/plain": [
              "     sepal-length  sepal-width  petal-length  petal-width          species\n",
              "110             1            1             1            1   Iris-virginica\n",
              "11              0            1             0            0      Iris-setosa\n",
              "106             0            0             0            1   Iris-virginica\n",
              "44              0            1             0            0      Iris-setosa\n",
              "86              1            1             1            1  Iris-versicolor"
            ],
            "text/html": [
              "\n",
              "  <div id=\"df-cb28a14a-490c-4aac-81ce-83e3fe3b1f8d\">\n",
              "    <div class=\"colab-df-container\">\n",
              "      <div>\n",
              "<style scoped>\n",
              "    .dataframe tbody tr th:only-of-type {\n",
              "        vertical-align: middle;\n",
              "    }\n",
              "\n",
              "    .dataframe tbody tr th {\n",
              "        vertical-align: top;\n",
              "    }\n",
              "\n",
              "    .dataframe thead th {\n",
              "        text-align: right;\n",
              "    }\n",
              "</style>\n",
              "<table border=\"1\" class=\"dataframe\">\n",
              "  <thead>\n",
              "    <tr style=\"text-align: right;\">\n",
              "      <th></th>\n",
              "      <th>sepal-length</th>\n",
              "      <th>sepal-width</th>\n",
              "      <th>petal-length</th>\n",
              "      <th>petal-width</th>\n",
              "      <th>species</th>\n",
              "    </tr>\n",
              "  </thead>\n",
              "  <tbody>\n",
              "    <tr>\n",
              "      <th>110</th>\n",
              "      <td>1</td>\n",
              "      <td>1</td>\n",
              "      <td>1</td>\n",
              "      <td>1</td>\n",
              "      <td>Iris-virginica</td>\n",
              "    </tr>\n",
              "    <tr>\n",
              "      <th>11</th>\n",
              "      <td>0</td>\n",
              "      <td>1</td>\n",
              "      <td>0</td>\n",
              "      <td>0</td>\n",
              "      <td>Iris-setosa</td>\n",
              "    </tr>\n",
              "    <tr>\n",
              "      <th>106</th>\n",
              "      <td>0</td>\n",
              "      <td>0</td>\n",
              "      <td>0</td>\n",
              "      <td>1</td>\n",
              "      <td>Iris-virginica</td>\n",
              "    </tr>\n",
              "    <tr>\n",
              "      <th>44</th>\n",
              "      <td>0</td>\n",
              "      <td>1</td>\n",
              "      <td>0</td>\n",
              "      <td>0</td>\n",
              "      <td>Iris-setosa</td>\n",
              "    </tr>\n",
              "    <tr>\n",
              "      <th>86</th>\n",
              "      <td>1</td>\n",
              "      <td>1</td>\n",
              "      <td>1</td>\n",
              "      <td>1</td>\n",
              "      <td>Iris-versicolor</td>\n",
              "    </tr>\n",
              "  </tbody>\n",
              "</table>\n",
              "</div>\n",
              "      <button class=\"colab-df-convert\" onclick=\"convertToInteractive('df-cb28a14a-490c-4aac-81ce-83e3fe3b1f8d')\"\n",
              "              title=\"Convert this dataframe to an interactive table.\"\n",
              "              style=\"display:none;\">\n",
              "        \n",
              "  <svg xmlns=\"http://www.w3.org/2000/svg\" height=\"24px\"viewBox=\"0 0 24 24\"\n",
              "       width=\"24px\">\n",
              "    <path d=\"M0 0h24v24H0V0z\" fill=\"none\"/>\n",
              "    <path d=\"M18.56 5.44l.94 2.06.94-2.06 2.06-.94-2.06-.94-.94-2.06-.94 2.06-2.06.94zm-11 1L8.5 8.5l.94-2.06 2.06-.94-2.06-.94L8.5 2.5l-.94 2.06-2.06.94zm10 10l.94 2.06.94-2.06 2.06-.94-2.06-.94-.94-2.06-.94 2.06-2.06.94z\"/><path d=\"M17.41 7.96l-1.37-1.37c-.4-.4-.92-.59-1.43-.59-.52 0-1.04.2-1.43.59L10.3 9.45l-7.72 7.72c-.78.78-.78 2.05 0 2.83L4 21.41c.39.39.9.59 1.41.59.51 0 1.02-.2 1.41-.59l7.78-7.78 2.81-2.81c.8-.78.8-2.07 0-2.86zM5.41 20L4 18.59l7.72-7.72 1.47 1.35L5.41 20z\"/>\n",
              "  </svg>\n",
              "      </button>\n",
              "      \n",
              "  <style>\n",
              "    .colab-df-container {\n",
              "      display:flex;\n",
              "      flex-wrap:wrap;\n",
              "      gap: 12px;\n",
              "    }\n",
              "\n",
              "    .colab-df-convert {\n",
              "      background-color: #E8F0FE;\n",
              "      border: none;\n",
              "      border-radius: 50%;\n",
              "      cursor: pointer;\n",
              "      display: none;\n",
              "      fill: #1967D2;\n",
              "      height: 32px;\n",
              "      padding: 0 0 0 0;\n",
              "      width: 32px;\n",
              "    }\n",
              "\n",
              "    .colab-df-convert:hover {\n",
              "      background-color: #E2EBFA;\n",
              "      box-shadow: 0px 1px 2px rgba(60, 64, 67, 0.3), 0px 1px 3px 1px rgba(60, 64, 67, 0.15);\n",
              "      fill: #174EA6;\n",
              "    }\n",
              "\n",
              "    [theme=dark] .colab-df-convert {\n",
              "      background-color: #3B4455;\n",
              "      fill: #D2E3FC;\n",
              "    }\n",
              "\n",
              "    [theme=dark] .colab-df-convert:hover {\n",
              "      background-color: #434B5C;\n",
              "      box-shadow: 0px 1px 3px 1px rgba(0, 0, 0, 0.15);\n",
              "      filter: drop-shadow(0px 1px 2px rgba(0, 0, 0, 0.3));\n",
              "      fill: #FFFFFF;\n",
              "    }\n",
              "  </style>\n",
              "\n",
              "      <script>\n",
              "        const buttonEl =\n",
              "          document.querySelector('#df-cb28a14a-490c-4aac-81ce-83e3fe3b1f8d button.colab-df-convert');\n",
              "        buttonEl.style.display =\n",
              "          google.colab.kernel.accessAllowed ? 'block' : 'none';\n",
              "\n",
              "        async function convertToInteractive(key) {\n",
              "          const element = document.querySelector('#df-cb28a14a-490c-4aac-81ce-83e3fe3b1f8d');\n",
              "          const dataTable =\n",
              "            await google.colab.kernel.invokeFunction('convertToInteractive',\n",
              "                                                     [key], {});\n",
              "          if (!dataTable) return;\n",
              "\n",
              "          const docLinkHtml = 'Like what you see? Visit the ' +\n",
              "            '<a target=\"_blank\" href=https://colab.research.google.com/notebooks/data_table.ipynb>data table notebook</a>'\n",
              "            + ' to learn more about interactive tables.';\n",
              "          element.innerHTML = '';\n",
              "          dataTable['output_type'] = 'display_data';\n",
              "          await google.colab.output.renderOutput(dataTable, element);\n",
              "          const docLink = document.createElement('div');\n",
              "          docLink.innerHTML = docLinkHtml;\n",
              "          element.appendChild(docLink);\n",
              "        }\n",
              "      </script>\n",
              "    </div>\n",
              "  </div>\n",
              "  "
            ]
          },
          "metadata": {}
        }
      ]
    },
    {
      "cell_type": "code",
      "source": [
        "# Decision Tree Model to get species based on median calculation: Only for 'Iris-virginica'\n",
        "def get_species_median(df):\n",
        "  \n",
        "  if (df['petal-length'] == 0) or (df['petal-width'] == 0):\n",
        "    return None\n",
        "  elif df['sepal-length'] == 0:\n",
        "    return None\n",
        "  else:\n",
        "    return 'Iris-virginica'\n",
        "\n",
        "def predict_prop_median(test_df):\n",
        "  # use the get_species(df) function to predict the species, count how many are predicted correct and use this to calculate the proportion correct\n",
        "  correct_median = 0\n",
        "  test_median_size = test_df.shape[0]\n",
        "  print(test_median_size)\n",
        "  for i in range(0, test_median_size):\n",
        "    species = get_species_median(test_df.iloc[i])\n",
        "    if species == test_df.iloc[i]['species']:\n",
        "        correct_median += 1\n",
        "  print(correct_median)\n",
        "  return correct_median / test_median_size\n",
        "  \n",
        "prop_median = predict_prop_median(test_median)\n",
        "print (\"Proportion correctly identified by measuring median\", prop_median) \n",
        "# prop_median2 = predict_prop(test_median,'median')\n",
        "# print (\"Proportion correctly identified by measuring median\", prop_median2) \n",
        "\n",
        "\n",
        "# filt_test_vir = test_median['species'] == 'Iris-virginica'\n",
        "# prop_vir_median = predict_prop(test_median[filt_test_vir], 'median')\n",
        "# print(\"Proportion correctly identified mean for Iris-virginica\", prop_vir_median) \n",
        "\n",
        "# filt_test_ver = test_median['species'] == 'Iris-versicolor'\n",
        "# prop_ver_median = predict_prop(test_median[filt_test_ver], 'median')\n",
        "# print(\"Proportion correctly identified mean for Iris-versicolor\", prop_ver_median) \n",
        "\n",
        "# filt_test_set = test_median['species'] == 'Iris-setosa'\n",
        "# prop_set_median = predict_prop(test_median[filt_test_set], 'median')\n",
        "# print(\"Proportion correctly identified mean for Iris-setosa\", prop_set_median) "
      ],
      "metadata": {
        "colab": {
          "base_uri": "https://localhost:8080/"
        },
        "id": "s6gIe9108VA5",
        "outputId": "c5489b45-7e53-40ef-bf45-fa6385ca9657"
      },
      "execution_count": 228,
      "outputs": [
        {
          "output_type": "stream",
          "name": "stdout",
          "text": [
            "45\n",
            "16\n",
            "Proportion correctly identified by measuring median 0.35555555555555557\n"
          ]
        }
      ]
    },
    {
      "cell_type": "markdown",
      "metadata": {
        "id": "WimD4E5zNub1"
      },
      "source": [
        "\n",
        "What do you notice? (write your answer here)"
      ]
    },
    {
      "cell_type": "markdown",
      "source": [
        "The proportion correctly identified by measuring mean and median have the close results and sometimes the same results. measuring with median seems slightly higher than measuring with mean when they have close results. \n",
        "\n",
        "In additions, both of the propotions of petal length, petal width and sepal width on or above mean and median are pretty close to each other. Therefore the 3 types are the key to classfiy the species as 'Iris-virginica'. "
      ],
      "metadata": {
        "id": "WcSamHpTHoU0"
      }
    },
    {
      "cell_type": "markdown",
      "metadata": {
        "id": "6WoHQeYLNyk8"
      },
      "source": [
        "### Exercise 8 - try different measures\n",
        "---\n",
        "\n",
        "Do the same again but with upper quantile, then again with the lower quantile.  Is it making any difference?  Which give the best looking results?"
      ]
    },
    {
      "cell_type": "code",
      "source": [
        "# find the Upper quantile for each of the 4 size columns in test dataframe \n",
        "sl_q3 = train['sepal-length'].quantile(.75)\n",
        "sw_q3 = train['sepal-width'].quantile(.75)\n",
        "pl_q3 = train['petal-length'].quantile(.75)\n",
        "pw_q3 = train['petal-width'].quantile(.75)   \n",
        "# Print the four upper quantile and compare to the output of train.describe() to check that they have been calculated correctly.\n",
        "print('sw_q3 = ', sl_q3, ', sw_q3 = ', sw_q3,', pl_q3 = ', pl_q3, ', pw_q3 =', pw_q3)\n",
        "\n",
        "print(train.describe())"
      ],
      "metadata": {
        "colab": {
          "base_uri": "https://localhost:8080/"
        },
        "id": "BddCl_BIf-4k",
        "outputId": "12713bb7-3777-42da-b6d8-0caf92184840"
      },
      "execution_count": 229,
      "outputs": [
        {
          "output_type": "stream",
          "name": "stdout",
          "text": [
            "sw_q3 =  6.3 , sw_q3 =  3.3 , pl_q3 =  5.0 , pw_q3 = 1.8\n",
            "       sepal-length  sepal-width  petal-length  petal-width\n",
            "count    105.000000   105.000000    105.000000   105.000000\n",
            "mean       5.734286     3.039048      3.608571     1.147619\n",
            "std        0.756743     0.444084      1.717171     0.763607\n",
            "min        4.300000     2.000000      1.100000     0.100000\n",
            "25%        5.100000     2.700000      1.500000     0.200000\n",
            "50%        5.700000     3.000000      4.100000     1.300000\n",
            "75%        6.300000     3.300000      5.000000     1.800000\n",
            "max        7.900000     4.400000      6.400000     2.500000\n"
          ]
        }
      ]
    },
    {
      "cell_type": "code",
      "source": [
        "encodedq3_train = train.copy()\n",
        "# encode each column with upper quantile: 1: >= q3 0:<q3\n",
        "encodedq3_train['sepal-length'] = encodedq3_train.apply(encode, axis=1, key='sepal-length', indicator=sl_q3)\n",
        "encodedq3_train['sepal-width'] = encodedq3_train.apply(encode, axis=1, key='sepal-width', indicator=sw_q3)\n",
        "encodedq3_train['petal-length'] = encodedq3_train.apply(encode, axis=1, key='petal-length', indicator=pl_q3)\n",
        "encodedq3_train['petal-width'] = encodedq3_train.apply(encode, axis=1, key='petal-width', indicator=pw_q3)\n",
        "print(encodedq3_train)"
      ],
      "metadata": {
        "colab": {
          "base_uri": "https://localhost:8080/"
        },
        "id": "km1C2nAMuDbb",
        "outputId": "d75ebc95-cad5-43cf-d5d7-01846546968f"
      },
      "execution_count": 230,
      "outputs": [
        {
          "output_type": "stream",
          "name": "stdout",
          "text": [
            "     sepal-length  sepal-width  petal-length  petal-width          species\n",
            "115             1            0             1            1   Iris-virginica\n",
            "83              0            0             1            0  Iris-versicolor\n",
            "103             1            0             1            1   Iris-virginica\n",
            "111             1            0             1            1   Iris-virginica\n",
            "28              0            1             0            0      Iris-setosa\n",
            "..            ...          ...           ...          ...              ...\n",
            "89              0            0             0            0  Iris-versicolor\n",
            "24              0            1             0            0      Iris-setosa\n",
            "130             1            0             1            1   Iris-virginica\n",
            "19              0            1             0            0      Iris-setosa\n",
            "3               0            0             0            0      Iris-setosa\n",
            "\n",
            "[105 rows x 5 columns]\n"
          ]
        }
      ]
    },
    {
      "cell_type": "code",
      "source": [
        "# Get the dataframes and proportion calcuations of those ON OR ABOVE the upper Quantile for 3 species\n",
        "print(\"---------------value >= q3 for Iris-virginica -----------------------------------\")\n",
        "prop_sl_vir_aboveq3 = cal_proportion_aboveindi(encodedq3_train, 'Iris-virginica', 'sepal-length','Upper Quantile')\n",
        "prop_sw_vir_aboveq3 = cal_proportion_aboveindi(encodedq3_train, 'Iris-virginica', 'sepal-width','Upper Quantile') \n",
        "prop_pl_vir_aboveq3 = cal_proportion_aboveindi(encodedq3_train, 'Iris-virginica', 'petal-length','Upper Quantile') \n",
        "prop_pw_vir_aboveq3 = cal_proportion_aboveindi(encodedq3_train, 'Iris-virginica', 'petal-width','Upper Quantile') \n",
        "print(\"---------------value >= q3 for Iris-versicolor ---------------------------------\")\n",
        "prop_sl_ver_aboveq3 = cal_proportion_aboveindi(encodedq3_train, 'Iris-versicolor', 'sepal-length','Upper Quantile') \n",
        "prop_sw_ver_aboveq3 = cal_proportion_aboveindi(encodedq3_train, 'Iris-versicolor', 'sepal-width','Upper Quantile') \n",
        "prop_pl_ver_aboveq3 = cal_proportion_aboveindi(encodedq3_train, 'Iris-versicolor', 'petal-length','Upper Quantile') \n",
        "prop_pw_ver_aboveq3 = cal_proportion_aboveindi(encodedq3_train, 'Iris-versicolor', 'petal-width','Upper Quantile') \n",
        "\n",
        "print(\"---------------value >= q3 for Iris-setosa -----------------------------------\")\n",
        "prop_sl_set_aboveq3 = cal_proportion_aboveindi(encodedq3_train, 'Iris-setosa', 'sepal-length','Upper Quantile') \n",
        "prop_sw_set_aboveq3 = cal_proportion_aboveindi(encodedq3_train, 'Iris-setosa', 'sepal-width','Upper Quantile') \n",
        "prop_pl_set_aboveq3 = cal_proportion_aboveindi(encodedq3_train, 'Iris-setosa', 'petal-length','Upper Quantile') \n",
        "prop_pw_set_aboveq3 = cal_proportion_aboveindi(encodedq3_train, 'Iris-setosa', 'petal-width','Upper Quantile') \n"
      ],
      "metadata": {
        "colab": {
          "base_uri": "https://localhost:8080/"
        },
        "id": "atCSH8Kyu2yL",
        "outputId": "cc18f457-c72b-4c00-ad4a-51388820d14d"
      },
      "execution_count": 231,
      "outputs": [
        {
          "output_type": "stream",
          "name": "stdout",
          "text": [
            "---------------value >= q3 for Iris-virginica -----------------------------------\n",
            "sepal-length  - Number of rows =  22 , Total rows above  Upper Quantile  =  29  ,Proportion =  0.7586206896551724\n",
            "sepal-width  - Number of rows =  6 , Total rows above  Upper Quantile  =  30  ,Proportion =  0.2\n",
            "petal-length  - Number of rows =  27 , Total rows above  Upper Quantile  =  29  ,Proportion =  0.9310344827586207\n",
            "petal-width  - Number of rows =  29 , Total rows above  Upper Quantile  =  30  ,Proportion =  0.9666666666666667\n",
            "---------------value >= q3 for Iris-versicolor ---------------------------------\n",
            "sepal-length  - Number of rows =  7 , Total rows above  Upper Quantile  =  29  ,Proportion =  0.2413793103448276\n",
            "sepal-width  - Number of rows =  2 , Total rows above  Upper Quantile  =  30  ,Proportion =  0.06666666666666667\n",
            "petal-length  - Number of rows =  2 , Total rows above  Upper Quantile  =  29  ,Proportion =  0.06896551724137931\n",
            "petal-width  - Number of rows =  1 , Total rows above  Upper Quantile  =  30  ,Proportion =  0.03333333333333333\n",
            "---------------value >= q3 for Iris-setosa -----------------------------------\n",
            "sepal-length  - Number of rows =  0 , Total rows above  Upper Quantile  =  29  ,Proportion =  0.0\n",
            "sepal-width  - Number of rows =  22 , Total rows above  Upper Quantile  =  30  ,Proportion =  0.7333333333333333\n",
            "petal-length  - Number of rows =  0 , Total rows above  Upper Quantile  =  29  ,Proportion =  0.0\n",
            "petal-width  - Number of rows =  0 , Total rows above  Upper Quantile  =  30  ,Proportion =  0.0\n"
          ]
        }
      ]
    },
    {
      "cell_type": "code",
      "source": [
        "# Get the dataframes and proportion calcuations of those BELOW the upper Quantile for 3 species\n",
        "print(\"---------------value < q3 for Iris-virginica-----------------------------------\")\n",
        "prop_sl_vir_belowq3 = cal_proportion_belowindi(encodedq3_train, 'Iris-virginica', 'sepal-length','Upper Quantile')\n",
        "# display(df_col1_virginica_abovemean)\n",
        "prop_sw_vir_belowq3 = cal_proportion_belowindi(encodedq3_train, 'Iris-virginica', 'sepal-width','Upper Quantile') \n",
        "prop_pl_vir_belowq3 = cal_proportion_belowindi(encodedq3_train, 'Iris-virginica', 'petal-length','Upper Quantile') \n",
        "prop_pw_vir_belowq3 = cal_proportion_belowindi(encodedq3_train, 'Iris-virginica', 'petal-width','Upper Quantile') \n",
        "print(\"---------------value < q3 for Iris-versicolor -----------------------------------\")\n",
        "prop_sl_ver_belowq3 = cal_proportion_belowindi(encodedq3_train, 'Iris-versicolor', 'sepal-length','Upper Quantile') \n",
        "prop_sw_ver_belowq3 = cal_proportion_belowindi(encodedq3_train, 'Iris-versicolor', 'sepal-width','Upper Quantile') \n",
        "prop_pl_ver_belowq3 = cal_proportion_belowindi(encodedq3_train, 'Iris-versicolor', 'petal-length','Upper Quantile') \n",
        "prop_pw_ver_belowq3 = cal_proportion_belowindi(encodedq3_train, 'Iris-versicolor', 'petal-width','Upper Quantile') \n",
        "\n",
        "print(\"---------------value < q3 for Iris-setosa -----------------------------------\")\n",
        "prop_sl_set_belowq3 = cal_proportion_belowindi(encodedq3_train, 'Iris-setosa', 'sepal-length','Upper Quantile') \n",
        "prop_sw_set_belowq3 = cal_proportion_belowindi(encodedq3_train, 'Iris-setosa', 'sepal-width','Upper Quantile') \n",
        "prop_pl_set_belowq3 = cal_proportion_belowindi(encodedq3_train, 'Iris-setosa', 'petal-length','Upper Quantile') \n",
        "prop_pw_set_belowq3 = cal_proportion_belowindi(encodedq3_train, 'Iris-setosa', 'petal-width','Upper Quantile') \n"
      ],
      "metadata": {
        "colab": {
          "base_uri": "https://localhost:8080/"
        },
        "id": "U_3SDYBrwQ-j",
        "outputId": "f9733429-20ac-4ce0-c433-12aea8c8f3b9"
      },
      "execution_count": 232,
      "outputs": [
        {
          "output_type": "stream",
          "name": "stdout",
          "text": [
            "---------------value < q3 for Iris-virginica-----------------------------------\n",
            "sepal-length  - Number of rows =  10 , Total rows above  Upper Quantile  =  76  ,Proportion =  0.13157894736842105\n",
            "sepal-width  - Number of rows =  26 , Total rows above  Upper Quantile  =  75  ,Proportion =  0.3466666666666667\n",
            "petal-length  - Number of rows =  5 , Total rows above  Upper Quantile  =  76  ,Proportion =  0.06578947368421052\n",
            "petal-width  - Number of rows =  3 , Total rows above  Upper Quantile  =  75  ,Proportion =  0.04\n",
            "---------------value < q3 for Iris-versicolor -----------------------------------\n",
            "sepal-length  - Number of rows =  29 , Total rows above  Upper Quantile  =  76  ,Proportion =  0.3815789473684211\n",
            "sepal-width  - Number of rows =  34 , Total rows above  Upper Quantile  =  75  ,Proportion =  0.4533333333333333\n",
            "petal-length  - Number of rows =  34 , Total rows above  Upper Quantile  =  76  ,Proportion =  0.4473684210526316\n",
            "petal-width  - Number of rows =  35 , Total rows above  Upper Quantile  =  75  ,Proportion =  0.4666666666666667\n",
            "---------------value < q3 for Iris-setosa -----------------------------------\n",
            "sepal-length  - Number of rows =  37 , Total rows above  Upper Quantile  =  76  ,Proportion =  0.4868421052631579\n",
            "sepal-width  - Number of rows =  15 , Total rows above  Upper Quantile  =  75  ,Proportion =  0.2\n",
            "petal-length  - Number of rows =  37 , Total rows above  Upper Quantile  =  76  ,Proportion =  0.4868421052631579\n",
            "petal-width  - Number of rows =  37 , Total rows above  Upper Quantile  =  75  ,Proportion =  0.49333333333333335\n"
          ]
        }
      ]
    },
    {
      "cell_type": "code",
      "source": [
        "# Create a list of dictionaries from the results of q3 calculations\n",
        "propotion_list_q3 = [{'species':'Iris-virginica',\n",
        " 'type':['sepal-length','sepal-width','petal-length', 'petal-width'],\n",
        " 'above_indi':[prop_sl_vir_aboveq3,prop_sw_vir_aboveq3,prop_pl_vir_aboveq3,prop_pw_vir_aboveq3],\n",
        " 'below_indi':[prop_sl_vir_belowq3, prop_sw_vir_belowq3,prop_pl_vir_belowq3,prop_pw_vir_belowq3]\n",
        "},{'species':'Iris-versicolor',\n",
        " 'type':['sepal-length','sepal-width','petal-length', 'petal-width'],\n",
        " 'above_indi':[prop_sl_ver_aboveq3,prop_sw_ver_aboveq3,prop_pl_ver_aboveq3,prop_pw_ver_aboveq3],\n",
        " 'below_indi':[prop_sl_ver_belowq3, prop_sw_ver_belowq3,prop_pl_ver_belowq3,prop_pw_ver_belowq3]\n",
        "},{'species':'Iris-setosa',\n",
        " 'type':['sepal-length','sepal-width','petal-length', 'petal-width'],\n",
        " 'above_indi':[prop_sl_set_aboveq3,prop_sw_set_aboveq3,prop_pl_set_aboveq3,prop_pw_set_aboveq3],\n",
        " 'below_indi':[prop_sl_set_belowq3, prop_sw_set_belowq3,prop_pl_set_belowq3,prop_pw_set_belowq3]\n",
        "}]\n",
        " \n",
        "display(propotion_list_q3)"
      ],
      "metadata": {
        "colab": {
          "base_uri": "https://localhost:8080/",
          "height": 0
        },
        "id": "4Zp8BpNJyhn2",
        "outputId": "a5f1f5da-c3e5-4be9-cbfb-ea90fdeb56ae"
      },
      "execution_count": 233,
      "outputs": [
        {
          "output_type": "display_data",
          "data": {
            "text/plain": [
              "[{'above_indi': [0.7586206896551724,\n",
              "   0.2,\n",
              "   0.9310344827586207,\n",
              "   0.9666666666666667],\n",
              "  'below_indi': [0.13157894736842105,\n",
              "   0.3466666666666667,\n",
              "   0.06578947368421052,\n",
              "   0.04],\n",
              "  'species': 'Iris-virginica',\n",
              "  'type': ['sepal-length', 'sepal-width', 'petal-length', 'petal-width']},\n",
              " {'above_indi': [0.2413793103448276,\n",
              "   0.06666666666666667,\n",
              "   0.06896551724137931,\n",
              "   0.03333333333333333],\n",
              "  'below_indi': [0.3815789473684211,\n",
              "   0.4533333333333333,\n",
              "   0.4473684210526316,\n",
              "   0.4666666666666667],\n",
              "  'species': 'Iris-versicolor',\n",
              "  'type': ['sepal-length', 'sepal-width', 'petal-length', 'petal-width']},\n",
              " {'above_indi': [0.0, 0.7333333333333333, 0.0, 0.0],\n",
              "  'below_indi': [0.4868421052631579,\n",
              "   0.2,\n",
              "   0.4868421052631579,\n",
              "   0.49333333333333335],\n",
              "  'species': 'Iris-setosa',\n",
              "  'type': ['sepal-length', 'sepal-width', 'petal-length', 'petal-width']}]"
            ]
          },
          "metadata": {}
        }
      ]
    },
    {
      "cell_type": "code",
      "source": [
        "printout_list(propotion_list_q3, 'Q3')"
      ],
      "metadata": {
        "colab": {
          "base_uri": "https://localhost:8080/"
        },
        "id": "bQjqE6-PznLJ",
        "outputId": "db0089a0-5dab-4e36-eada-ce5a71d295f6"
      },
      "execution_count": 234,
      "outputs": [
        {
          "output_type": "stream",
          "name": "stdout",
          "text": [
            "Iris-virginica \t\t\t >=  Q3 \t\t\t<  Q3\n",
            "\t\t sepal-length \t\t\t 0.7586206896551724 \t\t\t  \n",
            "\t\t petal-length \t\t\t 0.9310344827586207 \t\t\t  \n",
            "\t\t petal-width \t\t\t 0.9666666666666667 \t\t\t  \n",
            "Iris-versicolor \t\t\t >=  Q3 \t\t\t<  Q3\n",
            "Iris-setosa \t\t\t >=  Q3 \t\t\t<  Q3\n",
            "\t\t sepal-width \t\t\t 0.7333333333333333 \t\t\t  \n"
          ]
        }
      ]
    },
    {
      "cell_type": "code",
      "source": [
        "# find the q3 for each of the 4 size columns in test dataframe : test has original data\n",
        "test_sl_q3 = test['sepal-length'].quantile(.75)\n",
        "test_sw_q3 = test['sepal-width'].quantile(.75)\n",
        "test_pl_q3 = test['petal-length'].quantile(.75)\n",
        "test_pw_q3 = test['petal-width'].quantile(.75)   \n",
        "# Print the four q3 and compare to the output of test.describe() to check that they have been calculated correctly.\n",
        "print('test_sl_q3 = ', test_sl_q3, ' test_sw_q3 = ', test_sw_q3)\n",
        "print('test_pl_q3 = ', test_pl_q3, ' test_pw_q3 =', test_pw_q3)\n",
        "print(test.describe())\n"
      ],
      "metadata": {
        "colab": {
          "base_uri": "https://localhost:8080/"
        },
        "id": "k1C-ulht0ezC",
        "outputId": "0d8b2f3e-f9a1-4ea5-b3a1-a6a442543510"
      },
      "execution_count": 235,
      "outputs": [
        {
          "output_type": "stream",
          "name": "stdout",
          "text": [
            "test_sl_q3 =  6.7  test_sw_q3 =  3.4\n",
            "test_pl_q3 =  5.4  test_pw_q3 = 2.0\n",
            "       sepal-length  sepal-width  petal-length  petal-width\n",
            "count     45.000000    45.000000     45.000000    45.000000\n",
            "mean       6.097778     3.088889      4.108889     1.317778\n",
            "std        0.934804     0.410777      1.842161     0.757174\n",
            "min        4.400000     2.300000      1.000000     0.100000\n",
            "25%        5.400000     2.800000      1.700000     0.400000\n",
            "50%        6.200000     3.000000      4.600000     1.500000\n",
            "75%        6.700000     3.400000      5.400000     2.000000\n",
            "max        7.700000     4.100000      6.900000     2.400000\n"
          ]
        }
      ]
    },
    {
      "cell_type": "code",
      "source": [
        "# test1 has original data and assign to test_q3, make changes on test_q3 and keep original data in test1 \n",
        "test_q3= test.copy()\n",
        "# encode the 4 columns \n",
        "test_q3['sepal-length'] = test_q3.apply(encode, axis=1, key='sepal-length', indicator=test_sl_q3)\n",
        "test_q3['sepal-width'] = test_q3.apply(encode, axis=1, key='sepal-width', indicator=test_sw_q3)\n",
        "test_q3['petal-length'] = test_q3.apply(encode, axis=1, key='petal-length', indicator=test_pl_q3)\n",
        "test_q3['petal-width'] = test_q3.apply(encode, axis=1, key='petal-width', indicator=test_pw_q3)\n",
        "display(test_q3.head())"
      ],
      "metadata": {
        "colab": {
          "base_uri": "https://localhost:8080/",
          "height": 0
        },
        "id": "1ATvee3B1Lcm",
        "outputId": "faf9e142-c495-4d76-d69f-81b52ed4395e"
      },
      "execution_count": 236,
      "outputs": [
        {
          "output_type": "display_data",
          "data": {
            "text/plain": [
              "     sepal-length  sepal-width  petal-length  petal-width          species\n",
              "110             0            0             0            1   Iris-virginica\n",
              "11              0            1             0            0      Iris-setosa\n",
              "106             0            0             0            0   Iris-virginica\n",
              "44              0            1             0            0      Iris-setosa\n",
              "86              1            0             0            0  Iris-versicolor"
            ],
            "text/html": [
              "\n",
              "  <div id=\"df-ff464af6-8e33-442a-bcc1-995bf06677f0\">\n",
              "    <div class=\"colab-df-container\">\n",
              "      <div>\n",
              "<style scoped>\n",
              "    .dataframe tbody tr th:only-of-type {\n",
              "        vertical-align: middle;\n",
              "    }\n",
              "\n",
              "    .dataframe tbody tr th {\n",
              "        vertical-align: top;\n",
              "    }\n",
              "\n",
              "    .dataframe thead th {\n",
              "        text-align: right;\n",
              "    }\n",
              "</style>\n",
              "<table border=\"1\" class=\"dataframe\">\n",
              "  <thead>\n",
              "    <tr style=\"text-align: right;\">\n",
              "      <th></th>\n",
              "      <th>sepal-length</th>\n",
              "      <th>sepal-width</th>\n",
              "      <th>petal-length</th>\n",
              "      <th>petal-width</th>\n",
              "      <th>species</th>\n",
              "    </tr>\n",
              "  </thead>\n",
              "  <tbody>\n",
              "    <tr>\n",
              "      <th>110</th>\n",
              "      <td>0</td>\n",
              "      <td>0</td>\n",
              "      <td>0</td>\n",
              "      <td>1</td>\n",
              "      <td>Iris-virginica</td>\n",
              "    </tr>\n",
              "    <tr>\n",
              "      <th>11</th>\n",
              "      <td>0</td>\n",
              "      <td>1</td>\n",
              "      <td>0</td>\n",
              "      <td>0</td>\n",
              "      <td>Iris-setosa</td>\n",
              "    </tr>\n",
              "    <tr>\n",
              "      <th>106</th>\n",
              "      <td>0</td>\n",
              "      <td>0</td>\n",
              "      <td>0</td>\n",
              "      <td>0</td>\n",
              "      <td>Iris-virginica</td>\n",
              "    </tr>\n",
              "    <tr>\n",
              "      <th>44</th>\n",
              "      <td>0</td>\n",
              "      <td>1</td>\n",
              "      <td>0</td>\n",
              "      <td>0</td>\n",
              "      <td>Iris-setosa</td>\n",
              "    </tr>\n",
              "    <tr>\n",
              "      <th>86</th>\n",
              "      <td>1</td>\n",
              "      <td>0</td>\n",
              "      <td>0</td>\n",
              "      <td>0</td>\n",
              "      <td>Iris-versicolor</td>\n",
              "    </tr>\n",
              "  </tbody>\n",
              "</table>\n",
              "</div>\n",
              "      <button class=\"colab-df-convert\" onclick=\"convertToInteractive('df-ff464af6-8e33-442a-bcc1-995bf06677f0')\"\n",
              "              title=\"Convert this dataframe to an interactive table.\"\n",
              "              style=\"display:none;\">\n",
              "        \n",
              "  <svg xmlns=\"http://www.w3.org/2000/svg\" height=\"24px\"viewBox=\"0 0 24 24\"\n",
              "       width=\"24px\">\n",
              "    <path d=\"M0 0h24v24H0V0z\" fill=\"none\"/>\n",
              "    <path d=\"M18.56 5.44l.94 2.06.94-2.06 2.06-.94-2.06-.94-.94-2.06-.94 2.06-2.06.94zm-11 1L8.5 8.5l.94-2.06 2.06-.94-2.06-.94L8.5 2.5l-.94 2.06-2.06.94zm10 10l.94 2.06.94-2.06 2.06-.94-2.06-.94-.94-2.06-.94 2.06-2.06.94z\"/><path d=\"M17.41 7.96l-1.37-1.37c-.4-.4-.92-.59-1.43-.59-.52 0-1.04.2-1.43.59L10.3 9.45l-7.72 7.72c-.78.78-.78 2.05 0 2.83L4 21.41c.39.39.9.59 1.41.59.51 0 1.02-.2 1.41-.59l7.78-7.78 2.81-2.81c.8-.78.8-2.07 0-2.86zM5.41 20L4 18.59l7.72-7.72 1.47 1.35L5.41 20z\"/>\n",
              "  </svg>\n",
              "      </button>\n",
              "      \n",
              "  <style>\n",
              "    .colab-df-container {\n",
              "      display:flex;\n",
              "      flex-wrap:wrap;\n",
              "      gap: 12px;\n",
              "    }\n",
              "\n",
              "    .colab-df-convert {\n",
              "      background-color: #E8F0FE;\n",
              "      border: none;\n",
              "      border-radius: 50%;\n",
              "      cursor: pointer;\n",
              "      display: none;\n",
              "      fill: #1967D2;\n",
              "      height: 32px;\n",
              "      padding: 0 0 0 0;\n",
              "      width: 32px;\n",
              "    }\n",
              "\n",
              "    .colab-df-convert:hover {\n",
              "      background-color: #E2EBFA;\n",
              "      box-shadow: 0px 1px 2px rgba(60, 64, 67, 0.3), 0px 1px 3px 1px rgba(60, 64, 67, 0.15);\n",
              "      fill: #174EA6;\n",
              "    }\n",
              "\n",
              "    [theme=dark] .colab-df-convert {\n",
              "      background-color: #3B4455;\n",
              "      fill: #D2E3FC;\n",
              "    }\n",
              "\n",
              "    [theme=dark] .colab-df-convert:hover {\n",
              "      background-color: #434B5C;\n",
              "      box-shadow: 0px 1px 3px 1px rgba(0, 0, 0, 0.15);\n",
              "      filter: drop-shadow(0px 1px 2px rgba(0, 0, 0, 0.3));\n",
              "      fill: #FFFFFF;\n",
              "    }\n",
              "  </style>\n",
              "\n",
              "      <script>\n",
              "        const buttonEl =\n",
              "          document.querySelector('#df-ff464af6-8e33-442a-bcc1-995bf06677f0 button.colab-df-convert');\n",
              "        buttonEl.style.display =\n",
              "          google.colab.kernel.accessAllowed ? 'block' : 'none';\n",
              "\n",
              "        async function convertToInteractive(key) {\n",
              "          const element = document.querySelector('#df-ff464af6-8e33-442a-bcc1-995bf06677f0');\n",
              "          const dataTable =\n",
              "            await google.colab.kernel.invokeFunction('convertToInteractive',\n",
              "                                                     [key], {});\n",
              "          if (!dataTable) return;\n",
              "\n",
              "          const docLinkHtml = 'Like what you see? Visit the ' +\n",
              "            '<a target=\"_blank\" href=https://colab.research.google.com/notebooks/data_table.ipynb>data table notebook</a>'\n",
              "            + ' to learn more about interactive tables.';\n",
              "          element.innerHTML = '';\n",
              "          dataTable['output_type'] = 'display_data';\n",
              "          await google.colab.output.renderOutput(dataTable, element);\n",
              "          const docLink = document.createElement('div');\n",
              "          docLink.innerHTML = docLinkHtml;\n",
              "          element.appendChild(docLink);\n",
              "        }\n",
              "      </script>\n",
              "    </div>\n",
              "  </div>\n",
              "  "
            ]
          },
          "metadata": {}
        }
      ]
    },
    {
      "cell_type": "code",
      "source": [
        "# Decision Tree to get species based on median calculation: Only for 'Iris-virginica'\n",
        "def get_species_q3(df):\n",
        "  # ADD CODE HERE TO RETURN None if sepal-length is below mean (encoded as 0) \n",
        "  # or if petal-width is below mean (encoded as 0) or if petal-length is below mean (encoded as 0), otherwise return 'Iris-virginia'\n",
        "  if df['species'] == 'Iris-virginica':\n",
        "    if (df['petal-length'] == 0) or (df['petal-width'] == 0):\n",
        "      return None\n",
        "    elif df['sepal-length'] == 0:\n",
        "      return None\n",
        "    else:\n",
        "      return 'Iris-virginica'\n",
        "\n",
        "# use the get_species(df) function to predict the species, count how many are predicted correct and use this to calculate the proportion correct\n",
        "def predict_prop_q3(test_df):\n",
        "  correct_q3 = 0\n",
        "  test_q3_size = test_df.shape[0]\n",
        "  print(test_q3_size)\n",
        "  for i in range(0, test_q3_size):\n",
        "    species = get_species_q3(test_df.iloc[i])\n",
        "    if species == test_df.iloc[i]['species']:\n",
        "        correct_q3 += 1\n",
        "  print(correct_q3)\n",
        "  return correct_q3 / test_q3_size\n",
        " \n",
        "prop_q3 = predict_prop_q3(test_q3)\n",
        "print(\"Proportion correctly identified by measuring upper quantile\", prop_q3) \n",
        "prop_q3_1 = predict_prop(test_q3,'upper quantile')\n",
        "print(\"Proportion correctly identified by measuring upper quantile\", prop_q3_1) "
      ],
      "metadata": {
        "colab": {
          "base_uri": "https://localhost:8080/"
        },
        "id": "f0yPrhKt1oLa",
        "outputId": "7277b122-5d3a-42b3-9e93-49f4a323d7a4"
      },
      "execution_count": 237,
      "outputs": [
        {
          "output_type": "stream",
          "name": "stdout",
          "text": [
            "45\n",
            "5\n",
            "Proportion correctly identified by measuring upper quantile 0.1111111111111111\n",
            "45\n",
            "16\n",
            "Proportion correctly identified by measuring upper quantile 0.35555555555555557\n"
          ]
        }
      ]
    },
    {
      "cell_type": "code",
      "source": [
        "# find the lower quantile for each of the 4 size columns in test dataframe \n",
        "sl_q1 = train['sepal-length'].quantile(.25)\n",
        "sw_q1 = train['sepal-width'].quantile(.25)\n",
        "pl_q1 = train['petal-length'].quantile(.25)\n",
        "pw_q1 = train['petal-width'].quantile(.25)   \n",
        "# Print the four upper quantile and compare to the output of train.describe() to check that they have been calculated correctly.\n",
        "print('sw_q1 = ', sl_q1, ' , sw_q1 = ', sw_q1,', pl_q1 = ', pl_q1, ', pw_q1 =', pw_q1)\n",
        "print(train.describe())"
      ],
      "metadata": {
        "colab": {
          "base_uri": "https://localhost:8080/"
        },
        "id": "aVygNm-L2PjM",
        "outputId": "8d38b3ce-794e-4787-d128-a774c3a5da15"
      },
      "execution_count": 238,
      "outputs": [
        {
          "output_type": "stream",
          "name": "stdout",
          "text": [
            "sw_q1 =  5.1  , sw_q1 =  2.7 , pl_q1 =  1.5 , pw_q1 = 0.2\n",
            "       sepal-length  sepal-width  petal-length  petal-width\n",
            "count    105.000000   105.000000    105.000000   105.000000\n",
            "mean       5.734286     3.039048      3.608571     1.147619\n",
            "std        0.756743     0.444084      1.717171     0.763607\n",
            "min        4.300000     2.000000      1.100000     0.100000\n",
            "25%        5.100000     2.700000      1.500000     0.200000\n",
            "50%        5.700000     3.000000      4.100000     1.300000\n",
            "75%        6.300000     3.300000      5.000000     1.800000\n",
            "max        7.900000     4.400000      6.400000     2.500000\n"
          ]
        }
      ]
    },
    {
      "cell_type": "code",
      "source": [
        "# assign a copy of train dataframe to new variable. train has origainal dataset\n",
        "encodedq1_train = train.copy()\n",
        "# encode each column with lower quantile: 1: >= q1 0:<q1\n",
        "encodedq1_train['sepal-length'] = encodedq1_train.apply(encode, axis=1, key='sepal-length', indicator=sl_q1)\n",
        "encodedq1_train['sepal-width'] = encodedq1_train.apply(encode, axis=1, key='sepal-width', indicator=sw_q1)\n",
        "encodedq1_train['petal-length'] = encodedq1_train.apply(encode, axis=1, key='petal-length', indicator=pl_q1)\n",
        "encodedq1_train['petal-width'] = encodedq1_train.apply(encode, axis=1, key='petal-width', indicator=pw_q1)\n",
        "print(encodedq1_train)"
      ],
      "metadata": {
        "colab": {
          "base_uri": "https://localhost:8080/"
        },
        "id": "d75TThe42fWp",
        "outputId": "716762cd-cc7b-446c-a51e-82609e6a4cbc"
      },
      "execution_count": 239,
      "outputs": [
        {
          "output_type": "stream",
          "name": "stdout",
          "text": [
            "     sepal-length  sepal-width  petal-length  petal-width          species\n",
            "115             1            1             1            1   Iris-virginica\n",
            "83              1            1             1            1  Iris-versicolor\n",
            "103             1            1             1            1   Iris-virginica\n",
            "111             1            1             1            1   Iris-virginica\n",
            "28              1            1             0            1      Iris-setosa\n",
            "..            ...          ...           ...          ...              ...\n",
            "89              1            0             1            1  Iris-versicolor\n",
            "24              0            1             1            1      Iris-setosa\n",
            "130             1            1             1            1   Iris-virginica\n",
            "19              1            1             1            1      Iris-setosa\n",
            "3               0            1             1            1      Iris-setosa\n",
            "\n",
            "[105 rows x 5 columns]\n"
          ]
        }
      ]
    },
    {
      "cell_type": "code",
      "source": [
        "# Get the dataframes and proportion calcuations of those ON OR ABOVE the Lower Quantile for 3 species\n",
        "print(\"---------------value >= q1 for Iris-virginica -----------------------------------\")\n",
        "prop_sl_vir_aboveq1 = cal_proportion_aboveindi(encodedq1_train, 'Iris-virginica', 'sepal-length', 'Q1')\n",
        "prop_sw_vir_aboveq1 = cal_proportion_aboveindi(encodedq1_train, 'Iris-virginica', 'sepal-width', 'Q1') \n",
        "prop_pl_vir_aboveq1 = cal_proportion_aboveindi(encodedq1_train, 'Iris-virginica', 'petal-length', 'Q1') \n",
        "prop_pw_vir_aboveq1 = cal_proportion_aboveindi(encodedq1_train, 'Iris-virginica', 'petal-width', 'Q1') \n",
        "print(\"---------------value >= q1 for Iris-versicolor -----------------------------------\")\n",
        "prop_sl_ver_aboveq1 = cal_proportion_aboveindi(encodedq1_train, 'Iris-versicolor', 'sepal-length', 'Q1') \n",
        "prop_sw_ver_aboveq1 = cal_proportion_aboveindi(encodedq1_train, 'Iris-versicolor', 'sepal-width', 'Q1') \n",
        "prop_pl_ver_aboveq1 = cal_proportion_aboveindi(encodedq1_train, 'Iris-versicolor', 'petal-length', 'Q1') \n",
        "prop_pw_ver_aboveq1 = cal_proportion_aboveindi(encodedq1_train, 'Iris-versicolor', 'petal-width', 'Q1') \n",
        "\n",
        "print(\"---------------value >= q1 for Iris-setosa -----------------------------------\")\n",
        "prop_sl_set_aboveq1 = cal_proportion_aboveindi(encodedq1_train, 'Iris-setosa', 'sepal-length', 'Q1') \n",
        "prop_sw_set_aboveq1 = cal_proportion_aboveindi(encodedq1_train, 'Iris-setosa', 'sepal-width', 'Q1') \n",
        "prop_pl_set_aboveq1 = cal_proportion_aboveindi(encodedq1_train, 'Iris-setosa', 'petal-length', 'Q1') \n",
        "prop_pw_set_aboveq1 = cal_proportion_aboveindi(encodedq1_train, 'Iris-setosa', 'petal-width', 'Q1') \n"
      ],
      "metadata": {
        "colab": {
          "base_uri": "https://localhost:8080/"
        },
        "id": "khkPoS-s3g9A",
        "outputId": "45f16c3a-3a65-4448-a21f-ddbca0f3909e"
      },
      "execution_count": 240,
      "outputs": [
        {
          "output_type": "stream",
          "name": "stdout",
          "text": [
            "---------------value >= q1 for Iris-virginica -----------------------------------\n",
            "sepal-length  - Number of rows =  32 , Total rows above  Q1  =  80  ,Proportion =  0.4\n",
            "sepal-width  - Number of rows =  28 , Total rows above  Q1  =  87  ,Proportion =  0.3218390804597701\n",
            "petal-length  - Number of rows =  32 , Total rows above  Q1  =  86  ,Proportion =  0.37209302325581395\n",
            "petal-width  - Number of rows =  32 , Total rows above  Q1  =  101  ,Proportion =  0.31683168316831684\n",
            "---------------value >= q1 for Iris-versicolor -----------------------------------\n",
            "sepal-length  - Number of rows =  33 , Total rows above  Q1  =  80  ,Proportion =  0.4125\n",
            "sepal-width  - Number of rows =  22 , Total rows above  Q1  =  87  ,Proportion =  0.25287356321839083\n",
            "petal-length  - Number of rows =  36 , Total rows above  Q1  =  86  ,Proportion =  0.4186046511627907\n",
            "petal-width  - Number of rows =  36 , Total rows above  Q1  =  101  ,Proportion =  0.3564356435643564\n",
            "---------------value >= q1 for Iris-setosa -----------------------------------\n",
            "sepal-length  - Number of rows =  15 , Total rows above  Q1  =  80  ,Proportion =  0.1875\n",
            "sepal-width  - Number of rows =  37 , Total rows above  Q1  =  87  ,Proportion =  0.42528735632183906\n",
            "petal-length  - Number of rows =  18 , Total rows above  Q1  =  86  ,Proportion =  0.20930232558139536\n",
            "petal-width  - Number of rows =  33 , Total rows above  Q1  =  101  ,Proportion =  0.32673267326732675\n"
          ]
        }
      ]
    },
    {
      "cell_type": "code",
      "source": [
        "# Get the dataframes and proportion calcuations of those BELOW the Lower Quantile for 3 species\n",
        "print(\"---------------value < q1 for Iris-virginica -----------------------------------\")\n",
        "prop_sl_vir_belowq1 = cal_proportion_belowindi(encodedq1_train, 'Iris-virginica', 'sepal-length', 'Q1')\n",
        "prop_sw_vir_belowq1 = cal_proportion_belowindi(encodedq1_train, 'Iris-virginica', 'sepal-width', 'Q1') \n",
        "prop_pl_vir_belowq1 = cal_proportion_belowindi(encodedq1_train, 'Iris-virginica', 'petal-length', 'Q1') \n",
        "prop_pw_vir_belowq1 = cal_proportion_belowindi(encodedq1_train, 'Iris-virginica', 'petal-width', 'Q1') \n",
        "print(\"---------------value >= q1 for Iris-versicolor -----------------------------------\")\n",
        "prop_sl_ver_belowq1 = cal_proportion_belowindi(encodedq1_train, 'Iris-versicolor', 'sepal-length', 'Q1') \n",
        "prop_sw_ver_belowq1 = cal_proportion_belowindi(encodedq1_train, 'Iris-versicolor', 'sepal-width', 'Q1') \n",
        "prop_pl_ver_belowq1 = cal_proportion_belowindi(encodedq1_train, 'Iris-versicolor', 'petal-length', 'Q1') \n",
        "prop_pw_ver_belowq1 = cal_proportion_belowindi(encodedq1_train, 'Iris-versicolor', 'petal-width', 'Q1') \n",
        "\n",
        "print(\"---------------value >= q1 for Iris-setosa -----------------------------------\")\n",
        "prop_sl_set_belowq1 = cal_proportion_belowindi(encodedq1_train, 'Iris-setosa', 'sepal-length', 'Q1') \n",
        "prop_sw_set_belowq1 = cal_proportion_belowindi(encodedq1_train, 'Iris-setosa', 'sepal-width', 'Q1') \n",
        "prop_pl_set_belowq1 = cal_proportion_belowindi(encodedq1_train, 'Iris-setosa', 'petal-length', 'Q1') \n",
        "prop_pw_set_belowq1 = cal_proportion_belowindi(encodedq1_train, 'Iris-setosa', 'petal-width', 'Q1') \n"
      ],
      "metadata": {
        "colab": {
          "base_uri": "https://localhost:8080/"
        },
        "id": "LQ2Y2o8S3-43",
        "outputId": "75be15a5-7489-42a1-86d3-bf282ab75740"
      },
      "execution_count": 241,
      "outputs": [
        {
          "output_type": "stream",
          "name": "stdout",
          "text": [
            "---------------value < q1 for Iris-virginica -----------------------------------\n",
            "sepal-length  - Number of rows =  0 , Total rows above  Q1  =  25  ,Proportion =  0.0\n",
            "sepal-width  - Number of rows =  4 , Total rows above  Q1  =  18  ,Proportion =  0.2222222222222222\n",
            "petal-length  - Number of rows =  0 , Total rows above  Q1  =  19  ,Proportion =  0.0\n",
            "petal-width  - Number of rows =  0 , Total rows above  Q1  =  4  ,Proportion =  0.0\n",
            "---------------value >= q1 for Iris-versicolor -----------------------------------\n",
            "sepal-length  - Number of rows =  3 , Total rows above  Q1  =  25  ,Proportion =  0.12\n",
            "sepal-width  - Number of rows =  14 , Total rows above  Q1  =  18  ,Proportion =  0.7777777777777778\n",
            "petal-length  - Number of rows =  0 , Total rows above  Q1  =  19  ,Proportion =  0.0\n",
            "petal-width  - Number of rows =  0 , Total rows above  Q1  =  4  ,Proportion =  0.0\n",
            "---------------value >= q1 for Iris-setosa -----------------------------------\n",
            "sepal-length  - Number of rows =  22 , Total rows above  Q1  =  25  ,Proportion =  0.88\n",
            "sepal-width  - Number of rows =  0 , Total rows above  Q1  =  18  ,Proportion =  0.0\n",
            "petal-length  - Number of rows =  19 , Total rows above  Q1  =  19  ,Proportion =  1.0\n",
            "petal-width  - Number of rows =  4 , Total rows above  Q1  =  4  ,Proportion =  1.0\n"
          ]
        }
      ]
    },
    {
      "cell_type": "code",
      "source": [
        "# Create a list of dictionaries from the results of q3 calculations\n",
        "propotion_list_q1 = [{'species':'Iris-virginica',\n",
        " 'type':['sepal-length','sepal-width','petal-length', 'petal-width'],\n",
        " 'above_indi':[prop_sl_vir_aboveq1,prop_sw_vir_aboveq1,prop_pl_vir_aboveq1,prop_pw_vir_aboveq1],\n",
        " 'below_indi':[prop_sl_vir_belowq1, prop_sw_vir_belowq1,prop_pl_vir_belowq1,prop_pw_vir_belowq1]\n",
        "},{'species':'Iris-versicolor',\n",
        " 'type':['sepal-length','sepal-width','petal-length', 'petal-width'],\n",
        " 'above_indi':[prop_sl_ver_aboveq1,prop_sw_ver_aboveq1,prop_pl_ver_aboveq1,prop_pw_ver_aboveq1],\n",
        " 'below_indi':[prop_sl_ver_belowq1, prop_sw_ver_belowq1,prop_pl_ver_belowq1,prop_pw_ver_belowq1]\n",
        "},{'species':'Iris-setosa',\n",
        " 'type':['sepal-length','sepal-width','petal-length', 'petal-width'],\n",
        " 'above_indi':[prop_sl_set_aboveq1,prop_sw_set_aboveq1,prop_pl_set_aboveq1,prop_pw_set_aboveq1],\n",
        " 'below_indi':[prop_sl_set_belowq1, prop_sw_set_belowq1,prop_pl_set_belowq1,prop_pw_set_belowq1]\n",
        "}]\n",
        " \n",
        "display(propotion_list_q1)"
      ],
      "metadata": {
        "colab": {
          "base_uri": "https://localhost:8080/",
          "height": 0
        },
        "id": "nUqEY8RM4icX",
        "outputId": "b353b517-2e0c-417e-d57c-c240c030bb11"
      },
      "execution_count": 242,
      "outputs": [
        {
          "output_type": "display_data",
          "data": {
            "text/plain": [
              "[{'above_indi': [0.4,\n",
              "   0.3218390804597701,\n",
              "   0.37209302325581395,\n",
              "   0.31683168316831684],\n",
              "  'below_indi': [0.0, 0.2222222222222222, 0.0, 0.0],\n",
              "  'species': 'Iris-virginica',\n",
              "  'type': ['sepal-length', 'sepal-width', 'petal-length', 'petal-width']},\n",
              " {'above_indi': [0.4125,\n",
              "   0.25287356321839083,\n",
              "   0.4186046511627907,\n",
              "   0.3564356435643564],\n",
              "  'below_indi': [0.12, 0.7777777777777778, 0.0, 0.0],\n",
              "  'species': 'Iris-versicolor',\n",
              "  'type': ['sepal-length', 'sepal-width', 'petal-length', 'petal-width']},\n",
              " {'above_indi': [0.1875,\n",
              "   0.42528735632183906,\n",
              "   0.20930232558139536,\n",
              "   0.32673267326732675],\n",
              "  'below_indi': [0.88, 0.0, 1.0, 1.0],\n",
              "  'species': 'Iris-setosa',\n",
              "  'type': ['sepal-length', 'sepal-width', 'petal-length', 'petal-width']}]"
            ]
          },
          "metadata": {}
        }
      ]
    },
    {
      "cell_type": "code",
      "source": [
        "printout_list(propotion_list_q1,'Q1')\n"
      ],
      "metadata": {
        "colab": {
          "base_uri": "https://localhost:8080/"
        },
        "id": "7sL2CikR5BPs",
        "outputId": "cdaa0eb0-6fb3-4301-b478-642f219412c0"
      },
      "execution_count": 243,
      "outputs": [
        {
          "output_type": "stream",
          "name": "stdout",
          "text": [
            "Iris-virginica \t\t\t >=  Q1 \t\t\t<  Q1\n",
            "Iris-versicolor \t\t\t >=  Q1 \t\t\t<  Q1\n",
            "\t\t sepal-width \t\t\t   \t\t\t 0.7777777777777778\n",
            "Iris-setosa \t\t\t >=  Q1 \t\t\t<  Q1\n",
            "\t\t sepal-length \t\t\t   \t\t\t 0.88\n",
            "\t\t petal-length \t\t\t   \t\t\t 1.0\n",
            "\t\t petal-width \t\t\t   \t\t\t 1.0\n"
          ]
        }
      ]
    },
    {
      "cell_type": "code",
      "source": [
        "# find the q1 for each of the 4 size columns in test dataframe : test has original data\n",
        "test_sl_q1 = test['sepal-length'].quantile(.25)\n",
        "test_sw_q1 = test['sepal-width'].quantile(.25)\n",
        "test_pl_q1 = test['petal-length'].quantile(.25)\n",
        "test_pw_q1 = test['petal-width'].quantile(.25)   \n",
        "# Print the four medians and compare to the output of test.describe() to check that they have been calculated correctly.\n",
        "print('test_sl_q1 = ', test_sl_q1, ' test_sw_q1 = ', test_sw_q1)\n",
        "print('test_pl_q1 = ', test_pl_q1, ' test_pw_q1 =', test_pw_q1)\n",
        "print(test.describe())\n"
      ],
      "metadata": {
        "colab": {
          "base_uri": "https://localhost:8080/"
        },
        "id": "s0G56syH5Z9c",
        "outputId": "14c3f3ec-24ad-4481-c21d-2f0cfb60a254"
      },
      "execution_count": 244,
      "outputs": [
        {
          "output_type": "stream",
          "name": "stdout",
          "text": [
            "test_sl_q1 =  5.4  test_sw_q1 =  2.8\n",
            "test_pl_q1 =  1.7  test_pw_q1 = 0.4\n",
            "       sepal-length  sepal-width  petal-length  petal-width\n",
            "count     45.000000    45.000000     45.000000    45.000000\n",
            "mean       6.097778     3.088889      4.108889     1.317778\n",
            "std        0.934804     0.410777      1.842161     0.757174\n",
            "min        4.400000     2.300000      1.000000     0.100000\n",
            "25%        5.400000     2.800000      1.700000     0.400000\n",
            "50%        6.200000     3.000000      4.600000     1.500000\n",
            "75%        6.700000     3.400000      5.400000     2.000000\n",
            "max        7.700000     4.100000      6.900000     2.400000\n"
          ]
        }
      ]
    },
    {
      "cell_type": "code",
      "source": [
        "# test1 has original data and assign to test_q3, make changes on test_q3 and keep original data in test1 \n",
        "test_q1= test.copy()\n",
        "# encode the 4 columns \n",
        "test_q1['sepal-length'] = test_q1.apply(encode, axis=1, key='sepal-length', indicator=test_sl_q1)\n",
        "test_q1['sepal-width'] = test_q1.apply(encode, axis=1, key='sepal-width', indicator=test_sw_q1)\n",
        "test_q1['petal-length'] = test_q1.apply(encode, axis=1, key='petal-length', indicator=test_pl_q1)\n",
        "test_q1['petal-width'] = test_q1.apply(encode, axis=1, key='petal-width', indicator=test_pw_q1)\n",
        "display(test_q1.head())"
      ],
      "metadata": {
        "colab": {
          "base_uri": "https://localhost:8080/",
          "height": 0
        },
        "id": "lTVIr8-65qDo",
        "outputId": "63adf85b-bd21-46ce-b0cc-2b59ecb197e1"
      },
      "execution_count": 245,
      "outputs": [
        {
          "output_type": "display_data",
          "data": {
            "text/plain": [
              "     sepal-length  sepal-width  petal-length  petal-width          species\n",
              "110             1            1             1            1   Iris-virginica\n",
              "11              0            1             0            0      Iris-setosa\n",
              "106             0            0             1            1   Iris-virginica\n",
              "44              0            1             1            1      Iris-setosa\n",
              "86              1            1             1            1  Iris-versicolor"
            ],
            "text/html": [
              "\n",
              "  <div id=\"df-6fc88853-93d4-4020-9c16-52ce2b65349f\">\n",
              "    <div class=\"colab-df-container\">\n",
              "      <div>\n",
              "<style scoped>\n",
              "    .dataframe tbody tr th:only-of-type {\n",
              "        vertical-align: middle;\n",
              "    }\n",
              "\n",
              "    .dataframe tbody tr th {\n",
              "        vertical-align: top;\n",
              "    }\n",
              "\n",
              "    .dataframe thead th {\n",
              "        text-align: right;\n",
              "    }\n",
              "</style>\n",
              "<table border=\"1\" class=\"dataframe\">\n",
              "  <thead>\n",
              "    <tr style=\"text-align: right;\">\n",
              "      <th></th>\n",
              "      <th>sepal-length</th>\n",
              "      <th>sepal-width</th>\n",
              "      <th>petal-length</th>\n",
              "      <th>petal-width</th>\n",
              "      <th>species</th>\n",
              "    </tr>\n",
              "  </thead>\n",
              "  <tbody>\n",
              "    <tr>\n",
              "      <th>110</th>\n",
              "      <td>1</td>\n",
              "      <td>1</td>\n",
              "      <td>1</td>\n",
              "      <td>1</td>\n",
              "      <td>Iris-virginica</td>\n",
              "    </tr>\n",
              "    <tr>\n",
              "      <th>11</th>\n",
              "      <td>0</td>\n",
              "      <td>1</td>\n",
              "      <td>0</td>\n",
              "      <td>0</td>\n",
              "      <td>Iris-setosa</td>\n",
              "    </tr>\n",
              "    <tr>\n",
              "      <th>106</th>\n",
              "      <td>0</td>\n",
              "      <td>0</td>\n",
              "      <td>1</td>\n",
              "      <td>1</td>\n",
              "      <td>Iris-virginica</td>\n",
              "    </tr>\n",
              "    <tr>\n",
              "      <th>44</th>\n",
              "      <td>0</td>\n",
              "      <td>1</td>\n",
              "      <td>1</td>\n",
              "      <td>1</td>\n",
              "      <td>Iris-setosa</td>\n",
              "    </tr>\n",
              "    <tr>\n",
              "      <th>86</th>\n",
              "      <td>1</td>\n",
              "      <td>1</td>\n",
              "      <td>1</td>\n",
              "      <td>1</td>\n",
              "      <td>Iris-versicolor</td>\n",
              "    </tr>\n",
              "  </tbody>\n",
              "</table>\n",
              "</div>\n",
              "      <button class=\"colab-df-convert\" onclick=\"convertToInteractive('df-6fc88853-93d4-4020-9c16-52ce2b65349f')\"\n",
              "              title=\"Convert this dataframe to an interactive table.\"\n",
              "              style=\"display:none;\">\n",
              "        \n",
              "  <svg xmlns=\"http://www.w3.org/2000/svg\" height=\"24px\"viewBox=\"0 0 24 24\"\n",
              "       width=\"24px\">\n",
              "    <path d=\"M0 0h24v24H0V0z\" fill=\"none\"/>\n",
              "    <path d=\"M18.56 5.44l.94 2.06.94-2.06 2.06-.94-2.06-.94-.94-2.06-.94 2.06-2.06.94zm-11 1L8.5 8.5l.94-2.06 2.06-.94-2.06-.94L8.5 2.5l-.94 2.06-2.06.94zm10 10l.94 2.06.94-2.06 2.06-.94-2.06-.94-.94-2.06-.94 2.06-2.06.94z\"/><path d=\"M17.41 7.96l-1.37-1.37c-.4-.4-.92-.59-1.43-.59-.52 0-1.04.2-1.43.59L10.3 9.45l-7.72 7.72c-.78.78-.78 2.05 0 2.83L4 21.41c.39.39.9.59 1.41.59.51 0 1.02-.2 1.41-.59l7.78-7.78 2.81-2.81c.8-.78.8-2.07 0-2.86zM5.41 20L4 18.59l7.72-7.72 1.47 1.35L5.41 20z\"/>\n",
              "  </svg>\n",
              "      </button>\n",
              "      \n",
              "  <style>\n",
              "    .colab-df-container {\n",
              "      display:flex;\n",
              "      flex-wrap:wrap;\n",
              "      gap: 12px;\n",
              "    }\n",
              "\n",
              "    .colab-df-convert {\n",
              "      background-color: #E8F0FE;\n",
              "      border: none;\n",
              "      border-radius: 50%;\n",
              "      cursor: pointer;\n",
              "      display: none;\n",
              "      fill: #1967D2;\n",
              "      height: 32px;\n",
              "      padding: 0 0 0 0;\n",
              "      width: 32px;\n",
              "    }\n",
              "\n",
              "    .colab-df-convert:hover {\n",
              "      background-color: #E2EBFA;\n",
              "      box-shadow: 0px 1px 2px rgba(60, 64, 67, 0.3), 0px 1px 3px 1px rgba(60, 64, 67, 0.15);\n",
              "      fill: #174EA6;\n",
              "    }\n",
              "\n",
              "    [theme=dark] .colab-df-convert {\n",
              "      background-color: #3B4455;\n",
              "      fill: #D2E3FC;\n",
              "    }\n",
              "\n",
              "    [theme=dark] .colab-df-convert:hover {\n",
              "      background-color: #434B5C;\n",
              "      box-shadow: 0px 1px 3px 1px rgba(0, 0, 0, 0.15);\n",
              "      filter: drop-shadow(0px 1px 2px rgba(0, 0, 0, 0.3));\n",
              "      fill: #FFFFFF;\n",
              "    }\n",
              "  </style>\n",
              "\n",
              "      <script>\n",
              "        const buttonEl =\n",
              "          document.querySelector('#df-6fc88853-93d4-4020-9c16-52ce2b65349f button.colab-df-convert');\n",
              "        buttonEl.style.display =\n",
              "          google.colab.kernel.accessAllowed ? 'block' : 'none';\n",
              "\n",
              "        async function convertToInteractive(key) {\n",
              "          const element = document.querySelector('#df-6fc88853-93d4-4020-9c16-52ce2b65349f');\n",
              "          const dataTable =\n",
              "            await google.colab.kernel.invokeFunction('convertToInteractive',\n",
              "                                                     [key], {});\n",
              "          if (!dataTable) return;\n",
              "\n",
              "          const docLinkHtml = 'Like what you see? Visit the ' +\n",
              "            '<a target=\"_blank\" href=https://colab.research.google.com/notebooks/data_table.ipynb>data table notebook</a>'\n",
              "            + ' to learn more about interactive tables.';\n",
              "          element.innerHTML = '';\n",
              "          dataTable['output_type'] = 'display_data';\n",
              "          await google.colab.output.renderOutput(dataTable, element);\n",
              "          const docLink = document.createElement('div');\n",
              "          docLink.innerHTML = docLinkHtml;\n",
              "          element.appendChild(docLink);\n",
              "        }\n",
              "      </script>\n",
              "    </div>\n",
              "  </div>\n",
              "  "
            ]
          },
          "metadata": {}
        }
      ]
    },
    {
      "cell_type": "code",
      "source": [
        "# Decision Tree to get species based on Lower Quantile calculation: Only for 'Iris-virginica'\n",
        "def get_species_q1(df):\n",
        "  # ADD CODE HERE TO RETURN None if sepal-length is below lower quantile (encoded as 0) \n",
        "  # or if petal-width is below lower quantile (encoded as 0) or if petal-length is below lower quantile (encoded as 0), otherwise return 'Iris-virginia'\n",
        "  if df['sepal-length'] == 1:\n",
        "    return None\n",
        "  elif (df['petal-length'] == 1) or (df['petal-width'] == 1):\n",
        "    return None\n",
        "  else:\n",
        "    return 'Iris-virginica'\n",
        "# use the get_species(df) function to predict the species, count how many are predicted correct and use this to calculate the proportion correct\n",
        "correct_q1 = 0\n",
        "test_q1_size = test_q1.shape[0]\n",
        "print(test_q1_size)\n",
        "for i in range(0, test_q1_size):\n",
        "  species = get_species_q1(test_q1.iloc[i])\n",
        "  if species == test_q1.iloc[i]['species']:\n",
        "      correct_q1 += 1\n",
        "print(correct_q1)\n",
        "print (\"Proportion correctly identified by measuring lower quantile\", correct_q1 / test_q1_size) \n",
        "\n",
        "prop_q1_1 = predict_prop(test_q1,'lower quantile')\n",
        "print(\"Proportion correctly identified by measuring lower quantile\", prop_q1_1) \n"
      ],
      "metadata": {
        "colab": {
          "base_uri": "https://localhost:8080/"
        },
        "id": "aMpUw1dl504E",
        "outputId": "3cfbcd5b-8680-409d-af63-58f7ac627cf8"
      },
      "execution_count": 246,
      "outputs": [
        {
          "output_type": "stream",
          "name": "stdout",
          "text": [
            "45\n",
            "0\n",
            "Proportion correctly identified by measuring lower quantile 0.0\n",
            "45\n",
            "18\n",
            "Proportion correctly identified by measuring lower quantile 0.4\n"
          ]
        }
      ]
    },
    {
      "cell_type": "markdown",
      "source": [
        "\n",
        "Measuring with upper quantile (Q3) is higer correctly identified then using lower quantile (Q1).  Also, with Q3, 3 key elements are still Petal widht, petal length, and sepal length. It's smilar to measuring with mean and median.\n",
        "\n",
        "However, the proportion is lower then mean and median.  so by measuring with mean and median and Q3 are sensitive. \n",
        "\n",
        "The propotion correctly identified by measuring mean and median are quite close and the propotion correctly mean > median > q3 > q1"
      ],
      "metadata": {
        "id": "lYQ2TUaUd_Af"
      }
    },
    {
      "cell_type": "markdown",
      "metadata": {
        "id": "8C69ns9VODh3"
      },
      "source": [
        "### Exercise 9 - try a different species\n",
        "\n",
        "Run the mean test again for the Iris-versicolor species.  Again, try some different decision making lines.\n",
        "\n",
        "What are the results.  Record them in the text cell below:"
      ]
    },
    {
      "cell_type": "code",
      "source": [
        "# Decision Tree to get species : Only for 'Iris-versicolor'\n",
        "def get_species_mean_ve(df):\n",
        "  # ADD CODE HERE TO RETURN None if sepal-width is below mean (encoded as 0) , otherwise return 'Iris-versicolor'\n",
        "  if df['species'] == 'Iris-versicolor':\n",
        "    if df['sepal-width'] == 1:\n",
        "      return None\n",
        "    else:\n",
        "      return 'Iris-versicolor'\n",
        "  \n",
        "  \n",
        "\n",
        "def get_species_mean_se(df):  \n",
        "  # ADD CODE HERE TO RETURN None if sepal-width is below mean (encoded as 0) , otherwise return 'Iris-setosa'\n",
        "  if df['species'] == 'Iris-setosa':\n",
        "    if (df['petal-length'] == 1):\n",
        "      return None\n",
        "    elif (df['petal-width'] ==1):\n",
        "      return None\n",
        "    elif (df['sepal-length'] == 1):\n",
        "      return None\n",
        "    elif (df['sepal-width'] == 0):\n",
        "      return None\n",
        "    else :\n",
        "      return 'Iris-setosa' \n",
        "\n",
        "prop_mean = predict_prop(test_mean, 'mean')\n",
        "print(\"Proportion correctly identified Iris-virginica with mean\", prop_mean)\n",
        "\n",
        "# use the get_species(df) function to predict the species, count how many are predicted correct and use this to calculate the proportion correct\n",
        "correct_mean_ve = 0\n",
        "test_size = test_mean.shape[0]\n",
        "print(test_size)\n",
        "for i in range(0, test_size):\n",
        "  species_ve = get_species_mean_ve(test_mean.iloc[i])\n",
        "  if species_ve == test_mean.iloc[i]['species']:\n",
        "      correct_mean_ve += 1\n",
        "print(correct_mean_ve)\n",
        "print (\"Proportion correctly identified for Iris-versicolor with mean\", correct_mean_ve / test_size) \n",
        "\n",
        "correct_mean_se = 0\n",
        "test_size = test_mean.shape[0]\n",
        "print(test_size)\n",
        "for i in range(0, test_size):\n",
        "  species_se = get_species_mean_se(test_mean.iloc[i])\n",
        "  if species_se == test_mean.iloc[i]['species']:\n",
        "      correct_mean_se += 1\n",
        "print(correct_mean_se)\n",
        "print (\"Proportion correctly identified for Iris-setosa with mean\", correct_mean_se / test_size) \n"
      ],
      "metadata": {
        "colab": {
          "base_uri": "https://localhost:8080/"
        },
        "id": "OtUFjzOj0Nga",
        "outputId": "a3d52e58-42ba-4527-b248-e5f883c601ef"
      },
      "execution_count": 247,
      "outputs": [
        {
          "output_type": "stream",
          "name": "stdout",
          "text": [
            "45\n",
            "18\n",
            "Proportion correctly identified Iris-virginica with mean 0.4\n",
            "45\n",
            "10\n",
            "Proportion correctly identified for Iris-versicolor with mean 0.2222222222222222\n",
            "45\n",
            "11\n",
            "Proportion correctly identified for Iris-setosa with mean 0.24444444444444444\n"
          ]
        }
      ]
    },
    {
      "cell_type": "markdown",
      "metadata": {
        "id": "t3oXJbqlOU0P"
      },
      "source": [
        "# What are the results\n",
        "From the proportion of correctly identified with mean results above, the model does identify the species for Iris Virginica is higher than identifiying for Iris-versicolor and Iris-setosa with mean. "
      ]
    },
    {
      "cell_type": "markdown",
      "source": [
        "# Conclusion of the simple decision tree model\n",
        "Decision trees are commonly used for classification in many machine learning projects. In this project, I separated the decision tree the all 3 species for different measurements. However, a nested decision tree if-statement might be used to do the same job. "
      ],
      "metadata": {
        "id": "iiRPnWJ18bcD"
      }
    },
    {
      "cell_type": "markdown",
      "metadata": {
        "id": "Co14Ws3gupwP"
      },
      "source": [
        "# New logic introduced in this worksheet:\n",
        "\n",
        "1.  Adding headings to a CSV if none currently exist\n",
        "2.  Splitting a data set into train and test sets"
      ]
    },
    {
      "cell_type": "code",
      "source": [
        "# converting data frame to csv\n",
        "iris_data.to_csv(\"iris_withheaders.csv\", header=names, index=False)\n",
        "  \n",
        "# display modified csv file\n",
        "iris_data_new = pd.read_csv(\"iris_withheaders.csv\")\n",
        "print('\\nModified file:')\n",
        "print(iris_data_new)"
      ],
      "metadata": {
        "colab": {
          "base_uri": "https://localhost:8080/"
        },
        "id": "ACmXHTThQEBU",
        "outputId": "02fafb60-2493-4454-a07e-1fb4d1ee5b4a"
      },
      "execution_count": 248,
      "outputs": [
        {
          "output_type": "stream",
          "name": "stdout",
          "text": [
            "\n",
            "Modified file:\n",
            "     sepal-length  sepal-width  petal-length  petal-width         species\n",
            "0             5.1          3.5           1.4          0.2     Iris-setosa\n",
            "1             4.9          3.0           1.4          0.2     Iris-setosa\n",
            "2             4.7          3.2           1.3          0.2     Iris-setosa\n",
            "3             4.6          3.1           1.5          0.2     Iris-setosa\n",
            "4             5.0          3.6           1.4          0.2     Iris-setosa\n",
            "..            ...          ...           ...          ...             ...\n",
            "145           6.7          3.0           5.2          2.3  Iris-virginica\n",
            "146           6.3          2.5           5.0          1.9  Iris-virginica\n",
            "147           6.5          3.0           5.2          2.0  Iris-virginica\n",
            "148           6.2          3.4           5.4          2.3  Iris-virginica\n",
            "149           5.9          3.0           5.1          1.8  Iris-virginica\n",
            "\n",
            "[150 rows x 5 columns]\n"
          ]
        }
      ]
    },
    {
      "cell_type": "code",
      "metadata": {
        "id": "-hpupKkeezXP",
        "colab": {
          "base_uri": "https://localhost:8080/",
          "height": 526
        },
        "outputId": "542a5793-8e78-4a9d-d4cd-0880c890d6ca"
      },
      "source": [
        "from plotnine import *\n",
        "## this type of plot will show the distribution on a chart\n",
        "ggplot(train, aes(x='petal-length', y='petal-width', color='species')) + geom_point() + geom_vline(train, aes(xintercept=train['sepal-length'].mean(), color='species')) + geom_hline(train, aes(yintercept=train['sepal-length'].mean(), color='species'))"
      ],
      "execution_count": 249,
      "outputs": [
        {
          "output_type": "stream",
          "name": "stderr",
          "text": [
            "/usr/local/lib/python3.7/dist-packages/plotnine/utils.py:1246: FutureWarning: is_categorical is deprecated and will be removed in a future version.  Use is_categorical_dtype instead\n",
            "  if pdtypes.is_categorical(arr):\n"
          ]
        },
        {
          "output_type": "display_data",
          "data": {
            "text/plain": [
              "<Figure size 640x480 with 1 Axes>"
            ],
            "image/png": "[encoded data removed]"
          },
          "metadata": {}
        },
        {
          "output_type": "execute_result",
          "data": {
            "text/plain": [
              "<ggplot: (8756256277717)>"
            ]
          },
          "metadata": {},
          "execution_count": 249
        }
      ]
    },
    {
      "cell_type": "markdown",
      "source": [
        "# Classification tree for Iris data\n",
        "These are used to classify discrete variables. For example, classifying if the temperature of a day will be high or low, or predicting if a team will win the match or not."
      ],
      "metadata": {
        "id": "sx-LD2TjN5MQ"
      }
    },
    {
      "cell_type": "code",
      "source": [
        "# Manually encode the species to class in numbers\n",
        "label_map = {'Iris-setosa': 0, 'Iris-versicolor': 1, 'Iris-virginica': 2}\n",
        "# create a class column for the encoded species\n",
        "iris_data_new['class'] = iris_data_new['species'].map(label_map)\n",
        "iris_data_new"
      ],
      "metadata": {
        "colab": {
          "base_uri": "https://localhost:8080/",
          "height": 423
        },
        "id": "H5JaNGjkNt1u",
        "outputId": "99a70963-0b96-4621-c0a2-e7f4be7c2260"
      },
      "execution_count": 250,
      "outputs": [
        {
          "output_type": "execute_result",
          "data": {
            "text/plain": [
              "     sepal-length  sepal-width  petal-length  petal-width         species  \\\n",
              "0             5.1          3.5           1.4          0.2     Iris-setosa   \n",
              "1             4.9          3.0           1.4          0.2     Iris-setosa   \n",
              "2             4.7          3.2           1.3          0.2     Iris-setosa   \n",
              "3             4.6          3.1           1.5          0.2     Iris-setosa   \n",
              "4             5.0          3.6           1.4          0.2     Iris-setosa   \n",
              "..            ...          ...           ...          ...             ...   \n",
              "145           6.7          3.0           5.2          2.3  Iris-virginica   \n",
              "146           6.3          2.5           5.0          1.9  Iris-virginica   \n",
              "147           6.5          3.0           5.2          2.0  Iris-virginica   \n",
              "148           6.2          3.4           5.4          2.3  Iris-virginica   \n",
              "149           5.9          3.0           5.1          1.8  Iris-virginica   \n",
              "\n",
              "     class  \n",
              "0        0  \n",
              "1        0  \n",
              "2        0  \n",
              "3        0  \n",
              "4        0  \n",
              "..     ...  \n",
              "145      2  \n",
              "146      2  \n",
              "147      2  \n",
              "148      2  \n",
              "149      2  \n",
              "\n",
              "[150 rows x 6 columns]"
            ],
            "text/html": [
              "\n",
              "  <div id=\"df-147036f6-555e-4243-a475-2b458a80c5d8\">\n",
              "    <div class=\"colab-df-container\">\n",
              "      <div>\n",
              "<style scoped>\n",
              "    .dataframe tbody tr th:only-of-type {\n",
              "        vertical-align: middle;\n",
              "    }\n",
              "\n",
              "    .dataframe tbody tr th {\n",
              "        vertical-align: top;\n",
              "    }\n",
              "\n",
              "    .dataframe thead th {\n",
              "        text-align: right;\n",
              "    }\n",
              "</style>\n",
              "<table border=\"1\" class=\"dataframe\">\n",
              "  <thead>\n",
              "    <tr style=\"text-align: right;\">\n",
              "      <th></th>\n",
              "      <th>sepal-length</th>\n",
              "      <th>sepal-width</th>\n",
              "      <th>petal-length</th>\n",
              "      <th>petal-width</th>\n",
              "      <th>species</th>\n",
              "      <th>class</th>\n",
              "    </tr>\n",
              "  </thead>\n",
              "  <tbody>\n",
              "    <tr>\n",
              "      <th>0</th>\n",
              "      <td>5.1</td>\n",
              "      <td>3.5</td>\n",
              "      <td>1.4</td>\n",
              "      <td>0.2</td>\n",
              "      <td>Iris-setosa</td>\n",
              "      <td>0</td>\n",
              "    </tr>\n",
              "    <tr>\n",
              "      <th>1</th>\n",
              "      <td>4.9</td>\n",
              "      <td>3.0</td>\n",
              "      <td>1.4</td>\n",
              "      <td>0.2</td>\n",
              "      <td>Iris-setosa</td>\n",
              "      <td>0</td>\n",
              "    </tr>\n",
              "    <tr>\n",
              "      <th>2</th>\n",
              "      <td>4.7</td>\n",
              "      <td>3.2</td>\n",
              "      <td>1.3</td>\n",
              "      <td>0.2</td>\n",
              "      <td>Iris-setosa</td>\n",
              "      <td>0</td>\n",
              "    </tr>\n",
              "    <tr>\n",
              "      <th>3</th>\n",
              "      <td>4.6</td>\n",
              "      <td>3.1</td>\n",
              "      <td>1.5</td>\n",
              "      <td>0.2</td>\n",
              "      <td>Iris-setosa</td>\n",
              "      <td>0</td>\n",
              "    </tr>\n",
              "    <tr>\n",
              "      <th>4</th>\n",
              "      <td>5.0</td>\n",
              "      <td>3.6</td>\n",
              "      <td>1.4</td>\n",
              "      <td>0.2</td>\n",
              "      <td>Iris-setosa</td>\n",
              "      <td>0</td>\n",
              "    </tr>\n",
              "    <tr>\n",
              "      <th>...</th>\n",
              "      <td>...</td>\n",
              "      <td>...</td>\n",
              "      <td>...</td>\n",
              "      <td>...</td>\n",
              "      <td>...</td>\n",
              "      <td>...</td>\n",
              "    </tr>\n",
              "    <tr>\n",
              "      <th>145</th>\n",
              "      <td>6.7</td>\n",
              "      <td>3.0</td>\n",
              "      <td>5.2</td>\n",
              "      <td>2.3</td>\n",
              "      <td>Iris-virginica</td>\n",
              "      <td>2</td>\n",
              "    </tr>\n",
              "    <tr>\n",
              "      <th>146</th>\n",
              "      <td>6.3</td>\n",
              "      <td>2.5</td>\n",
              "      <td>5.0</td>\n",
              "      <td>1.9</td>\n",
              "      <td>Iris-virginica</td>\n",
              "      <td>2</td>\n",
              "    </tr>\n",
              "    <tr>\n",
              "      <th>147</th>\n",
              "      <td>6.5</td>\n",
              "      <td>3.0</td>\n",
              "      <td>5.2</td>\n",
              "      <td>2.0</td>\n",
              "      <td>Iris-virginica</td>\n",
              "      <td>2</td>\n",
              "    </tr>\n",
              "    <tr>\n",
              "      <th>148</th>\n",
              "      <td>6.2</td>\n",
              "      <td>3.4</td>\n",
              "      <td>5.4</td>\n",
              "      <td>2.3</td>\n",
              "      <td>Iris-virginica</td>\n",
              "      <td>2</td>\n",
              "    </tr>\n",
              "    <tr>\n",
              "      <th>149</th>\n",
              "      <td>5.9</td>\n",
              "      <td>3.0</td>\n",
              "      <td>5.1</td>\n",
              "      <td>1.8</td>\n",
              "      <td>Iris-virginica</td>\n",
              "      <td>2</td>\n",
              "    </tr>\n",
              "  </tbody>\n",
              "</table>\n",
              "<p>150 rows × 6 columns</p>\n",
              "</div>\n",
              "      <button class=\"colab-df-convert\" onclick=\"convertToInteractive('df-147036f6-555e-4243-a475-2b458a80c5d8')\"\n",
              "              title=\"Convert this dataframe to an interactive table.\"\n",
              "              style=\"display:none;\">\n",
              "        \n",
              "  <svg xmlns=\"http://www.w3.org/2000/svg\" height=\"24px\"viewBox=\"0 0 24 24\"\n",
              "       width=\"24px\">\n",
              "    <path d=\"M0 0h24v24H0V0z\" fill=\"none\"/>\n",
              "    <path d=\"M18.56 5.44l.94 2.06.94-2.06 2.06-.94-2.06-.94-.94-2.06-.94 2.06-2.06.94zm-11 1L8.5 8.5l.94-2.06 2.06-.94-2.06-.94L8.5 2.5l-.94 2.06-2.06.94zm10 10l.94 2.06.94-2.06 2.06-.94-2.06-.94-.94-2.06-.94 2.06-2.06.94z\"/><path d=\"M17.41 7.96l-1.37-1.37c-.4-.4-.92-.59-1.43-.59-.52 0-1.04.2-1.43.59L10.3 9.45l-7.72 7.72c-.78.78-.78 2.05 0 2.83L4 21.41c.39.39.9.59 1.41.59.51 0 1.02-.2 1.41-.59l7.78-7.78 2.81-2.81c.8-.78.8-2.07 0-2.86zM5.41 20L4 18.59l7.72-7.72 1.47 1.35L5.41 20z\"/>\n",
              "  </svg>\n",
              "      </button>\n",
              "      \n",
              "  <style>\n",
              "    .colab-df-container {\n",
              "      display:flex;\n",
              "      flex-wrap:wrap;\n",
              "      gap: 12px;\n",
              "    }\n",
              "\n",
              "    .colab-df-convert {\n",
              "      background-color: #E8F0FE;\n",
              "      border: none;\n",
              "      border-radius: 50%;\n",
              "      cursor: pointer;\n",
              "      display: none;\n",
              "      fill: #1967D2;\n",
              "      height: 32px;\n",
              "      padding: 0 0 0 0;\n",
              "      width: 32px;\n",
              "    }\n",
              "\n",
              "    .colab-df-convert:hover {\n",
              "      background-color: #E2EBFA;\n",
              "      box-shadow: 0px 1px 2px rgba(60, 64, 67, 0.3), 0px 1px 3px 1px rgba(60, 64, 67, 0.15);\n",
              "      fill: #174EA6;\n",
              "    }\n",
              "\n",
              "    [theme=dark] .colab-df-convert {\n",
              "      background-color: #3B4455;\n",
              "      fill: #D2E3FC;\n",
              "    }\n",
              "\n",
              "    [theme=dark] .colab-df-convert:hover {\n",
              "      background-color: #434B5C;\n",
              "      box-shadow: 0px 1px 3px 1px rgba(0, 0, 0, 0.15);\n",
              "      filter: drop-shadow(0px 1px 2px rgba(0, 0, 0, 0.3));\n",
              "      fill: #FFFFFF;\n",
              "    }\n",
              "  </style>\n",
              "\n",
              "      <script>\n",
              "        const buttonEl =\n",
              "          document.querySelector('#df-147036f6-555e-4243-a475-2b458a80c5d8 button.colab-df-convert');\n",
              "        buttonEl.style.display =\n",
              "          google.colab.kernel.accessAllowed ? 'block' : 'none';\n",
              "\n",
              "        async function convertToInteractive(key) {\n",
              "          const element = document.querySelector('#df-147036f6-555e-4243-a475-2b458a80c5d8');\n",
              "          const dataTable =\n",
              "            await google.colab.kernel.invokeFunction('convertToInteractive',\n",
              "                                                     [key], {});\n",
              "          if (!dataTable) return;\n",
              "\n",
              "          const docLinkHtml = 'Like what you see? Visit the ' +\n",
              "            '<a target=\"_blank\" href=https://colab.research.google.com/notebooks/data_table.ipynb>data table notebook</a>'\n",
              "            + ' to learn more about interactive tables.';\n",
              "          element.innerHTML = '';\n",
              "          dataTable['output_type'] = 'display_data';\n",
              "          await google.colab.output.renderOutput(dataTable, element);\n",
              "          const docLink = document.createElement('div');\n",
              "          docLink.innerHTML = docLinkHtml;\n",
              "          element.appendChild(docLink);\n",
              "        }\n",
              "      </script>\n",
              "    </div>\n",
              "  </div>\n",
              "  "
            ]
          },
          "metadata": {},
          "execution_count": 250
        }
      ]
    },
    {
      "cell_type": "code",
      "source": [
        "import numpy as np\n",
        "# Remove species column and drop any null value in the new iris_data_new dataset \n",
        "# Then set x = 4 columns data and y = class column values\n",
        "X = iris_data_new.drop(labels=['species','class'],axis=1).values  # each row of all 4 columns data in an array\n",
        "y = iris_data_new['class'].values # All class in an array \n",
        "print(\"Any missing data? \", len(np.where(np.isnan(X))[0])) # use numpy to check any null \n"
      ],
      "metadata": {
        "colab": {
          "base_uri": "https://localhost:8080/"
        },
        "id": "Iy7oD4o_TMOp",
        "outputId": "6e746d4e-6c13-4623-9998-51a6ab2fd267"
      },
      "execution_count": 251,
      "outputs": [
        {
          "output_type": "stream",
          "name": "stdout",
          "text": [
            "Any missing data?  0\n"
          ]
        }
      ]
    },
    {
      "cell_type": "code",
      "source": [
        "# Use train_test_split() function in sklearn.model_selection to split into train and test data\n",
        "X_train, X_test, y_train, y_test = train_test_split(X, y, test_size=.3, random_state=42)\n",
        "print('4 columns train data size  - ', X_train.shape)\n",
        "print('4 columns test data size  - ', X_test.shape)"
      ],
      "metadata": {
        "colab": {
          "base_uri": "https://localhost:8080/"
        },
        "id": "RneY8CNFVHDX",
        "outputId": "0f313cea-2468-4ed7-e89c-af3b3d765e2e"
      },
      "execution_count": 252,
      "outputs": [
        {
          "output_type": "stream",
          "name": "stdout",
          "text": [
            "4 columns train data size  -  (105, 4)\n",
            "4 columns test data size  -  (45, 4)\n"
          ]
        }
      ]
    },
    {
      "cell_type": "markdown",
      "source": [
        "Function to draw Decision regions chat"
      ],
      "metadata": {
        "id": "EEGUe-xaY5jE"
      }
    },
    {
      "cell_type": "code",
      "source": [
        "from matplotlib.colors import ListedColormap\n",
        "\n",
        "def plot_decision_regions(X, y, classifier, test_idx = None, resolution=0.02):\n",
        "    # setup marker generator and color map\n",
        "    markers = ('s','x','o','^','v')\n",
        "    colors = ('red','blue','lightgreen','gray','cyan')\n",
        "    cmap = ListedColormap(colors[:len(np.unique(y))])\n",
        "\n",
        "    # plot the decision surface\n",
        "    x1_min, x1_max = X[:,0].min() - 1, X[:,0].max() + 1\n",
        "    x2_min, x2_max = X[:,1].min() - 1, X[:,1].max() + 1\n",
        "    # coordinate matrices from coordinate vectors.\n",
        "    xx1, xx2 = np.meshgrid(np.arange(x1_min,x1_max,resolution),\n",
        "                            np.arange(x2_min,x2_max,resolution))\n",
        "\n",
        "    Z = classifier.predict(np.array([xx1.ravel(),xx2.ravel()]).T)\n",
        "\n",
        "    Z = Z.reshape(xx1.shape)\n",
        "\n",
        "    plt.contourf(xx1, xx2, Z, alpha=0.4, cmap=cmap)\n",
        "    plt.xlim(xx1.min(),xx1.max())\n",
        "    plt.ylim(xx2.min(),xx2.max())\n",
        "\n",
        "    for idx, cl in enumerate(np.unique(y)):\n",
        "        plt.scatter(x=X[y==cl,0], y=X[y==cl,1],\n",
        "            alpha=0.8, c=[cmap(idx)], marker=markers[idx],label=cl)\n",
        "    if test_idx:\n",
        "        X_test, y_test = X[test_idx,:], y[test_idx]\n",
        "        plt.scatter(X_test[:, 0], X_test[:,1], c='',\n",
        "            alpha=1.0, linewidth=1, marker='o',\n",
        "            s=55, label='test set')"
      ],
      "metadata": {
        "id": "zVLzoCGyY4DB"
      },
      "execution_count": 253,
      "outputs": []
    },
    {
      "cell_type": "markdown",
      "source": [
        "Use PCA to reduce 4 features to 2 dimention for visidualisation"
      ],
      "metadata": {
        "id": "in1IxuWlZg7K"
      }
    },
    {
      "cell_type": "code",
      "source": [
        "from sklearn.decomposition import PCA\n",
        "\n",
        "pca = PCA(n_components=2, iterated_power=1)\n",
        "train_reduced = pca.fit_transform(X_train)\n",
        "test_reduced = pca.transform(X_test)"
      ],
      "metadata": {
        "id": "21DmUwgeZZrp"
      },
      "execution_count": 254,
      "outputs": []
    },
    {
      "cell_type": "markdown",
      "source": [
        "Create Decision Tree Classifier Model and use 2 dimentions train data to fit the model. Then to predict the classifications.\n",
        "\n",
        "A decision tree will create a tree based on train data. The tree will generate lots rules. The final rules will predict the new samples. \n",
        "\n",
        "Parameters used:\n",
        "\n",
        "*   criterion: criteria standard，gini/entropy. default = gini\n",
        "*   max_depth: the maxium depth of the tree\n",
        "*   random_state: random nodes, to make sure each training has the same results need to be plitter=random\n",
        "\n",
        "Attributes:\n",
        "*   .feature_importances_: To see the importance of model feature.\n",
        "\n",
        "Methods:\n",
        "\n",
        "*   fit: Use 2 dimentional train data and class to fit model.\n",
        "*   predict: predict the 2 dimentional train data and return predict class.\n",
        "*   score: return predicit successfully ratio \n",
        "*   predict_proba: the probabiblity of predicting each class\n",
        "*   get_depth: to get the depth of the tree"
      ],
      "metadata": {
        "id": "T3Bqs4qaaHvj"
      }
    },
    {
      "cell_type": "code",
      "source": [
        "from sklearn.tree import DecisionTreeClassifier\n",
        "\n",
        "# Build Logistic model : with criterion standard entropy\n",
        "decisionTreeModel = DecisionTreeClassifier(criterion = 'entropy', max_depth=6, random_state=42)\n",
        "\n",
        "# Build a decision tree classifier from the training set (X, y) : Use 2 dimentional train data to fit the model\n",
        "decisionTreeModel.fit(train_reduced, y_train)\n",
        "\n",
        "# To predict classifier with 2 dimentional train data \n",
        "predicted = decisionTreeModel.predict(train_reduced)\n",
        "\n",
        "# Draw the decision regions : using the 2 dimentional train data, class train data, with the Logistic model \n",
        "plot_decision_regions(train_reduced, y_train, decisionTreeModel)\n",
        "# Return predicit successfully ratio\n",
        "print('train set accurancy: ',decisionTreeModel.score(train_reduced, y_train))"
      ],
      "metadata": {
        "colab": {
          "base_uri": "https://localhost:8080/",
          "height": 283
        },
        "id": "KwDpfHygaCn7",
        "outputId": "581ed9d2-4623-45de-92cb-1d0b21199ca3"
      },
      "execution_count": 255,
      "outputs": [
        {
          "output_type": "stream",
          "name": "stdout",
          "text": [
            "train set accurancy:  1.0\n"
          ]
        },
        {
          "output_type": "display_data",
          "data": {
            "text/plain": [
              "<Figure size 432x288 with 1 Axes>"
            ],
            "image/png": "[encoded data removed]"
          },
          "metadata": {
            "needs_background": "light"
          }
        }
      ]
    },
    {
      "cell_type": "code",
      "source": [
        "# Draw the decision regions : using the 2 dimentional test data, class test data,  \n",
        "plot_decision_regions(test_reduced, y_test, decisionTreeModel)\n",
        "# Return predicit successfully ratio\n",
        "print('test set accurancy: ',decisionTreeModel.score(test_reduced, y_test))"
      ],
      "metadata": {
        "colab": {
          "base_uri": "https://localhost:8080/",
          "height": 283
        },
        "id": "3zGTMJQtfs5s",
        "outputId": "31299d61-a969-4fc6-9bb3-0a8dc7ce9594"
      },
      "execution_count": 256,
      "outputs": [
        {
          "output_type": "stream",
          "name": "stdout",
          "text": [
            "test set accurancy:  0.9777777777777777\n"
          ]
        },
        {
          "output_type": "display_data",
          "data": {
            "text/plain": [
              "<Figure size 432x288 with 1 Axes>"
            ],
            "image/png": "[encoded data removed]"
          },
          "metadata": {
            "needs_background": "light"
          }
        }
      ]
    },
    {
      "cell_type": "code",
      "source": [
        "# create model  : with criterion standard gini as index\n",
        "decisionTreeModel = DecisionTreeClassifier(criterion = 'gini', max_depth=3 ,random_state=42)\n",
        "\n",
        "# Build a decision tree classifier from the training set (X, y) : Use 2 dimentional train data to fit the model\n",
        "decisionTreeModel.fit(X_train, y_train)\n",
        "\n",
        "# Return predicit successfully ratio\n",
        "print('train set accurancy: ' , decisionTreeModel.score(X_train, y_train))\n",
        "print('test set accurancy: ' , decisionTreeModel.score(X_test, y_test))"
      ],
      "metadata": {
        "colab": {
          "base_uri": "https://localhost:8080/"
        },
        "id": "gsMhc74HgwFd",
        "outputId": "c0ab334d-06e9-427b-e2b2-707e99619523"
      },
      "execution_count": 257,
      "outputs": [
        {
          "output_type": "stream",
          "name": "stdout",
          "text": [
            "train set accurancy:  0.9523809523809523\n",
            "test set accurancy:  1.0\n"
          ]
        }
      ]
    },
    {
      "cell_type": "code",
      "source": [
        "print('the importance of model feature : ' , decisionTreeModel.feature_importances_)"
      ],
      "metadata": {
        "colab": {
          "base_uri": "https://localhost:8080/"
        },
        "id": "ML4xDD3WhTCt",
        "outputId": "966fa174-0dce-4ea3-bbbc-dce186e3bc7e"
      },
      "execution_count": 258,
      "outputs": [
        {
          "output_type": "stream",
          "name": "stdout",
          "text": [
            "the importance of model feature :  [0.         0.         0.92510833 0.07489167]\n"
          ]
        }
      ]
    },
    {
      "cell_type": "code",
      "source": [
        "import graphviz\n",
        "from sklearn.tree import export_graphviz\n",
        "# Export a decision tree in DOT format.\n",
        "# This function generates a GraphViz representation of the decision tree,\n",
        "dot_data = export_graphviz(decisionTreeModel, out_file=None, \n",
        "                         feature_names=['sepal-length', 'sepal-width', 'petal-length', 'petal-width'],\n",
        "                         class_names=['setosa', 'versicolor', 'virginica'],  \n",
        "                         filled=True, rounded=True,  \n",
        "                         special_characters=True)  \n",
        "# DOT source code string to be rendered by Graphviz \n",
        "graph = graphviz.Source(dot_data) \n",
        "graph"
      ],
      "metadata": {
        "colab": {
          "base_uri": "https://localhost:8080/",
          "height": 598
        },
        "id": "HEuZ8eTVhURV",
        "outputId": "93bccd48-fed9-43ad-804d-9bd897b1f2d3"
      },
      "execution_count": 259,
      "outputs": [
        {
          "output_type": "execute_result",
          "data": {
            "text/plain": [
              "<graphviz.files.Source at 0x7f6b98926450>"
            ],
            "image/svg+xml": "<?xml version=\"1.0\" encoding=\"UTF-8\" standalone=\"no\"?>\n<!DOCTYPE svg PUBLIC \"-//W3C//DTD SVG 1.1//EN\"\n \"http://www.w3.org/Graphics/SVG/1.1/DTD/svg11.dtd\">\n<!-- Generated by graphviz version 2.40.1 (20161225.0304)\n -->\n<!-- Title: Tree Pages: 1 -->\n<svg width=\"564pt\" height=\"433pt\"\n viewBox=\"0.00 0.00 563.50 433.00\" xmlns=\"http://www.w3.org/2000/svg\" xmlns:xlink=\"http://www.w3.org/1999/xlink\">\n<g id=\"graph0\" class=\"graph\" transform=\"scale(1 1) rotate(0) translate(4 429)\">\n<title>Tree</title>\n<polygon fill=\"#ffffff\" stroke=\"transparent\" points=\"-4,4 -4,-429 559.5,-429 559.5,4 -4,4\"/>\n<!-- 0 -->\n<g id=\"node1\" class=\"node\">\n<title>0</title>\n<path fill=\"#ffffff\" stroke=\"#000000\" d=\"M261,-425C261,-425 145,-425 145,-425 139,-425 133,-419 133,-413 133,-413 133,-354 133,-354 133,-348 139,-342 145,-342 145,-342 261,-342 261,-342 267,-342 273,-348 273,-354 273,-354 273,-413 273,-413 273,-419 267,-425 261,-425\"/>\n<text text-anchor=\"start\" x=\"143\" y=\"-409.8\" font-family=\"Helvetica,sans-Serif\" font-size=\"14.00\" fill=\"#000000\">petal&#45;length ≤ 2.45</text>\n<text text-anchor=\"start\" x=\"165\" y=\"-394.8\" font-family=\"Helvetica,sans-Serif\" font-size=\"14.00\" fill=\"#000000\">gini = 0.664</text>\n<text text-anchor=\"start\" x=\"155\" y=\"-379.8\" font-family=\"Helvetica,sans-Serif\" font-size=\"14.00\" fill=\"#000000\">samples = 105</text>\n<text text-anchor=\"start\" x=\"141\" y=\"-364.8\" font-family=\"Helvetica,sans-Serif\" font-size=\"14.00\" fill=\"#000000\">value = [31, 37, 37]</text>\n<text text-anchor=\"start\" x=\"147\" y=\"-349.8\" font-family=\"Helvetica,sans-Serif\" font-size=\"14.00\" fill=\"#000000\">class = versicolor</text>\n</g>\n<!-- 1 -->\n<g id=\"node2\" class=\"node\">\n<title>1</title>\n<path fill=\"#e58139\" stroke=\"#000000\" d=\"M178.5,-298.5C178.5,-298.5 79.5,-298.5 79.5,-298.5 73.5,-298.5 67.5,-292.5 67.5,-286.5 67.5,-286.5 67.5,-242.5 67.5,-242.5 67.5,-236.5 73.5,-230.5 79.5,-230.5 79.5,-230.5 178.5,-230.5 178.5,-230.5 184.5,-230.5 190.5,-236.5 190.5,-242.5 190.5,-242.5 190.5,-286.5 190.5,-286.5 190.5,-292.5 184.5,-298.5 178.5,-298.5\"/>\n<text text-anchor=\"start\" x=\"99.5\" y=\"-283.3\" font-family=\"Helvetica,sans-Serif\" font-size=\"14.00\" fill=\"#000000\">gini = 0.0</text>\n<text text-anchor=\"start\" x=\"85\" y=\"-268.3\" font-family=\"Helvetica,sans-Serif\" font-size=\"14.00\" fill=\"#000000\">samples = 31</text>\n<text text-anchor=\"start\" x=\"75.5\" y=\"-253.3\" font-family=\"Helvetica,sans-Serif\" font-size=\"14.00\" fill=\"#000000\">value = [31, 0, 0]</text>\n<text text-anchor=\"start\" x=\"82\" y=\"-238.3\" font-family=\"Helvetica,sans-Serif\" font-size=\"14.00\" fill=\"#000000\">class = setosa</text>\n</g>\n<!-- 0&#45;&gt;1 -->\n<g id=\"edge1\" class=\"edge\">\n<title>0&#45;&gt;1</title>\n<path fill=\"none\" stroke=\"#000000\" d=\"M177.1184,-341.8796C170.2121,-330.7735 162.7361,-318.7513 155.7825,-307.5691\"/>\n<polygon fill=\"#000000\" stroke=\"#000000\" points=\"158.5917,-305.4587 150.3387,-298.8149 152.6473,-309.1552 158.5917,-305.4587\"/>\n<text text-anchor=\"middle\" x=\"144.6619\" y=\"-319.4619\" font-family=\"Helvetica,sans-Serif\" font-size=\"14.00\" fill=\"#000000\">True</text>\n</g>\n<!-- 2 -->\n<g id=\"node3\" class=\"node\">\n<title>2</title>\n<path fill=\"#ffffff\" stroke=\"#000000\" d=\"M333,-306C333,-306 221,-306 221,-306 215,-306 209,-300 209,-294 209,-294 209,-235 209,-235 209,-229 215,-223 221,-223 221,-223 333,-223 333,-223 339,-223 345,-229 345,-235 345,-235 345,-294 345,-294 345,-300 339,-306 333,-306\"/>\n<text text-anchor=\"start\" x=\"217\" y=\"-290.8\" font-family=\"Helvetica,sans-Serif\" font-size=\"14.00\" fill=\"#000000\">petal&#45;length ≤ 4.75</text>\n<text text-anchor=\"start\" x=\"247.5\" y=\"-275.8\" font-family=\"Helvetica,sans-Serif\" font-size=\"14.00\" fill=\"#000000\">gini = 0.5</text>\n<text text-anchor=\"start\" x=\"233\" y=\"-260.8\" font-family=\"Helvetica,sans-Serif\" font-size=\"14.00\" fill=\"#000000\">samples = 74</text>\n<text text-anchor=\"start\" x=\"219.5\" y=\"-245.8\" font-family=\"Helvetica,sans-Serif\" font-size=\"14.00\" fill=\"#000000\">value = [0, 37, 37]</text>\n<text text-anchor=\"start\" x=\"221\" y=\"-230.8\" font-family=\"Helvetica,sans-Serif\" font-size=\"14.00\" fill=\"#000000\">class = versicolor</text>\n</g>\n<!-- 0&#45;&gt;2 -->\n<g id=\"edge2\" class=\"edge\">\n<title>0&#45;&gt;2</title>\n<path fill=\"none\" stroke=\"#000000\" d=\"M228.8816,-341.8796C234.3142,-333.1434 240.0992,-323.8404 245.7053,-314.8253\"/>\n<polygon fill=\"#000000\" stroke=\"#000000\" points=\"248.6993,-316.6383 251.0079,-306.2981 242.7549,-312.9418 248.6993,-316.6383\"/>\n<text text-anchor=\"middle\" x=\"256.6847\" y=\"-326.945\" font-family=\"Helvetica,sans-Serif\" font-size=\"14.00\" fill=\"#000000\">False</text>\n</g>\n<!-- 3 -->\n<g id=\"node4\" class=\"node\">\n<title>3</title>\n<path fill=\"#3fe685\" stroke=\"#000000\" d=\"M256,-187C256,-187 152,-187 152,-187 146,-187 140,-181 140,-175 140,-175 140,-116 140,-116 140,-110 146,-104 152,-104 152,-104 256,-104 256,-104 262,-104 268,-110 268,-116 268,-116 268,-175 268,-175 268,-181 262,-187 256,-187\"/>\n<text text-anchor=\"start\" x=\"151\" y=\"-171.8\" font-family=\"Helvetica,sans-Serif\" font-size=\"14.00\" fill=\"#000000\">petal&#45;width ≤ 1.6</text>\n<text text-anchor=\"start\" x=\"166\" y=\"-156.8\" font-family=\"Helvetica,sans-Serif\" font-size=\"14.00\" fill=\"#000000\">gini = 0.059</text>\n<text text-anchor=\"start\" x=\"160\" y=\"-141.8\" font-family=\"Helvetica,sans-Serif\" font-size=\"14.00\" fill=\"#000000\">samples = 33</text>\n<text text-anchor=\"start\" x=\"150.5\" y=\"-126.8\" font-family=\"Helvetica,sans-Serif\" font-size=\"14.00\" fill=\"#000000\">value = [0, 32, 1]</text>\n<text text-anchor=\"start\" x=\"148\" y=\"-111.8\" font-family=\"Helvetica,sans-Serif\" font-size=\"14.00\" fill=\"#000000\">class = versicolor</text>\n</g>\n<!-- 2&#45;&gt;3 -->\n<g id=\"edge3\" class=\"edge\">\n<title>2&#45;&gt;3</title>\n<path fill=\"none\" stroke=\"#000000\" d=\"M251.4681,-222.8796C246.109,-214.1434 240.4021,-204.8404 234.8718,-195.8253\"/>\n<polygon fill=\"#000000\" stroke=\"#000000\" points=\"237.8533,-193.9919 229.6408,-187.2981 231.8865,-197.6522 237.8533,-193.9919\"/>\n</g>\n<!-- 6 -->\n<g id=\"node7\" class=\"node\">\n<title>6</title>\n<path fill=\"#9254e9\" stroke=\"#000000\" d=\"M404,-187C404,-187 298,-187 298,-187 292,-187 286,-181 286,-175 286,-175 286,-116 286,-116 286,-110 292,-104 298,-104 298,-104 404,-104 404,-104 410,-104 416,-110 416,-116 416,-116 416,-175 416,-175 416,-181 410,-187 404,-187\"/>\n<text text-anchor=\"start\" x=\"294\" y=\"-171.8\" font-family=\"Helvetica,sans-Serif\" font-size=\"14.00\" fill=\"#000000\">petal&#45;width ≤ 1.75</text>\n<text text-anchor=\"start\" x=\"313\" y=\"-156.8\" font-family=\"Helvetica,sans-Serif\" font-size=\"14.00\" fill=\"#000000\">gini = 0.214</text>\n<text text-anchor=\"start\" x=\"307\" y=\"-141.8\" font-family=\"Helvetica,sans-Serif\" font-size=\"14.00\" fill=\"#000000\">samples = 41</text>\n<text text-anchor=\"start\" x=\"297.5\" y=\"-126.8\" font-family=\"Helvetica,sans-Serif\" font-size=\"14.00\" fill=\"#000000\">value = [0, 5, 36]</text>\n<text text-anchor=\"start\" x=\"299.5\" y=\"-111.8\" font-family=\"Helvetica,sans-Serif\" font-size=\"14.00\" fill=\"#000000\">class = virginica</text>\n</g>\n<!-- 2&#45;&gt;6 -->\n<g id=\"edge6\" class=\"edge\">\n<title>2&#45;&gt;6</title>\n<path fill=\"none\" stroke=\"#000000\" d=\"M302.8816,-222.8796C308.3142,-214.1434 314.0992,-204.8404 319.7053,-195.8253\"/>\n<polygon fill=\"#000000\" stroke=\"#000000\" points=\"322.6993,-197.6383 325.0079,-187.2981 316.7549,-193.9418 322.6993,-197.6383\"/>\n</g>\n<!-- 4 -->\n<g id=\"node5\" class=\"node\">\n<title>4</title>\n<path fill=\"#39e581\" stroke=\"#000000\" d=\"M116,-68C116,-68 12,-68 12,-68 6,-68 0,-62 0,-56 0,-56 0,-12 0,-12 0,-6 6,0 12,0 12,0 116,0 116,0 122,0 128,-6 128,-12 128,-12 128,-56 128,-56 128,-62 122,-68 116,-68\"/>\n<text text-anchor=\"start\" x=\"34.5\" y=\"-52.8\" font-family=\"Helvetica,sans-Serif\" font-size=\"14.00\" fill=\"#000000\">gini = 0.0</text>\n<text text-anchor=\"start\" x=\"20\" y=\"-37.8\" font-family=\"Helvetica,sans-Serif\" font-size=\"14.00\" fill=\"#000000\">samples = 32</text>\n<text text-anchor=\"start\" x=\"10.5\" y=\"-22.8\" font-family=\"Helvetica,sans-Serif\" font-size=\"14.00\" fill=\"#000000\">value = [0, 32, 0]</text>\n<text text-anchor=\"start\" x=\"8\" y=\"-7.8\" font-family=\"Helvetica,sans-Serif\" font-size=\"14.00\" fill=\"#000000\">class = versicolor</text>\n</g>\n<!-- 3&#45;&gt;4 -->\n<g id=\"edge4\" class=\"edge\">\n<title>3&#45;&gt;4</title>\n<path fill=\"none\" stroke=\"#000000\" d=\"M151.8692,-103.9815C139.8677,-94.4232 127.1152,-84.2668 115.1557,-74.7419\"/>\n<polygon fill=\"#000000\" stroke=\"#000000\" points=\"117.0244,-71.7558 107.0217,-68.2637 112.6635,-77.2314 117.0244,-71.7558\"/>\n</g>\n<!-- 5 -->\n<g id=\"node6\" class=\"node\">\n<title>5</title>\n<path fill=\"#8139e5\" stroke=\"#000000\" d=\"M253.5,-68C253.5,-68 158.5,-68 158.5,-68 152.5,-68 146.5,-62 146.5,-56 146.5,-56 146.5,-12 146.5,-12 146.5,-6 152.5,0 158.5,0 158.5,0 253.5,0 253.5,0 259.5,0 265.5,-6 265.5,-12 265.5,-12 265.5,-56 265.5,-56 265.5,-62 259.5,-68 253.5,-68\"/>\n<text text-anchor=\"start\" x=\"176.5\" y=\"-52.8\" font-family=\"Helvetica,sans-Serif\" font-size=\"14.00\" fill=\"#000000\">gini = 0.0</text>\n<text text-anchor=\"start\" x=\"166.5\" y=\"-37.8\" font-family=\"Helvetica,sans-Serif\" font-size=\"14.00\" fill=\"#000000\">samples = 1</text>\n<text text-anchor=\"start\" x=\"156.5\" y=\"-22.8\" font-family=\"Helvetica,sans-Serif\" font-size=\"14.00\" fill=\"#000000\">value = [0, 0, 1]</text>\n<text text-anchor=\"start\" x=\"154.5\" y=\"-7.8\" font-family=\"Helvetica,sans-Serif\" font-size=\"14.00\" fill=\"#000000\">class = virginica</text>\n</g>\n<!-- 3&#45;&gt;5 -->\n<g id=\"edge5\" class=\"edge\">\n<title>3&#45;&gt;5</title>\n<path fill=\"none\" stroke=\"#000000\" d=\"M204.7447,-103.9815C204.8947,-95.618 205.053,-86.7965 205.2046,-78.3409\"/>\n<polygon fill=\"#000000\" stroke=\"#000000\" points=\"208.7054,-78.3249 205.3854,-68.2637 201.7065,-78.1993 208.7054,-78.3249\"/>\n</g>\n<!-- 7 -->\n<g id=\"node8\" class=\"node\">\n<title>7</title>\n<path fill=\"#ffffff\" stroke=\"#000000\" d=\"M402,-68C402,-68 298,-68 298,-68 292,-68 286,-62 286,-56 286,-56 286,-12 286,-12 286,-6 292,0 298,0 298,0 402,0 402,0 408,0 414,-6 414,-12 414,-12 414,-56 414,-56 414,-62 408,-68 402,-68\"/>\n<text text-anchor=\"start\" x=\"320.5\" y=\"-52.8\" font-family=\"Helvetica,sans-Serif\" font-size=\"14.00\" fill=\"#000000\">gini = 0.5</text>\n<text text-anchor=\"start\" x=\"310.5\" y=\"-37.8\" font-family=\"Helvetica,sans-Serif\" font-size=\"14.00\" fill=\"#000000\">samples = 8</text>\n<text text-anchor=\"start\" x=\"300.5\" y=\"-22.8\" font-family=\"Helvetica,sans-Serif\" font-size=\"14.00\" fill=\"#000000\">value = [0, 4, 4]</text>\n<text text-anchor=\"start\" x=\"294\" y=\"-7.8\" font-family=\"Helvetica,sans-Serif\" font-size=\"14.00\" fill=\"#000000\">class = versicolor</text>\n</g>\n<!-- 6&#45;&gt;7 -->\n<g id=\"edge7\" class=\"edge\">\n<title>6&#45;&gt;7</title>\n<path fill=\"none\" stroke=\"#000000\" d=\"M350.6276,-103.9815C350.5526,-95.618 350.4735,-86.7965 350.3977,-78.3409\"/>\n<polygon fill=\"#000000\" stroke=\"#000000\" points=\"353.8969,-78.2318 350.3073,-68.2637 346.8972,-78.2947 353.8969,-78.2318\"/>\n</g>\n<!-- 8 -->\n<g id=\"node9\" class=\"node\">\n<title>8</title>\n<path fill=\"#853fe6\" stroke=\"#000000\" d=\"M543.5,-68C543.5,-68 444.5,-68 444.5,-68 438.5,-68 432.5,-62 432.5,-56 432.5,-56 432.5,-12 432.5,-12 432.5,-6 438.5,0 444.5,0 444.5,0 543.5,0 543.5,0 549.5,0 555.5,-6 555.5,-12 555.5,-12 555.5,-56 555.5,-56 555.5,-62 549.5,-68 543.5,-68\"/>\n<text text-anchor=\"start\" x=\"456\" y=\"-52.8\" font-family=\"Helvetica,sans-Serif\" font-size=\"14.00\" fill=\"#000000\">gini = 0.059</text>\n<text text-anchor=\"start\" x=\"450\" y=\"-37.8\" font-family=\"Helvetica,sans-Serif\" font-size=\"14.00\" fill=\"#000000\">samples = 33</text>\n<text text-anchor=\"start\" x=\"440.5\" y=\"-22.8\" font-family=\"Helvetica,sans-Serif\" font-size=\"14.00\" fill=\"#000000\">value = [0, 1, 32]</text>\n<text text-anchor=\"start\" x=\"442.5\" y=\"-7.8\" font-family=\"Helvetica,sans-Serif\" font-size=\"14.00\" fill=\"#000000\">class = virginica</text>\n</g>\n<!-- 6&#45;&gt;8 -->\n<g id=\"edge8\" class=\"edge\">\n<title>6&#45;&gt;8</title>\n<path fill=\"none\" stroke=\"#000000\" d=\"M404.2479,-103.9815C416.6244,-94.3313 429.7828,-84.0714 442.1003,-74.4673\"/>\n<polygon fill=\"#000000\" stroke=\"#000000\" points=\"444.3225,-77.1728 450.0565,-68.2637 440.0182,-71.6525 444.3225,-77.1728\"/>\n</g>\n</g>\n</svg>\n"
          },
          "metadata": {},
          "execution_count": 259
        }
      ]
    },
    {
      "cell_type": "markdown",
      "source": [
        "# EDA (Exploratory Data Analysis)  \n",
        "\n",
        "\n",
        "---\n",
        "The main concept is visualisating data through analynising numbers statistic. The adventage of EDA is understanding data status in various ways for model anaylise later. "
      ],
      "metadata": {
        "id": "2XexwLWIg096"
      }
    },
    {
      "cell_type": "code",
      "source": [
        "from pandas.plotting import scatter_matrix\n",
        "import seaborn as sns\n",
        "import matplotlib.pyplot as plt"
      ],
      "metadata": {
        "id": "8L9uaGbcpmSM"
      },
      "execution_count": 260,
      "outputs": []
    },
    {
      "cell_type": "markdown",
      "source": [
        "# Kernel Density Estimation(KDE)"
      ],
      "metadata": {
        "id": "jA1zzlWPpHRC"
      }
    },
    {
      "cell_type": "code",
      "source": [
        "scatter_matrix(train,figsize=(10, 10),color='b',diagonal='kde')"
      ],
      "metadata": {
        "colab": {
          "base_uri": "https://localhost:8080/",
          "height": 0
        },
        "id": "LpiljGiTpIkG",
        "outputId": "9077eaf0-a364-4145-c88c-822bb8aaaa9f"
      },
      "execution_count": 261,
      "outputs": [
        {
          "output_type": "execute_result",
          "data": {
            "text/plain": [
              "array([[<matplotlib.axes._subplots.AxesSubplot object at 0x7f6b98933f50>,\n",
              "        <matplotlib.axes._subplots.AxesSubplot object at 0x7f6b988cac90>,\n",
              "        <matplotlib.axes._subplots.AxesSubplot object at 0x7f6b98906ed0>,\n",
              "        <matplotlib.axes._subplots.AxesSubplot object at 0x7f6b988ba6d0>],\n",
              "       [<matplotlib.axes._subplots.AxesSubplot object at 0x7f6b9886db10>,\n",
              "        <matplotlib.axes._subplots.AxesSubplot object at 0x7f6b9881ff90>,\n",
              "        <matplotlib.axes._subplots.AxesSubplot object at 0x7f6b987e2490>,\n",
              "        <matplotlib.axes._subplots.AxesSubplot object at 0x7f6b9879a990>],\n",
              "       [<matplotlib.axes._subplots.AxesSubplot object at 0x7f6b987a56d0>,\n",
              "        <matplotlib.axes._subplots.AxesSubplot object at 0x7f6b9875bd10>,\n",
              "        <matplotlib.axes._subplots.AxesSubplot object at 0x7f6b986ca8d0>,\n",
              "        <matplotlib.axes._subplots.AxesSubplot object at 0x7f6b98701dd0>],\n",
              "       [<matplotlib.axes._subplots.AxesSubplot object at 0x7f6b986c2310>,\n",
              "        <matplotlib.axes._subplots.AxesSubplot object at 0x7f6b9867b810>,\n",
              "        <matplotlib.axes._subplots.AxesSubplot object at 0x7f6b9863ba90>,\n",
              "        <matplotlib.axes._subplots.AxesSubplot object at 0x7f6b985f2f50>]],\n",
              "      dtype=object)"
            ]
          },
          "metadata": {},
          "execution_count": 261
        },
        {
          "output_type": "display_data",
          "data": {
            "text/plain": [
              "<Figure size 720x720 with 16 Axes>"
            ],
            "image/png": "[encoded data removed]"
          },
          "metadata": {
            "needs_background": "light"
          }
        }
      ]
    },
    {
      "cell_type": "code",
      "source": [
        "sns.pairplot(train, hue=\"species\", size=2, diag_kind=\"kde\")"
      ],
      "metadata": {
        "colab": {
          "base_uri": "https://localhost:8080/",
          "height": 0
        },
        "id": "P9JvrggWo9rO",
        "outputId": "94b52322-c094-4afb-b24f-d940e888bcdc"
      },
      "execution_count": 262,
      "outputs": [
        {
          "output_type": "stream",
          "name": "stderr",
          "text": [
            "/usr/local/lib/python3.7/dist-packages/seaborn/axisgrid.py:2076: UserWarning: The `size` parameter has been renamed to `height`; please update your code.\n",
            "  warnings.warn(msg, UserWarning)\n"
          ]
        },
        {
          "output_type": "execute_result",
          "data": {
            "text/plain": [
              "<seaborn.axisgrid.PairGrid at 0x7f6b98a58950>"
            ]
          },
          "metadata": {},
          "execution_count": 262
        },
        {
          "output_type": "display_data",
          "data": {
            "text/plain": [
              "<Figure size 679.25x576 with 20 Axes>"
            ],
            "image/png": "[encoded data removed]"
          },
          "metadata": {
            "needs_background": "light"
          }
        }
      ]
    },
    {
      "cell_type": "markdown",
      "source": [
        "# Histograms plot"
      ],
      "metadata": {
        "id": "_Fr5P9WJomiu"
      }
    },
    {
      "cell_type": "code",
      "source": [
        "#histograms\n",
        "train.hist(alpha=0.6, figsize=(10, 8)) \n",
        "plt.tight_layout()\n",
        "plt.show()"
      ],
      "metadata": {
        "colab": {
          "base_uri": "https://localhost:8080/",
          "height": 0
        },
        "id": "UJg-HI8DoahO",
        "outputId": "0b291897-072a-4fb2-db85-68758a38d49d"
      },
      "execution_count": 263,
      "outputs": [
        {
          "output_type": "display_data",
          "data": {
            "text/plain": [
              "<Figure size 720x576 with 4 Axes>"
            ],
            "image/png": "[encoded data removed]"
          },
          "metadata": {
            "needs_background": "light"
          }
        }
      ]
    },
    {
      "cell_type": "markdown",
      "source": [
        "# Plot a simple linear relationship between two variables\n",
        "Using scatter charts to check the between 4 types of features "
      ],
      "metadata": {
        "id": "OpuvC02ek5cx"
      }
    },
    {
      "cell_type": "code",
      "source": [
        "# plot a relationship between sepal-length and sepal-width\n",
        "sns.lmplot(\"sepal-length\", \"sepal-width\", hue='species', data=train, fit_reg=False)"
      ],
      "metadata": {
        "colab": {
          "base_uri": "https://localhost:8080/",
          "height": 0
        },
        "id": "G2nYXZLSk0S0",
        "outputId": "30e363c3-67dd-4a69-d962-722ff5f44777"
      },
      "execution_count": 264,
      "outputs": [
        {
          "output_type": "stream",
          "name": "stderr",
          "text": [
            "/usr/local/lib/python3.7/dist-packages/seaborn/_decorators.py:43: FutureWarning: Pass the following variables as keyword args: x, y. From version 0.12, the only valid positional argument will be `data`, and passing other arguments without an explicit keyword will result in an error or misinterpretation.\n",
            "  FutureWarning\n"
          ]
        },
        {
          "output_type": "execute_result",
          "data": {
            "text/plain": [
              "<seaborn.axisgrid.FacetGrid at 0x7f6b97fd5290>"
            ]
          },
          "metadata": {},
          "execution_count": 264
        },
        {
          "output_type": "display_data",
          "data": {
            "text/plain": [
              "<Figure size 463.25x360 with 1 Axes>"
            ],
            "image/png": "[encoded data removed]"
          },
          "metadata": {
            "needs_background": "light"
          }
        }
      ]
    },
    {
      "cell_type": "code",
      "source": [
        "# plot a relationship between petal-length and petal-width\n",
        "sns.lmplot(\"petal-length\", \"petal-width\", hue='species', data=train, fit_reg=False)"
      ],
      "metadata": {
        "colab": {
          "base_uri": "https://localhost:8080/",
          "height": 0
        },
        "id": "5QBQnlVxk1Nr",
        "outputId": "69b73c7d-436e-4d3b-c819-3884a3dba725"
      },
      "execution_count": 265,
      "outputs": [
        {
          "output_type": "stream",
          "name": "stderr",
          "text": [
            "/usr/local/lib/python3.7/dist-packages/seaborn/_decorators.py:43: FutureWarning: Pass the following variables as keyword args: x, y. From version 0.12, the only valid positional argument will be `data`, and passing other arguments without an explicit keyword will result in an error or misinterpretation.\n",
            "  FutureWarning\n"
          ]
        },
        {
          "output_type": "execute_result",
          "data": {
            "text/plain": [
              "<seaborn.axisgrid.FacetGrid at 0x7f6b97e5a2d0>"
            ]
          },
          "metadata": {},
          "execution_count": 265
        },
        {
          "output_type": "display_data",
          "data": {
            "text/plain": [
              "<Figure size 463.25x360 with 1 Axes>"
            ],
            "image/png": "[encoded data removed]"
          },
          "metadata": {
            "needs_background": "light"
          }
        }
      ]
    },
    {
      "cell_type": "markdown",
      "source": [
        "# correlation map\n",
        "\n",
        "Since there is a strong suggestion of correlation between the features, let's generate a correlation map to see how features are correlated. So here is a heatmap using seaborn.\n",
        "\n",
        "\n",
        "\n",
        "\n"
      ],
      "metadata": {
        "id": "BwGgjC7VgqxF"
      }
    },
    {
      "cell_type": "code",
      "source": [
        "#corrlation heatmap : correlation calculate\n",
        "plt.figure(figsize=(8,8))\n",
        "sns.heatmap(iris_data.corr(), square=True, annot=True, cmap=\"RdBu_r\") #center=0, cmap=\"YlGnBu\""
      ],
      "metadata": {
        "colab": {
          "base_uri": "https://localhost:8080/",
          "height": 0
        },
        "id": "RvkwiX0UhN-8",
        "outputId": "a0ad7770-f3fc-42ce-e4cc-2ebb0bab8fb9"
      },
      "execution_count": 266,
      "outputs": [
        {
          "output_type": "execute_result",
          "data": {
            "text/plain": [
              "<matplotlib.axes._subplots.AxesSubplot at 0x7f6b97d97250>"
            ]
          },
          "metadata": {},
          "execution_count": 266
        },
        {
          "output_type": "display_data",
          "data": {
            "text/plain": [
              "<Figure size 576x576 with 2 Axes>"
            ],
            "image/png": "[encoded data removed]"
          },
          "metadata": {
            "needs_background": "light"
          }
        }
      ]
    },
    {
      "cell_type": "markdown",
      "source": [
        "# Distribution Status\n",
        "Using distplot to check the how to data spreads for each column"
      ],
      "metadata": {
        "id": "sqFk9RFjijiM"
      }
    },
    {
      "cell_type": "code",
      "source": [
        "fig, axes = plt.subplots(nrows=1,ncols=4)\n",
        "fig.set_size_inches(15, 4)\n",
        "sns.distplot(train[\"sepal-length\"][:],ax=axes[0])\n",
        "sns.distplot(train[\"sepal-width\"][:],ax=axes[1])\n",
        "sns.distplot(train[\"petal-length\"][:],ax=axes[2])\n",
        "sns.distplot(train[\"petal-width\"][:],ax=axes[3])\n",
        "\n",
        "axes[0].set(xlabel='sepal-length',title=\"distribution of sepal-length\")\n",
        "axes[1].set(xlabel='sepal-width',title=\"distribution of sepal-width\")\n",
        "axes[2].set(xlabel='petal-length',title=\"distribution of petal-length\")\n",
        "axes[3].set(xlabel='petal-width',title=\"distribution of petal-width\")"
      ],
      "metadata": {
        "colab": {
          "base_uri": "https://localhost:8080/",
          "height": 0
        },
        "id": "DTx0GhHyiUx9",
        "outputId": "2186017f-c44b-4d8a-99e0-79493b12f163"
      },
      "execution_count": 267,
      "outputs": [
        {
          "output_type": "stream",
          "name": "stderr",
          "text": [
            "/usr/local/lib/python3.7/dist-packages/seaborn/distributions.py:2619: FutureWarning: `distplot` is a deprecated function and will be removed in a future version. Please adapt your code to use either `displot` (a figure-level function with similar flexibility) or `histplot` (an axes-level function for histograms).\n",
            "  warnings.warn(msg, FutureWarning)\n",
            "/usr/local/lib/python3.7/dist-packages/seaborn/distributions.py:2619: FutureWarning: `distplot` is a deprecated function and will be removed in a future version. Please adapt your code to use either `displot` (a figure-level function with similar flexibility) or `histplot` (an axes-level function for histograms).\n",
            "  warnings.warn(msg, FutureWarning)\n",
            "/usr/local/lib/python3.7/dist-packages/seaborn/distributions.py:2619: FutureWarning: `distplot` is a deprecated function and will be removed in a future version. Please adapt your code to use either `displot` (a figure-level function with similar flexibility) or `histplot` (an axes-level function for histograms).\n",
            "  warnings.warn(msg, FutureWarning)\n",
            "/usr/local/lib/python3.7/dist-packages/seaborn/distributions.py:2619: FutureWarning: `distplot` is a deprecated function and will be removed in a future version. Please adapt your code to use either `displot` (a figure-level function with similar flexibility) or `histplot` (an axes-level function for histograms).\n",
            "  warnings.warn(msg, FutureWarning)\n"
          ]
        },
        {
          "output_type": "execute_result",
          "data": {
            "text/plain": [
              "[Text(0.5, 0, 'petal-width'), Text(0.5, 1.0, 'distribution of petal-width')]"
            ]
          },
          "metadata": {},
          "execution_count": 267
        },
        {
          "output_type": "display_data",
          "data": {
            "text/plain": [
              "<Figure size 1080x288 with 4 Axes>"
            ],
            "image/png": "[encoded data removed]"
          },
          "metadata": {
            "needs_background": "light"
          }
        }
      ]
    },
    {
      "cell_type": "markdown",
      "source": [
        "# Outlier Status\n",
        "Using Boxplot to see the outlier status of each column and see if any outlier."
      ],
      "metadata": {
        "id": "3BOY5KbwjXAw"
      }
    },
    {
      "cell_type": "code",
      "source": [
        "fig, axes = plt.subplots(nrows=1, ncols=4, figsize=(10,5), sharey=True)\n",
        "axes[0].boxplot(train['sepal-length'],showmeans=True)\n",
        "axes[0].set_title('sepal-length')\n",
        "\n",
        "axes[1].boxplot(train['sepal-width'],showmeans=True)\n",
        "axes[1].set_title('sepal-width')\n",
        "\n",
        "axes[2].boxplot(train['petal-length'],showmeans=True)\n",
        "axes[2].set_title('peta-length')\n",
        "\n",
        "axes[3].boxplot(train['petal-width'],showmeans=True)\n",
        "axes[3].set_title('petal-width')\n",
        "\n"
      ],
      "metadata": {
        "colab": {
          "base_uri": "https://localhost:8080/",
          "height": 0
        },
        "id": "DOHZO9iRjILB",
        "outputId": "9a823f81-f575-487f-ec36-1a2d068a679a"
      },
      "execution_count": 268,
      "outputs": [
        {
          "output_type": "execute_result",
          "data": {
            "text/plain": [
              "Text(0.5, 1.0, 'petal-width')"
            ]
          },
          "metadata": {},
          "execution_count": 268
        },
        {
          "output_type": "display_data",
          "data": {
            "text/plain": [
              "<Figure size 720x360 with 4 Axes>"
            ],
            "image/png": "[encoded data removed]"
          },
          "metadata": {
            "needs_background": "light"
          }
        }
      ]
    },
    {
      "cell_type": "markdown",
      "source": [
        "# Reflection\n",
        "\n",
        "\n",
        "---\n",
        "\n",
        "What skills have I demonstrated in completing this Project?\n",
        "\n",
        "I have used the skills of data retrieval, cleaning, filtering, encoding, test-train method, statistics calculation and created a simple decision tree model. The libraries I used in the project are pandas, numpy, sklearn, matplotlib, scatter_matrix, plotnine and seaborn. \n",
        "\n",
        "*   pandas library for retrieving, sorting and cleaning the data.\n",
        "*   Use **kwds when passing a variable number keyword arguments (keys and values) \n",
        "*   filter dataframe \n",
        "*   sklearn to do train-test split\n",
        "*   create and print out list of dictionaries\n",
        "*   both matplotlib and seaborn for visualisations\n",
        "*   seaborn for correlation heat map\n",
        "*   plotnine to do ggplots\n",
        "*   user defined functions for error testing and other set of operations.\n",
        "\n",
        "\n",
        "\n",
        "What did I learn in this project?\n",
        "\n",
        "I am using test-train split for the first time and find it very useful for testing out my codes/models to make sure it works for any data set. Although, I have done logistic regression in R, this is the first time for me to use logistic regression to build a model in python. I find it very easy and quick to do. However, I did get a warning about convergence and I will have to look into how to fix it for the future. There may be other better ways to do logistic regression in python which I will explore in the future.\n",
        "\n",
        "\n",
        "\n",
        "What are the most challenge / difficult parts?\n",
        "\n",
        "*   Encode data - Tricky to get it right.\n",
        "*   Calculate propotion - you need to fetch the correct data to to calculate.\n",
        "*   Create correct decision tree models - It was tricky to draw the tree, because tree might change a bit if you rerun the code. \n",
        "\n",
        "\n",
        "\n",
        "Where do I learnt the skills used in this project?\n",
        "*   **kwds -  https://www.w3schools.com/python/gloss_python_function_arbitrary_keyword_arguments.asp, \n",
        "https://www.geeksforgeeks.org/args-kwargs-python/\n",
        "\n",
        "*   filter dataframe - https://pandas.pydata.org/docs/reference/api/pandas.DataFrame.filter.html\n",
        "\n",
        "*   sklearn train-test split - https://scikit-learn.org/stable/modules/generated/sklearn.model_selection.train_test_split.html\n",
        "\n",
        "*   dictionaries - https://www.w3schools.com/python/python_dictionaries.asp\n",
        "\n",
        "*   matplotlib - https://matplotlib.org/stable/plot_types/index.html\n",
        "\n",
        "*   seaborn - https://seaborn.pydata.org/tutorial.html\n",
        "\n",
        "*   plotnine - https://plotnine.readthedocs.io/en/stable/\n",
        "\n",
        "*   machine learning - https://www.w3schools.com/python/python_ml_decision_tree.asp"
      ],
      "metadata": {
        "id": "cXK_a4abqRdv"
      }
    }
  ]
}