{
  "nbformat": 4,
  "nbformat_minor": 0,
  "metadata": {
    "colab": {
      "name": "15.2 Decision-Tree-coded-model.ipynb",
      "provenance": [],
      "collapsed_sections": [
        "ws2TxeRrnIJ4",
        "-2tQcT5ILtxl",
        "6WoHQeYLNyk8",
        "8C69ns9VODh3",
        "Co14Ws3gupwP"
      ],
      "include_colab_link": true
    },
    "kernelspec": {
      "display_name": "Python 3",
      "language": "python",
      "name": "python3"
    },
    "language_info": {
      "codemirror_mode": {
        "name": "ipython",
        "version": 3
      },
      "file_extension": ".py",
      "mimetype": "text/x-python",
      "name": "python",
      "nbconvert_exporter": "python",
      "pygments_lexer": "ipython3",
      "version": "3.8.5"
    }
  },
  "cells": [
    {
      "cell_type": "markdown",
      "metadata": {
        "id": "view-in-github",
        "colab_type": "text"
      },
      "source": [
        "<a href=\"https://colab.research.google.com/github/sysphcd/PythonProgrammingforData/blob/main/15_2_Decision_Tree_coded_model.ipynb\" target=\"_parent\"><img src=\"https://colab.research.google.com/assets/colab-badge.svg\" alt=\"Open In Colab\"/></a>"
      ]
    },
    {
      "cell_type": "markdown",
      "metadata": {
        "id": "9HyLZK84N75s"
      },
      "source": [
        "# Coding a simple decision tree\n",
        "---\n",
        "\n",
        "In this worksheet we are going to work with a data set, using the idea of a decision tree class.  We are going to simplify the model and use Python code to make a simple decision tree classification model.  We will do this for two reasons:\n",
        "*   writing the code is often good for helping to understand what is going on under the bonnet of a library function\n",
        "*   it is a good coding exercise for practice as it mostly depends on calculations and if..elif..else statements\n",
        "\n",
        "In this worksheet we are going to code a decision tree which will use the calculated probabilities to make decisions about whether a row of given data would be classified as Iris-virginica, or not, based on sepal and petal dimensions.  It is easier to classify between two values (Iris-virginica or not).  Later, using this information, species would be further predicted by probabilities of error.\n",
        "\n",
        "![Iris-petals and sepals](https://www.math.umd.edu/~petersd/666/html/iris_with_labels.jpg)\n",
        "\n",
        "The workflow is:\n",
        "*  divide the data set into 70% of the rows for training and 30% for testing  (we can increase the size of the training set later)\n",
        "*  find the median for each of the 4 size columns\n",
        "*  calculate the proportion of each column that are on or above median that are of a species (ie proportion of petal-lengths on or above median that are Iris-virginica)\n",
        "*  infer the proportion of each that are not of that species (using 1 - proportion above).  In both cases we are looking to find if either of these is 1, which could be infered as definitely not that species. \n",
        "*  calculate a Gini Index that will indicate the probability that a prediction will be incorrect\n",
        "*  use the results of the Gini Index to model a decision tree\n",
        "*  code the decision tree model into a function that will return whether or not a row in the test set is predicted to be of species Iris-virginica\n",
        "*  use the decision tree function to predict, for each row in the test set, if the species will be Iris-virginicia or not, using a set of nested if statements to classify\n",
        "*  compare the predicted values against the actual values in the test set - what proportion were predicted correctly?\n"
      ]
    },
    {
      "cell_type": "markdown",
      "metadata": {
        "id": "4iR8g8h_Ol0j"
      },
      "source": [
        "### Exercise 1 - investigate the iris data set\n",
        "---\n",
        "Let's start by looking at the data.  We are going to use a data set that contains data on iris flowers.\n",
        "\n",
        "Read the data at this location: https://raw.githubusercontent.com/jbrownlee/Datasets/master/iris.csv into a dataframe called iris_data\n",
        "\n",
        "The columns in the CSV file do not have headings, when you read the file, add column headings like this:\n",
        "```\n",
        "url = \"https://raw.githubusercontent.com/jbrownlee/Datasets/master/iris.csv\"\n",
        "names = ['sepal-length', 'sepal-width', 'petal-length', 'petal-width', 'species']\n",
        "iris_data = pd.read_csv(url, name=names)\n",
        "```\n",
        "*  Take a look at the column info (how many columns, what type of data, any missing data?)\n",
        "*  Take a look at the data values in the first 10 and the last 10 records to get an idea of the type of values included\n",
        "*  Find out how many unique values there are in the species column\n",
        "*  Find out the maximum, minimum, median and upper and lower quartile values in each of the columns\n"
      ]
    },
    {
      "cell_type": "code",
      "metadata": {
        "id": "eGZuOLPYPgL5",
        "colab": {
          "base_uri": "https://localhost:8080/",
          "height": 423
        },
        "outputId": "0617a0d9-23a2-47f5-cf15-a74fecf42abe"
      },
      "source": [
        "import pandas as pd\n",
        "\n",
        "url = \"https://raw.githubusercontent.com/jbrownlee/Datasets/master/iris.csv\"\n",
        "names = ['sepal-length', 'sepal-width', 'petal-length', 'petal-width', 'species']\n",
        "# Read csv file and save the dataframe to a variable\n",
        "iris_data = pd.read_csv(url, names=names)\n",
        "display(iris_data)"
      ],
      "execution_count": null,
      "outputs": [
        {
          "output_type": "display_data",
          "data": {
            "text/plain": [
              "     sepal-length  sepal-width  petal-length  petal-width         species\n",
              "0             5.1          3.5           1.4          0.2     Iris-setosa\n",
              "1             4.9          3.0           1.4          0.2     Iris-setosa\n",
              "2             4.7          3.2           1.3          0.2     Iris-setosa\n",
              "3             4.6          3.1           1.5          0.2     Iris-setosa\n",
              "4             5.0          3.6           1.4          0.2     Iris-setosa\n",
              "..            ...          ...           ...          ...             ...\n",
              "145           6.7          3.0           5.2          2.3  Iris-virginica\n",
              "146           6.3          2.5           5.0          1.9  Iris-virginica\n",
              "147           6.5          3.0           5.2          2.0  Iris-virginica\n",
              "148           6.2          3.4           5.4          2.3  Iris-virginica\n",
              "149           5.9          3.0           5.1          1.8  Iris-virginica\n",
              "\n",
              "[150 rows x 5 columns]"
            ],
            "text/html": [
              "\n",
              "  <div id=\"df-79f57d32-0d18-46e3-955e-7b7dffd56d44\">\n",
              "    <div class=\"colab-df-container\">\n",
              "      <div>\n",
              "<style scoped>\n",
              "    .dataframe tbody tr th:only-of-type {\n",
              "        vertical-align: middle;\n",
              "    }\n",
              "\n",
              "    .dataframe tbody tr th {\n",
              "        vertical-align: top;\n",
              "    }\n",
              "\n",
              "    .dataframe thead th {\n",
              "        text-align: right;\n",
              "    }\n",
              "</style>\n",
              "<table border=\"1\" class=\"dataframe\">\n",
              "  <thead>\n",
              "    <tr style=\"text-align: right;\">\n",
              "      <th></th>\n",
              "      <th>sepal-length</th>\n",
              "      <th>sepal-width</th>\n",
              "      <th>petal-length</th>\n",
              "      <th>petal-width</th>\n",
              "      <th>species</th>\n",
              "    </tr>\n",
              "  </thead>\n",
              "  <tbody>\n",
              "    <tr>\n",
              "      <th>0</th>\n",
              "      <td>5.1</td>\n",
              "      <td>3.5</td>\n",
              "      <td>1.4</td>\n",
              "      <td>0.2</td>\n",
              "      <td>Iris-setosa</td>\n",
              "    </tr>\n",
              "    <tr>\n",
              "      <th>1</th>\n",
              "      <td>4.9</td>\n",
              "      <td>3.0</td>\n",
              "      <td>1.4</td>\n",
              "      <td>0.2</td>\n",
              "      <td>Iris-setosa</td>\n",
              "    </tr>\n",
              "    <tr>\n",
              "      <th>2</th>\n",
              "      <td>4.7</td>\n",
              "      <td>3.2</td>\n",
              "      <td>1.3</td>\n",
              "      <td>0.2</td>\n",
              "      <td>Iris-setosa</td>\n",
              "    </tr>\n",
              "    <tr>\n",
              "      <th>3</th>\n",
              "      <td>4.6</td>\n",
              "      <td>3.1</td>\n",
              "      <td>1.5</td>\n",
              "      <td>0.2</td>\n",
              "      <td>Iris-setosa</td>\n",
              "    </tr>\n",
              "    <tr>\n",
              "      <th>4</th>\n",
              "      <td>5.0</td>\n",
              "      <td>3.6</td>\n",
              "      <td>1.4</td>\n",
              "      <td>0.2</td>\n",
              "      <td>Iris-setosa</td>\n",
              "    </tr>\n",
              "    <tr>\n",
              "      <th>...</th>\n",
              "      <td>...</td>\n",
              "      <td>...</td>\n",
              "      <td>...</td>\n",
              "      <td>...</td>\n",
              "      <td>...</td>\n",
              "    </tr>\n",
              "    <tr>\n",
              "      <th>145</th>\n",
              "      <td>6.7</td>\n",
              "      <td>3.0</td>\n",
              "      <td>5.2</td>\n",
              "      <td>2.3</td>\n",
              "      <td>Iris-virginica</td>\n",
              "    </tr>\n",
              "    <tr>\n",
              "      <th>146</th>\n",
              "      <td>6.3</td>\n",
              "      <td>2.5</td>\n",
              "      <td>5.0</td>\n",
              "      <td>1.9</td>\n",
              "      <td>Iris-virginica</td>\n",
              "    </tr>\n",
              "    <tr>\n",
              "      <th>147</th>\n",
              "      <td>6.5</td>\n",
              "      <td>3.0</td>\n",
              "      <td>5.2</td>\n",
              "      <td>2.0</td>\n",
              "      <td>Iris-virginica</td>\n",
              "    </tr>\n",
              "    <tr>\n",
              "      <th>148</th>\n",
              "      <td>6.2</td>\n",
              "      <td>3.4</td>\n",
              "      <td>5.4</td>\n",
              "      <td>2.3</td>\n",
              "      <td>Iris-virginica</td>\n",
              "    </tr>\n",
              "    <tr>\n",
              "      <th>149</th>\n",
              "      <td>5.9</td>\n",
              "      <td>3.0</td>\n",
              "      <td>5.1</td>\n",
              "      <td>1.8</td>\n",
              "      <td>Iris-virginica</td>\n",
              "    </tr>\n",
              "  </tbody>\n",
              "</table>\n",
              "<p>150 rows × 5 columns</p>\n",
              "</div>\n",
              "      <button class=\"colab-df-convert\" onclick=\"convertToInteractive('df-79f57d32-0d18-46e3-955e-7b7dffd56d44')\"\n",
              "              title=\"Convert this dataframe to an interactive table.\"\n",
              "              style=\"display:none;\">\n",
              "        \n",
              "  <svg xmlns=\"http://www.w3.org/2000/svg\" height=\"24px\"viewBox=\"0 0 24 24\"\n",
              "       width=\"24px\">\n",
              "    <path d=\"M0 0h24v24H0V0z\" fill=\"none\"/>\n",
              "    <path d=\"M18.56 5.44l.94 2.06.94-2.06 2.06-.94-2.06-.94-.94-2.06-.94 2.06-2.06.94zm-11 1L8.5 8.5l.94-2.06 2.06-.94-2.06-.94L8.5 2.5l-.94 2.06-2.06.94zm10 10l.94 2.06.94-2.06 2.06-.94-2.06-.94-.94-2.06-.94 2.06-2.06.94z\"/><path d=\"M17.41 7.96l-1.37-1.37c-.4-.4-.92-.59-1.43-.59-.52 0-1.04.2-1.43.59L10.3 9.45l-7.72 7.72c-.78.78-.78 2.05 0 2.83L4 21.41c.39.39.9.59 1.41.59.51 0 1.02-.2 1.41-.59l7.78-7.78 2.81-2.81c.8-.78.8-2.07 0-2.86zM5.41 20L4 18.59l7.72-7.72 1.47 1.35L5.41 20z\"/>\n",
              "  </svg>\n",
              "      </button>\n",
              "      \n",
              "  <style>\n",
              "    .colab-df-container {\n",
              "      display:flex;\n",
              "      flex-wrap:wrap;\n",
              "      gap: 12px;\n",
              "    }\n",
              "\n",
              "    .colab-df-convert {\n",
              "      background-color: #E8F0FE;\n",
              "      border: none;\n",
              "      border-radius: 50%;\n",
              "      cursor: pointer;\n",
              "      display: none;\n",
              "      fill: #1967D2;\n",
              "      height: 32px;\n",
              "      padding: 0 0 0 0;\n",
              "      width: 32px;\n",
              "    }\n",
              "\n",
              "    .colab-df-convert:hover {\n",
              "      background-color: #E2EBFA;\n",
              "      box-shadow: 0px 1px 2px rgba(60, 64, 67, 0.3), 0px 1px 3px 1px rgba(60, 64, 67, 0.15);\n",
              "      fill: #174EA6;\n",
              "    }\n",
              "\n",
              "    [theme=dark] .colab-df-convert {\n",
              "      background-color: #3B4455;\n",
              "      fill: #D2E3FC;\n",
              "    }\n",
              "\n",
              "    [theme=dark] .colab-df-convert:hover {\n",
              "      background-color: #434B5C;\n",
              "      box-shadow: 0px 1px 3px 1px rgba(0, 0, 0, 0.15);\n",
              "      filter: drop-shadow(0px 1px 2px rgba(0, 0, 0, 0.3));\n",
              "      fill: #FFFFFF;\n",
              "    }\n",
              "  </style>\n",
              "\n",
              "      <script>\n",
              "        const buttonEl =\n",
              "          document.querySelector('#df-79f57d32-0d18-46e3-955e-7b7dffd56d44 button.colab-df-convert');\n",
              "        buttonEl.style.display =\n",
              "          google.colab.kernel.accessAllowed ? 'block' : 'none';\n",
              "\n",
              "        async function convertToInteractive(key) {\n",
              "          const element = document.querySelector('#df-79f57d32-0d18-46e3-955e-7b7dffd56d44');\n",
              "          const dataTable =\n",
              "            await google.colab.kernel.invokeFunction('convertToInteractive',\n",
              "                                                     [key], {});\n",
              "          if (!dataTable) return;\n",
              "\n",
              "          const docLinkHtml = 'Like what you see? Visit the ' +\n",
              "            '<a target=\"_blank\" href=https://colab.research.google.com/notebooks/data_table.ipynb>data table notebook</a>'\n",
              "            + ' to learn more about interactive tables.';\n",
              "          element.innerHTML = '';\n",
              "          dataTable['output_type'] = 'display_data';\n",
              "          await google.colab.output.renderOutput(dataTable, element);\n",
              "          const docLink = document.createElement('div');\n",
              "          docLink.innerHTML = docLinkHtml;\n",
              "          element.appendChild(docLink);\n",
              "        }\n",
              "      </script>\n",
              "    </div>\n",
              "  </div>\n",
              "  "
            ]
          },
          "metadata": {}
        }
      ]
    },
    {
      "cell_type": "code",
      "source": [
        "# Take a look at the data values in the first 10 and the last 10 records to get an idea of the type of values included\n",
        "print(iris_data.shape)\n",
        "print(iris_data.info())\n",
        "print(type(iris_data))\n",
        "print(\"any null values ? = \" ,iris_data.isnull().values.any())\n",
        "iris_data.isnull().sum()"
      ],
      "metadata": {
        "colab": {
          "base_uri": "https://localhost:8080/"
        },
        "id": "kkBwfXhkYfh5",
        "outputId": "32824027-effd-4707-e6fc-25435af5a4e5"
      },
      "execution_count": null,
      "outputs": [
        {
          "output_type": "stream",
          "name": "stdout",
          "text": [
            "(150, 5)\n",
            "<class 'pandas.core.frame.DataFrame'>\n",
            "RangeIndex: 150 entries, 0 to 149\n",
            "Data columns (total 5 columns):\n",
            " #   Column        Non-Null Count  Dtype  \n",
            "---  ------        --------------  -----  \n",
            " 0   sepal-length  150 non-null    float64\n",
            " 1   sepal-width   150 non-null    float64\n",
            " 2   petal-length  150 non-null    float64\n",
            " 3   petal-width   150 non-null    float64\n",
            " 4   species       150 non-null    object \n",
            "dtypes: float64(4), object(1)\n",
            "memory usage: 6.0+ KB\n",
            "None\n",
            "<class 'pandas.core.frame.DataFrame'>\n",
            "any null values ? =  False\n"
          ]
        },
        {
          "output_type": "execute_result",
          "data": {
            "text/plain": [
              "sepal-length    0\n",
              "sepal-width     0\n",
              "petal-length    0\n",
              "petal-width     0\n",
              "species         0\n",
              "dtype: int64"
            ]
          },
          "metadata": {},
          "execution_count": 2
        }
      ]
    },
    {
      "cell_type": "code",
      "source": [
        "# data = iris_data.drop_duplicates(subset =['Species'])\n",
        "# data"
      ],
      "metadata": {
        "id": "iVWfiY9LCNf2"
      },
      "execution_count": null,
      "outputs": []
    },
    {
      "cell_type": "code",
      "source": [
        "# Take a look at the data values in the first 10 and the last 10 records to get an idea of the type of values included\n",
        "print(iris_data.head(10))\n",
        "print(iris_data.tail(10))"
      ],
      "metadata": {
        "colab": {
          "base_uri": "https://localhost:8080/"
        },
        "id": "Z62-k1j8LbcR",
        "outputId": "6cfdc634-98d2-489f-bf83-984a5631bfe9"
      },
      "execution_count": null,
      "outputs": [
        {
          "output_type": "stream",
          "name": "stdout",
          "text": [
            "   sepal-length  sepal-width  petal-length  petal-width      species\n",
            "0           5.1          3.5           1.4          0.2  Iris-setosa\n",
            "1           4.9          3.0           1.4          0.2  Iris-setosa\n",
            "2           4.7          3.2           1.3          0.2  Iris-setosa\n",
            "3           4.6          3.1           1.5          0.2  Iris-setosa\n",
            "4           5.0          3.6           1.4          0.2  Iris-setosa\n",
            "5           5.4          3.9           1.7          0.4  Iris-setosa\n",
            "6           4.6          3.4           1.4          0.3  Iris-setosa\n",
            "7           5.0          3.4           1.5          0.2  Iris-setosa\n",
            "8           4.4          2.9           1.4          0.2  Iris-setosa\n",
            "9           4.9          3.1           1.5          0.1  Iris-setosa\n",
            "     sepal-length  sepal-width  petal-length  petal-width         species\n",
            "140           6.7          3.1           5.6          2.4  Iris-virginica\n",
            "141           6.9          3.1           5.1          2.3  Iris-virginica\n",
            "142           5.8          2.7           5.1          1.9  Iris-virginica\n",
            "143           6.8          3.2           5.9          2.3  Iris-virginica\n",
            "144           6.7          3.3           5.7          2.5  Iris-virginica\n",
            "145           6.7          3.0           5.2          2.3  Iris-virginica\n",
            "146           6.3          2.5           5.0          1.9  Iris-virginica\n",
            "147           6.5          3.0           5.2          2.0  Iris-virginica\n",
            "148           6.2          3.4           5.4          2.3  Iris-virginica\n",
            "149           5.9          3.0           5.1          1.8  Iris-virginica\n"
          ]
        }
      ]
    },
    {
      "cell_type": "code",
      "source": [
        "# Find out how many unique values there are in the species column\n",
        "# Using the `unique()` method on the 'Class' column to show how many different class or species of Iris flower is in the data set.\n",
        "species_type = iris_data['species'].unique()\n",
        "# iris_data['Species']= iris_data.Species.apply(lambda x: x.split('-')[1])\n",
        "# iris_data.Species.unique()\n",
        "print(\"----The following are the three class or species types of iris in the data set ---- \\n\",*species_type, sep = \"   \")\n",
        "# count the number of distinct observations for each column \n",
        "print(\"\\n----The number of distinct observations for each column -----\")\n",
        "print(iris_data.nunique())"
      ],
      "metadata": {
        "colab": {
          "base_uri": "https://localhost:8080/"
        },
        "id": "fCYujKsYMzoW",
        "outputId": "f592138c-db61-4eb8-f76c-737909739c8f"
      },
      "execution_count": null,
      "outputs": [
        {
          "output_type": "stream",
          "name": "stdout",
          "text": [
            "----The following are the three class or species types of iris in the data set ---- \n",
            "   Iris-setosa   Iris-versicolor   Iris-virginica\n",
            "\n",
            "----The number of distinct observations for each column -----\n",
            "sepal-length    35\n",
            "sepal-width     23\n",
            "petal-length    43\n",
            "petal-width     22\n",
            "species          3\n",
            "dtype: int64\n"
          ]
        }
      ]
    },
    {
      "cell_type": "code",
      "source": [
        "# Find out the maximum, minimum, median and upper and lower quartile values in each of the columns\n",
        "print(iris_data.describe().T)\n",
        "\n",
        "print(iris_data.groupby(\"species\").describe())\n",
        "# print('----max-----')\n",
        "# print(iris_data[['sepal-length', 'sepal-width',  'petal-length',  'petal-width']].max())\n",
        "# print('----min-----')\n",
        "# print(iris_data[['sepal-length', 'sepal-width',  'petal-length',  'petal-width']].min())\n",
        "# print('----median-----')\n",
        "# print(iris_data[['sepal-length', 'sepal-width',  'petal-length',  'petal-width']].median())\n",
        "# print('----ower & upper quartile-----')\n",
        "# print(iris_data[['sepal-length', 'sepal-width',  'petal-length',  'petal-width']].quantile([.1, .5]))\n"
      ],
      "metadata": {
        "colab": {
          "base_uri": "https://localhost:8080/"
        },
        "id": "vDeU2aUrNKpa",
        "outputId": "c8e847af-5a37-4889-d75a-c8745b57bc90"
      },
      "execution_count": null,
      "outputs": [
        {
          "output_type": "stream",
          "name": "stdout",
          "text": [
            "              count      mean       std  min  25%   50%  75%  max\n",
            "sepal-length  150.0  5.843333  0.828066  4.3  5.1  5.80  6.4  7.9\n",
            "sepal-width   150.0  3.054000  0.433594  2.0  2.8  3.00  3.3  4.4\n",
            "petal-length  150.0  3.758667  1.764420  1.0  1.6  4.35  5.1  6.9\n",
            "petal-width   150.0  1.198667  0.763161  0.1  0.3  1.30  1.8  2.5\n",
            "                sepal-length                                              \\\n",
            "                       count   mean       std  min    25%  50%  75%  max   \n",
            "species                                                                    \n",
            "Iris-setosa             50.0  5.006  0.352490  4.3  4.800  5.0  5.2  5.8   \n",
            "Iris-versicolor         50.0  5.936  0.516171  4.9  5.600  5.9  6.3  7.0   \n",
            "Iris-virginica          50.0  6.588  0.635880  4.9  6.225  6.5  6.9  7.9   \n",
            "\n",
            "                sepal-width         ... petal-length      petal-width         \\\n",
            "                      count   mean  ...          75%  max       count   mean   \n",
            "species                             ...                                        \n",
            "Iris-setosa            50.0  3.418  ...        1.575  1.9        50.0  0.244   \n",
            "Iris-versicolor        50.0  2.770  ...        4.600  5.1        50.0  1.326   \n",
            "Iris-virginica         50.0  2.974  ...        5.875  6.9        50.0  2.026   \n",
            "\n",
            "                                                    \n",
            "                      std  min  25%  50%  75%  max  \n",
            "species                                             \n",
            "Iris-setosa      0.107210  0.1  0.2  0.2  0.3  0.6  \n",
            "Iris-versicolor  0.197753  1.0  1.2  1.3  1.5  1.8  \n",
            "Iris-virginica   0.274650  1.4  1.8  2.0  2.3  2.5  \n",
            "\n",
            "[3 rows x 32 columns]\n"
          ]
        }
      ]
    },
    {
      "cell_type": "markdown",
      "metadata": {
        "id": "0b8Pm0bK_Ca1"
      },
      "source": [
        "### Exercise 2 - split the data into train and test sets\n",
        "---\n",
        "\n",
        "Split the data set into and 70% train, 30% test, split.  From now, just use the train data set.\n"
      ]
    },
    {
      "cell_type": "code",
      "metadata": {
        "id": "CSG-ZEPEawMJ",
        "colab": {
          "base_uri": "https://localhost:8080/",
          "height": 175
        },
        "outputId": "53ed110c-41e5-4d0a-99d7-65feaf81cb64"
      },
      "source": [
        "# divide the data set into 70% of the rows for training and 30% for testing (we can increase the size of the training set later)\n",
        "# import the train_test_split function\n",
        "from sklearn.model_selection import train_test_split\n",
        "\n",
        "# create the classification variables from the all columns\n",
        "train, test = train_test_split(iris_data, test_size=0.30) #, random_state=42)\n",
        "train.describe().T"
      ],
      "execution_count": null,
      "outputs": [
        {
          "output_type": "execute_result",
          "data": {
            "text/plain": [
              "              count      mean       std  min  25%  50%  75%  max\n",
              "sepal-length  105.0  5.811429  0.849357  4.3  5.1  5.7  6.4  7.9\n",
              "sepal-width   105.0  3.066667  0.456295  2.0  2.8  3.0  3.4  4.4\n",
              "petal-length  105.0  3.655238  1.784764  1.0  1.5  4.1  5.0  6.9\n",
              "petal-width   105.0  1.134286  0.749722  0.1  0.2  1.3  1.8  2.5"
            ],
            "text/html": [
              "\n",
              "  <div id=\"df-9fc3a86e-1309-44c6-a930-c174ee69e457\">\n",
              "    <div class=\"colab-df-container\">\n",
              "      <div>\n",
              "<style scoped>\n",
              "    .dataframe tbody tr th:only-of-type {\n",
              "        vertical-align: middle;\n",
              "    }\n",
              "\n",
              "    .dataframe tbody tr th {\n",
              "        vertical-align: top;\n",
              "    }\n",
              "\n",
              "    .dataframe thead th {\n",
              "        text-align: right;\n",
              "    }\n",
              "</style>\n",
              "<table border=\"1\" class=\"dataframe\">\n",
              "  <thead>\n",
              "    <tr style=\"text-align: right;\">\n",
              "      <th></th>\n",
              "      <th>count</th>\n",
              "      <th>mean</th>\n",
              "      <th>std</th>\n",
              "      <th>min</th>\n",
              "      <th>25%</th>\n",
              "      <th>50%</th>\n",
              "      <th>75%</th>\n",
              "      <th>max</th>\n",
              "    </tr>\n",
              "  </thead>\n",
              "  <tbody>\n",
              "    <tr>\n",
              "      <th>sepal-length</th>\n",
              "      <td>105.0</td>\n",
              "      <td>5.811429</td>\n",
              "      <td>0.849357</td>\n",
              "      <td>4.3</td>\n",
              "      <td>5.1</td>\n",
              "      <td>5.7</td>\n",
              "      <td>6.4</td>\n",
              "      <td>7.9</td>\n",
              "    </tr>\n",
              "    <tr>\n",
              "      <th>sepal-width</th>\n",
              "      <td>105.0</td>\n",
              "      <td>3.066667</td>\n",
              "      <td>0.456295</td>\n",
              "      <td>2.0</td>\n",
              "      <td>2.8</td>\n",
              "      <td>3.0</td>\n",
              "      <td>3.4</td>\n",
              "      <td>4.4</td>\n",
              "    </tr>\n",
              "    <tr>\n",
              "      <th>petal-length</th>\n",
              "      <td>105.0</td>\n",
              "      <td>3.655238</td>\n",
              "      <td>1.784764</td>\n",
              "      <td>1.0</td>\n",
              "      <td>1.5</td>\n",
              "      <td>4.1</td>\n",
              "      <td>5.0</td>\n",
              "      <td>6.9</td>\n",
              "    </tr>\n",
              "    <tr>\n",
              "      <th>petal-width</th>\n",
              "      <td>105.0</td>\n",
              "      <td>1.134286</td>\n",
              "      <td>0.749722</td>\n",
              "      <td>0.1</td>\n",
              "      <td>0.2</td>\n",
              "      <td>1.3</td>\n",
              "      <td>1.8</td>\n",
              "      <td>2.5</td>\n",
              "    </tr>\n",
              "  </tbody>\n",
              "</table>\n",
              "</div>\n",
              "      <button class=\"colab-df-convert\" onclick=\"convertToInteractive('df-9fc3a86e-1309-44c6-a930-c174ee69e457')\"\n",
              "              title=\"Convert this dataframe to an interactive table.\"\n",
              "              style=\"display:none;\">\n",
              "        \n",
              "  <svg xmlns=\"http://www.w3.org/2000/svg\" height=\"24px\"viewBox=\"0 0 24 24\"\n",
              "       width=\"24px\">\n",
              "    <path d=\"M0 0h24v24H0V0z\" fill=\"none\"/>\n",
              "    <path d=\"M18.56 5.44l.94 2.06.94-2.06 2.06-.94-2.06-.94-.94-2.06-.94 2.06-2.06.94zm-11 1L8.5 8.5l.94-2.06 2.06-.94-2.06-.94L8.5 2.5l-.94 2.06-2.06.94zm10 10l.94 2.06.94-2.06 2.06-.94-2.06-.94-.94-2.06-.94 2.06-2.06.94z\"/><path d=\"M17.41 7.96l-1.37-1.37c-.4-.4-.92-.59-1.43-.59-.52 0-1.04.2-1.43.59L10.3 9.45l-7.72 7.72c-.78.78-.78 2.05 0 2.83L4 21.41c.39.39.9.59 1.41.59.51 0 1.02-.2 1.41-.59l7.78-7.78 2.81-2.81c.8-.78.8-2.07 0-2.86zM5.41 20L4 18.59l7.72-7.72 1.47 1.35L5.41 20z\"/>\n",
              "  </svg>\n",
              "      </button>\n",
              "      \n",
              "  <style>\n",
              "    .colab-df-container {\n",
              "      display:flex;\n",
              "      flex-wrap:wrap;\n",
              "      gap: 12px;\n",
              "    }\n",
              "\n",
              "    .colab-df-convert {\n",
              "      background-color: #E8F0FE;\n",
              "      border: none;\n",
              "      border-radius: 50%;\n",
              "      cursor: pointer;\n",
              "      display: none;\n",
              "      fill: #1967D2;\n",
              "      height: 32px;\n",
              "      padding: 0 0 0 0;\n",
              "      width: 32px;\n",
              "    }\n",
              "\n",
              "    .colab-df-convert:hover {\n",
              "      background-color: #E2EBFA;\n",
              "      box-shadow: 0px 1px 2px rgba(60, 64, 67, 0.3), 0px 1px 3px 1px rgba(60, 64, 67, 0.15);\n",
              "      fill: #174EA6;\n",
              "    }\n",
              "\n",
              "    [theme=dark] .colab-df-convert {\n",
              "      background-color: #3B4455;\n",
              "      fill: #D2E3FC;\n",
              "    }\n",
              "\n",
              "    [theme=dark] .colab-df-convert:hover {\n",
              "      background-color: #434B5C;\n",
              "      box-shadow: 0px 1px 3px 1px rgba(0, 0, 0, 0.15);\n",
              "      filter: drop-shadow(0px 1px 2px rgba(0, 0, 0, 0.3));\n",
              "      fill: #FFFFFF;\n",
              "    }\n",
              "  </style>\n",
              "\n",
              "      <script>\n",
              "        const buttonEl =\n",
              "          document.querySelector('#df-9fc3a86e-1309-44c6-a930-c174ee69e457 button.colab-df-convert');\n",
              "        buttonEl.style.display =\n",
              "          google.colab.kernel.accessAllowed ? 'block' : 'none';\n",
              "\n",
              "        async function convertToInteractive(key) {\n",
              "          const element = document.querySelector('#df-9fc3a86e-1309-44c6-a930-c174ee69e457');\n",
              "          const dataTable =\n",
              "            await google.colab.kernel.invokeFunction('convertToInteractive',\n",
              "                                                     [key], {});\n",
              "          if (!dataTable) return;\n",
              "\n",
              "          const docLinkHtml = 'Like what you see? Visit the ' +\n",
              "            '<a target=\"_blank\" href=https://colab.research.google.com/notebooks/data_table.ipynb>data table notebook</a>'\n",
              "            + ' to learn more about interactive tables.';\n",
              "          element.innerHTML = '';\n",
              "          dataTable['output_type'] = 'display_data';\n",
              "          await google.colab.output.renderOutput(dataTable, element);\n",
              "          const docLink = document.createElement('div');\n",
              "          docLink.innerHTML = docLinkHtml;\n",
              "          element.appendChild(docLink);\n",
              "        }\n",
              "      </script>\n",
              "    </div>\n",
              "  </div>\n",
              "  "
            ]
          },
          "metadata": {},
          "execution_count": 306
        }
      ]
    },
    {
      "cell_type": "markdown",
      "metadata": {
        "id": "nd-9JfKbQl-q"
      },
      "source": [
        "### Exercise 3 - assumptions and classification\n",
        "---\n",
        "\n",
        "Let's make some assumptions based on the data\n",
        "\n",
        "1.  Iris-setosa, Iris-versicolor, Iris-virginica are the full range of types of iris to be analysed\n",
        "2.  Although this is a small data set, the means are fairly representative\n",
        "\n",
        "With these in mind, let's start by classifying sepal/petal size into long/short and wide/narrow with values on or above the mean taken as long or wide and those below as short or narrow.\n",
        "\n",
        "This is a starting point.  We will be trying to find a value (indicator) for each column where rows on or above do not contain any of a particular species, this might indicate that this column is a good (if not rough) indicator of species.\n",
        "\n",
        "*  Drop any null values from each column\n",
        "\n",
        "Calculate, and store the means of the four columns\n",
        "\n",
        "*  **Test**:\n",
        "Display train.describe() to see the value of the means of the training set. Print the four means and compare to the output of train.describe() to check that they have been calculated correctly.\n",
        "\n",
        "*  Create a new dataframe with the numeric columns encoded so show a 1 for any value that is above the mean for its column and 0 for any that isn't.\n",
        "\n",
        "\n"
      ]
    },
    {
      "cell_type": "code",
      "source": [
        "# Drop any null values from each column\n",
        "print(\"any null values in sepal-length ? = \" ,train['sepal-length'].isnull().values.any())\n",
        "print(\"any null values in sepal-width ? = \" ,train['sepal-width'].isnull().values.any())\n",
        "print(\"any null values in petal-length ? = \" ,train['petal-length'].isnull().values.any())\n",
        "print(\"any null values in petal-width ? = \" ,train['petal-width'].isnull().values.any())\n",
        "\n",
        "train.dropna(subset = [\"sepal-length\", \"sepal-width\",\"petal-length\",\"petal-width\"])\n",
        "train.shape, test.shape"
      ],
      "metadata": {
        "colab": {
          "base_uri": "https://localhost:8080/"
        },
        "id": "tesypkmCFQfv",
        "outputId": "fa03336d-066a-4e95-9852-9577a19661bb"
      },
      "execution_count": null,
      "outputs": [
        {
          "output_type": "stream",
          "name": "stdout",
          "text": [
            "any null values in sepal-length ? =  False\n",
            "any null values in sepal-width ? =  False\n",
            "any null values in petal-length ? =  False\n",
            "any null values in petal-width ? =  False\n"
          ]
        },
        {
          "output_type": "execute_result",
          "data": {
            "text/plain": [
              "((105, 5), (45, 5))"
            ]
          },
          "metadata": {},
          "execution_count": 307
        }
      ]
    },
    {
      "cell_type": "code",
      "source": [
        "# select from the iris DataFrame only the rows where the Class equals the string \"Iris-setosa\"\n",
        "iris_virginica = train[train['species'] == \"Iris-virginica\"] \n",
        "iris_versicolor = train[train['species'] == \"Iris-versicolor\"] \n",
        "iris_setosa = train[train['species'] == \"Iris-setosa\"]  \n",
        "print(iris_virginica)\n",
        "print(iris_versicolor)\n",
        "print(iris_setosa)"
      ],
      "metadata": {
        "colab": {
          "base_uri": "https://localhost:8080/"
        },
        "id": "O8PiKcNbP96E",
        "outputId": "9e026f6b-c907-451b-8e8c-87c58c551e36"
      },
      "execution_count": null,
      "outputs": [
        {
          "output_type": "stream",
          "name": "stdout",
          "text": [
            "     sepal-length  sepal-width  petal-length  petal-width         species\n",
            "128           6.4          2.8           5.6          2.1  Iris-virginica\n",
            "148           6.2          3.4           5.4          2.3  Iris-virginica\n",
            "131           7.9          3.8           6.4          2.0  Iris-virginica\n",
            "125           7.2          3.2           6.0          1.8  Iris-virginica\n",
            "108           6.7          2.5           5.8          1.8  Iris-virginica\n",
            "143           6.8          3.2           5.9          2.3  Iris-virginica\n",
            "130           7.4          2.8           6.1          1.9  Iris-virginica\n",
            "105           7.6          3.0           6.6          2.1  Iris-virginica\n",
            "118           7.7          2.6           6.9          2.3  Iris-virginica\n",
            "124           6.7          3.3           5.7          2.1  Iris-virginica\n",
            "146           6.3          2.5           5.0          1.9  Iris-virginica\n",
            "137           6.4          3.1           5.5          1.8  Iris-virginica\n",
            "145           6.7          3.0           5.2          2.3  Iris-virginica\n",
            "109           7.2          3.6           6.1          2.5  Iris-virginica\n",
            "147           6.5          3.0           5.2          2.0  Iris-virginica\n",
            "117           7.7          3.8           6.7          2.2  Iris-virginica\n",
            "120           6.9          3.2           5.7          2.3  Iris-virginica\n",
            "111           6.4          2.7           5.3          1.9  Iris-virginica\n",
            "139           6.9          3.1           5.4          2.1  Iris-virginica\n",
            "100           6.3          3.3           6.0          2.5  Iris-virginica\n",
            "101           5.8          2.7           5.1          1.9  Iris-virginica\n",
            "138           6.0          3.0           4.8          1.8  Iris-virginica\n",
            "134           6.1          2.6           5.6          1.4  Iris-virginica\n",
            "135           7.7          3.0           6.1          2.3  Iris-virginica\n",
            "136           6.3          3.4           5.6          2.4  Iris-virginica\n",
            "107           7.3          2.9           6.3          1.8  Iris-virginica\n",
            "103           6.3          2.9           5.6          1.8  Iris-virginica\n",
            "    sepal-length  sepal-width  petal-length  petal-width          species\n",
            "80           5.5          2.4           3.8          1.1  Iris-versicolor\n",
            "59           5.2          2.7           3.9          1.4  Iris-versicolor\n",
            "66           5.6          3.0           4.5          1.5  Iris-versicolor\n",
            "71           6.1          2.8           4.0          1.3  Iris-versicolor\n",
            "53           5.5          2.3           4.0          1.3  Iris-versicolor\n",
            "79           5.7          2.6           3.5          1.0  Iris-versicolor\n",
            "95           5.7          3.0           4.2          1.2  Iris-versicolor\n",
            "52           6.9          3.1           4.9          1.5  Iris-versicolor\n",
            "94           5.6          2.7           4.2          1.3  Iris-versicolor\n",
            "57           4.9          2.4           3.3          1.0  Iris-versicolor\n",
            "65           6.7          3.1           4.4          1.4  Iris-versicolor\n",
            "67           5.8          2.7           4.1          1.0  Iris-versicolor\n",
            "92           5.8          2.6           4.0          1.2  Iris-versicolor\n",
            "82           5.8          2.7           3.9          1.2  Iris-versicolor\n",
            "85           6.0          3.4           4.5          1.6  Iris-versicolor\n",
            "51           6.4          3.2           4.5          1.5  Iris-versicolor\n",
            "83           6.0          2.7           5.1          1.6  Iris-versicolor\n",
            "78           6.0          2.9           4.5          1.5  Iris-versicolor\n",
            "60           5.0          2.0           3.5          1.0  Iris-versicolor\n",
            "54           6.5          2.8           4.6          1.5  Iris-versicolor\n",
            "89           5.5          2.5           4.0          1.3  Iris-versicolor\n",
            "77           6.7          3.0           5.0          1.7  Iris-versicolor\n",
            "90           5.5          2.6           4.4          1.2  Iris-versicolor\n",
            "55           5.7          2.8           4.5          1.3  Iris-versicolor\n",
            "86           6.7          3.1           4.7          1.5  Iris-versicolor\n",
            "68           6.2          2.2           4.5          1.5  Iris-versicolor\n",
            "84           5.4          3.0           4.5          1.5  Iris-versicolor\n",
            "87           6.3          2.3           4.4          1.3  Iris-versicolor\n",
            "76           6.8          2.8           4.8          1.4  Iris-versicolor\n",
            "70           5.9          3.2           4.8          1.8  Iris-versicolor\n",
            "73           6.1          2.8           4.7          1.2  Iris-versicolor\n",
            "64           5.6          2.9           3.6          1.3  Iris-versicolor\n",
            "81           5.5          2.4           3.7          1.0  Iris-versicolor\n",
            "93           5.0          2.3           3.3          1.0  Iris-versicolor\n",
            "56           6.3          3.3           4.7          1.6  Iris-versicolor\n",
            "98           5.1          2.5           3.0          1.1  Iris-versicolor\n",
            "75           6.6          3.0           4.4          1.4  Iris-versicolor\n",
            "91           6.1          3.0           4.6          1.4  Iris-versicolor\n",
            "96           5.7          2.9           4.2          1.3  Iris-versicolor\n",
            "99           5.7          2.8           4.1          1.3  Iris-versicolor\n",
            "72           6.3          2.5           4.9          1.5  Iris-versicolor\n",
            "    sepal-length  sepal-width  petal-length  petal-width      species\n",
            "3            4.6          3.1           1.5          0.2  Iris-setosa\n",
            "27           5.2          3.5           1.5          0.2  Iris-setosa\n",
            "10           5.4          3.7           1.5          0.2  Iris-setosa\n",
            "38           4.4          3.0           1.3          0.2  Iris-setosa\n",
            "22           4.6          3.6           1.0          0.2  Iris-setosa\n",
            "19           5.1          3.8           1.5          0.3  Iris-setosa\n",
            "20           5.4          3.4           1.7          0.2  Iris-setosa\n",
            "0            5.1          3.5           1.4          0.2  Iris-setosa\n",
            "16           5.4          3.9           1.3          0.4  Iris-setosa\n",
            "12           4.8          3.0           1.4          0.1  Iris-setosa\n",
            "31           5.4          3.4           1.5          0.4  Iris-setosa\n",
            "2            4.7          3.2           1.3          0.2  Iris-setosa\n",
            "24           4.8          3.4           1.9          0.2  Iris-setosa\n",
            "29           4.7          3.2           1.6          0.2  Iris-setosa\n",
            "48           5.3          3.7           1.5          0.2  Iris-setosa\n",
            "32           5.2          4.1           1.5          0.1  Iris-setosa\n",
            "41           4.5          2.3           1.3          0.3  Iris-setosa\n",
            "35           5.0          3.2           1.2          0.2  Iris-setosa\n",
            "9            4.9          3.1           1.5          0.1  Iris-setosa\n",
            "47           4.6          3.2           1.4          0.2  Iris-setosa\n",
            "7            5.0          3.4           1.5          0.2  Iris-setosa\n",
            "23           5.1          3.3           1.7          0.5  Iris-setosa\n",
            "5            5.4          3.9           1.7          0.4  Iris-setosa\n",
            "13           4.3          3.0           1.1          0.1  Iris-setosa\n",
            "8            4.4          2.9           1.4          0.2  Iris-setosa\n",
            "15           5.7          4.4           1.5          0.4  Iris-setosa\n",
            "39           5.1          3.4           1.5          0.2  Iris-setosa\n",
            "49           5.0          3.3           1.4          0.2  Iris-setosa\n",
            "46           5.1          3.8           1.6          0.2  Iris-setosa\n",
            "4            5.0          3.6           1.4          0.2  Iris-setosa\n",
            "18           5.7          3.8           1.7          0.3  Iris-setosa\n",
            "14           5.8          4.0           1.2          0.2  Iris-setosa\n",
            "17           5.1          3.5           1.4          0.3  Iris-setosa\n",
            "11           4.8          3.4           1.6          0.2  Iris-setosa\n",
            "1            4.9          3.0           1.4          0.2  Iris-setosa\n",
            "37           4.9          3.1           1.5          0.1  Iris-setosa\n",
            "43           5.0          3.5           1.6          0.6  Iris-setosa\n"
          ]
        }
      ]
    },
    {
      "cell_type": "code",
      "metadata": {
        "id": "rAahb5HSWiw-",
        "colab": {
          "base_uri": "https://localhost:8080/"
        },
        "outputId": "d725e125-7f2c-4699-f47d-db4179bb6c07"
      },
      "source": [
        "sepal_length_mean = train['sepal-length'].mean()\n",
        "sepal_width_mean = train['sepal-width'].mean()\n",
        "petal_length_mean = train['petal-length'].mean()\n",
        "petal_width_mean = train['petal-width'].mean()    \n",
        "# Print the four means and compare to the output of train.describe() to check that they have been calculated correctly.\n",
        "print('sepal_length_mean = ', sepal_length_mean, ' sepal_width_mean = ', sepal_width_mean)\n",
        "print('petal_length_mean = ', petal_length_mean, ' petal_width_mean =', petal_width_mean)\n"
      ],
      "execution_count": null,
      "outputs": [
        {
          "output_type": "stream",
          "name": "stdout",
          "text": [
            "sepal_length_mean =  5.81142857142857  sepal_width_mean =  3.066666666666667\n",
            "petal_length_mean =  3.6552380952380954  petal_width_mean = 1.1342857142857146\n"
          ]
        }
      ]
    },
    {
      "cell_type": "code",
      "source": [
        "# see the value of the means of the training set.\n",
        "train.describe()"
      ],
      "metadata": {
        "colab": {
          "base_uri": "https://localhost:8080/",
          "height": 300
        },
        "id": "TxPgAU9B3eW0",
        "outputId": "40e3b17f-98be-4eb8-d26c-5762bbf8827b"
      },
      "execution_count": null,
      "outputs": [
        {
          "output_type": "execute_result",
          "data": {
            "text/plain": [
              "       sepal-length  sepal-width  petal-length  petal-width\n",
              "count    105.000000   105.000000    105.000000   105.000000\n",
              "mean       5.811429     3.066667      3.655238     1.134286\n",
              "std        0.849357     0.456295      1.784764     0.749722\n",
              "min        4.300000     2.000000      1.000000     0.100000\n",
              "25%        5.100000     2.800000      1.500000     0.200000\n",
              "50%        5.700000     3.000000      4.100000     1.300000\n",
              "75%        6.400000     3.400000      5.000000     1.800000\n",
              "max        7.900000     4.400000      6.900000     2.500000"
            ],
            "text/html": [
              "\n",
              "  <div id=\"df-1a5cf60b-4eab-413a-95e5-f1f617dd5228\">\n",
              "    <div class=\"colab-df-container\">\n",
              "      <div>\n",
              "<style scoped>\n",
              "    .dataframe tbody tr th:only-of-type {\n",
              "        vertical-align: middle;\n",
              "    }\n",
              "\n",
              "    .dataframe tbody tr th {\n",
              "        vertical-align: top;\n",
              "    }\n",
              "\n",
              "    .dataframe thead th {\n",
              "        text-align: right;\n",
              "    }\n",
              "</style>\n",
              "<table border=\"1\" class=\"dataframe\">\n",
              "  <thead>\n",
              "    <tr style=\"text-align: right;\">\n",
              "      <th></th>\n",
              "      <th>sepal-length</th>\n",
              "      <th>sepal-width</th>\n",
              "      <th>petal-length</th>\n",
              "      <th>petal-width</th>\n",
              "    </tr>\n",
              "  </thead>\n",
              "  <tbody>\n",
              "    <tr>\n",
              "      <th>count</th>\n",
              "      <td>105.000000</td>\n",
              "      <td>105.000000</td>\n",
              "      <td>105.000000</td>\n",
              "      <td>105.000000</td>\n",
              "    </tr>\n",
              "    <tr>\n",
              "      <th>mean</th>\n",
              "      <td>5.811429</td>\n",
              "      <td>3.066667</td>\n",
              "      <td>3.655238</td>\n",
              "      <td>1.134286</td>\n",
              "    </tr>\n",
              "    <tr>\n",
              "      <th>std</th>\n",
              "      <td>0.849357</td>\n",
              "      <td>0.456295</td>\n",
              "      <td>1.784764</td>\n",
              "      <td>0.749722</td>\n",
              "    </tr>\n",
              "    <tr>\n",
              "      <th>min</th>\n",
              "      <td>4.300000</td>\n",
              "      <td>2.000000</td>\n",
              "      <td>1.000000</td>\n",
              "      <td>0.100000</td>\n",
              "    </tr>\n",
              "    <tr>\n",
              "      <th>25%</th>\n",
              "      <td>5.100000</td>\n",
              "      <td>2.800000</td>\n",
              "      <td>1.500000</td>\n",
              "      <td>0.200000</td>\n",
              "    </tr>\n",
              "    <tr>\n",
              "      <th>50%</th>\n",
              "      <td>5.700000</td>\n",
              "      <td>3.000000</td>\n",
              "      <td>4.100000</td>\n",
              "      <td>1.300000</td>\n",
              "    </tr>\n",
              "    <tr>\n",
              "      <th>75%</th>\n",
              "      <td>6.400000</td>\n",
              "      <td>3.400000</td>\n",
              "      <td>5.000000</td>\n",
              "      <td>1.800000</td>\n",
              "    </tr>\n",
              "    <tr>\n",
              "      <th>max</th>\n",
              "      <td>7.900000</td>\n",
              "      <td>4.400000</td>\n",
              "      <td>6.900000</td>\n",
              "      <td>2.500000</td>\n",
              "    </tr>\n",
              "  </tbody>\n",
              "</table>\n",
              "</div>\n",
              "      <button class=\"colab-df-convert\" onclick=\"convertToInteractive('df-1a5cf60b-4eab-413a-95e5-f1f617dd5228')\"\n",
              "              title=\"Convert this dataframe to an interactive table.\"\n",
              "              style=\"display:none;\">\n",
              "        \n",
              "  <svg xmlns=\"http://www.w3.org/2000/svg\" height=\"24px\"viewBox=\"0 0 24 24\"\n",
              "       width=\"24px\">\n",
              "    <path d=\"M0 0h24v24H0V0z\" fill=\"none\"/>\n",
              "    <path d=\"M18.56 5.44l.94 2.06.94-2.06 2.06-.94-2.06-.94-.94-2.06-.94 2.06-2.06.94zm-11 1L8.5 8.5l.94-2.06 2.06-.94-2.06-.94L8.5 2.5l-.94 2.06-2.06.94zm10 10l.94 2.06.94-2.06 2.06-.94-2.06-.94-.94-2.06-.94 2.06-2.06.94z\"/><path d=\"M17.41 7.96l-1.37-1.37c-.4-.4-.92-.59-1.43-.59-.52 0-1.04.2-1.43.59L10.3 9.45l-7.72 7.72c-.78.78-.78 2.05 0 2.83L4 21.41c.39.39.9.59 1.41.59.51 0 1.02-.2 1.41-.59l7.78-7.78 2.81-2.81c.8-.78.8-2.07 0-2.86zM5.41 20L4 18.59l7.72-7.72 1.47 1.35L5.41 20z\"/>\n",
              "  </svg>\n",
              "      </button>\n",
              "      \n",
              "  <style>\n",
              "    .colab-df-container {\n",
              "      display:flex;\n",
              "      flex-wrap:wrap;\n",
              "      gap: 12px;\n",
              "    }\n",
              "\n",
              "    .colab-df-convert {\n",
              "      background-color: #E8F0FE;\n",
              "      border: none;\n",
              "      border-radius: 50%;\n",
              "      cursor: pointer;\n",
              "      display: none;\n",
              "      fill: #1967D2;\n",
              "      height: 32px;\n",
              "      padding: 0 0 0 0;\n",
              "      width: 32px;\n",
              "    }\n",
              "\n",
              "    .colab-df-convert:hover {\n",
              "      background-color: #E2EBFA;\n",
              "      box-shadow: 0px 1px 2px rgba(60, 64, 67, 0.3), 0px 1px 3px 1px rgba(60, 64, 67, 0.15);\n",
              "      fill: #174EA6;\n",
              "    }\n",
              "\n",
              "    [theme=dark] .colab-df-convert {\n",
              "      background-color: #3B4455;\n",
              "      fill: #D2E3FC;\n",
              "    }\n",
              "\n",
              "    [theme=dark] .colab-df-convert:hover {\n",
              "      background-color: #434B5C;\n",
              "      box-shadow: 0px 1px 3px 1px rgba(0, 0, 0, 0.15);\n",
              "      filter: drop-shadow(0px 1px 2px rgba(0, 0, 0, 0.3));\n",
              "      fill: #FFFFFF;\n",
              "    }\n",
              "  </style>\n",
              "\n",
              "      <script>\n",
              "        const buttonEl =\n",
              "          document.querySelector('#df-1a5cf60b-4eab-413a-95e5-f1f617dd5228 button.colab-df-convert');\n",
              "        buttonEl.style.display =\n",
              "          google.colab.kernel.accessAllowed ? 'block' : 'none';\n",
              "\n",
              "        async function convertToInteractive(key) {\n",
              "          const element = document.querySelector('#df-1a5cf60b-4eab-413a-95e5-f1f617dd5228');\n",
              "          const dataTable =\n",
              "            await google.colab.kernel.invokeFunction('convertToInteractive',\n",
              "                                                     [key], {});\n",
              "          if (!dataTable) return;\n",
              "\n",
              "          const docLinkHtml = 'Like what you see? Visit the ' +\n",
              "            '<a target=\"_blank\" href=https://colab.research.google.com/notebooks/data_table.ipynb>data table notebook</a>'\n",
              "            + ' to learn more about interactive tables.';\n",
              "          element.innerHTML = '';\n",
              "          dataTable['output_type'] = 'display_data';\n",
              "          await google.colab.output.renderOutput(dataTable, element);\n",
              "          const docLink = document.createElement('div');\n",
              "          docLink.innerHTML = docLinkHtml;\n",
              "          element.appendChild(docLink);\n",
              "        }\n",
              "      </script>\n",
              "    </div>\n",
              "  </div>\n",
              "  "
            ]
          },
          "metadata": {},
          "execution_count": 310
        }
      ]
    },
    {
      "cell_type": "code",
      "source": [
        "#Create a new dataframe with the numeric columns encoded so show a 1 for any value that is above the mean for its column and 0 for any that isn't.\n",
        "# get the mean for each column and apply a function to encode into 1 (above mean) and 0 (mean or below mean)\n",
        "def encode(df, **kwds):\n",
        "  key = kwds['key']\n",
        "  indicator = kwds['indicator']\n",
        "  if df[key] >= indicator:\n",
        "    return 1  \n",
        "  return 0\n",
        "\n",
        "# run the function for each column so that each of the four columns are encoded, then drop the original columns, saving as a new dataframe\n",
        "train['encodedmean-sl'] = train.apply(encode, axis=1, key='sepal-length', indicator=sepal_length_mean)\n",
        "train['encodedmean-sw'] = train.apply(encode, axis=1, key='sepal-width', indicator=sepal_width_mean)\n",
        "train['encodedmean-pl'] = train.apply(encode, axis=1, key='petal-length', indicator=petal_length_mean)\n",
        "train['encodedmean-pw'] = train.apply(encode, axis=1, key='petal-width', indicator=petal_width_mean)\n",
        "# encodedmean_train = train[(train['species']=='Iris-virginica')][['species','encodedmean-sl','encodedmean-sw','encodedmean-pl','encodedmean-pw']]\n",
        "encodedmean_train = train.copy()\n",
        "encodedmean_train.drop('sepal-length', axis=1, inplace=True) #inplace=True : specifies the drop operation to be in same dataframe rather creating a copy of the dataframe after drop.\n",
        "encodedmean_train.drop('sepal-width', axis=1, inplace=True)\n",
        "encodedmean_train.drop('petal-length', axis=1, inplace=True)\n",
        "encodedmean_train.drop('petal-width', axis=1, inplace=True)\n",
        "# display(train) \n",
        "display(encodedmean_train)"
      ],
      "metadata": {
        "colab": {
          "base_uri": "https://localhost:8080/",
          "height": 423
        },
        "id": "jDl5vlvB2_uq",
        "outputId": "18f40e6b-df1d-4e8d-882c-11ddffc19d06"
      },
      "execution_count": null,
      "outputs": [
        {
          "output_type": "display_data",
          "data": {
            "text/plain": [
              "             species  encodedmean-sl  encodedmean-sw  encodedmean-pl  \\\n",
              "3        Iris-setosa               0               1               0   \n",
              "27       Iris-setosa               0               1               0   \n",
              "80   Iris-versicolor               0               0               1   \n",
              "59   Iris-versicolor               0               0               1   \n",
              "128   Iris-virginica               1               0               1   \n",
              "..               ...             ...             ...             ...   \n",
              "96   Iris-versicolor               0               0               1   \n",
              "103   Iris-virginica               1               0               1   \n",
              "99   Iris-versicolor               0               0               1   \n",
              "72   Iris-versicolor               1               0               1   \n",
              "43       Iris-setosa               0               1               0   \n",
              "\n",
              "     encodedmean-pw  \n",
              "3                 0  \n",
              "27                0  \n",
              "80                0  \n",
              "59                1  \n",
              "128               1  \n",
              "..              ...  \n",
              "96                1  \n",
              "103               1  \n",
              "99                1  \n",
              "72                1  \n",
              "43                0  \n",
              "\n",
              "[105 rows x 5 columns]"
            ],
            "text/html": [
              "\n",
              "  <div id=\"df-4c974918-749e-4880-92b7-976786178d47\">\n",
              "    <div class=\"colab-df-container\">\n",
              "      <div>\n",
              "<style scoped>\n",
              "    .dataframe tbody tr th:only-of-type {\n",
              "        vertical-align: middle;\n",
              "    }\n",
              "\n",
              "    .dataframe tbody tr th {\n",
              "        vertical-align: top;\n",
              "    }\n",
              "\n",
              "    .dataframe thead th {\n",
              "        text-align: right;\n",
              "    }\n",
              "</style>\n",
              "<table border=\"1\" class=\"dataframe\">\n",
              "  <thead>\n",
              "    <tr style=\"text-align: right;\">\n",
              "      <th></th>\n",
              "      <th>species</th>\n",
              "      <th>encodedmean-sl</th>\n",
              "      <th>encodedmean-sw</th>\n",
              "      <th>encodedmean-pl</th>\n",
              "      <th>encodedmean-pw</th>\n",
              "    </tr>\n",
              "  </thead>\n",
              "  <tbody>\n",
              "    <tr>\n",
              "      <th>3</th>\n",
              "      <td>Iris-setosa</td>\n",
              "      <td>0</td>\n",
              "      <td>1</td>\n",
              "      <td>0</td>\n",
              "      <td>0</td>\n",
              "    </tr>\n",
              "    <tr>\n",
              "      <th>27</th>\n",
              "      <td>Iris-setosa</td>\n",
              "      <td>0</td>\n",
              "      <td>1</td>\n",
              "      <td>0</td>\n",
              "      <td>0</td>\n",
              "    </tr>\n",
              "    <tr>\n",
              "      <th>80</th>\n",
              "      <td>Iris-versicolor</td>\n",
              "      <td>0</td>\n",
              "      <td>0</td>\n",
              "      <td>1</td>\n",
              "      <td>0</td>\n",
              "    </tr>\n",
              "    <tr>\n",
              "      <th>59</th>\n",
              "      <td>Iris-versicolor</td>\n",
              "      <td>0</td>\n",
              "      <td>0</td>\n",
              "      <td>1</td>\n",
              "      <td>1</td>\n",
              "    </tr>\n",
              "    <tr>\n",
              "      <th>128</th>\n",
              "      <td>Iris-virginica</td>\n",
              "      <td>1</td>\n",
              "      <td>0</td>\n",
              "      <td>1</td>\n",
              "      <td>1</td>\n",
              "    </tr>\n",
              "    <tr>\n",
              "      <th>...</th>\n",
              "      <td>...</td>\n",
              "      <td>...</td>\n",
              "      <td>...</td>\n",
              "      <td>...</td>\n",
              "      <td>...</td>\n",
              "    </tr>\n",
              "    <tr>\n",
              "      <th>96</th>\n",
              "      <td>Iris-versicolor</td>\n",
              "      <td>0</td>\n",
              "      <td>0</td>\n",
              "      <td>1</td>\n",
              "      <td>1</td>\n",
              "    </tr>\n",
              "    <tr>\n",
              "      <th>103</th>\n",
              "      <td>Iris-virginica</td>\n",
              "      <td>1</td>\n",
              "      <td>0</td>\n",
              "      <td>1</td>\n",
              "      <td>1</td>\n",
              "    </tr>\n",
              "    <tr>\n",
              "      <th>99</th>\n",
              "      <td>Iris-versicolor</td>\n",
              "      <td>0</td>\n",
              "      <td>0</td>\n",
              "      <td>1</td>\n",
              "      <td>1</td>\n",
              "    </tr>\n",
              "    <tr>\n",
              "      <th>72</th>\n",
              "      <td>Iris-versicolor</td>\n",
              "      <td>1</td>\n",
              "      <td>0</td>\n",
              "      <td>1</td>\n",
              "      <td>1</td>\n",
              "    </tr>\n",
              "    <tr>\n",
              "      <th>43</th>\n",
              "      <td>Iris-setosa</td>\n",
              "      <td>0</td>\n",
              "      <td>1</td>\n",
              "      <td>0</td>\n",
              "      <td>0</td>\n",
              "    </tr>\n",
              "  </tbody>\n",
              "</table>\n",
              "<p>105 rows × 5 columns</p>\n",
              "</div>\n",
              "      <button class=\"colab-df-convert\" onclick=\"convertToInteractive('df-4c974918-749e-4880-92b7-976786178d47')\"\n",
              "              title=\"Convert this dataframe to an interactive table.\"\n",
              "              style=\"display:none;\">\n",
              "        \n",
              "  <svg xmlns=\"http://www.w3.org/2000/svg\" height=\"24px\"viewBox=\"0 0 24 24\"\n",
              "       width=\"24px\">\n",
              "    <path d=\"M0 0h24v24H0V0z\" fill=\"none\"/>\n",
              "    <path d=\"M18.56 5.44l.94 2.06.94-2.06 2.06-.94-2.06-.94-.94-2.06-.94 2.06-2.06.94zm-11 1L8.5 8.5l.94-2.06 2.06-.94-2.06-.94L8.5 2.5l-.94 2.06-2.06.94zm10 10l.94 2.06.94-2.06 2.06-.94-2.06-.94-.94-2.06-.94 2.06-2.06.94z\"/><path d=\"M17.41 7.96l-1.37-1.37c-.4-.4-.92-.59-1.43-.59-.52 0-1.04.2-1.43.59L10.3 9.45l-7.72 7.72c-.78.78-.78 2.05 0 2.83L4 21.41c.39.39.9.59 1.41.59.51 0 1.02-.2 1.41-.59l7.78-7.78 2.81-2.81c.8-.78.8-2.07 0-2.86zM5.41 20L4 18.59l7.72-7.72 1.47 1.35L5.41 20z\"/>\n",
              "  </svg>\n",
              "      </button>\n",
              "      \n",
              "  <style>\n",
              "    .colab-df-container {\n",
              "      display:flex;\n",
              "      flex-wrap:wrap;\n",
              "      gap: 12px;\n",
              "    }\n",
              "\n",
              "    .colab-df-convert {\n",
              "      background-color: #E8F0FE;\n",
              "      border: none;\n",
              "      border-radius: 50%;\n",
              "      cursor: pointer;\n",
              "      display: none;\n",
              "      fill: #1967D2;\n",
              "      height: 32px;\n",
              "      padding: 0 0 0 0;\n",
              "      width: 32px;\n",
              "    }\n",
              "\n",
              "    .colab-df-convert:hover {\n",
              "      background-color: #E2EBFA;\n",
              "      box-shadow: 0px 1px 2px rgba(60, 64, 67, 0.3), 0px 1px 3px 1px rgba(60, 64, 67, 0.15);\n",
              "      fill: #174EA6;\n",
              "    }\n",
              "\n",
              "    [theme=dark] .colab-df-convert {\n",
              "      background-color: #3B4455;\n",
              "      fill: #D2E3FC;\n",
              "    }\n",
              "\n",
              "    [theme=dark] .colab-df-convert:hover {\n",
              "      background-color: #434B5C;\n",
              "      box-shadow: 0px 1px 3px 1px rgba(0, 0, 0, 0.15);\n",
              "      filter: drop-shadow(0px 1px 2px rgba(0, 0, 0, 0.3));\n",
              "      fill: #FFFFFF;\n",
              "    }\n",
              "  </style>\n",
              "\n",
              "      <script>\n",
              "        const buttonEl =\n",
              "          document.querySelector('#df-4c974918-749e-4880-92b7-976786178d47 button.colab-df-convert');\n",
              "        buttonEl.style.display =\n",
              "          google.colab.kernel.accessAllowed ? 'block' : 'none';\n",
              "\n",
              "        async function convertToInteractive(key) {\n",
              "          const element = document.querySelector('#df-4c974918-749e-4880-92b7-976786178d47');\n",
              "          const dataTable =\n",
              "            await google.colab.kernel.invokeFunction('convertToInteractive',\n",
              "                                                     [key], {});\n",
              "          if (!dataTable) return;\n",
              "\n",
              "          const docLinkHtml = 'Like what you see? Visit the ' +\n",
              "            '<a target=\"_blank\" href=https://colab.research.google.com/notebooks/data_table.ipynb>data table notebook</a>'\n",
              "            + ' to learn more about interactive tables.';\n",
              "          element.innerHTML = '';\n",
              "          dataTable['output_type'] = 'display_data';\n",
              "          await google.colab.output.renderOutput(dataTable, element);\n",
              "          const docLink = document.createElement('div');\n",
              "          docLink.innerHTML = docLinkHtml;\n",
              "          element.appendChild(docLink);\n",
              "        }\n",
              "      </script>\n",
              "    </div>\n",
              "  </div>\n",
              "  "
            ]
          },
          "metadata": {}
        }
      ]
    },
    {
      "cell_type": "markdown",
      "metadata": {
        "id": "t9lP8lC1dCsa"
      },
      "source": [
        "### Exercise 4 - Calculate the proportion of values on or above the mean that are of each species\n",
        "\n",
        "We are going to focus on the `Iris-virginica` species first.\n",
        "\n",
        "First we will calculate, for each dimension column (`sepal-length, sepal-width, petal-length, petal-width`) what proportion of values in that column, where the value is on or above the mean, are classified as `Iris-virginica`.\n",
        "\n",
        "We will do this by filtering all the records in each column of the the `train` set that are on or above the mean and match the species .  Then use the outcome to calculate the proportion of the full `train` set for which a value on or above the mean that are of species `Iris-virginica`.\n",
        "\n",
        "*  filter for values in the `sepal-length` column being on or above the mean and the species column being `Iris-virginica`.  Then divide the count of rows in this filtered dataset by the count of rows in a second data set, filtered for just the value being on or above the mean.\n",
        "\n",
        "*  Do this for all four columns, for `Iris-virginica`  (4 operations).\n",
        "\n",
        "Print the results to see which columns look like they might most reliably predict the species as `Iris-virginica` (the result is as close as possible to 1).  The highest numbers may indicate the most reliable indicators, but we will do some more before coming to this conclusion.\n",
        "\n",
        "*  By definition, those on or above the mean that are NOT Iris_virginica will be `1 - the proportion of those that are.  Calculate these\n",
        "\n",
        "The first one has been done for you.\n",
        "\n",
        "*  We will also need the proportion of those BELOW the median that are NOT Iris-virginica.  Calculate these in the same way\n",
        "\n"
      ]
    },
    {
      "cell_type": "code",
      "source": [
        "print(encodedmean_train['species'].value_counts())\n",
        "encodedmean_train.shape"
      ],
      "metadata": {
        "colab": {
          "base_uri": "https://localhost:8080/"
        },
        "id": "o7M_ahcoU5nB",
        "outputId": "c0df3365-fa50-4800-87a5-779ae2c8ea4c"
      },
      "execution_count": null,
      "outputs": [
        {
          "output_type": "stream",
          "name": "stdout",
          "text": [
            "Iris-versicolor    41\n",
            "Iris-setosa        37\n",
            "Iris-virginica     27\n",
            "Name: species, dtype: int64\n"
          ]
        },
        {
          "output_type": "execute_result",
          "data": {
            "text/plain": [
              "(105, 5)"
            ]
          },
          "metadata": {},
          "execution_count": 312
        }
      ]
    },
    {
      "cell_type": "code",
      "source": [
        "encodedmean_train[encodedmean_train['encodedmean-sl'] == 1].shape[0]"
      ],
      "metadata": {
        "colab": {
          "base_uri": "https://localhost:8080/"
        },
        "id": "CIJs63bdVFkH",
        "outputId": "d474a41a-2914-4236-a05e-d8052e5be4a3"
      },
      "execution_count": null,
      "outputs": [
        {
          "output_type": "execute_result",
          "data": {
            "text/plain": [
              "45"
            ]
          },
          "metadata": {},
          "execution_count": 313
        }
      ]
    },
    {
      "cell_type": "code",
      "metadata": {
        "id": "W9mzsFwbyruW"
      },
      "source": [
        "\n",
        "# the proportion of those ABOVE the mean\n",
        "def cal_proportion_abovemean(df, specie, part_field):\n",
        "  results = df[(df[part_field] == 1) & (df['species'] == specie)]\n",
        "  proportion = results['species'].count()/ df[df[part_field] == 1].shape[0] #df[df[part_field] == 1]['species'].count()\n",
        "  print(part_field , \"  ,number of row = \",  results['species'].count(), \",total row above mean = \", df[df[part_field] == 1]['species'].count(),\" ,Proportion = \", proportion)\n",
        "  return results, proportion\n"
      ],
      "execution_count": null,
      "outputs": []
    },
    {
      "cell_type": "code",
      "source": [
        "# Get the dataframes and proportion calcuations of those ABOVE the mean for 3 species\n",
        "print(\"-----------------------------------value >= mean for Iris-virginica -----------------------------------\")\n",
        "df_col1_virginica_abovemean,proportion_col1_virginica_abovemean = cal_proportion_abovemean(encodedmean_train, 'Iris-virginica', 'encodedmean-sl')\n",
        "# display(df_col1_virginica_abovemean)\n",
        "df_col2_virginica_abovemean,proportion_col2_virginica_abovemean = cal_proportion_abovemean(encodedmean_train, 'Iris-virginica', 'encodedmean-sw') \n",
        "df_col3_virginica_abovemean,proportion_col3_virginica_abovemean = cal_proportion_abovemean(encodedmean_train, 'Iris-virginica', 'encodedmean-pl') \n",
        "df_col4_virginica_abovemean,proportion_col4_virginica_abovemean = cal_proportion_abovemean(encodedmean_train, 'Iris-virginica', 'encodedmean-pw') \n",
        "print(\"-----------------------------------value >= mean for Iris-versicolor-----------------------------------\")\n",
        "df_col1_versicolor_abovemean,proportion_col1_versicolor_abovemean = cal_proportion_abovemean(encodedmean_train, 'Iris-versicolor', 'encodedmean-sl') \n",
        "df_col2_versicolor_abovemean,proportion_col2_versicolor_abovemean = cal_proportion_abovemean(encodedmean_train, 'Iris-versicolor', 'encodedmean-sw') \n",
        "df_col3_versicolor_abovemean,proportion_col3_versicolor_abovemean = cal_proportion_abovemean(encodedmean_train, 'Iris-versicolor', 'encodedmean-pl') \n",
        "df_col4_versicolor_abovemean,proportion_col4_versicolor_abovemean = cal_proportion_abovemean(encodedmean_train, 'Iris-versicolor', 'encodedmean-pw') \n",
        "\n",
        "print(\"-----------------------------------value >= mean for Iris-setosa-----------------------------------\")\n",
        "df_col1_setosa_abovemean,proportion_col1_setosa_abovemean = cal_proportion_abovemean(encodedmean_train, 'Iris-setosa', 'encodedmean-sl') \n",
        "df_col2_setosa_abovemean,proportion_col2_setosa_abovemean = cal_proportion_abovemean(encodedmean_train, 'Iris-setosa', 'encodedmean-sw') \n",
        "df_col3_setosa_abovemean,proportion_col3_setosa_abovemean = cal_proportion_abovemean(encodedmean_train, 'Iris-setosa', 'encodedmean-pl') \n",
        "df_col4_setosa_abovemean,proportion_col4_setosa_abovemean = cal_proportion_abovemean(encodedmean_train, 'Iris-setosa', 'encodedmean-pw') \n"
      ],
      "metadata": {
        "colab": {
          "base_uri": "https://localhost:8080/"
        },
        "id": "6Oci0cLL_sqo",
        "outputId": "f7e76d84-f4d6-4643-8ef4-6d51c0a174f1"
      },
      "execution_count": null,
      "outputs": [
        {
          "output_type": "stream",
          "name": "stdout",
          "text": [
            "-----------------------------------value >= mean for Iris-virginica -----------------------------------\n",
            "encodedmean-sl   ,number of row =  26 ,total row above mean =  45  ,Proportion =  0.5777777777777777\n",
            "encodedmean-sw   ,number of row =  12 ,total row above mean =  50  ,Proportion =  0.24\n",
            "encodedmean-pl   ,number of row =  27 ,total row above mean =  62  ,Proportion =  0.43548387096774194\n",
            "encodedmean-pw   ,number of row =  27 ,total row above mean =  60  ,Proportion =  0.45\n",
            "-----------------------------------value >= mean for Iris-versicolor-----------------------------------\n",
            "encodedmean-sl   ,number of row =  19 ,total row above mean =  45  ,Proportion =  0.4222222222222222\n",
            "encodedmean-sw   ,number of row =  7 ,total row above mean =  50  ,Proportion =  0.14\n",
            "encodedmean-pl   ,number of row =  35 ,total row above mean =  62  ,Proportion =  0.5645161290322581\n",
            "encodedmean-pw   ,number of row =  33 ,total row above mean =  60  ,Proportion =  0.55\n",
            "-----------------------------------value >= mean for Iris-setosa-----------------------------------\n",
            "encodedmean-sl   ,number of row =  0 ,total row above mean =  45  ,Proportion =  0.0\n",
            "encodedmean-sw   ,number of row =  31 ,total row above mean =  50  ,Proportion =  0.62\n",
            "encodedmean-pl   ,number of row =  0 ,total row above mean =  62  ,Proportion =  0.0\n",
            "encodedmean-pw   ,number of row =  0 ,total row above mean =  60  ,Proportion =  0.0\n"
          ]
        }
      ]
    },
    {
      "cell_type": "markdown",
      "metadata": {
        "id": "M-HgetRIxJpx"
      },
      "source": [
        "### Exercise 5 - Calculate the proportion of each column where the value is below median that are of species `Iris-virginica`\n",
        "\n",
        "Repeat the code above, this time looking for values below the mean"
      ]
    },
    {
      "cell_type": "code",
      "source": [
        "# the proportion of those BELOW the mean\n",
        "def cal_proportion_belowmean(df, specie, part_field):\n",
        "  results = df[(df[part_field] == 0) & (df['species'] == specie)]\n",
        "  proportion = results['species'].count()/ df[df[part_field] == 0].shape[0] # df[df[part_field] == 0]['species'].count()\n",
        "  print(part_field , \"  number of row = \",  results['species'].count(), \"total count below mean= \",df[df[part_field] == 0]['species'].count(), \" Proportion = \", proportion)\n",
        "  return results, proportion  "
      ],
      "metadata": {
        "id": "4CJ1O4rpEEew"
      },
      "execution_count": null,
      "outputs": []
    },
    {
      "cell_type": "code",
      "source": [
        "# Get the dataframes and proportion calcuations of those BELOW the mean for 3 species\n",
        "print(\"-----------------------------------value < mean for Iris-virginica -----------------------------------\")\n",
        "df_col1_virginica_belowmean,proportion_col1_virginica_belowmean = cal_proportion_belowmean(encodedmean_train, 'Iris-virginica', 'encodedmean-sl')\n",
        "# display(df_col1_virginica)\n",
        "df_col2_virginica_belowmean,proportion_col2_virginica_belowmean = cal_proportion_belowmean(encodedmean_train, 'Iris-virginica', 'encodedmean-sw') \n",
        "df_col3_virginica_belowmean,proportion_col3_virginica_belowmean = cal_proportion_belowmean(encodedmean_train, 'Iris-virginica', 'encodedmean-pl') \n",
        "df_col4_virginica_belowmean,proportion_col4_virginica_belowmean = cal_proportion_belowmean(encodedmean_train, 'Iris-virginica', 'encodedmean-pw') \n",
        "print(\"-----------------------------------value < mean for Iris-versicolor-----------------------------------\")\n",
        "df_col1_versicolor_belowmean,proportion_col1_versicolor_belowmean = cal_proportion_belowmean(encodedmean_train, 'Iris-versicolor', 'encodedmean-sl') \n",
        "df_col2_versicolor_belowmean,proportion_col2_versicolor_belowmean = cal_proportion_belowmean(encodedmean_train, 'Iris-versicolor', 'encodedmean-sw') \n",
        "df_col3_versicolor_belowmean,proportion_col3_versicolor_belowmean = cal_proportion_belowmean(encodedmean_train, 'Iris-versicolor', 'encodedmean-pl') \n",
        "df_col4_versicolor_belowmean,proportion_col4_versicolor_belowmean = cal_proportion_belowmean(encodedmean_train, 'Iris-versicolor', 'encodedmean-pw') \n",
        "\n",
        "print(\"-----------------------------------value < mean for Iris-setosa-----------------------------------\")\n",
        "df_col1_setosa_belowmean,proportion_col1_setosa_belowmean = cal_proportion_belowmean(encodedmean_train, 'Iris-setosa', 'encodedmean-sl') \n",
        "df_col2_setosa_belowmean,proportion_col2_setosa_belowmean = cal_proportion_belowmean(encodedmean_train, 'Iris-setosa', 'encodedmean-sw') \n",
        "df_col3_setosa_belowmean,proportion_col3_setosa_belowmean = cal_proportion_belowmean(encodedmean_train, 'Iris-setosa', 'encodedmean-pl') \n",
        "df_col4_setosa_belowmean,proportion_col4_setosa_belowmean = cal_proportion_belowmean(encodedmean_train, 'Iris-setosa', 'encodedmean-pw') \n"
      ],
      "metadata": {
        "colab": {
          "base_uri": "https://localhost:8080/"
        },
        "id": "Gc9j8WsuD7XK",
        "outputId": "c92071c4-e962-4bf6-c280-c1f9535e8dba"
      },
      "execution_count": null,
      "outputs": [
        {
          "output_type": "stream",
          "name": "stdout",
          "text": [
            "-----------------------------------value < mean for Iris-virginica -----------------------------------\n",
            "encodedmean-sl   number of row =  1 total count below mean=  60  Proportion =  0.016666666666666666\n",
            "encodedmean-sw   number of row =  15 total count below mean=  55  Proportion =  0.2727272727272727\n",
            "encodedmean-pl   number of row =  0 total count below mean=  43  Proportion =  0.0\n",
            "encodedmean-pw   number of row =  0 total count below mean=  45  Proportion =  0.0\n",
            "-----------------------------------value < mean for Iris-versicolor-----------------------------------\n",
            "encodedmean-sl   number of row =  22 total count below mean=  60  Proportion =  0.36666666666666664\n",
            "encodedmean-sw   number of row =  34 total count below mean=  55  Proportion =  0.6181818181818182\n",
            "encodedmean-pl   number of row =  6 total count below mean=  43  Proportion =  0.13953488372093023\n",
            "encodedmean-pw   number of row =  8 total count below mean=  45  Proportion =  0.17777777777777778\n",
            "-----------------------------------value < mean for Iris-setosa-----------------------------------\n",
            "encodedmean-sl   number of row =  37 total count below mean=  60  Proportion =  0.6166666666666667\n",
            "encodedmean-sw   number of row =  6 total count below mean=  55  Proportion =  0.10909090909090909\n",
            "encodedmean-pl   number of row =  37 total count below mean=  43  Proportion =  0.8604651162790697\n",
            "encodedmean-pw   number of row =  37 total count below mean=  45  Proportion =  0.8222222222222222\n"
          ]
        }
      ]
    },
    {
      "cell_type": "code",
      "source": [
        "# find the median for each of the 4 size columns\n",
        "# calculate the proportion of results where the value is below median that are of the species Iris-virginica\n",
        "def get_median(df, specie, col):\n",
        "  median = df[df['species']==specie][col].median()\n",
        "  return median"
      ],
      "metadata": {
        "id": "bJqKMhJIF6i-"
      },
      "execution_count": null,
      "outputs": []
    },
    {
      "cell_type": "code",
      "source": [
        "sl_median_virginica = get_median(train, 'Iris-virginica', 'sepal-length')\n",
        "sw_median_virginica = get_median(train, 'Iris-virginica', 'sepal-width')\n",
        "pl_median_virginica = get_median(train, 'Iris-virginica', 'petal-length')\n",
        "pw_median_virginica = get_median(train, 'Iris-virginica', 'petal-width')\n",
        "print('------------------------------median values of Iris-virginica for sepal petal length and width---------------')\n",
        "print('sl_median_virginica = ', sl_median_virginica, ' sw_median_virginica = ', sw_median_virginica)\n",
        "print('pl_median_virginica = ', pl_median_virginica, ' pw_median_virginica = ', pw_median_virginica)\n",
        "\n",
        "sl_median_versicolor = get_median(train, 'Iris-versicolor', 'sepal-length')\n",
        "sw_median_versicolor = get_median(train, 'Iris-versicolor', 'sepal-width')\n",
        "pl_median_versicolor = get_median(train, 'Iris-versicolor', 'petal-length')\n",
        "pw_median_versicolor = get_median(train, 'Iris-versicolor', 'petal-width')\n",
        "print('------------------------------median values of Iris-versicolor for sepal petal length and width---------------')\n",
        "print('sl_median_versicolor = ', sl_median_versicolor, ' sw_median_versicolor = ', sw_median_versicolor)\n",
        "print('pl_median_versicolor = ', pl_median_versicolor, ' pw_median_versicolor = ', pw_median_versicolor)\n",
        "\n",
        "sl_median_setosa = get_median(train, 'Iris-setosa', 'sepal-length')\n",
        "sw_median_setosa = get_median(train, 'Iris-setosa', 'sepal-width')\n",
        "pl_median_setosa = get_median(train, 'Iris-setosa', 'petal-length')\n",
        "pw_median_setosa = get_median(train, 'Iris-setosa', 'petal-width')\n",
        "print('------------------------------median values of Iris-setosa for sepal petal length and width---------------')\n",
        "print('sl_median_setosa = ', sl_median_setosa, ' sw_median_setosa = ', sw_median_setosa)\n",
        "print('pl_median_setosa = ', pl_median_setosa, ' pw_median_setosa = ', pw_median_setosa)"
      ],
      "metadata": {
        "colab": {
          "base_uri": "https://localhost:8080/"
        },
        "id": "mUey2YnJG7pD",
        "outputId": "df99c721-e614-4fd8-86d5-7995005bb743"
      },
      "execution_count": null,
      "outputs": [
        {
          "output_type": "stream",
          "name": "stdout",
          "text": [
            "------------------------------median values of Iris-virginica for sepal petal length and width---------------\n",
            "sl_median_virginica =  6.7  sw_median_virginica =  3.0\n",
            "pl_median_virginica =  5.7  pw_median_virginica =  2.1\n",
            "------------------------------median values of Iris-versicolor for sepal petal length and width---------------\n",
            "sl_median_versicolor =  5.8  sw_median_versicolor =  2.8\n",
            "pl_median_versicolor =  4.4  pw_median_versicolor =  1.3\n",
            "------------------------------median values of Iris-setosa for sepal petal length and width---------------\n",
            "sl_median_setosa =  5.0  sw_median_setosa =  3.4\n",
            "pl_median_setosa =  1.5  pw_median_setosa =  0.2\n"
          ]
        }
      ]
    },
    {
      "cell_type": "code",
      "source": [
        "# encode meidan in the dataframe: if the key value below median return 1 else return 0\n",
        "def encode_median(df, **kwds):\n",
        "  key = kwds['key']\n",
        "  indicator = kwds['indicator']\n",
        "  if df[key] < indicator:\n",
        "    return 1\n",
        "  else: \n",
        "    return 0"
      ],
      "metadata": {
        "id": "wAR8ndD2HU7x"
      },
      "execution_count": null,
      "outputs": []
    },
    {
      "cell_type": "code",
      "source": [
        "# run the function for each column so that each of the four columns are encoded, then drop the original columns, saving as a new dataframe\n",
        "train['encodedmedian-sl-vi'] = train.apply(encode_median, axis=1, key='sepal-length', indicator=sl_median_virginica)\n",
        "train['encodedmedian-sw-vi'] = train.apply(encode_median, axis=1, key='sepal-width', indicator=sw_median_virginica)\n",
        "train['encodedmedian-pl-vi'] = train.apply(encode_median, axis=1, key='petal-length', indicator=pl_median_virginica)\n",
        "train['encodedmedian-pw-vi'] = train.apply(encode_median, axis=1, key='petal-width', indicator=pw_median_virginica) \n",
        "encodedmedian_vi_train = train[(train['species']=='Iris-virginica')][['species','encodedmedian-sl-vi','encodedmedian-sw-vi','encodedmedian-pl-vi','encodedmedian-pw-vi']]\n",
        "encodedmedian_vi_train.head()\n"
      ],
      "metadata": {
        "colab": {
          "base_uri": "https://localhost:8080/",
          "height": 206
        },
        "id": "--mvuJD6VJ26",
        "outputId": "fbec5ca4-d70d-4bac-9b73-85dff51d9945"
      },
      "execution_count": null,
      "outputs": [
        {
          "output_type": "execute_result",
          "data": {
            "text/plain": [
              "            species  encodedmedian-sl-vi  encodedmedian-sw-vi  \\\n",
              "128  Iris-virginica                    1                    1   \n",
              "148  Iris-virginica                    1                    0   \n",
              "131  Iris-virginica                    0                    0   \n",
              "125  Iris-virginica                    0                    0   \n",
              "108  Iris-virginica                    0                    1   \n",
              "\n",
              "     encodedmedian-pl-vi  encodedmedian-pw-vi  \n",
              "128                    1                    0  \n",
              "148                    1                    0  \n",
              "131                    0                    1  \n",
              "125                    0                    1  \n",
              "108                    0                    1  "
            ],
            "text/html": [
              "\n",
              "  <div id=\"df-a1a086cc-d93d-4523-9b59-62f569ceb565\">\n",
              "    <div class=\"colab-df-container\">\n",
              "      <div>\n",
              "<style scoped>\n",
              "    .dataframe tbody tr th:only-of-type {\n",
              "        vertical-align: middle;\n",
              "    }\n",
              "\n",
              "    .dataframe tbody tr th {\n",
              "        vertical-align: top;\n",
              "    }\n",
              "\n",
              "    .dataframe thead th {\n",
              "        text-align: right;\n",
              "    }\n",
              "</style>\n",
              "<table border=\"1\" class=\"dataframe\">\n",
              "  <thead>\n",
              "    <tr style=\"text-align: right;\">\n",
              "      <th></th>\n",
              "      <th>species</th>\n",
              "      <th>encodedmedian-sl-vi</th>\n",
              "      <th>encodedmedian-sw-vi</th>\n",
              "      <th>encodedmedian-pl-vi</th>\n",
              "      <th>encodedmedian-pw-vi</th>\n",
              "    </tr>\n",
              "  </thead>\n",
              "  <tbody>\n",
              "    <tr>\n",
              "      <th>128</th>\n",
              "      <td>Iris-virginica</td>\n",
              "      <td>1</td>\n",
              "      <td>1</td>\n",
              "      <td>1</td>\n",
              "      <td>0</td>\n",
              "    </tr>\n",
              "    <tr>\n",
              "      <th>148</th>\n",
              "      <td>Iris-virginica</td>\n",
              "      <td>1</td>\n",
              "      <td>0</td>\n",
              "      <td>1</td>\n",
              "      <td>0</td>\n",
              "    </tr>\n",
              "    <tr>\n",
              "      <th>131</th>\n",
              "      <td>Iris-virginica</td>\n",
              "      <td>0</td>\n",
              "      <td>0</td>\n",
              "      <td>0</td>\n",
              "      <td>1</td>\n",
              "    </tr>\n",
              "    <tr>\n",
              "      <th>125</th>\n",
              "      <td>Iris-virginica</td>\n",
              "      <td>0</td>\n",
              "      <td>0</td>\n",
              "      <td>0</td>\n",
              "      <td>1</td>\n",
              "    </tr>\n",
              "    <tr>\n",
              "      <th>108</th>\n",
              "      <td>Iris-virginica</td>\n",
              "      <td>0</td>\n",
              "      <td>1</td>\n",
              "      <td>0</td>\n",
              "      <td>1</td>\n",
              "    </tr>\n",
              "  </tbody>\n",
              "</table>\n",
              "</div>\n",
              "      <button class=\"colab-df-convert\" onclick=\"convertToInteractive('df-a1a086cc-d93d-4523-9b59-62f569ceb565')\"\n",
              "              title=\"Convert this dataframe to an interactive table.\"\n",
              "              style=\"display:none;\">\n",
              "        \n",
              "  <svg xmlns=\"http://www.w3.org/2000/svg\" height=\"24px\"viewBox=\"0 0 24 24\"\n",
              "       width=\"24px\">\n",
              "    <path d=\"M0 0h24v24H0V0z\" fill=\"none\"/>\n",
              "    <path d=\"M18.56 5.44l.94 2.06.94-2.06 2.06-.94-2.06-.94-.94-2.06-.94 2.06-2.06.94zm-11 1L8.5 8.5l.94-2.06 2.06-.94-2.06-.94L8.5 2.5l-.94 2.06-2.06.94zm10 10l.94 2.06.94-2.06 2.06-.94-2.06-.94-.94-2.06-.94 2.06-2.06.94z\"/><path d=\"M17.41 7.96l-1.37-1.37c-.4-.4-.92-.59-1.43-.59-.52 0-1.04.2-1.43.59L10.3 9.45l-7.72 7.72c-.78.78-.78 2.05 0 2.83L4 21.41c.39.39.9.59 1.41.59.51 0 1.02-.2 1.41-.59l7.78-7.78 2.81-2.81c.8-.78.8-2.07 0-2.86zM5.41 20L4 18.59l7.72-7.72 1.47 1.35L5.41 20z\"/>\n",
              "  </svg>\n",
              "      </button>\n",
              "      \n",
              "  <style>\n",
              "    .colab-df-container {\n",
              "      display:flex;\n",
              "      flex-wrap:wrap;\n",
              "      gap: 12px;\n",
              "    }\n",
              "\n",
              "    .colab-df-convert {\n",
              "      background-color: #E8F0FE;\n",
              "      border: none;\n",
              "      border-radius: 50%;\n",
              "      cursor: pointer;\n",
              "      display: none;\n",
              "      fill: #1967D2;\n",
              "      height: 32px;\n",
              "      padding: 0 0 0 0;\n",
              "      width: 32px;\n",
              "    }\n",
              "\n",
              "    .colab-df-convert:hover {\n",
              "      background-color: #E2EBFA;\n",
              "      box-shadow: 0px 1px 2px rgba(60, 64, 67, 0.3), 0px 1px 3px 1px rgba(60, 64, 67, 0.15);\n",
              "      fill: #174EA6;\n",
              "    }\n",
              "\n",
              "    [theme=dark] .colab-df-convert {\n",
              "      background-color: #3B4455;\n",
              "      fill: #D2E3FC;\n",
              "    }\n",
              "\n",
              "    [theme=dark] .colab-df-convert:hover {\n",
              "      background-color: #434B5C;\n",
              "      box-shadow: 0px 1px 3px 1px rgba(0, 0, 0, 0.15);\n",
              "      filter: drop-shadow(0px 1px 2px rgba(0, 0, 0, 0.3));\n",
              "      fill: #FFFFFF;\n",
              "    }\n",
              "  </style>\n",
              "\n",
              "      <script>\n",
              "        const buttonEl =\n",
              "          document.querySelector('#df-a1a086cc-d93d-4523-9b59-62f569ceb565 button.colab-df-convert');\n",
              "        buttonEl.style.display =\n",
              "          google.colab.kernel.accessAllowed ? 'block' : 'none';\n",
              "\n",
              "        async function convertToInteractive(key) {\n",
              "          const element = document.querySelector('#df-a1a086cc-d93d-4523-9b59-62f569ceb565');\n",
              "          const dataTable =\n",
              "            await google.colab.kernel.invokeFunction('convertToInteractive',\n",
              "                                                     [key], {});\n",
              "          if (!dataTable) return;\n",
              "\n",
              "          const docLinkHtml = 'Like what you see? Visit the ' +\n",
              "            '<a target=\"_blank\" href=https://colab.research.google.com/notebooks/data_table.ipynb>data table notebook</a>'\n",
              "            + ' to learn more about interactive tables.';\n",
              "          element.innerHTML = '';\n",
              "          dataTable['output_type'] = 'display_data';\n",
              "          await google.colab.output.renderOutput(dataTable, element);\n",
              "          const docLink = document.createElement('div');\n",
              "          docLink.innerHTML = docLinkHtml;\n",
              "          element.appendChild(docLink);\n",
              "        }\n",
              "      </script>\n",
              "    </div>\n",
              "  </div>\n",
              "  "
            ]
          },
          "metadata": {},
          "execution_count": 322
        }
      ]
    },
    {
      "cell_type": "code",
      "source": [
        "# run the function for each column so that each of the four columns are encoded, then drop the original columns, saving as a new dataframe\n",
        "train['encodedmedian-sl-ve'] = train.apply(encode_median, axis=1, key='sepal-length', indicator=sl_median_versicolor)\n",
        "train['encodedmedian-sw-ve'] = train.apply(encode_median, axis=1, key='sepal-width', indicator=sw_median_versicolor)\n",
        "train['encodedmedian-pl-ve'] = train.apply(encode_median, axis=1, key='petal-length', indicator=pl_median_versicolor)\n",
        "train['encodedmedian-pw-ve'] = train.apply(encode_median, axis=1, key='petal-width', indicator=pw_median_versicolor) \n",
        "encodedmedian_ve_train = train[(train['species']=='Iris-versicolor')][['species','encodedmedian-sl-ve','encodedmedian-sw-ve','encodedmedian-pl-ve','encodedmedian-pw-ve']]\n",
        "encodedmedian_ve_train.head()"
      ],
      "metadata": {
        "colab": {
          "base_uri": "https://localhost:8080/",
          "height": 206
        },
        "id": "7qVni365HRJc",
        "outputId": "00472db0-f9e8-42e3-d095-286474ec9770"
      },
      "execution_count": null,
      "outputs": [
        {
          "output_type": "execute_result",
          "data": {
            "text/plain": [
              "            species  encodedmedian-sl-ve  encodedmedian-sw-ve  \\\n",
              "80  Iris-versicolor                    1                    1   \n",
              "59  Iris-versicolor                    1                    1   \n",
              "66  Iris-versicolor                    1                    0   \n",
              "71  Iris-versicolor                    0                    0   \n",
              "53  Iris-versicolor                    1                    1   \n",
              "\n",
              "    encodedmedian-pl-ve  encodedmedian-pw-ve  \n",
              "80                    1                    1  \n",
              "59                    1                    0  \n",
              "66                    0                    0  \n",
              "71                    1                    0  \n",
              "53                    1                    0  "
            ],
            "text/html": [
              "\n",
              "  <div id=\"df-4d05e922-4d6e-413d-8d40-1269c49eadb5\">\n",
              "    <div class=\"colab-df-container\">\n",
              "      <div>\n",
              "<style scoped>\n",
              "    .dataframe tbody tr th:only-of-type {\n",
              "        vertical-align: middle;\n",
              "    }\n",
              "\n",
              "    .dataframe tbody tr th {\n",
              "        vertical-align: top;\n",
              "    }\n",
              "\n",
              "    .dataframe thead th {\n",
              "        text-align: right;\n",
              "    }\n",
              "</style>\n",
              "<table border=\"1\" class=\"dataframe\">\n",
              "  <thead>\n",
              "    <tr style=\"text-align: right;\">\n",
              "      <th></th>\n",
              "      <th>species</th>\n",
              "      <th>encodedmedian-sl-ve</th>\n",
              "      <th>encodedmedian-sw-ve</th>\n",
              "      <th>encodedmedian-pl-ve</th>\n",
              "      <th>encodedmedian-pw-ve</th>\n",
              "    </tr>\n",
              "  </thead>\n",
              "  <tbody>\n",
              "    <tr>\n",
              "      <th>80</th>\n",
              "      <td>Iris-versicolor</td>\n",
              "      <td>1</td>\n",
              "      <td>1</td>\n",
              "      <td>1</td>\n",
              "      <td>1</td>\n",
              "    </tr>\n",
              "    <tr>\n",
              "      <th>59</th>\n",
              "      <td>Iris-versicolor</td>\n",
              "      <td>1</td>\n",
              "      <td>1</td>\n",
              "      <td>1</td>\n",
              "      <td>0</td>\n",
              "    </tr>\n",
              "    <tr>\n",
              "      <th>66</th>\n",
              "      <td>Iris-versicolor</td>\n",
              "      <td>1</td>\n",
              "      <td>0</td>\n",
              "      <td>0</td>\n",
              "      <td>0</td>\n",
              "    </tr>\n",
              "    <tr>\n",
              "      <th>71</th>\n",
              "      <td>Iris-versicolor</td>\n",
              "      <td>0</td>\n",
              "      <td>0</td>\n",
              "      <td>1</td>\n",
              "      <td>0</td>\n",
              "    </tr>\n",
              "    <tr>\n",
              "      <th>53</th>\n",
              "      <td>Iris-versicolor</td>\n",
              "      <td>1</td>\n",
              "      <td>1</td>\n",
              "      <td>1</td>\n",
              "      <td>0</td>\n",
              "    </tr>\n",
              "  </tbody>\n",
              "</table>\n",
              "</div>\n",
              "      <button class=\"colab-df-convert\" onclick=\"convertToInteractive('df-4d05e922-4d6e-413d-8d40-1269c49eadb5')\"\n",
              "              title=\"Convert this dataframe to an interactive table.\"\n",
              "              style=\"display:none;\">\n",
              "        \n",
              "  <svg xmlns=\"http://www.w3.org/2000/svg\" height=\"24px\"viewBox=\"0 0 24 24\"\n",
              "       width=\"24px\">\n",
              "    <path d=\"M0 0h24v24H0V0z\" fill=\"none\"/>\n",
              "    <path d=\"M18.56 5.44l.94 2.06.94-2.06 2.06-.94-2.06-.94-.94-2.06-.94 2.06-2.06.94zm-11 1L8.5 8.5l.94-2.06 2.06-.94-2.06-.94L8.5 2.5l-.94 2.06-2.06.94zm10 10l.94 2.06.94-2.06 2.06-.94-2.06-.94-.94-2.06-.94 2.06-2.06.94z\"/><path d=\"M17.41 7.96l-1.37-1.37c-.4-.4-.92-.59-1.43-.59-.52 0-1.04.2-1.43.59L10.3 9.45l-7.72 7.72c-.78.78-.78 2.05 0 2.83L4 21.41c.39.39.9.59 1.41.59.51 0 1.02-.2 1.41-.59l7.78-7.78 2.81-2.81c.8-.78.8-2.07 0-2.86zM5.41 20L4 18.59l7.72-7.72 1.47 1.35L5.41 20z\"/>\n",
              "  </svg>\n",
              "      </button>\n",
              "      \n",
              "  <style>\n",
              "    .colab-df-container {\n",
              "      display:flex;\n",
              "      flex-wrap:wrap;\n",
              "      gap: 12px;\n",
              "    }\n",
              "\n",
              "    .colab-df-convert {\n",
              "      background-color: #E8F0FE;\n",
              "      border: none;\n",
              "      border-radius: 50%;\n",
              "      cursor: pointer;\n",
              "      display: none;\n",
              "      fill: #1967D2;\n",
              "      height: 32px;\n",
              "      padding: 0 0 0 0;\n",
              "      width: 32px;\n",
              "    }\n",
              "\n",
              "    .colab-df-convert:hover {\n",
              "      background-color: #E2EBFA;\n",
              "      box-shadow: 0px 1px 2px rgba(60, 64, 67, 0.3), 0px 1px 3px 1px rgba(60, 64, 67, 0.15);\n",
              "      fill: #174EA6;\n",
              "    }\n",
              "\n",
              "    [theme=dark] .colab-df-convert {\n",
              "      background-color: #3B4455;\n",
              "      fill: #D2E3FC;\n",
              "    }\n",
              "\n",
              "    [theme=dark] .colab-df-convert:hover {\n",
              "      background-color: #434B5C;\n",
              "      box-shadow: 0px 1px 3px 1px rgba(0, 0, 0, 0.15);\n",
              "      filter: drop-shadow(0px 1px 2px rgba(0, 0, 0, 0.3));\n",
              "      fill: #FFFFFF;\n",
              "    }\n",
              "  </style>\n",
              "\n",
              "      <script>\n",
              "        const buttonEl =\n",
              "          document.querySelector('#df-4d05e922-4d6e-413d-8d40-1269c49eadb5 button.colab-df-convert');\n",
              "        buttonEl.style.display =\n",
              "          google.colab.kernel.accessAllowed ? 'block' : 'none';\n",
              "\n",
              "        async function convertToInteractive(key) {\n",
              "          const element = document.querySelector('#df-4d05e922-4d6e-413d-8d40-1269c49eadb5');\n",
              "          const dataTable =\n",
              "            await google.colab.kernel.invokeFunction('convertToInteractive',\n",
              "                                                     [key], {});\n",
              "          if (!dataTable) return;\n",
              "\n",
              "          const docLinkHtml = 'Like what you see? Visit the ' +\n",
              "            '<a target=\"_blank\" href=https://colab.research.google.com/notebooks/data_table.ipynb>data table notebook</a>'\n",
              "            + ' to learn more about interactive tables.';\n",
              "          element.innerHTML = '';\n",
              "          dataTable['output_type'] = 'display_data';\n",
              "          await google.colab.output.renderOutput(dataTable, element);\n",
              "          const docLink = document.createElement('div');\n",
              "          docLink.innerHTML = docLinkHtml;\n",
              "          element.appendChild(docLink);\n",
              "        }\n",
              "      </script>\n",
              "    </div>\n",
              "  </div>\n",
              "  "
            ]
          },
          "metadata": {},
          "execution_count": 323
        }
      ]
    },
    {
      "cell_type": "code",
      "source": [
        "# run the function for each column so that each of the four columns are encoded, then drop the original columns, saving as a new dataframe\n",
        "train['encodedmedian-sl-se'] = train.apply(encode_median, axis=1, key='sepal-length', indicator=sl_median_setosa)\n",
        "train['encodedmedian-sw-se'] = train.apply(encode_median, axis=1, key='sepal-width', indicator=sw_median_setosa)\n",
        "train['encodedmedian-pl-se'] = train.apply(encode_median, axis=1, key='petal-length', indicator=pl_median_setosa)\n",
        "train['encodedmedian-pw-se'] = train.apply(encode_median, axis=1, key='petal-width', indicator=pw_median_setosa) \n",
        "encodedmedian_se_train = train[(train['species']=='Iris-setosa')][['species','encodedmedian-sl-se','encodedmedian-sw-se','encodedmedian-pl-se','encodedmedian-pw-se']]\n",
        "encodedmedian_se_train.head()"
      ],
      "metadata": {
        "colab": {
          "base_uri": "https://localhost:8080/",
          "height": 206
        },
        "id": "Tw0Mq2PYfpoU",
        "outputId": "77a2cddd-575d-422e-d90a-cd72987435f5"
      },
      "execution_count": null,
      "outputs": [
        {
          "output_type": "execute_result",
          "data": {
            "text/plain": [
              "        species  encodedmedian-sl-se  encodedmedian-sw-se  \\\n",
              "3   Iris-setosa                    1                    1   \n",
              "27  Iris-setosa                    0                    0   \n",
              "10  Iris-setosa                    0                    0   \n",
              "38  Iris-setosa                    1                    1   \n",
              "22  Iris-setosa                    1                    0   \n",
              "\n",
              "    encodedmedian-pl-se  encodedmedian-pw-se  \n",
              "3                     0                    0  \n",
              "27                    0                    0  \n",
              "10                    0                    0  \n",
              "38                    1                    0  \n",
              "22                    1                    0  "
            ],
            "text/html": [
              "\n",
              "  <div id=\"df-2cd68e13-0132-42f0-ae3e-97f924bbd771\">\n",
              "    <div class=\"colab-df-container\">\n",
              "      <div>\n",
              "<style scoped>\n",
              "    .dataframe tbody tr th:only-of-type {\n",
              "        vertical-align: middle;\n",
              "    }\n",
              "\n",
              "    .dataframe tbody tr th {\n",
              "        vertical-align: top;\n",
              "    }\n",
              "\n",
              "    .dataframe thead th {\n",
              "        text-align: right;\n",
              "    }\n",
              "</style>\n",
              "<table border=\"1\" class=\"dataframe\">\n",
              "  <thead>\n",
              "    <tr style=\"text-align: right;\">\n",
              "      <th></th>\n",
              "      <th>species</th>\n",
              "      <th>encodedmedian-sl-se</th>\n",
              "      <th>encodedmedian-sw-se</th>\n",
              "      <th>encodedmedian-pl-se</th>\n",
              "      <th>encodedmedian-pw-se</th>\n",
              "    </tr>\n",
              "  </thead>\n",
              "  <tbody>\n",
              "    <tr>\n",
              "      <th>3</th>\n",
              "      <td>Iris-setosa</td>\n",
              "      <td>1</td>\n",
              "      <td>1</td>\n",
              "      <td>0</td>\n",
              "      <td>0</td>\n",
              "    </tr>\n",
              "    <tr>\n",
              "      <th>27</th>\n",
              "      <td>Iris-setosa</td>\n",
              "      <td>0</td>\n",
              "      <td>0</td>\n",
              "      <td>0</td>\n",
              "      <td>0</td>\n",
              "    </tr>\n",
              "    <tr>\n",
              "      <th>10</th>\n",
              "      <td>Iris-setosa</td>\n",
              "      <td>0</td>\n",
              "      <td>0</td>\n",
              "      <td>0</td>\n",
              "      <td>0</td>\n",
              "    </tr>\n",
              "    <tr>\n",
              "      <th>38</th>\n",
              "      <td>Iris-setosa</td>\n",
              "      <td>1</td>\n",
              "      <td>1</td>\n",
              "      <td>1</td>\n",
              "      <td>0</td>\n",
              "    </tr>\n",
              "    <tr>\n",
              "      <th>22</th>\n",
              "      <td>Iris-setosa</td>\n",
              "      <td>1</td>\n",
              "      <td>0</td>\n",
              "      <td>1</td>\n",
              "      <td>0</td>\n",
              "    </tr>\n",
              "  </tbody>\n",
              "</table>\n",
              "</div>\n",
              "      <button class=\"colab-df-convert\" onclick=\"convertToInteractive('df-2cd68e13-0132-42f0-ae3e-97f924bbd771')\"\n",
              "              title=\"Convert this dataframe to an interactive table.\"\n",
              "              style=\"display:none;\">\n",
              "        \n",
              "  <svg xmlns=\"http://www.w3.org/2000/svg\" height=\"24px\"viewBox=\"0 0 24 24\"\n",
              "       width=\"24px\">\n",
              "    <path d=\"M0 0h24v24H0V0z\" fill=\"none\"/>\n",
              "    <path d=\"M18.56 5.44l.94 2.06.94-2.06 2.06-.94-2.06-.94-.94-2.06-.94 2.06-2.06.94zm-11 1L8.5 8.5l.94-2.06 2.06-.94-2.06-.94L8.5 2.5l-.94 2.06-2.06.94zm10 10l.94 2.06.94-2.06 2.06-.94-2.06-.94-.94-2.06-.94 2.06-2.06.94z\"/><path d=\"M17.41 7.96l-1.37-1.37c-.4-.4-.92-.59-1.43-.59-.52 0-1.04.2-1.43.59L10.3 9.45l-7.72 7.72c-.78.78-.78 2.05 0 2.83L4 21.41c.39.39.9.59 1.41.59.51 0 1.02-.2 1.41-.59l7.78-7.78 2.81-2.81c.8-.78.8-2.07 0-2.86zM5.41 20L4 18.59l7.72-7.72 1.47 1.35L5.41 20z\"/>\n",
              "  </svg>\n",
              "      </button>\n",
              "      \n",
              "  <style>\n",
              "    .colab-df-container {\n",
              "      display:flex;\n",
              "      flex-wrap:wrap;\n",
              "      gap: 12px;\n",
              "    }\n",
              "\n",
              "    .colab-df-convert {\n",
              "      background-color: #E8F0FE;\n",
              "      border: none;\n",
              "      border-radius: 50%;\n",
              "      cursor: pointer;\n",
              "      display: none;\n",
              "      fill: #1967D2;\n",
              "      height: 32px;\n",
              "      padding: 0 0 0 0;\n",
              "      width: 32px;\n",
              "    }\n",
              "\n",
              "    .colab-df-convert:hover {\n",
              "      background-color: #E2EBFA;\n",
              "      box-shadow: 0px 1px 2px rgba(60, 64, 67, 0.3), 0px 1px 3px 1px rgba(60, 64, 67, 0.15);\n",
              "      fill: #174EA6;\n",
              "    }\n",
              "\n",
              "    [theme=dark] .colab-df-convert {\n",
              "      background-color: #3B4455;\n",
              "      fill: #D2E3FC;\n",
              "    }\n",
              "\n",
              "    [theme=dark] .colab-df-convert:hover {\n",
              "      background-color: #434B5C;\n",
              "      box-shadow: 0px 1px 3px 1px rgba(0, 0, 0, 0.15);\n",
              "      filter: drop-shadow(0px 1px 2px rgba(0, 0, 0, 0.3));\n",
              "      fill: #FFFFFF;\n",
              "    }\n",
              "  </style>\n",
              "\n",
              "      <script>\n",
              "        const buttonEl =\n",
              "          document.querySelector('#df-2cd68e13-0132-42f0-ae3e-97f924bbd771 button.colab-df-convert');\n",
              "        buttonEl.style.display =\n",
              "          google.colab.kernel.accessAllowed ? 'block' : 'none';\n",
              "\n",
              "        async function convertToInteractive(key) {\n",
              "          const element = document.querySelector('#df-2cd68e13-0132-42f0-ae3e-97f924bbd771');\n",
              "          const dataTable =\n",
              "            await google.colab.kernel.invokeFunction('convertToInteractive',\n",
              "                                                     [key], {});\n",
              "          if (!dataTable) return;\n",
              "\n",
              "          const docLinkHtml = 'Like what you see? Visit the ' +\n",
              "            '<a target=\"_blank\" href=https://colab.research.google.com/notebooks/data_table.ipynb>data table notebook</a>'\n",
              "            + ' to learn more about interactive tables.';\n",
              "          element.innerHTML = '';\n",
              "          dataTable['output_type'] = 'display_data';\n",
              "          await google.colab.output.renderOutput(dataTable, element);\n",
              "          const docLink = document.createElement('div');\n",
              "          docLink.innerHTML = docLinkHtml;\n",
              "          element.appendChild(docLink);\n",
              "        }\n",
              "      </script>\n",
              "    </div>\n",
              "  </div>\n",
              "  "
            ]
          },
          "metadata": {},
          "execution_count": 324
        }
      ]
    },
    {
      "cell_type": "code",
      "source": [
        "# print(belowmedian_train['species'].value_counts())\n",
        "# belowmedian_train.shape"
      ],
      "metadata": {
        "id": "eYIpSMz_WMD2"
      },
      "execution_count": null,
      "outputs": []
    },
    {
      "cell_type": "code",
      "source": [
        "# print(belowmedian_train[belowmedian_train['encodedmedian-sl'] == 1].shape[0])\n",
        "# print(belowmedian_train[belowmedian_train['encodedmedian-sl'] == 0].shape[0])\n",
        "# print(belowmedian_train[belowmedian_train['encodedmedian-sl']==1]['species'].count())"
      ],
      "metadata": {
        "id": "AYzPLXKuVwQK"
      },
      "execution_count": null,
      "outputs": []
    },
    {
      "cell_type": "code",
      "source": [
        "# number_rows_belowmedian_sl = encodedmedian_train[encodedmedian_train['encodedmedian-sl']==1]['encodedmedian-sl'].count()\n",
        "# number_rows_belowmedian_sw = encodedmedian_train[encodedmedian_train['encodedmedian-sw']==1]['encodedmedian-sw'].count()\n",
        "# number_rows_belowmedian_pl = encodedmedian_train[encodedmedian_train['encodedmedian-pl']==1]['encodedmedian-pl'].count()\n",
        "# number_rows_belowmedian_pw = encodedmedian_train[encodedmedian_train['encodedmedian-pw']==1]['encodedmedian-pw'].count()\n",
        "# print('number_rows_belowmedian_sl = ', number_rows_belowmedian_sl)\n",
        "# print('number_rows_belowmedian_sw = ', number_rows_belowmedian_sw)\n",
        "# print('number_rows_belowmedian_pl = ', number_rows_belowmedian_pl)\n",
        "# print('number_rows_belowmedian_pw = ', number_rows_belowmedian_pw)\n",
        "# print(encodedmedian_train['encodedmedian-sl'].shape)\n",
        "# print(encodedmedian_train['encodedmedian-sw'].shape)\n",
        "# print(encodedmedian_train['encodedmedian-pl'].shape)\n",
        "# print(encodedmedian_train['encodedmedian-pw'].shape)"
      ],
      "metadata": {
        "id": "FUyfm4srP4l9"
      },
      "execution_count": null,
      "outputs": []
    },
    {
      "cell_type": "code",
      "metadata": {
        "id": "sMvl5HFuxpwS"
      },
      "source": [
        "# calculate the proportion of each column that are on or above median that are of a species (ie proportion of petal-lengths on or above median that are Iris-virginica)\n",
        "# infer the proportion of each that are not of that species (using 1 - proportion above). In both cases we are looking to find if either of these is 1, which could be infered as definitely not that species.\n",
        "\n",
        "# calculate the proportion of results where the value is below median that are of the species Iris-virginica\n",
        "# calculate the proportion of those BELOW the median that are NOT Iris-virginica\n",
        "def cal_proportion_belowmedian(df, specie, part_field):\n",
        "  results = df[(df[part_field] == 1) & (df['species'] == specie)]\n",
        "  proportion = results['species'].count()/ df[part_field].shape[0] \n",
        "  print(part_field , \"  , rows below meidan of\",specie ,\"= \",  results['species'].count(), \", rows median=\",df[part_field].shape[0] ,  \" ,Proportion = \", proportion)\n",
        "  return results, proportion  "
      ],
      "execution_count": null,
      "outputs": []
    },
    {
      "cell_type": "code",
      "source": [
        "print('-----------------Value < Median for Iris-virginica-----------------')\n",
        "df_sl_virginica_belowmedian, proportion_sl_virginica_belowmedian = cal_proportion_belowmedian(encodedmedian_vi_train, 'Iris-virginica', 'encodedmedian-sl-vi')\n",
        "# display(df_sl_virginica_belowmedian)\n",
        "# print(proportion_sl_virginica_belowmedian)\n",
        "df_sw_virginica_belowmedian, proportion_sw_virginica_belowmedian = cal_proportion_belowmedian(encodedmedian_vi_train, 'Iris-virginica', 'encodedmedian-sw-vi')\n",
        "df_pl_virginica_belowmedian, proportion_pl_virginica_belowmedian = cal_proportion_belowmedian(encodedmedian_vi_train, 'Iris-virginica', 'encodedmedian-pl-vi')\n",
        "df_pw_virginica_belowmedian, proportion_pw_virginica_belowmedian = cal_proportion_belowmedian(encodedmedian_vi_train, 'Iris-virginica', 'encodedmedian-pw-vi')"
      ],
      "metadata": {
        "colab": {
          "base_uri": "https://localhost:8080/"
        },
        "id": "DwbIj2mFMHay",
        "outputId": "f9508cbf-9bed-445e-ce72-378f6546d1d0"
      },
      "execution_count": null,
      "outputs": [
        {
          "output_type": "stream",
          "name": "stdout",
          "text": [
            "-----------------Value < Median for Iris-virginica-----------------\n",
            "encodedmedian-sl-vi   , rows below meidan of Iris-virginica =  12 , rows median= 27  ,Proportion =  0.4444444444444444\n",
            "encodedmedian-sw-vi   , rows below meidan of Iris-virginica =  10 , rows median= 27  ,Proportion =  0.37037037037037035\n",
            "encodedmedian-pl-vi   , rows below meidan of Iris-virginica =  13 , rows median= 27  ,Proportion =  0.48148148148148145\n",
            "encodedmedian-pw-vi   , rows below meidan of Iris-virginica =  13 , rows median= 27  ,Proportion =  0.48148148148148145\n"
          ]
        }
      ]
    },
    {
      "cell_type": "markdown",
      "metadata": {
        "id": "09zWalzsOZrt"
      },
      "source": [
        "### Exercise 5 - calculate for the other two Iris species\n",
        "---\n",
        "\n",
        "Do the same calculations for the Iris-versicolor species, then for the Iris-setosa species.\n",
        "\n",
        "\n",
        "\n",
        "\n"
      ]
    },
    {
      "cell_type": "code",
      "source": [
        "print('-----------------Value < Median for Iris-versicolor-----------------')\n",
        "df_sl_versicolor_belowmedian, proportion_sl_versicolor_belowmedian = cal_proportion_belowmedian(encodedmedian_ve_train, 'Iris-versicolor', 'encodedmedian-sl-ve')\n",
        "# display(df_sl_virginica_belowmedian)\n",
        "# print(proportion_sl_virginica_belowmedian)\n",
        "df_sw_versicolor_belowmedian, proportion_sw_versicolor_belowmedian = cal_proportion_belowmedian(encodedmedian_ve_train, 'Iris-versicolor', 'encodedmedian-sw-ve')\n",
        "df_pl_versicolor_belowmedian, proportion_pl_versicolor_belowmedian = cal_proportion_belowmedian(encodedmedian_ve_train, 'Iris-versicolor', 'encodedmedian-pl-ve')\n",
        "df_pw_versicolor_belowmedian, proportion_pw_versicolor_belowmedian = cal_proportion_belowmedian(encodedmedian_ve_train, 'Iris-versicolor', 'encodedmedian-pw-ve')"
      ],
      "metadata": {
        "colab": {
          "base_uri": "https://localhost:8080/"
        },
        "id": "eJJ83CiOLgsL",
        "outputId": "3bb8eac4-b52a-438d-edab-c9386691d949"
      },
      "execution_count": null,
      "outputs": [
        {
          "output_type": "stream",
          "name": "stdout",
          "text": [
            "-----------------Value < Median for Iris-versicolor-----------------\n",
            "encodedmedian-sl-ve   , rows below meidan of Iris-versicolor =  19 , rows median= 41  ,Proportion =  0.4634146341463415\n",
            "encodedmedian-sw-ve   , rows below meidan of Iris-versicolor =  19 , rows median= 41  ,Proportion =  0.4634146341463415\n",
            "encodedmedian-pl-ve   , rows below meidan of Iris-versicolor =  19 , rows median= 41  ,Proportion =  0.4634146341463415\n",
            "encodedmedian-pw-ve   , rows below meidan of Iris-versicolor =  13 , rows median= 41  ,Proportion =  0.3170731707317073\n"
          ]
        }
      ]
    },
    {
      "cell_type": "code",
      "source": [
        "print('-----------------Value < Median for Iris-setosa-----------------')\n",
        "df_sl_setosa_belowmedian, proportion_sl_setosa_belowmedian = cal_proportion_belowmedian(encodedmedian_se_train, 'Iris-setosa', 'encodedmedian-sl-se')\n",
        "#display(df_sl_virginica_belowmedian)\n",
        "# print(proportion_sl_virginica_belowmedian)\n",
        "df_sw_setosa_belowmedian, proportion_sw_setosa_belowmedian = cal_proportion_belowmedian(encodedmedian_se_train, 'Iris-setosa', 'encodedmedian-sw-se')\n",
        "df_pl_setosa_belowmedian, proportion_pl_setosa_belowmedian = cal_proportion_belowmedian(encodedmedian_se_train, 'Iris-setosa', 'encodedmedian-pl-se')\n",
        "df_pw_setosa_belowmedian, proportion_pw_setosa_belowmedian = cal_proportion_belowmedian(encodedmedian_se_train, 'Iris-setosa', 'encodedmedian-pw-se')"
      ],
      "metadata": {
        "colab": {
          "base_uri": "https://localhost:8080/"
        },
        "id": "1Y1YugdpL0Je",
        "outputId": "4b2e4d82-330a-462d-b643-b4017dfaca0a"
      },
      "execution_count": null,
      "outputs": [
        {
          "output_type": "stream",
          "name": "stdout",
          "text": [
            "-----------------Value < Median for Iris-setosa-----------------\n",
            "encodedmedian-sl-se   , rows below meidan of Iris-setosa =  15 , rows median= 37  ,Proportion =  0.40540540540540543\n",
            "encodedmedian-sw-se   , rows below meidan of Iris-setosa =  15 , rows median= 37  ,Proportion =  0.40540540540540543\n",
            "encodedmedian-pl-se   , rows below meidan of Iris-setosa =  16 , rows median= 37  ,Proportion =  0.43243243243243246\n",
            "encodedmedian-pw-se   , rows below meidan of Iris-setosa =  5 , rows median= 37  ,Proportion =  0.13513513513513514\n"
          ]
        }
      ]
    },
    {
      "cell_type": "markdown",
      "metadata": {
        "id": "5Ix6Hh0Uy9MS"
      },
      "source": [
        "### Exercise 6 - predict from the results\n",
        "---\n",
        "\n",
        "Create a list of dictionaries from the results Exercise 4 and 5 (e.g. {'species':..., 'above_mean': 0.xx, 'below_mean': 0.xx}  \n",
        "\n",
        "Then use a loop to go through the list and print:  \n",
        "*  any species and indicator (above or below mean) that can reliably be predicted.  A reliable prediction may be one over 0.5"
      ]
    },
    {
      "cell_type": "code",
      "metadata": {
        "id": "FPvXa8x81re7"
      },
      "source": [
        "# calculate a Gini Index that will indicate the probability that a prediction will be incorrect\n",
        "# use the results of the Gini Index to model a decision tree\n",
        "# code the decision tree model into a function that will return whether or not a row in the test set is predicted to be of species Iris-virginica\n",
        "# use the decision tree function to predict, for each row in the test set, if the species will be Iris-virginicia or not, using a set of nested if statements to classify\n",
        "# compare the predicted values against the actual values in the test set - what proportion were predicted correctly?\n",
        "\n",
        "# show which columns are reliable predictors\n",
        "dict_mean = {'species' : ['Iris-virginicia', 'Iris-versicolor', 'Iris-setosa'],\n",
        "             'dimension': ['sepal-length', 'sepal-width', 'petal-length', 'petal-width'], \n",
        "             'above_mean': [[proportion_col1_virginica_abovemean, proportion_col2_virginica_abovemean, proportion_col3_virginica_abovemean, proportion_col4_virginica_abovemean],\n",
        "[proportion_col1_versicolor_abovemean, proportion_col2_versicolor_abovemean, proportion_col3_versicolor_abovemean, proportion_col4_versicolor_abovemean],\n",
        "[proportion_col1_setosa_abovemean, proportion_col2_setosa_abovemean, proportion_col3_setosa_abovemean, proportion_col4_setosa_abovemean]],\n",
        "\n",
        "             'below_mean': [[proportion_col1_virginica_belowmean, proportion_col2_virginica_belowmean, proportion_col3_virginica_belowmean, proportion_col4_virginica_belowmean],\n",
        "[proportion_col1_versicolor_belowmean, proportion_col2_versicolor_belowmean, proportion_col3_versicolor_belowmean, proportion_col4_versicolor_belowmean],\n",
        "[proportion_col1_setosa_belowmean, proportion_col2_setosa_belowmean, proportion_col3_setosa_belowmean, proportion_col4_setosa_belowmean]],\n",
        "\n",
        "             'above_median': [],\n",
        "             'below_median': [[proportion_sl_virginica_belowmedian, proportion_sw_virginica_belowmedian, proportion_pl_virginica_belowmedian, proportion_pw_virginica_belowmedian],\n",
        "[proportion_sl_versicolor_belowmedian, proportion_sw_versicolor_belowmedian, proportion_pl_versicolor_belowmedian, proportion_pw_versicolor_belowmedian],\n",
        "[proportion_sl_setosa_belowmedian, proportion_sw_setosa_belowmedian, proportion_pl_setosa_belowmedian, proportion_pw_setosa_belowmedian]]\n",
        "}\n",
        "    \n",
        "\n"
      ],
      "execution_count": null,
      "outputs": []
    },
    {
      "cell_type": "markdown",
      "metadata": {
        "id": "ws2TxeRrnIJ4"
      },
      "source": [
        "### Exercise 6 - Make a decision tree\n",
        "---\n",
        "\n",
        "Use pencil and paper or a graphical application to create a decision tree for Iris-virginica, using the following rules (use the picture below as a guide):\n",
        "\n",
        "*  The column with the highest indicator is placed at the top\n",
        "*  Other columns are placed in order below\n",
        "*  The rest of the columns are placed in order below these\n",
        "\n",
        "Any column where one branch (on or above mean OR below mean) has an indicator of 0, could be classified as a strong indicator of Iris_virginica being the species.  Anything else, unless there is something very close to 0, could be classified as a weak indicator of Iris_virginica being the species.\n",
        "\n",
        "Let's code the decision tree using the following logic for this decision tree (yours might be slightly different):\n",
        "\n",
        "![Decision tree](https://drive.google.com/uc?id=1CTo23EHwR2IPCRjcfSyCQsT_oQ5Exwso)\n",
        "\n",
        "In the decision tree above, there is no certainty below petal-length so our decision tree will only include petal-width and petal-length.\n",
        "\n",
        "\n"
      ]
    },
    {
      "cell_type": "code",
      "metadata": {
        "id": "tkCCL0ERDife",
        "colab": {
          "base_uri": "https://localhost:8080/"
        },
        "outputId": "7face843-c375-4a2b-d622-1b7531fa0624"
      },
      "source": [
        "def get_species(df):\n",
        "  # ADD CODE HERE TO RETURN None if petal-width is below mean (encoded as 0) or if petal-length is below mean (encoded as 0), otherwise return 'Iris-virginia'\n",
        "    if df['petal-width'] == 0:\n",
        "        return None\n",
        "        if df['petal-length'] == 0:\n",
        "            return None\n",
        "            if df['sepal-length'] == 0:\n",
        "                return None\n",
        "    return 'Iris-virginica' \n",
        "\n",
        "# use the get_species(df) function to predict the species, count how many are predicted correct and use this to calculate the proportion correct\n",
        "correct = 0\n",
        "test_size = test.shape[0]\n",
        "for i in range(0, test_size):\n",
        "  species = get_species(test.iloc[i])\n",
        "  if species == test.iloc[i]['species']:\n",
        "      correct += 1\n",
        "\n",
        "print (\"Proportion correctly identified\", correct / test_size) \n"
      ],
      "execution_count": null,
      "outputs": [
        {
          "output_type": "stream",
          "name": "stdout",
          "text": [
            "Proportion correctly identified 0.4\n"
          ]
        }
      ]
    },
    {
      "cell_type": "markdown",
      "metadata": {
        "id": "-2tQcT5ILtxl"
      },
      "source": [
        "### Exercise 7 - change the measure\n",
        "\n",
        "We are currently using the mean to act as the decision making line.  We can use the decision tree with a different line.\n",
        "\n",
        "Change the mean values so that you are instead using the median instead for all four columns.  The code should not need changing except for where you calculated the mean.\n",
        "\n",
        "Run all the code again.  Is the proportion of correct values better this time?   Is the decision tree still appropriate?\n"
      ]
    },
    {
      "cell_type": "markdown",
      "metadata": {
        "id": "WimD4E5zNub1"
      },
      "source": [
        "What do you notice? (write your answer here)"
      ]
    },
    {
      "cell_type": "markdown",
      "metadata": {
        "id": "6WoHQeYLNyk8"
      },
      "source": [
        "### Exercise 8 - try different measures\n",
        "---\n",
        "\n",
        "Do the same again but with upper quantile, then again with the lower quantile.  Is it making any difference?  Which give the best looking results?"
      ]
    },
    {
      "cell_type": "markdown",
      "metadata": {
        "id": "8C69ns9VODh3"
      },
      "source": [
        "### Exercise 9 - try a different species\n",
        "\n",
        "Run the mean test again for the Iris-versicolor species.  Again, try some different decision making lines.\n",
        "\n",
        "What are the results.  Record them in the text cell below:"
      ]
    },
    {
      "cell_type": "markdown",
      "metadata": {
        "id": "t3oXJbqlOU0P"
      },
      "source": [
        "Write your answers here:  "
      ]
    },
    {
      "cell_type": "markdown",
      "metadata": {
        "id": "Co14Ws3gupwP"
      },
      "source": [
        "# New logic introduced in this worksheet:\n",
        "\n",
        "1.  Adding headings to a CSV if none currently exist\n",
        "2.  Splitting a data set into train and test sets"
      ]
    },
    {
      "cell_type": "code",
      "metadata": {
        "id": "-hpupKkeezXP",
        "colab": {
          "base_uri": "https://localhost:8080/",
          "height": 520
        },
        "outputId": "8566aa26-d344-4e2e-c5f9-78bef5a1b747"
      },
      "source": [
        "## this type of plot will show the distribution on a chart\n",
        "from plotnine import *\n",
        "ggplot(train, aes(x='petal-length', y='petal-width', color='species')) + geom_point() + geom_vline(train, aes(xintercept=train['sepal-length'].mean(), color='species')) + geom_hline(train, aes(yintercept=train['sepal-length'].mean(), color='species'))"
      ],
      "execution_count": null,
      "outputs": [
        {
          "output_type": "stream",
          "name": "stderr",
          "text": [
            "/usr/local/lib/python3.7/dist-packages/plotnine/utils.py:1246: FutureWarning: is_categorical is deprecated and will be removed in a future version.  Use is_categorical_dtype instead\n",
            "  if pdtypes.is_categorical(arr):\n"
          ]
        },
        {
          "output_type": "display_data",
          "data": {
            "text/plain": [
              "<Figure size 640x480 with 1 Axes>"
            ],
            "image/png": "[encoded data removed]"
          },
          "metadata": {}
        },
        {
          "output_type": "execute_result",
          "data": {
            "text/plain": [
              "<ggplot: (8757833357553)>"
            ]
          },
          "metadata": {},
          "execution_count": 145
        }
      ]
    }
  ]
}