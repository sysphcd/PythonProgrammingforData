{
  "nbformat": 4,
  "nbformat_minor": 0,
  "metadata": {
    "colab": {
      "name": "2nd_Lists and Dictionaries Challenges.ipynb",
      "provenance": [],
      "collapsed_sections": [],
      "include_colab_link": true
    },
    "kernelspec": {
      "name": "python3",
      "display_name": "Python 3"
    },
    "language_info": {
      "name": "python"
    }
  },
  "cells": [
    {
      "cell_type": "markdown",
      "metadata": {
        "id": "view-in-github",
        "colab_type": "text"
      },
      "source": [
        "<a href=\"https://colab.research.google.com/github/sysphcd/PythonProgrammingforData/blob/main/2nd_Lists_and_Dictionaries_Challenges.ipynb\" target=\"_parent\"><img src=\"https://colab.research.google.com/assets/colab-badge.svg\" alt=\"Open In Colab\"/></a>"
      ]
    },
    {
      "cell_type": "markdown",
      "metadata": {
        "id": "nEJLJX3J9B2k"
      },
      "source": [
        "# Some challenges to help you become more confident with using Lists, Tuples and Dictionaries\n",
        "\n",
        "---\n",
        "\n"
      ]
    },
    {
      "cell_type": "markdown",
      "metadata": {
        "id": "JvV6htgh9Nc1"
      },
      "source": [
        "### Exercise 1 - extending a list\n",
        "\n",
        "There are three ways to extend a list in Python:  \n",
        "*  use `list_name.append(item)`, `list_name.insert(item)`\n",
        "*  concatenate two lists using the + operator (e.g. new_list = list1 + list2)\n",
        "*  use `list1_name.extend(list2_name)`\n",
        "\n",
        "The last method allows us to add all the `list2` items onto `list1` and for the new, extended list to now be `list1`.  `list2` will always be added to the end of `list1`.  \n",
        "\n",
        "If the objective is to add list2 before list1 then use `list2.extend(list1)`\n",
        "\n",
        "Write a function which will:  \n",
        "*  create a list of **years** containing the years 1960, 1970, 1980, 1990, 2000  \n",
        "*  print the list of years  \n",
        "*  calculate how long ago each year was and print the year and how long ago it was (e.g. 1990 was 30 years ago)  *(Hint:  use the datetime library to get the current year)*   \n",
        "*  create a second list, **years2** containing the years 2010 and 2020, extend `years` to include these later years\n",
        "*  create a third list, **years3** containing the years 1930, 1940 and 1950 and extend the list to include all the years between 1930 and 2020\n",
        "*  print the final list\n",
        "\n",
        "Expected output:  \n",
        "[1960, 1970, 1980, 1990]  \n",
        "1960 was 61 years ago  \n",
        "1970 was 51 years ago  \n",
        "1980 was 41 years ago  \n",
        "1990 was 31 years ago  \n",
        "2000 was 21 years ago  \n",
        "[1930, 1940, 1950, 1960, 1970, 1980, 1990, 2000, 2010, 2020] "
      ]
    },
    {
      "cell_type": "code",
      "metadata": {
        "id": "QAyTVqoO8-08",
        "colab": {
          "base_uri": "https://localhost:8080/"
        },
        "outputId": "04920243-191a-4d67-dce5-0d4dd377efd3"
      },
      "source": [
        "from datetime import datetime\n",
        "\n",
        "def extend_year_list():\n",
        "  years_list = [1960, 1970, 1980, 1990, 2000]\n",
        "  print(years_list)\n",
        "  current_year = datetime.today().year\n",
        "  #print(current_year)\n",
        "  for year in years_list:\n",
        "    how_long_ago = current_year - year\n",
        "    print(f\"{year} was {how_long_ago} years ago\")\n",
        "\n",
        "  years2 = [2010, 2020]\n",
        "  years_list.extend(years2)\n",
        "  #print(years_list)\n",
        "  years3 = [1930, 1940, 1950]\n",
        "  print(years3 + years_list)\n",
        "extend_year_list()"
      ],
      "execution_count": null,
      "outputs": [
        {
          "output_type": "stream",
          "name": "stdout",
          "text": [
            "[1960, 1970, 1980, 1990, 2000]\n",
            "1960 was 62 years ago\n",
            "1970 was 52 years ago\n",
            "1980 was 42 years ago\n",
            "1990 was 32 years ago\n",
            "2000 was 22 years ago\n",
            "[1930, 1940, 1950, 1960, 1970, 1980, 1990, 2000, 2010, 2020]\n"
          ]
        }
      ]
    },
    {
      "cell_type": "markdown",
      "metadata": {
        "id": "S5iPicFzBzOW"
      },
      "source": [
        "---\n",
        "### Exercise 2 - creating a dictionary from a tuple and three lists\n",
        "\n",
        "Write a function which will create a list of dictionary items using the values in a tuple as the dictionary keys and the values in three corresponding lists as the dictionary values.\n",
        "\n",
        "*  loop through the status items in the tuple called task_status\n",
        "*  for each status, loop through the list with the same name (*Hint:  you can use eval(status) to access the list with the matching name  e.g. for task in eval(status)* )\n",
        "*  each time round this second loop, create a dictionary object with the  key:value pair {status : task}\n",
        "*  add each new dictionary to a list called **project_board** that was created as an empty list before the loops  \n",
        "*  print the project_board list\n",
        "\n",
        "Expected output:  \n",
        "\n",
        "[{'assigned': 'task1'}, {'assigned': 'task2'}, {'assigned': 'task3'}, {'inprogress': 'task4'}, {'inprogress': 'task5'}, {'inprogress': 'task6'}, {'completed': 'task7'}, {'completed': 'task8'}, {'completed': 'task9'}] \n",
        "\n"
      ]
    },
    {
      "cell_type": "code",
      "metadata": {
        "id": "KXYOSHY-C7m4",
        "colab": {
          "base_uri": "https://localhost:8080/"
        },
        "outputId": "0066e747-4240-48f2-8d1d-e8173a6a1cb5"
      },
      "source": [
        "def create_project_board():\n",
        "  task_status = (\"assigned\", \"inprogress\", \"completed\")\n",
        "  assigned = ['task1','task2','task3']\n",
        "  inprogress = ['task4','task5','task6']\n",
        "  completed = ['task7','task8','task9']\n",
        "  project_board = []\n",
        "  task_dict = {}\n",
        "  #  add your code below here\n",
        "  for status in task_status:\n",
        "    # print(eval(status))\n",
        "    for task in eval(status):\n",
        "      task_dict[status] = task\n",
        "      # print(status, task_dict[status])\n",
        "      new_dict = {status : task}\n",
        "      project_board.append(new_dict)\n",
        "  print(project_board)\n",
        "create_project_board()\n"
      ],
      "execution_count": null,
      "outputs": [
        {
          "output_type": "stream",
          "name": "stdout",
          "text": [
            "[{'assigned': 'task1'}, {'assigned': 'task2'}, {'assigned': 'task3'}, {'inprogress': 'task4'}, {'inprogress': 'task5'}, {'inprogress': 'task6'}, {'completed': 'task7'}, {'completed': 'task8'}, {'completed': 'task9'}]\n"
          ]
        }
      ]
    },
    {
      "cell_type": "markdown",
      "metadata": {
        "id": "M1BuTu9p19Ma"
      },
      "source": [
        "---\n",
        "### Exercise 3 - names and heights\n",
        "\n",
        "Write a function which will allow a user to enter the names and heights of a set of people and add each set of information as a record (dictionary) to a list. The function will stop collecting names and heights when the user enters \"STOP\" as the name.\n",
        "\n",
        "Then, the function will:  \n",
        "\n",
        "*   produce a list of names in order of the shortest person to the tallest\n",
        "*   calculate the name of the tallest person\n",
        "*   calculate the name of the shortest person\n",
        "*   calculate the average height\n",
        "*   calculate the name of the person who is closest to the average height\n",
        "\n",
        "\n",
        "\n",
        "\n"
      ]
    },
    {
      "cell_type": "code",
      "metadata": {
        "id": "reuyww3e18uv",
        "colab": {
          "base_uri": "https://localhost:8080/"
        },
        "outputId": "6d7edf5d-011c-4b98-be27-6e9f784385c5"
      },
      "source": [
        "import operator\n",
        "\n",
        "def collect_names_heights():\n",
        "  person_height_dict = {}\n",
        "  people_heights_list = []\n",
        "  total_heights = 0\n",
        "  is_stopping = False\n",
        "\n",
        "  while not is_stopping  :\n",
        "    name = input(\"please enter your name: \")\n",
        "    if name == \"STOP\":\n",
        "      is_stopping = True\n",
        "    else :    \n",
        "      height = int(input(\"please enter your height : \"))\n",
        "      person_height_dict[name] = height\n",
        "      total_heights += height\n",
        "  \n",
        "  print(person_height_dict)\n",
        "  # produce a list of names in order of the shortest person to the tallest\n",
        "  #sorted_data = sorted(person_height_dict.items(),key=operator.itemgetter(1))\n",
        "  sorted_list = sorted(person_height_dict,key=person_height_dict.get)\n",
        "  print(sorted_list)\n",
        "  # the name of the tallest person\n",
        "  inverse = [(value, key) for key, value in person_height_dict.items()]\n",
        "  print(\"the tallest : \", max(inverse)[1])\n",
        "  #print(sorted_list[len(sorted_list)-1])\n",
        "  # the name of the shortest person\n",
        "  print(\"the shortest: \", min(inverse)[1])\n",
        "  # print(sorted_list[0])\n",
        "\n",
        "  # calculate the average height\n",
        "  avg_height = round(total_heights/len(sorted_list),2)\n",
        "  print(\"Average height = \", avg_height)\n",
        "  # calculate the name of the person who is closest to the average height\n",
        "  smallest_person = \"\"\n",
        "  now_person = \"\"\n",
        "  smallest_diff= 0\n",
        "  now_diff= 0\n",
        "  counter = 0\n",
        "  for key,value in person_height_dict.items():\n",
        "    now_diff = abs(value - avg_height)\n",
        "    now_person = key\n",
        "    #print(\"now :\" ,now_diff, now_person)\n",
        "    if counter == 0 :\n",
        "      smallest_diff = now_diff\n",
        "      smallest_person = now_person\n",
        "      #print(\"smallest :\", smallest_diff, smallest_person)\n",
        "    else : \n",
        "      if now_diff <= smallest_diff :\n",
        "        smallest_diff = now_diff\n",
        "        smallest_person = key\n",
        "      else :\n",
        "        smallest_diff = smallest_diff\n",
        "        smallest_person = smallest_person\n",
        "      #print(\"smallest :\", smallest_diff, smallest_person)  \n",
        "        \n",
        "    counter += 1\n",
        "  print(\"closest to average person : \",smallest_person)\n",
        "collect_names_heights()"
      ],
      "execution_count": null,
      "outputs": [
        {
          "output_type": "stream",
          "name": "stdout",
          "text": [
            "please enter your name: Kerr\n",
            "please enter your height : 162\n",
            "please enter your name: Jack\n",
            "please enter your height : 177\n",
            "please enter your name: Amy\n",
            "please enter your height : 156\n",
            "please enter your name: STOP\n",
            "{'Kerr': 162, 'Jack': 177, 'Amy': 156}\n",
            "['Amy', 'Kerr', 'Jack']\n",
            "the tallest :  Jack\n",
            "the shortest:  Amy\n",
            "Average height =  165.0\n",
            "closest to average person :  Kerr\n"
          ]
        }
      ]
    }
  ]
}