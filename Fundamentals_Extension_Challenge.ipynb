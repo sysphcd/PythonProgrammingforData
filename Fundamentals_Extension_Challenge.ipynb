{
  "nbformat": 4,
  "nbformat_minor": 0,
  "metadata": {
    "colab": {
      "name": "Fundamentals Extension Challenge.ipynb",
      "provenance": [],
      "include_colab_link": true
    },
    "kernelspec": {
      "name": "python3",
      "display_name": "Python 3"
    },
    "language_info": {
      "name": "python"
    }
  },
  "cells": [
    {
      "cell_type": "markdown",
      "metadata": {
        "id": "view-in-github",
        "colab_type": "text"
      },
      "source": [
        "<a href=\"https://colab.research.google.com/github/sysphcd/PythonProgrammingforData/blob/main/Fundamentals_Extension_Challenge.ipynb\" target=\"_parent\"><img src=\"https://colab.research.google.com/assets/colab-badge.svg\" alt=\"Open In Colab\"/></a>"
      ]
    },
    {
      "cell_type": "markdown",
      "source": [
        "# Practice challenge\n",
        "---\n",
        "\n",
        "Create a program that allow a user to encrypt a message or decrypt a message with a given key.\n",
        "\n",
        "Your program should:\n",
        "*  Ask the user if they want to encrypt or decrypt.\n",
        "*  Ask the user for the message (which will be plain text or encrypted depending on what they want to do with it)\n",
        "*  Ask the user for the key (either to encrypt or decrypt)\n",
        "*  Encrypt or decrypt the message\n",
        "\n",
        "You should have two functions:\n",
        "*  encrypt(message, key) and \n",
        "*  decrypt(message, key)\n",
        "\n",
        "Each should take the message and use the key to produce the result, which should be returned to the main program for printing.  The function will shift the letters in the message according to the key and the direction (encrypt or decrypt)\n",
        "\n",
        "For example: the message is \"Hello World\" and the cipher is 3. Each letter is changed to the letter that is 3 places in front in the alphabet. So \"H\" will become \"K\", \"e\" will become \"h\", \"l\" will become \"o\", \"o\" will become \"r\", \"W\" will become \"Z\", \"r\" will become \"u\" and \"d\" will become \"g\". A space will become \"#\"\n",
        "\n",
        "The encrypted message is: \"Khoor Zruog\"\n",
        "\n",
        "Here is a second set of test data:\n",
        "Message: \"This is encrypted text\"\n",
        "Cipher: 5\n",
        "Expected encrypted message: \"Ymnx nx jshwduyji yjcy\"\n",
        "\n",
        "(You will need to think carefully about how to apply the cipher when it would take it past \"z\". It will need to wrap around to continue shifting from \"a\". You will also need to cater for spaces - these should not be changed).\n",
        "\n",
        "Use the code cell below to create your program and functions."
      ],
      "metadata": {
        "id": "VuHep6pjD43Z"
      }
    },
    {
      "cell_type": "code",
      "execution_count": 30,
      "metadata": {
        "id": "9EnEsjVDDr7j",
        "colab": {
          "base_uri": "https://localhost:8080/"
        },
        "outputId": "d8792a85-d63e-4868-c19b-e07de4010974"
      },
      "outputs": [
        {
          "output_type": "stream",
          "name": "stdout",
          "text": [
            "please enter encrypt or decrypt:decrypt\n",
            "please enter message:Ymnx#nx#jshwduyji#yjcy\n",
            "please enter the cipher integer:5\n",
            "This is encrypted text\n"
          ]
        }
      ],
      "source": [
        "import string\n",
        "\n",
        "def encrypt(message, key):\n",
        "  encrypted = \"\"\n",
        "  for letter in message:\n",
        "    if letter == \" \":\n",
        "      encrypted += \"#\"\n",
        "    else :\n",
        "      #upper case\n",
        "      if letter.isupper():\n",
        "        letter_position = atoz_upper.index(letter)+key\n",
        "        if letter_position>25 :\n",
        "          letter_position = letter_position-25-1 \n",
        "          new_letter = atoz_upper[letter_position]\n",
        "        else :\n",
        "          new_letter = atoz_upper[letter_position]\n",
        "      else : #lower case\n",
        "        letter_position = atoz_lower.index(letter)+key\n",
        "        if letter_position>25 :\n",
        "          letter_position = letter_position-25-1 \n",
        "          new_letter = atoz_lower[letter_position]\n",
        "        else :\n",
        "          new_letter = atoz_lower[letter_position]\n",
        "\n",
        "        #print(letter, \" \" ,letter_position)\n",
        "\n",
        "      encrypted += new_letter\n",
        "\n",
        "  return encrypted\n",
        "\n",
        "def decrypt(message, key):\n",
        "  decrypted = \"\"\n",
        "  for letter in message:\n",
        "    if letter == \"#\":\n",
        "      decrypted += \" \"\n",
        "    else :\n",
        "      #upper case\n",
        "      if letter.isupper():\n",
        "        letter_position = atoz_upper.index(letter)-key\n",
        "        if letter_position<0 :\n",
        "          letter_position = 25-abs(letter_position)+1 #atoz_upper.index('A')+key -1\n",
        "          new_letter = atoz_upper[letter_position]\n",
        "        else :\n",
        "          new_letter = atoz_upper[letter_position]\n",
        "      else : #lower case\n",
        "        letter_position = atoz_lower.index(letter)-key\n",
        "        if letter_position<0 :\n",
        "          letter_position = 25-abs(letter_position)+1 #atoz_lower.index('a')+key-1\n",
        "          new_letter = atoz_lower[letter_position]\n",
        "        else :\n",
        "          new_letter = atoz_lower[letter_position]\n",
        "\n",
        "        #print(letter, \" \" ,letter_position)\n",
        "\n",
        "      decrypted += new_letter\n",
        "\n",
        "  return decrypted\n",
        "\n",
        "atoz_lower = []\n",
        "atoz_upper = []\n",
        "for i in range(ord('a'), ord('z')+1):\n",
        "  atoz_lower.append(chr(i))\n",
        "for j in range(ord('A'), ord('Z')+1):\n",
        "  atoz_upper.append(chr(j))\n",
        "\n",
        "direction = input(\"please enter encrypt or decrypt:\")\n",
        "message = input(\"please enter message:\")\n",
        "key = int(input(\"please enter the cipher integer:\"))\n",
        "if direction == \"encrypt\" :\n",
        "  print(encrypt(message, key))\n",
        "elif direction==\"decrypt\" :\n",
        "  print(decrypt(message, key))\n",
        "else :\n",
        "  print(\"wrong key, please try again.\")"
      ]
    }
  ]
}