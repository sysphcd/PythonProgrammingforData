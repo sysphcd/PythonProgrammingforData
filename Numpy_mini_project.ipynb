{
  "nbformat": 4,
  "nbformat_minor": 0,
  "metadata": {
    "colab": {
      "name": "Numpy mini-project.ipynb",
      "provenance": [],
      "collapsed_sections": [],
      "include_colab_link": true
    },
    "kernelspec": {
      "name": "python3",
      "display_name": "Python 3"
    },
    "language_info": {
      "name": "python"
    }
  },
  "cells": [
    {
      "cell_type": "markdown",
      "metadata": {
        "id": "view-in-github",
        "colab_type": "text"
      },
      "source": [
        "<a href=\"https://colab.research.google.com/github/sysphcd/PythonProgrammingforData/blob/main/Numpy_mini_project.ipynb\" target=\"_parent\"><img src=\"https://colab.research.google.com/assets/colab-badge.svg\" alt=\"Open In Colab\"/></a>"
      ]
    },
    {
      "cell_type": "markdown",
      "source": [
        "# Investigate, wrangle, add new data to the dataframe, filter and correlate\n",
        "\n",
        "The following data file contains data about student scores in math, reading and writing.  The exam scores are assumed to be percentages. It also contains data about gender, ethnicity, parental education, whether the student qualifies for free school food and whether or not the student has taken a preparation course for the exams.  The data set has already been cleaned. \n",
        "\n",
        "1.  Investigate the data set.\n",
        "\n",
        "2.  Create numpy arrays to hold each of the three sets of scores.  \n",
        "Create a new numpy array to hold the average exam score (of the three scores for each student)\n",
        "Add the new numpy array as a new column in the dataframe.\n",
        "\n",
        "3.  Filter the original dataset into a new dataframe containing just the females.  Calculate the average exam scores for all rows in this new dataframe and then find the mean of the average column.\n",
        "\n",
        "4.  Do the same for the males.\n",
        "\n",
        "5.  Use the original dataset to find the correlation coefficient for reading and maths.  How closely do they correlate?  Write what you find in a text box below the code.\n",
        "\n",
        "6.  Do the same for reading and writing. What do you find?\n",
        "\n",
        "7.  You might want to filter on different criteria and check correlation (e.g. those on free school meals, or those who had prepared, etc)\n",
        "\n",
        "\n",
        "\n",
        "\n",
        "\n"
      ],
      "metadata": {
        "id": "8qnlsapq24Df"
      }
    },
    {
      "cell_type": "markdown",
      "source": [
        "The dataset can be accessed here:  https://raw.githubusercontent.com/lilaceri/Working-with-data-/main/Data%20Sets%20for%20code%20divisio/exams.csv.  This is a .csv file.\n",
        "\n",
        "**NOTE:** Some useful references are included at the bottom of this spreadsheet.\n",
        "\n",
        "Use the code cell below to work your code."
      ],
      "metadata": {
        "id": "SSvLiFnp4LjG"
      }
    },
    {
      "cell_type": "code",
      "source": [
        "import pandas as pd\n",
        "import numpy as np\n",
        "\n",
        "def cal_avg_score(df):\n",
        "  #Create numpy arrays to hold each of the three sets of scores.\n",
        "  nparray_math = np.array(df['math_score'])\n",
        "  nparray_reading = np.array(df['reading_score'])\n",
        "  nparray_writing = np.array(df['writing_score'])\n",
        "  #Create a new numpy array to hold the average exam score (of the three scores for each student) \n",
        "  nparray_avg_score = (nparray_math + nparray_reading + nparray_writing)/3\n",
        "\n",
        "  #Add the new numpy array as a new column in the dataframe.\n",
        "  df['avg_score'] = nparray_avg_score.tolist()\n",
        "  #display(df)\n",
        "  return df\n",
        "\n",
        "def filter_avg_gender(df_withavg):\n",
        "  #display(df_withavg)\n",
        "  #Filter the original dataset into a new dataframe containing just the females.\n",
        "  female_df = df_withavg[df_withavg['gender'] == 'female']\n",
        "  print(female_df)\n",
        "  #Calculate the average exam scores for all rows in this new dataframe and then find the mean of the average column.\n",
        "  nparray_avg_score_f = np.array(female_df['avg_score'])\n",
        "  print(\"Female mean :\" ,nparray_avg_score_f.mean())\n",
        "  #Do the same for the males.\n",
        "  male_df = df_withavg[df_withavg['gender'] == 'male']\n",
        "  nparray_avg_score_m = np.array(male_df['avg_score'])\n",
        "  print(\"Male mean :\" ,nparray_avg_score_m.mean())\n",
        "\n",
        "def cal_coef(df):\n",
        "  #Use the original dataset to find the correlation coefficient for reading and maths. \n",
        "  #How closely do they correlate? Write what you find in a text box below the code.\n",
        "  nparray_reading = np.array(df['reading_score'])\n",
        "  nparray_math =np.array(df['math_score'])\n",
        "  coef_rm = np.corrcoef(nparray_reading,nparray_math)\n",
        "  print('correlation coefficient for reading and maths :\\n',coef_rm)\n",
        "  #print(coef[0][1])\n",
        "  print('what do i find ? ')\n",
        "  print('The matrix gives 4 values showing the correlation between:\\n')\n",
        "\n",
        "  print('|    (reading/reading)        (reading/math)     |\\n')\n",
        "  print('|    (math/reading)      (math/math)  | \\n')\n",
        "  print('This suggests that math decreases with reading (the correlation is posigive so as one increases the other increases) \\n')\n",
        "  print('but that the correlation is quite strong (an absolute correlation would be 1 and no correlation would be 0)\\n')\n",
        "  \n",
        "  #Do the same for reading and writing. What do you find?\n",
        "  nparray_writing =np.array(df['writing_score'])\n",
        "  coef_rw = np.corrcoef(nparray_reading,nparray_writing)\n",
        "  print('correlation coefficient for reading and writing :\\n',coef_rw)\n",
        "  \n",
        "  \n",
        "def cal_coef_filtered(df):\n",
        "  #You might want to filter on different criteria and check correlation \n",
        "  female_df = df[df['gender'] == 'female']\n",
        "  male_df = df[df['gender'] == 'male']\n",
        "\n",
        "  nparray_reading_f = np.array(female_df['reading_score'])\n",
        "  nparray_math_f =np.array(female_df['math_score'])\n",
        "  coef_rm_f = np.corrcoef(nparray_reading_f,nparray_math_f)\n",
        "  print('correlation coefficient for female reading and maths :\\n',coef_rm_f)\n",
        "\n",
        "  nparray_reading_m = np.array(male_df['reading_score'])\n",
        "  nparray_math_m =np.array(male_df['math_score'])\n",
        "  coef_rm_m = np.corrcoef(nparray_reading_m,nparray_math_m)\n",
        "  print('correlation coefficient for male reading and maths :\\n',coef_rm_m)\n",
        "\n",
        "url = \"https://raw.githubusercontent.com/lilaceri/Working-with-data-/main/Data%20Sets%20for%20code%20divisio/exams.csv\"\n",
        "df = pd.read_csv(url)\n",
        "df.info()\n",
        "df_withavg = cal_avg_score(df)\n",
        "filter_avg_gender(df_withavg)\n",
        "cal_coef(df)\n",
        "cal_coef_filtered(df)"
      ],
      "metadata": {
        "id": "txM4TIRUHhsJ",
        "colab": {
          "base_uri": "https://localhost:8080/"
        },
        "outputId": "42a9b826-9277-4d61-a573-91f0cd83b0f3"
      },
      "execution_count": 20,
      "outputs": [
        {
          "output_type": "stream",
          "name": "stdout",
          "text": [
            "<class 'pandas.core.frame.DataFrame'>\n",
            "RangeIndex: 1000 entries, 0 to 999\n",
            "Data columns (total 8 columns):\n",
            " #   Column              Non-Null Count  Dtype \n",
            "---  ------              --------------  ----- \n",
            " 0   gender              1000 non-null   object\n",
            " 1   ethnicity           1000 non-null   object\n",
            " 2   parental_education  1000 non-null   object\n",
            " 3   lunch               1000 non-null   object\n",
            " 4   preparation_course  1000 non-null   object\n",
            " 5   math_score          1000 non-null   int64 \n",
            " 6   reading_score       1000 non-null   int64 \n",
            " 7   writing_score       1000 non-null   int64 \n",
            "dtypes: int64(3), object(5)\n",
            "memory usage: 62.6+ KB\n",
            "     gender ethnicity  ... writing_score  avg_score\n",
            "0    female   group E  ...            71  70.666667\n",
            "2    female   group B  ...            61  59.666667\n",
            "4    female   group C  ...            55  47.666667\n",
            "5    female   group B  ...            61  60.000000\n",
            "6    female   group D  ...            92  88.333333\n",
            "..      ...       ...  ...           ...        ...\n",
            "989  female   group D  ...            82  76.666667\n",
            "991  female   group C  ...            77  74.000000\n",
            "992  female   group C  ...            65  57.666667\n",
            "994  female   group D  ...            80  75.333333\n",
            "997  female   group C  ...            93  84.000000\n",
            "\n",
            "[496 rows x 9 columns]\n",
            "Female mean : 70.81989247311829\n",
            "Male mean : 65.99272486772487\n",
            "correlation coefficient for reading and maths :\n",
            " [[1.         0.81459752]\n",
            " [0.81459752 1.        ]]\n",
            "what do i find ? \n",
            "The matrix gives 4 values showing the correlation between:\n",
            "\n",
            "|    (reading/reading)        (reading/math)     |\n",
            "\n",
            "|    (math/reading)      (math/math)  | \n",
            "\n",
            "This suggests that math decreases with reading (the correlation is posigive so as one increases the other increases) \n",
            "\n",
            "but that the correlation is quite strong (an absolute correlation would be 1 and no correlation would be 0)\n",
            "\n",
            "correlation coefficient for reading and writing :\n",
            " [[1.         0.95676863]\n",
            " [0.95676863 1.        ]]\n",
            "correlation coefficient for female reading and maths :\n",
            " [[1.         0.88082438]\n",
            " [0.88082438 1.        ]]\n",
            "correlation coefficient for male reading and maths :\n",
            " [[1.         0.90049667]\n",
            " [0.90049667 1.        ]]\n"
          ]
        }
      ]
    },
    {
      "cell_type": "markdown",
      "source": [
        "### Helpful references\n",
        "---\n",
        "\n",
        "Filtering on criteria using df references:  \n",
        "`filtered_df = df[df['column name' == value]]`  \n",
        "\n",
        "Filtering on multiple criteria using df reference:  \n",
        "`filtered_df = df[df['first column name' == value] & df[second column name] >= value]`\n",
        "\n",
        "Numpy help sheet:  http://datacamp-community-prod.s3.amazonaws.com/da466534-51fe-4c6d-b0cb-154f4782eb54\n",
        "\n"
      ],
      "metadata": {
        "id": "hkj-Ofus_D6_"
      }
    }
  ]
}