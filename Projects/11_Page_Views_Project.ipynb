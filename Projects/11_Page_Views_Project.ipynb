{
  "nbformat": 4,
  "nbformat_minor": 0,
  "metadata": {
    "colab": {
      "name": "11 Page Views Project.ipynb",
      "provenance": [],
      "collapsed_sections": [],
      "toc_visible": true,
      "include_colab_link": true
    },
    "kernelspec": {
      "name": "python3",
      "display_name": "Python 3"
    },
    "language_info": {
      "name": "python"
    }
  },
  "cells": [
    {
      "cell_type": "markdown",
      "metadata": {
        "id": "view-in-github",
        "colab_type": "text"
      },
      "source": [
        "<a href=\"https://colab.research.google.com/github/sysphcd/PythonProgrammingforData/blob/main/Projects/11_Page_Views_Project.ipynb\" target=\"_parent\"><img src=\"https://colab.research.google.com/assets/colab-badge.svg\" alt=\"Open In Colab\"/></a>"
      ]
    },
    {
      "cell_type": "markdown",
      "metadata": {
        "id": "PbPj7T6rpfIM"
      },
      "source": [
        "# Discovery project - page views\n",
        "\n",
        "### Adapted from freeCodeCamp [project](https://www.freecodecamp.org/learn/data-analysis-with-python/data-analysis-with-python-projects/page-view-time-series-visualizer)\n",
        "\n",
        "For this project you will visualise data that has values recorded against time.  You will use Pandas and Matplotlib to visualise the dataset which contains the number of page views each day on the freeCodeCamp.org forum between 2016-05-09 and 2019-12-03. \n",
        "\n"
      ]
    },
    {
      "cell_type": "markdown",
      "source": [
        "# Aim\n",
        "\n",
        "I will be retrieving, cleaning or formatting the data if necessary. I will create a line chart, a bar chart, and some box plots to create visualisations that will help you understand the patterns in visits to the forum and identify growth over various time ranges (yearly, monthly, etc).\n",
        "\n",
        "Visualise and analyse the data in the following ways:\n",
        "\n",
        "*   A line plot\n",
        "*   A bar chart\n",
        "*   A set of box plots\n",
        "*   Predict the number of page views in the year 2020 based on the data up to 2019"
      ],
      "metadata": {
        "id": "jrgtjJ1zXEPU"
      }
    },
    {
      "cell_type": "markdown",
      "source": [
        "# About Data\n",
        "\n",
        "The page view data records the numbers of page views each day on the freeCodeCamp.org forum between 2016-05-09 and 2019-12-03."
      ],
      "metadata": {
        "id": "lR0o-4vsVcBC"
      }
    },
    {
      "cell_type": "markdown",
      "source": [
        "## Data Source"
      ],
      "metadata": {
        "id": "bLTyr4d6VeOq"
      }
    },
    {
      "cell_type": "markdown",
      "source": [
        "The dataset can be read from here: \"https://raw.githubusercontent.com/futureCodersSE/working-with-data/main/Data%20sets/page_views.csv\""
      ],
      "metadata": {
        "id": "wSxeDE2uVrAo"
      }
    },
    {
      "cell_type": "markdown",
      "source": [
        "## Import packages"
      ],
      "metadata": {
        "id": "VuvikGMTVmBG"
      }
    },
    {
      "cell_type": "code",
      "source": [
        "# Importing libraries\n",
        "import pandas as pd\n",
        "import numpy as np\n",
        "from datetime import datetime, date\n",
        "import datetime as dt\n",
        "\n",
        "from pandas.core.algorithms import quantile\n",
        "from scipy.stats import linregress\n",
        "\n",
        "import matplotlib.pyplot as plt\n",
        "import seaborn as sns"
      ],
      "metadata": {
        "id": "xCKE_oVIfTeC"
      },
      "execution_count": 82,
      "outputs": []
    },
    {
      "cell_type": "markdown",
      "source": [
        "## Data Retrieval\n",
        "The get_data() function is used for getting csv file with a passing in url parameter. It will return a dataframe result.\n",
        "\n",
        "clean_data function is used for removing rows with nan/null data and duplicates, and also sorting data by a passing in field. It returns a cleaned dataframe.\n",
        "\n",
        "\n",
        "\n"
      ],
      "metadata": {
        "id": "K088J6r5kPPZ"
      }
    },
    {
      "cell_type": "code",
      "source": [
        "# Data retrieval from a csv file from githut\n",
        "def get_data(url):\n",
        "  df = pd.read_csv(url)\n",
        "  \n",
        "  return df\n"
      ],
      "metadata": {
        "id": "NqeODAKhV9LI"
      },
      "execution_count": 83,
      "outputs": []
    },
    {
      "cell_type": "markdown",
      "source": [
        "Let's assign the url to the url variable and passing it to the get_data() function. We will get a dataframe and assign to a dataframe variable.\n"
      ],
      "metadata": {
        "id": "SfWKsl3eZ9yf"
      }
    },
    {
      "cell_type": "code",
      "source": [
        "# Programs starts here\n",
        "url = \"https://raw.githubusercontent.com/futureCodersSE/working-with-data/main/Data%20sets/page_views.csv\"\n",
        "original_df = get_data(url)   # Data retriveal"
      ],
      "metadata": {
        "id": "v2-uXlzYWAIt"
      },
      "execution_count": 84,
      "outputs": []
    },
    {
      "cell_type": "markdown",
      "source": [
        "##Inspect Data\n",
        "\n",
        "\n",
        "This dataset contains two columns: date(String) and value (integer type). "
      ],
      "metadata": {
        "id": "SuAj8YV4hRW2"
      }
    },
    {
      "cell_type": "code",
      "source": [
        "print(original_df.info())"
      ],
      "metadata": {
        "colab": {
          "base_uri": "https://localhost:8080/"
        },
        "id": "E0i-DbzqhQcA",
        "outputId": "a7a89239-5ab8-4d05-842f-5ed83b3962c4"
      },
      "execution_count": 85,
      "outputs": [
        {
          "output_type": "stream",
          "name": "stdout",
          "text": [
            "<class 'pandas.core.frame.DataFrame'>\n",
            "RangeIndex: 1304 entries, 0 to 1303\n",
            "Data columns (total 2 columns):\n",
            " #   Column  Non-Null Count  Dtype \n",
            "---  ------  --------------  ----- \n",
            " 0   date    1304 non-null   object\n",
            " 1   value   1304 non-null   int64 \n",
            "dtypes: int64(1), object(1)\n",
            "memory usage: 20.5+ KB\n",
            "None\n"
          ]
        }
      ]
    },
    {
      "cell_type": "markdown",
      "source": [
        "I will check if it contains any missing data."
      ],
      "metadata": {
        "id": "KXfxnFiPhHNo"
      }
    },
    {
      "cell_type": "code",
      "source": [
        "original_df.isnull().values.any()"
      ],
      "metadata": {
        "colab": {
          "base_uri": "https://localhost:8080/"
        },
        "id": "C0l7mdghg-ib",
        "outputId": "fd9b3942-fd3c-4e7b-e7ec-de83833b777a"
      },
      "execution_count": 86,
      "outputs": [
        {
          "output_type": "execute_result",
          "data": {
            "text/plain": [
              "False"
            ]
          },
          "metadata": {},
          "execution_count": 86
        }
      ]
    },
    {
      "cell_type": "markdown",
      "source": [
        "This any_nulls() function is passing in a dataframe and returning if each column contains null values in boolean values True or False."
      ],
      "metadata": {
        "id": "-xH_sTz7hJxb"
      }
    },
    {
      "cell_type": "code",
      "source": [
        "#find any null values for each column\n",
        "def any_nulls(df):\n",
        "  df_null = df.isna().any()\n",
        "  return df_null\n",
        "\n",
        "null_values = any_nulls(original_df)\n",
        "print(null_values)"
      ],
      "metadata": {
        "colab": {
          "base_uri": "https://localhost:8080/"
        },
        "id": "iy9wsYqbhA7i",
        "outputId": "7fb11a01-80ca-435e-ce2a-30439649a3d6"
      },
      "execution_count": 87,
      "outputs": [
        {
          "output_type": "stream",
          "name": "stdout",
          "text": [
            "date     False\n",
            "value    False\n",
            "dtype: bool\n"
          ]
        }
      ]
    },
    {
      "cell_type": "markdown",
      "source": [
        "## Cleaning, Sorting Data\n",
        "This clean_data() function is using for dropping off nan / null value records, dropping off duplicates rows and sort_values by a column.  Finally, returning the dataframe. We might need to convert the data type later. "
      ],
      "metadata": {
        "id": "athbe1H5aP35"
      }
    },
    {
      "cell_type": "code",
      "metadata": {
        "id": "9xYOGWDZpeKg"
      },
      "source": [
        "# Sort and clean data\n",
        "def clean_data(original_df, sortby):\n",
        "  # sort dataframe by date\n",
        "  original_df = original_df.sort_values(by = sortby, ascending = True)\n",
        "  original_df = original_df.dropna()\n",
        "  original_df = original_df.drop_duplicates()\n",
        "  return original_df\n"
      ],
      "execution_count": 88,
      "outputs": []
    },
    {
      "cell_type": "markdown",
      "source": [
        "Let's pass in the original dataframe and the sorting column to the clean_data() function. We will gain a new dataframe and assign to cleaned_df variable."
      ],
      "metadata": {
        "id": "XbmB5G0OakBN"
      }
    },
    {
      "cell_type": "code",
      "source": [
        "cleaned_df = clean_data(original_df, 'date')   # sort and clean data"
      ],
      "metadata": {
        "id": "X9e52xY9ah4f"
      },
      "execution_count": 89,
      "outputs": []
    },
    {
      "cell_type": "markdown",
      "source": [
        "The code cell below will test if the first records index is 0 and total records is 1304. If yes, then we got Test passed result."
      ],
      "metadata": {
        "id": "lj1_cqr9a-Vf"
      }
    },
    {
      "cell_type": "code",
      "source": [
        "# The code below will run and test your code to see if you have returned a series with the correct length and first row\n",
        "actual = cleaned_df.index[0]\n",
        "expected = 0\n",
        "\n",
        "if actual == expected and len(cleaned_df) == 1304:\n",
        "  print(\"Test passed\", actual)\n",
        "else:\n",
        "  print(\"Test failed\",\"Should have got\", expected, \"got\", actual, \"and length of series should have been 1304 but was\", len(clean_data(original_df)))\n"
      ],
      "metadata": {
        "colab": {
          "base_uri": "https://localhost:8080/"
        },
        "id": "-kdbnAEaWGx-",
        "outputId": "fa3868f4-4e0e-47f4-b66f-121cf1c3be69"
      },
      "execution_count": 90,
      "outputs": [
        {
          "output_type": "stream",
          "name": "stdout",
          "text": [
            "Test passed 0\n"
          ]
        }
      ]
    },
    {
      "cell_type": "markdown",
      "source": [
        "Let's have a look of the new dataframe records."
      ],
      "metadata": {
        "id": "-jDJRCdWbdC_"
      }
    },
    {
      "cell_type": "code",
      "source": [
        "display(cleaned_df)"
      ],
      "metadata": {
        "colab": {
          "base_uri": "https://localhost:8080/",
          "height": 423
        },
        "id": "hZKz565iWENZ",
        "outputId": "b82c56b4-a10d-49fe-f4c5-2a4267ebb727"
      },
      "execution_count": 91,
      "outputs": [
        {
          "output_type": "display_data",
          "data": {
            "text/plain": [
              "            date   value\n",
              "0     2016-05-09    1201\n",
              "1     2016-05-10    2329\n",
              "2     2016-05-11    1716\n",
              "3     2016-05-12   10539\n",
              "4     2016-05-13    6933\n",
              "...          ...     ...\n",
              "1299  2019-11-29  171584\n",
              "1300  2019-11-30  141161\n",
              "1301  2019-12-01  142918\n",
              "1302  2019-12-02  220144\n",
              "1303  2019-12-03  158549\n",
              "\n",
              "[1304 rows x 2 columns]"
            ],
            "text/html": [
              "\n",
              "  <div id=\"df-72022912-c67f-4454-9b38-249fab7d8976\">\n",
              "    <div class=\"colab-df-container\">\n",
              "      <div>\n",
              "<style scoped>\n",
              "    .dataframe tbody tr th:only-of-type {\n",
              "        vertical-align: middle;\n",
              "    }\n",
              "\n",
              "    .dataframe tbody tr th {\n",
              "        vertical-align: top;\n",
              "    }\n",
              "\n",
              "    .dataframe thead th {\n",
              "        text-align: right;\n",
              "    }\n",
              "</style>\n",
              "<table border=\"1\" class=\"dataframe\">\n",
              "  <thead>\n",
              "    <tr style=\"text-align: right;\">\n",
              "      <th></th>\n",
              "      <th>date</th>\n",
              "      <th>value</th>\n",
              "    </tr>\n",
              "  </thead>\n",
              "  <tbody>\n",
              "    <tr>\n",
              "      <th>0</th>\n",
              "      <td>2016-05-09</td>\n",
              "      <td>1201</td>\n",
              "    </tr>\n",
              "    <tr>\n",
              "      <th>1</th>\n",
              "      <td>2016-05-10</td>\n",
              "      <td>2329</td>\n",
              "    </tr>\n",
              "    <tr>\n",
              "      <th>2</th>\n",
              "      <td>2016-05-11</td>\n",
              "      <td>1716</td>\n",
              "    </tr>\n",
              "    <tr>\n",
              "      <th>3</th>\n",
              "      <td>2016-05-12</td>\n",
              "      <td>10539</td>\n",
              "    </tr>\n",
              "    <tr>\n",
              "      <th>4</th>\n",
              "      <td>2016-05-13</td>\n",
              "      <td>6933</td>\n",
              "    </tr>\n",
              "    <tr>\n",
              "      <th>...</th>\n",
              "      <td>...</td>\n",
              "      <td>...</td>\n",
              "    </tr>\n",
              "    <tr>\n",
              "      <th>1299</th>\n",
              "      <td>2019-11-29</td>\n",
              "      <td>171584</td>\n",
              "    </tr>\n",
              "    <tr>\n",
              "      <th>1300</th>\n",
              "      <td>2019-11-30</td>\n",
              "      <td>141161</td>\n",
              "    </tr>\n",
              "    <tr>\n",
              "      <th>1301</th>\n",
              "      <td>2019-12-01</td>\n",
              "      <td>142918</td>\n",
              "    </tr>\n",
              "    <tr>\n",
              "      <th>1302</th>\n",
              "      <td>2019-12-02</td>\n",
              "      <td>220144</td>\n",
              "    </tr>\n",
              "    <tr>\n",
              "      <th>1303</th>\n",
              "      <td>2019-12-03</td>\n",
              "      <td>158549</td>\n",
              "    </tr>\n",
              "  </tbody>\n",
              "</table>\n",
              "<p>1304 rows × 2 columns</p>\n",
              "</div>\n",
              "      <button class=\"colab-df-convert\" onclick=\"convertToInteractive('df-72022912-c67f-4454-9b38-249fab7d8976')\"\n",
              "              title=\"Convert this dataframe to an interactive table.\"\n",
              "              style=\"display:none;\">\n",
              "        \n",
              "  <svg xmlns=\"http://www.w3.org/2000/svg\" height=\"24px\"viewBox=\"0 0 24 24\"\n",
              "       width=\"24px\">\n",
              "    <path d=\"M0 0h24v24H0V0z\" fill=\"none\"/>\n",
              "    <path d=\"M18.56 5.44l.94 2.06.94-2.06 2.06-.94-2.06-.94-.94-2.06-.94 2.06-2.06.94zm-11 1L8.5 8.5l.94-2.06 2.06-.94-2.06-.94L8.5 2.5l-.94 2.06-2.06.94zm10 10l.94 2.06.94-2.06 2.06-.94-2.06-.94-.94-2.06-.94 2.06-2.06.94z\"/><path d=\"M17.41 7.96l-1.37-1.37c-.4-.4-.92-.59-1.43-.59-.52 0-1.04.2-1.43.59L10.3 9.45l-7.72 7.72c-.78.78-.78 2.05 0 2.83L4 21.41c.39.39.9.59 1.41.59.51 0 1.02-.2 1.41-.59l7.78-7.78 2.81-2.81c.8-.78.8-2.07 0-2.86zM5.41 20L4 18.59l7.72-7.72 1.47 1.35L5.41 20z\"/>\n",
              "  </svg>\n",
              "      </button>\n",
              "      \n",
              "  <style>\n",
              "    .colab-df-container {\n",
              "      display:flex;\n",
              "      flex-wrap:wrap;\n",
              "      gap: 12px;\n",
              "    }\n",
              "\n",
              "    .colab-df-convert {\n",
              "      background-color: #E8F0FE;\n",
              "      border: none;\n",
              "      border-radius: 50%;\n",
              "      cursor: pointer;\n",
              "      display: none;\n",
              "      fill: #1967D2;\n",
              "      height: 32px;\n",
              "      padding: 0 0 0 0;\n",
              "      width: 32px;\n",
              "    }\n",
              "\n",
              "    .colab-df-convert:hover {\n",
              "      background-color: #E2EBFA;\n",
              "      box-shadow: 0px 1px 2px rgba(60, 64, 67, 0.3), 0px 1px 3px 1px rgba(60, 64, 67, 0.15);\n",
              "      fill: #174EA6;\n",
              "    }\n",
              "\n",
              "    [theme=dark] .colab-df-convert {\n",
              "      background-color: #3B4455;\n",
              "      fill: #D2E3FC;\n",
              "    }\n",
              "\n",
              "    [theme=dark] .colab-df-convert:hover {\n",
              "      background-color: #434B5C;\n",
              "      box-shadow: 0px 1px 3px 1px rgba(0, 0, 0, 0.15);\n",
              "      filter: drop-shadow(0px 1px 2px rgba(0, 0, 0, 0.3));\n",
              "      fill: #FFFFFF;\n",
              "    }\n",
              "  </style>\n",
              "\n",
              "      <script>\n",
              "        const buttonEl =\n",
              "          document.querySelector('#df-72022912-c67f-4454-9b38-249fab7d8976 button.colab-df-convert');\n",
              "        buttonEl.style.display =\n",
              "          google.colab.kernel.accessAllowed ? 'block' : 'none';\n",
              "\n",
              "        async function convertToInteractive(key) {\n",
              "          const element = document.querySelector('#df-72022912-c67f-4454-9b38-249fab7d8976');\n",
              "          const dataTable =\n",
              "            await google.colab.kernel.invokeFunction('convertToInteractive',\n",
              "                                                     [key], {});\n",
              "          if (!dataTable) return;\n",
              "\n",
              "          const docLinkHtml = 'Like what you see? Visit the ' +\n",
              "            '<a target=\"_blank\" href=https://colab.research.google.com/notebooks/data_table.ipynb>data table notebook</a>'\n",
              "            + ' to learn more about interactive tables.';\n",
              "          element.innerHTML = '';\n",
              "          dataTable['output_type'] = 'display_data';\n",
              "          await google.colab.output.renderOutput(dataTable, element);\n",
              "          const docLink = document.createElement('div');\n",
              "          docLink.innerHTML = docLinkHtml;\n",
              "          element.appendChild(docLink);\n",
              "        }\n",
              "      </script>\n",
              "    </div>\n",
              "  </div>\n",
              "  "
            ]
          },
          "metadata": {}
        }
      ]
    },
    {
      "cell_type": "markdown",
      "source": [
        "# Data Analysis & Visualisation"
      ],
      "metadata": {
        "id": "6nKaqm2BcIui"
      }
    },
    {
      "cell_type": "markdown",
      "source": [
        "## 1.  a line plot, similar to this \n",
        "---\n",
        "![example](https://drive.google.com/uc?id=1Cic5SybYEc86rqbwTCZzyEf4rzQNWJLP) (taken from the freeCodeCamp site) and with similar labelling.\n",
        "\n",
        "\n"
      ],
      "metadata": {
        "id": "VKeRaTH0leil"
      }
    },
    {
      "cell_type": "markdown",
      "source": [
        "### Preparing Data\n",
        "To prepare the data for the line plot you might do the following:  \n",
        "\n",
        "*  convert the `date` column to **datetime** type \n",
        "*  create 3 new columns for `year`, `month` and `day` (use `dt.year, dt.strftime to get the month name, dt.day`)\n",
        "*  set the index to the **date** column.\n",
        "*  clean the data by filtering out days when the page views were in the top 2.5% of the dataset or bottom 2.5% of the dataset."
      ],
      "metadata": {
        "id": "gS5gZX9Ld8Ow"
      }
    },
    {
      "cell_type": "code",
      "source": [
        "# Make a copy of the cleaned dataframe and make changes on the copy_df\n",
        "copy_df = cleaned_df.copy()"
      ],
      "metadata": {
        "id": "7eCOyBcmecVs"
      },
      "execution_count": 92,
      "outputs": []
    },
    {
      "cell_type": "code",
      "source": [
        "# convert the date column to datetime type\n",
        "copy_df['date'] = pd.to_datetime(copy_df.date)\n",
        "copy_df.date"
      ],
      "metadata": {
        "colab": {
          "base_uri": "https://localhost:8080/"
        },
        "id": "JVXsFqZeeXWr",
        "outputId": "f427dcd6-e58d-4842-9101-c5fe952db578"
      },
      "execution_count": 93,
      "outputs": [
        {
          "output_type": "execute_result",
          "data": {
            "text/plain": [
              "0      2016-05-09\n",
              "1      2016-05-10\n",
              "2      2016-05-11\n",
              "3      2016-05-12\n",
              "4      2016-05-13\n",
              "          ...    \n",
              "1299   2019-11-29\n",
              "1300   2019-11-30\n",
              "1301   2019-12-01\n",
              "1302   2019-12-02\n",
              "1303   2019-12-03\n",
              "Name: date, Length: 1304, dtype: datetime64[ns]"
            ]
          },
          "metadata": {},
          "execution_count": 93
        }
      ]
    },
    {
      "cell_type": "code",
      "source": [
        "# create 3 new columns for year , month and day from the date column\n",
        "copy_df['year'] = copy_df.date.dt.year  \n",
        "copy_df['month'] = copy_df.date.dt.strftime(\"%m\") \n",
        "copy_df['day'] = copy_df.date.dt.day "
      ],
      "metadata": {
        "id": "Tdlg3idRelk1"
      },
      "execution_count": 94,
      "outputs": []
    },
    {
      "cell_type": "code",
      "source": [
        "# set index to the date column\n",
        "copy_df = copy_df.set_index('date') #,inplace=True)"
      ],
      "metadata": {
        "id": "-k-Y86uReto-"
      },
      "execution_count": 95,
      "outputs": []
    },
    {
      "cell_type": "markdown",
      "source": [
        "Let's have a look the data now. Now, the date has became index."
      ],
      "metadata": {
        "id": "SpdfXHAkfNYP"
      }
    },
    {
      "cell_type": "code",
      "source": [
        "copy_df"
      ],
      "metadata": {
        "colab": {
          "base_uri": "https://localhost:8080/",
          "height": 455
        },
        "id": "2W-Rv66ufIaC",
        "outputId": "60aee4d6-5979-43a4-f7b9-5492a05c256f"
      },
      "execution_count": 96,
      "outputs": [
        {
          "output_type": "execute_result",
          "data": {
            "text/plain": [
              "             value  year month  day\n",
              "date                               \n",
              "2016-05-09    1201  2016    05    9\n",
              "2016-05-10    2329  2016    05   10\n",
              "2016-05-11    1716  2016    05   11\n",
              "2016-05-12   10539  2016    05   12\n",
              "2016-05-13    6933  2016    05   13\n",
              "...            ...   ...   ...  ...\n",
              "2019-11-29  171584  2019    11   29\n",
              "2019-11-30  141161  2019    11   30\n",
              "2019-12-01  142918  2019    12    1\n",
              "2019-12-02  220144  2019    12    2\n",
              "2019-12-03  158549  2019    12    3\n",
              "\n",
              "[1304 rows x 4 columns]"
            ],
            "text/html": [
              "\n",
              "  <div id=\"df-7e6464cb-df92-4943-be55-41c67393209c\">\n",
              "    <div class=\"colab-df-container\">\n",
              "      <div>\n",
              "<style scoped>\n",
              "    .dataframe tbody tr th:only-of-type {\n",
              "        vertical-align: middle;\n",
              "    }\n",
              "\n",
              "    .dataframe tbody tr th {\n",
              "        vertical-align: top;\n",
              "    }\n",
              "\n",
              "    .dataframe thead th {\n",
              "        text-align: right;\n",
              "    }\n",
              "</style>\n",
              "<table border=\"1\" class=\"dataframe\">\n",
              "  <thead>\n",
              "    <tr style=\"text-align: right;\">\n",
              "      <th></th>\n",
              "      <th>value</th>\n",
              "      <th>year</th>\n",
              "      <th>month</th>\n",
              "      <th>day</th>\n",
              "    </tr>\n",
              "    <tr>\n",
              "      <th>date</th>\n",
              "      <th></th>\n",
              "      <th></th>\n",
              "      <th></th>\n",
              "      <th></th>\n",
              "    </tr>\n",
              "  </thead>\n",
              "  <tbody>\n",
              "    <tr>\n",
              "      <th>2016-05-09</th>\n",
              "      <td>1201</td>\n",
              "      <td>2016</td>\n",
              "      <td>05</td>\n",
              "      <td>9</td>\n",
              "    </tr>\n",
              "    <tr>\n",
              "      <th>2016-05-10</th>\n",
              "      <td>2329</td>\n",
              "      <td>2016</td>\n",
              "      <td>05</td>\n",
              "      <td>10</td>\n",
              "    </tr>\n",
              "    <tr>\n",
              "      <th>2016-05-11</th>\n",
              "      <td>1716</td>\n",
              "      <td>2016</td>\n",
              "      <td>05</td>\n",
              "      <td>11</td>\n",
              "    </tr>\n",
              "    <tr>\n",
              "      <th>2016-05-12</th>\n",
              "      <td>10539</td>\n",
              "      <td>2016</td>\n",
              "      <td>05</td>\n",
              "      <td>12</td>\n",
              "    </tr>\n",
              "    <tr>\n",
              "      <th>2016-05-13</th>\n",
              "      <td>6933</td>\n",
              "      <td>2016</td>\n",
              "      <td>05</td>\n",
              "      <td>13</td>\n",
              "    </tr>\n",
              "    <tr>\n",
              "      <th>...</th>\n",
              "      <td>...</td>\n",
              "      <td>...</td>\n",
              "      <td>...</td>\n",
              "      <td>...</td>\n",
              "    </tr>\n",
              "    <tr>\n",
              "      <th>2019-11-29</th>\n",
              "      <td>171584</td>\n",
              "      <td>2019</td>\n",
              "      <td>11</td>\n",
              "      <td>29</td>\n",
              "    </tr>\n",
              "    <tr>\n",
              "      <th>2019-11-30</th>\n",
              "      <td>141161</td>\n",
              "      <td>2019</td>\n",
              "      <td>11</td>\n",
              "      <td>30</td>\n",
              "    </tr>\n",
              "    <tr>\n",
              "      <th>2019-12-01</th>\n",
              "      <td>142918</td>\n",
              "      <td>2019</td>\n",
              "      <td>12</td>\n",
              "      <td>1</td>\n",
              "    </tr>\n",
              "    <tr>\n",
              "      <th>2019-12-02</th>\n",
              "      <td>220144</td>\n",
              "      <td>2019</td>\n",
              "      <td>12</td>\n",
              "      <td>2</td>\n",
              "    </tr>\n",
              "    <tr>\n",
              "      <th>2019-12-03</th>\n",
              "      <td>158549</td>\n",
              "      <td>2019</td>\n",
              "      <td>12</td>\n",
              "      <td>3</td>\n",
              "    </tr>\n",
              "  </tbody>\n",
              "</table>\n",
              "<p>1304 rows × 4 columns</p>\n",
              "</div>\n",
              "      <button class=\"colab-df-convert\" onclick=\"convertToInteractive('df-7e6464cb-df92-4943-be55-41c67393209c')\"\n",
              "              title=\"Convert this dataframe to an interactive table.\"\n",
              "              style=\"display:none;\">\n",
              "        \n",
              "  <svg xmlns=\"http://www.w3.org/2000/svg\" height=\"24px\"viewBox=\"0 0 24 24\"\n",
              "       width=\"24px\">\n",
              "    <path d=\"M0 0h24v24H0V0z\" fill=\"none\"/>\n",
              "    <path d=\"M18.56 5.44l.94 2.06.94-2.06 2.06-.94-2.06-.94-.94-2.06-.94 2.06-2.06.94zm-11 1L8.5 8.5l.94-2.06 2.06-.94-2.06-.94L8.5 2.5l-.94 2.06-2.06.94zm10 10l.94 2.06.94-2.06 2.06-.94-2.06-.94-.94-2.06-.94 2.06-2.06.94z\"/><path d=\"M17.41 7.96l-1.37-1.37c-.4-.4-.92-.59-1.43-.59-.52 0-1.04.2-1.43.59L10.3 9.45l-7.72 7.72c-.78.78-.78 2.05 0 2.83L4 21.41c.39.39.9.59 1.41.59.51 0 1.02-.2 1.41-.59l7.78-7.78 2.81-2.81c.8-.78.8-2.07 0-2.86zM5.41 20L4 18.59l7.72-7.72 1.47 1.35L5.41 20z\"/>\n",
              "  </svg>\n",
              "      </button>\n",
              "      \n",
              "  <style>\n",
              "    .colab-df-container {\n",
              "      display:flex;\n",
              "      flex-wrap:wrap;\n",
              "      gap: 12px;\n",
              "    }\n",
              "\n",
              "    .colab-df-convert {\n",
              "      background-color: #E8F0FE;\n",
              "      border: none;\n",
              "      border-radius: 50%;\n",
              "      cursor: pointer;\n",
              "      display: none;\n",
              "      fill: #1967D2;\n",
              "      height: 32px;\n",
              "      padding: 0 0 0 0;\n",
              "      width: 32px;\n",
              "    }\n",
              "\n",
              "    .colab-df-convert:hover {\n",
              "      background-color: #E2EBFA;\n",
              "      box-shadow: 0px 1px 2px rgba(60, 64, 67, 0.3), 0px 1px 3px 1px rgba(60, 64, 67, 0.15);\n",
              "      fill: #174EA6;\n",
              "    }\n",
              "\n",
              "    [theme=dark] .colab-df-convert {\n",
              "      background-color: #3B4455;\n",
              "      fill: #D2E3FC;\n",
              "    }\n",
              "\n",
              "    [theme=dark] .colab-df-convert:hover {\n",
              "      background-color: #434B5C;\n",
              "      box-shadow: 0px 1px 3px 1px rgba(0, 0, 0, 0.15);\n",
              "      filter: drop-shadow(0px 1px 2px rgba(0, 0, 0, 0.3));\n",
              "      fill: #FFFFFF;\n",
              "    }\n",
              "  </style>\n",
              "\n",
              "      <script>\n",
              "        const buttonEl =\n",
              "          document.querySelector('#df-7e6464cb-df92-4943-be55-41c67393209c button.colab-df-convert');\n",
              "        buttonEl.style.display =\n",
              "          google.colab.kernel.accessAllowed ? 'block' : 'none';\n",
              "\n",
              "        async function convertToInteractive(key) {\n",
              "          const element = document.querySelector('#df-7e6464cb-df92-4943-be55-41c67393209c');\n",
              "          const dataTable =\n",
              "            await google.colab.kernel.invokeFunction('convertToInteractive',\n",
              "                                                     [key], {});\n",
              "          if (!dataTable) return;\n",
              "\n",
              "          const docLinkHtml = 'Like what you see? Visit the ' +\n",
              "            '<a target=\"_blank\" href=https://colab.research.google.com/notebooks/data_table.ipynb>data table notebook</a>'\n",
              "            + ' to learn more about interactive tables.';\n",
              "          element.innerHTML = '';\n",
              "          dataTable['output_type'] = 'display_data';\n",
              "          await google.colab.output.renderOutput(dataTable, element);\n",
              "          const docLink = document.createElement('div');\n",
              "          docLink.innerHTML = docLinkHtml;\n",
              "          element.appendChild(docLink);\n",
              "        }\n",
              "      </script>\n",
              "    </div>\n",
              "  </div>\n",
              "  "
            ]
          },
          "metadata": {},
          "execution_count": 96
        }
      ]
    },
    {
      "cell_type": "markdown",
      "source": [
        "This code cell below will help us to produce the plots and you will them clearly in the box plot later on.\n",
        "\n",
        "Outliers increase the variability in the data, which decreases the statistical power. Therefore, excluding outliers can cause your results to become statistically significant.\n",
        "\n",
        "I use pandas's quantile() method to fetch the upper quantile (Q3) and lower quantile(Q1). "
      ],
      "metadata": {
        "id": "Kfq8RSknfTWy"
      }
    },
    {
      "cell_type": "code",
      "source": [
        "# filter out days when the page views were in the top 2.5% of the dataset or bottom 2.5% of the dataset.\n",
        "top = copy_df['value'].quantile(0.975)\n",
        "bottom = copy_df['value'].quantile(0.025)"
      ],
      "metadata": {
        "id": "nhHYu9Zie0iZ"
      },
      "execution_count": 97,
      "outputs": []
    },
    {
      "cell_type": "markdown",
      "source": [
        "We need to remove the outliers in the data set. "
      ],
      "metadata": {
        "id": "AMlsKbiUf2xu"
      }
    },
    {
      "cell_type": "code",
      "source": [
        "# remove outliers\n",
        "final_df = copy_df[(copy_df['value'] <= top) & (copy_df['value'] >= bottom)]   "
      ],
      "metadata": {
        "id": "HCbpa0W9dwvU"
      },
      "execution_count": 98,
      "outputs": []
    },
    {
      "cell_type": "markdown",
      "source": [
        "### Visualisation - the line plot\n",
        "\n",
        "The function generate_lineplot() is using for drawing a line plot by passing in the dataframe, column name, the title of the line chart, labels for x and y. "
      ],
      "metadata": {
        "id": "Af82bAxXdMwE"
      }
    },
    {
      "cell_type": "code",
      "metadata": {
        "id": "bwKeud7NrhVu"
      },
      "source": [
        "def generate_lineplot(df,col,charttitle,x_label,y_label):\n",
        "  # Line Plot using 'plot' function on dataframe\n",
        "  data = df[col] \n",
        "  labels = data.keys()\n",
        "  df[col].plot(kind='line', figsize=(16, 6), title=charttitle, fontsize=10, color='red', linewidth=2) #, marker='o', markersize=2);\n",
        "  plt.xticks(rotation=45)\n",
        "  plt.xlabel(x_label, fontsize=12)\n",
        "  plt.ylabel(y_label, fontsize=12)\n",
        "  plt.show()\n"
      ],
      "execution_count": 99,
      "outputs": []
    },
    {
      "cell_type": "markdown",
      "source": [
        "Excute the generate_line_plot function and draw the line plot."
      ],
      "metadata": {
        "id": "c5A151HOgeSG"
      }
    },
    {
      "cell_type": "code",
      "source": [
        "#Generate Line Plot\n",
        "generate_lineplot(final_df, 'value','Daily freeCodeCamp.org forum page view 05/2016 - 12/2019','Date', 'Page Views')"
      ],
      "metadata": {
        "colab": {
          "base_uri": "https://localhost:8080/",
          "height": 401
        },
        "id": "e2pyulI-dHGv",
        "outputId": "394a5ac4-2595-4ca1-97e0-a4e8bf0c8357"
      },
      "execution_count": 100,
      "outputs": [
        {
          "output_type": "display_data",
          "data": {
            "text/plain": [
              "<Figure size 1152x432 with 1 Axes>"
            ],
            "image/png": "[encoded data removed]"
          },
          "metadata": {
            "needs_background": "light"
          }
        }
      ]
    },
    {
      "cell_type": "markdown",
      "source": [
        "##2. a bar chart similar to this \n",
        "---\n",
        "\n",
        "![example](https://drive.google.com/uc?id=15-tIwheaCIcUsx6jfg5DBAWFVGE4bHzK) (taken from the freeCodeCamp site) and with similar labelling.  It should show average daily page views for each month grouped by year. \n",
        "\n",
        "To prepare the data for the bar chart you should create a pivot table and can use pivot_table_name.plot(kind='bar')\n"
      ],
      "metadata": {
        "id": "t0C_CKXhlh1Z"
      }
    },
    {
      "cell_type": "markdown",
      "source": [
        "### Preparing Data\n",
        "\n",
        "We need to conver the final_df dataframe to pivot table in order to create the bar chart.  \n",
        "\n",
        "Set the year as the index and set the month index as the columns. values will be still the value in pivot table. "
      ],
      "metadata": {
        "id": "xJAtGNSfiXcz"
      }
    },
    {
      "cell_type": "code",
      "source": [
        "# convert dataframe to pivot table\n",
        "df_pivot = final_df.pivot_table(index=final_df.index.year, columns=final_df.index.month, values='value', aggfunc='mean')"
      ],
      "metadata": {
        "id": "hZfJZgkKinTI"
      },
      "execution_count": 101,
      "outputs": []
    },
    {
      "cell_type": "code",
      "source": [
        "display(df_pivot)"
      ],
      "metadata": {
        "colab": {
          "base_uri": "https://localhost:8080/",
          "height": 270
        },
        "id": "QvGIvr_Ei1l_",
        "outputId": "8eb09599-e357-482c-c0e5-2235d273e767"
      },
      "execution_count": 102,
      "outputs": [
        {
          "output_type": "display_data",
          "data": {
            "text/plain": [
              "date             1              2             3             4             5   \\\n",
              "date                                                                           \n",
              "2016            NaN            NaN           NaN           NaN  19432.400000   \n",
              "2017   32785.161290   31113.071429  29369.096774  30878.733333  34244.290323   \n",
              "2018   58580.096774   65679.000000  62693.774194  62350.833333  56562.870968   \n",
              "2019  102056.516129  105968.357143  91214.483871  89368.433333  91439.903226   \n",
              "\n",
              "date            6             7              8             9              10  \\\n",
              "date                                                                           \n",
              "2016  21875.105263  24109.678571   31049.193548  41476.866667   27398.322581   \n",
              "2017  43577.500000  65806.838710   47712.451613  47376.800000   47438.709677   \n",
              "2018  70117.000000  63591.064516   62831.612903  65941.733333  111378.142857   \n",
              "2019  90435.642857  97236.566667  102717.310345  97268.833333  122802.272727   \n",
              "\n",
              "date             11             12  \n",
              "date                                \n",
              "2016   40448.633333   27832.419355  \n",
              "2017   57701.566667   48420.580645  \n",
              "2018   78688.333333   80047.483871  \n",
              "2019  143166.428571  150733.500000  "
            ],
            "text/html": [
              "\n",
              "  <div id=\"df-279deeb4-5f69-4683-a937-b9a0d7f48a1f\">\n",
              "    <div class=\"colab-df-container\">\n",
              "      <div>\n",
              "<style scoped>\n",
              "    .dataframe tbody tr th:only-of-type {\n",
              "        vertical-align: middle;\n",
              "    }\n",
              "\n",
              "    .dataframe tbody tr th {\n",
              "        vertical-align: top;\n",
              "    }\n",
              "\n",
              "    .dataframe thead th {\n",
              "        text-align: right;\n",
              "    }\n",
              "</style>\n",
              "<table border=\"1\" class=\"dataframe\">\n",
              "  <thead>\n",
              "    <tr style=\"text-align: right;\">\n",
              "      <th>date</th>\n",
              "      <th>1</th>\n",
              "      <th>2</th>\n",
              "      <th>3</th>\n",
              "      <th>4</th>\n",
              "      <th>5</th>\n",
              "      <th>6</th>\n",
              "      <th>7</th>\n",
              "      <th>8</th>\n",
              "      <th>9</th>\n",
              "      <th>10</th>\n",
              "      <th>11</th>\n",
              "      <th>12</th>\n",
              "    </tr>\n",
              "    <tr>\n",
              "      <th>date</th>\n",
              "      <th></th>\n",
              "      <th></th>\n",
              "      <th></th>\n",
              "      <th></th>\n",
              "      <th></th>\n",
              "      <th></th>\n",
              "      <th></th>\n",
              "      <th></th>\n",
              "      <th></th>\n",
              "      <th></th>\n",
              "      <th></th>\n",
              "      <th></th>\n",
              "    </tr>\n",
              "  </thead>\n",
              "  <tbody>\n",
              "    <tr>\n",
              "      <th>2016</th>\n",
              "      <td>NaN</td>\n",
              "      <td>NaN</td>\n",
              "      <td>NaN</td>\n",
              "      <td>NaN</td>\n",
              "      <td>19432.400000</td>\n",
              "      <td>21875.105263</td>\n",
              "      <td>24109.678571</td>\n",
              "      <td>31049.193548</td>\n",
              "      <td>41476.866667</td>\n",
              "      <td>27398.322581</td>\n",
              "      <td>40448.633333</td>\n",
              "      <td>27832.419355</td>\n",
              "    </tr>\n",
              "    <tr>\n",
              "      <th>2017</th>\n",
              "      <td>32785.161290</td>\n",
              "      <td>31113.071429</td>\n",
              "      <td>29369.096774</td>\n",
              "      <td>30878.733333</td>\n",
              "      <td>34244.290323</td>\n",
              "      <td>43577.500000</td>\n",
              "      <td>65806.838710</td>\n",
              "      <td>47712.451613</td>\n",
              "      <td>47376.800000</td>\n",
              "      <td>47438.709677</td>\n",
              "      <td>57701.566667</td>\n",
              "      <td>48420.580645</td>\n",
              "    </tr>\n",
              "    <tr>\n",
              "      <th>2018</th>\n",
              "      <td>58580.096774</td>\n",
              "      <td>65679.000000</td>\n",
              "      <td>62693.774194</td>\n",
              "      <td>62350.833333</td>\n",
              "      <td>56562.870968</td>\n",
              "      <td>70117.000000</td>\n",
              "      <td>63591.064516</td>\n",
              "      <td>62831.612903</td>\n",
              "      <td>65941.733333</td>\n",
              "      <td>111378.142857</td>\n",
              "      <td>78688.333333</td>\n",
              "      <td>80047.483871</td>\n",
              "    </tr>\n",
              "    <tr>\n",
              "      <th>2019</th>\n",
              "      <td>102056.516129</td>\n",
              "      <td>105968.357143</td>\n",
              "      <td>91214.483871</td>\n",
              "      <td>89368.433333</td>\n",
              "      <td>91439.903226</td>\n",
              "      <td>90435.642857</td>\n",
              "      <td>97236.566667</td>\n",
              "      <td>102717.310345</td>\n",
              "      <td>97268.833333</td>\n",
              "      <td>122802.272727</td>\n",
              "      <td>143166.428571</td>\n",
              "      <td>150733.500000</td>\n",
              "    </tr>\n",
              "  </tbody>\n",
              "</table>\n",
              "</div>\n",
              "      <button class=\"colab-df-convert\" onclick=\"convertToInteractive('df-279deeb4-5f69-4683-a937-b9a0d7f48a1f')\"\n",
              "              title=\"Convert this dataframe to an interactive table.\"\n",
              "              style=\"display:none;\">\n",
              "        \n",
              "  <svg xmlns=\"http://www.w3.org/2000/svg\" height=\"24px\"viewBox=\"0 0 24 24\"\n",
              "       width=\"24px\">\n",
              "    <path d=\"M0 0h24v24H0V0z\" fill=\"none\"/>\n",
              "    <path d=\"M18.56 5.44l.94 2.06.94-2.06 2.06-.94-2.06-.94-.94-2.06-.94 2.06-2.06.94zm-11 1L8.5 8.5l.94-2.06 2.06-.94-2.06-.94L8.5 2.5l-.94 2.06-2.06.94zm10 10l.94 2.06.94-2.06 2.06-.94-2.06-.94-.94-2.06-.94 2.06-2.06.94z\"/><path d=\"M17.41 7.96l-1.37-1.37c-.4-.4-.92-.59-1.43-.59-.52 0-1.04.2-1.43.59L10.3 9.45l-7.72 7.72c-.78.78-.78 2.05 0 2.83L4 21.41c.39.39.9.59 1.41.59.51 0 1.02-.2 1.41-.59l7.78-7.78 2.81-2.81c.8-.78.8-2.07 0-2.86zM5.41 20L4 18.59l7.72-7.72 1.47 1.35L5.41 20z\"/>\n",
              "  </svg>\n",
              "      </button>\n",
              "      \n",
              "  <style>\n",
              "    .colab-df-container {\n",
              "      display:flex;\n",
              "      flex-wrap:wrap;\n",
              "      gap: 12px;\n",
              "    }\n",
              "\n",
              "    .colab-df-convert {\n",
              "      background-color: #E8F0FE;\n",
              "      border: none;\n",
              "      border-radius: 50%;\n",
              "      cursor: pointer;\n",
              "      display: none;\n",
              "      fill: #1967D2;\n",
              "      height: 32px;\n",
              "      padding: 0 0 0 0;\n",
              "      width: 32px;\n",
              "    }\n",
              "\n",
              "    .colab-df-convert:hover {\n",
              "      background-color: #E2EBFA;\n",
              "      box-shadow: 0px 1px 2px rgba(60, 64, 67, 0.3), 0px 1px 3px 1px rgba(60, 64, 67, 0.15);\n",
              "      fill: #174EA6;\n",
              "    }\n",
              "\n",
              "    [theme=dark] .colab-df-convert {\n",
              "      background-color: #3B4455;\n",
              "      fill: #D2E3FC;\n",
              "    }\n",
              "\n",
              "    [theme=dark] .colab-df-convert:hover {\n",
              "      background-color: #434B5C;\n",
              "      box-shadow: 0px 1px 3px 1px rgba(0, 0, 0, 0.15);\n",
              "      filter: drop-shadow(0px 1px 2px rgba(0, 0, 0, 0.3));\n",
              "      fill: #FFFFFF;\n",
              "    }\n",
              "  </style>\n",
              "\n",
              "      <script>\n",
              "        const buttonEl =\n",
              "          document.querySelector('#df-279deeb4-5f69-4683-a937-b9a0d7f48a1f button.colab-df-convert');\n",
              "        buttonEl.style.display =\n",
              "          google.colab.kernel.accessAllowed ? 'block' : 'none';\n",
              "\n",
              "        async function convertToInteractive(key) {\n",
              "          const element = document.querySelector('#df-279deeb4-5f69-4683-a937-b9a0d7f48a1f');\n",
              "          const dataTable =\n",
              "            await google.colab.kernel.invokeFunction('convertToInteractive',\n",
              "                                                     [key], {});\n",
              "          if (!dataTable) return;\n",
              "\n",
              "          const docLinkHtml = 'Like what you see? Visit the ' +\n",
              "            '<a target=\"_blank\" href=https://colab.research.google.com/notebooks/data_table.ipynb>data table notebook</a>'\n",
              "            + ' to learn more about interactive tables.';\n",
              "          element.innerHTML = '';\n",
              "          dataTable['output_type'] = 'display_data';\n",
              "          await google.colab.output.renderOutput(dataTable, element);\n",
              "          const docLink = document.createElement('div');\n",
              "          docLink.innerHTML = docLinkHtml;\n",
              "          element.appendChild(docLink);\n",
              "        }\n",
              "      </script>\n",
              "    </div>\n",
              "  </div>\n",
              "  "
            ]
          },
          "metadata": {}
        }
      ]
    },
    {
      "cell_type": "markdown",
      "source": [
        "### Visualisation - the bar chart"
      ],
      "metadata": {
        "id": "jjh82g8-iaGl"
      }
    },
    {
      "cell_type": "code",
      "source": [
        "# Generate bar chart\n",
        "fig, ax = plt.subplots(figsize=(16, 6))\n",
        "df_pivot.plot(kind='bar', ax=ax)\n",
        "plt.xlabel('Years')\n",
        "plt.ylabel('Average Page Views')\n",
        "ax.legend(\n",
        "    ['January', 'February', 'March', 'April', 'May', 'June', \n",
        "    'July', 'August', 'September', 'October', 'November','December']);\n",
        "plt.show()\n"
      ],
      "metadata": {
        "colab": {
          "base_uri": "https://localhost:8080/",
          "height": 403
        },
        "id": "qOLA75kn-ahC",
        "outputId": "218f2ee7-d988-44f2-fcd3-b58b8bfacad7"
      },
      "execution_count": 103,
      "outputs": [
        {
          "output_type": "display_data",
          "data": {
            "text/plain": [
              "<Figure size 1152x432 with 1 Axes>"
            ],
            "image/png": "[encoded data removed]"
          },
          "metadata": {
            "needs_background": "light"
          }
        }
      ]
    },
    {
      "cell_type": "markdown",
      "source": [
        "##3.  a set of box plots similar to this\n",
        "---\n",
        " ![example](https://drive.google.com/uc?id=1kqhGKnA0Ybtyw2cew67u3_ogMS9Fb1hM)\n",
        "\n",
        "These box plots should show how the values are distributed within a given year or month and how it compares over time. \n"
      ],
      "metadata": {
        "id": "GentBB6gllVh"
      }
    },
    {
      "cell_type": "markdown",
      "source": [
        "### Preparing Data"
      ],
      "metadata": {
        "id": "uc7QzuGQj7Td"
      }
    },
    {
      "cell_type": "code",
      "source": [
        "# make a copy of the final_df dataframe and save in a new dataframe variable. Also, sort the rows by month\n",
        "boxplot_final_df = final_df.copy()\n",
        "\n",
        "boxplot_final_df.sort_values(by=[\"month\"], inplace=True)"
      ],
      "metadata": {
        "id": "NFTVXDUekHZZ"
      },
      "execution_count": 104,
      "outputs": []
    },
    {
      "cell_type": "code",
      "source": [
        "# create a support series with the name of the month of each row\n",
        "month_names = [\"Jan\", \"Feb\", \"Mar\", \"Apr\", \"May\", \"Jun\", \"Jul\", \"Aug\", \"Sep\", \"Oct\", \"Nov\", \"Dec\"]\n",
        "months = boxplot_final_df[\"month\"].apply(lambda month: month_names[int(month)-1])"
      ],
      "metadata": {
        "id": "F17L7C9VkgOu"
      },
      "execution_count": 105,
      "outputs": []
    },
    {
      "cell_type": "markdown",
      "source": [
        "Have a look what in the months variable."
      ],
      "metadata": {
        "id": "bfnKH3jelBDI"
      }
    },
    {
      "cell_type": "code",
      "source": [
        "months"
      ],
      "metadata": {
        "colab": {
          "base_uri": "https://localhost:8080/"
        },
        "id": "Bfy-rnO9khv3",
        "outputId": "f4796369-c4b2-4583-dcec-739c25d6de03"
      },
      "execution_count": 106,
      "outputs": [
        {
          "output_type": "execute_result",
          "data": {
            "text/plain": [
              "date\n",
              "2017-01-06    Jan\n",
              "2019-01-06    Jan\n",
              "2019-01-05    Jan\n",
              "2019-01-04    Jan\n",
              "2019-01-03    Jan\n",
              "             ... \n",
              "2017-12-29    Dec\n",
              "2017-12-28    Dec\n",
              "2017-12-27    Dec\n",
              "2016-12-28    Dec\n",
              "2019-12-03    Dec\n",
              "Name: month, Length: 1238, dtype: object"
            ]
          },
          "metadata": {},
          "execution_count": 106
        }
      ]
    },
    {
      "cell_type": "markdown",
      "source": [
        "### Visualisation - a set of box plots"
      ],
      "metadata": {
        "id": "9LyQB2kmj9jt"
      }
    },
    {
      "cell_type": "code",
      "source": [
        "# draw seaborn boxplots by group\n",
        "\n",
        "# setting the dimensions of the plot, 1 row and 2 columns \n",
        "fig, axes = plt.subplots(nrows=1, ncols=2, figsize=(20, 6))\n",
        "\n",
        "color_palette1 = \"Set1\"\n",
        "color_palette2 = \"Set2\"\n",
        "sns.boxplot(x='year', y='value', data=boxplot_final_df, orient='v', ax=axes[0], palette=color_palette1).set(title='Year-wise Box Plot (Trend)', xlabel='Year',ylabel='Page Views')\n",
        "sns.boxplot(x=months, y='value', data=boxplot_final_df, orient='v', ax=axes[1], palette=color_palette2).set(title='Month-wise Box Plot (Seasonality)', xlabel='Month',ylabel='Page Views')\n",
        "plt.show()\n"
      ],
      "metadata": {
        "colab": {
          "base_uri": "https://localhost:8080/",
          "height": 348
        },
        "id": "NprI39iqxjWD",
        "outputId": "df7af2f3-ca8c-4c14-a979-77fc597144e6"
      },
      "execution_count": 107,
      "outputs": [
        {
          "output_type": "display_data",
          "data": {
            "text/plain": [
              "<Figure size 1440x432 with 2 Axes>"
            ],
            "image/png": "[encoded data removed]"
          },
          "metadata": {
            "needs_background": "light"
          }
        }
      ]
    },
    {
      "cell_type": "markdown",
      "source": [
        "You can see there are some outliers for that data set."
      ],
      "metadata": {
        "id": "lbq0Ge-blVYy"
      }
    },
    {
      "cell_type": "markdown",
      "source": [
        "##4.  predict the number of page views in the year 2020 based on the data up to 2019\n",
        "---\n",
        "\n",
        "*  perform a linear regression and create a line of best fit \n",
        "*  predict the page views in the year 2020, 2025 and 2030 if identified trends persist. \n"
      ],
      "metadata": {
        "id": "VRT2P1DAlnmy"
      }
    },
    {
      "cell_type": "markdown",
      "source": [
        "### Preparing Data"
      ],
      "metadata": {
        "id": "6EH6qhVClq7t"
      }
    },
    {
      "cell_type": "markdown",
      "source": [
        "Let's make a copy of final_df dataframe and make changes on the copy one. "
      ],
      "metadata": {
        "id": "Wftm0pm_mB7T"
      }
    },
    {
      "cell_type": "code",
      "source": [
        "timestamps_final_df3 = final_df.copy()\n",
        "timestamps_final_df3.info()"
      ],
      "metadata": {
        "colab": {
          "base_uri": "https://localhost:8080/"
        },
        "id": "77LRWFBKmKoE",
        "outputId": "bb56ed5e-44ef-40b5-d48a-bfaf9121e671"
      },
      "execution_count": 108,
      "outputs": [
        {
          "output_type": "stream",
          "name": "stdout",
          "text": [
            "<class 'pandas.core.frame.DataFrame'>\n",
            "DatetimeIndex: 1238 entries, 2016-05-19 to 2019-12-03\n",
            "Data columns (total 4 columns):\n",
            " #   Column  Non-Null Count  Dtype \n",
            "---  ------  --------------  ----- \n",
            " 0   value   1238 non-null   int64 \n",
            " 1   year    1238 non-null   int64 \n",
            " 2   month   1238 non-null   object\n",
            " 3   day     1238 non-null   int64 \n",
            "dtypes: int64(3), object(1)\n",
            "memory usage: 48.4+ KB\n"
          ]
        }
      ]
    },
    {
      "cell_type": "markdown",
      "source": [
        "Convert the index value to datetime type and use .map() method to map Pandas datetime column to ordinal. "
      ],
      "metadata": {
        "id": "52l6nNkkBj-w"
      }
    },
    {
      "cell_type": "code",
      "source": [
        "# Covert the index value to datetime type and save in the created new columns in the dataframe\n",
        "timestamps_final_df3['date_timestamps'] = pd.to_datetime(timestamps_final_df3.index.values)\n",
        "\n",
        "# Use .map() method to map Pandas datetime column to ordinal timestamps\n",
        "timestamps_final_df3['date_timestamps'] = timestamps_final_df3['date_timestamps'].map(dt.datetime.toordinal)\n",
        "display(timestamps_final_df3)"
      ],
      "metadata": {
        "colab": {
          "base_uri": "https://localhost:8080/",
          "height": 455
        },
        "id": "n2LwipwRl4N3",
        "outputId": "76c73904-7ee5-4608-8951-b488d45d78e6"
      },
      "execution_count": 109,
      "outputs": [
        {
          "output_type": "display_data",
          "data": {
            "text/plain": [
              "             value  year month  day  date_timestamps\n",
              "date                                                \n",
              "2016-05-19   19736  2016    05   19           736103\n",
              "2016-05-26   18060  2016    05   26           736110\n",
              "2016-05-27   19997  2016    05   27           736111\n",
              "2016-05-28   19044  2016    05   28           736112\n",
              "2016-05-29   20325  2016    05   29           736113\n",
              "...            ...   ...   ...  ...              ...\n",
              "2019-11-24  138875  2019    11   24           737387\n",
              "2019-11-29  171584  2019    11   29           737392\n",
              "2019-11-30  141161  2019    11   30           737393\n",
              "2019-12-01  142918  2019    12    1           737394\n",
              "2019-12-03  158549  2019    12    3           737396\n",
              "\n",
              "[1238 rows x 5 columns]"
            ],
            "text/html": [
              "\n",
              "  <div id=\"df-899e4703-7ff9-437b-80ec-dcfca45d35d2\">\n",
              "    <div class=\"colab-df-container\">\n",
              "      <div>\n",
              "<style scoped>\n",
              "    .dataframe tbody tr th:only-of-type {\n",
              "        vertical-align: middle;\n",
              "    }\n",
              "\n",
              "    .dataframe tbody tr th {\n",
              "        vertical-align: top;\n",
              "    }\n",
              "\n",
              "    .dataframe thead th {\n",
              "        text-align: right;\n",
              "    }\n",
              "</style>\n",
              "<table border=\"1\" class=\"dataframe\">\n",
              "  <thead>\n",
              "    <tr style=\"text-align: right;\">\n",
              "      <th></th>\n",
              "      <th>value</th>\n",
              "      <th>year</th>\n",
              "      <th>month</th>\n",
              "      <th>day</th>\n",
              "      <th>date_timestamps</th>\n",
              "    </tr>\n",
              "    <tr>\n",
              "      <th>date</th>\n",
              "      <th></th>\n",
              "      <th></th>\n",
              "      <th></th>\n",
              "      <th></th>\n",
              "      <th></th>\n",
              "    </tr>\n",
              "  </thead>\n",
              "  <tbody>\n",
              "    <tr>\n",
              "      <th>2016-05-19</th>\n",
              "      <td>19736</td>\n",
              "      <td>2016</td>\n",
              "      <td>05</td>\n",
              "      <td>19</td>\n",
              "      <td>736103</td>\n",
              "    </tr>\n",
              "    <tr>\n",
              "      <th>2016-05-26</th>\n",
              "      <td>18060</td>\n",
              "      <td>2016</td>\n",
              "      <td>05</td>\n",
              "      <td>26</td>\n",
              "      <td>736110</td>\n",
              "    </tr>\n",
              "    <tr>\n",
              "      <th>2016-05-27</th>\n",
              "      <td>19997</td>\n",
              "      <td>2016</td>\n",
              "      <td>05</td>\n",
              "      <td>27</td>\n",
              "      <td>736111</td>\n",
              "    </tr>\n",
              "    <tr>\n",
              "      <th>2016-05-28</th>\n",
              "      <td>19044</td>\n",
              "      <td>2016</td>\n",
              "      <td>05</td>\n",
              "      <td>28</td>\n",
              "      <td>736112</td>\n",
              "    </tr>\n",
              "    <tr>\n",
              "      <th>2016-05-29</th>\n",
              "      <td>20325</td>\n",
              "      <td>2016</td>\n",
              "      <td>05</td>\n",
              "      <td>29</td>\n",
              "      <td>736113</td>\n",
              "    </tr>\n",
              "    <tr>\n",
              "      <th>...</th>\n",
              "      <td>...</td>\n",
              "      <td>...</td>\n",
              "      <td>...</td>\n",
              "      <td>...</td>\n",
              "      <td>...</td>\n",
              "    </tr>\n",
              "    <tr>\n",
              "      <th>2019-11-24</th>\n",
              "      <td>138875</td>\n",
              "      <td>2019</td>\n",
              "      <td>11</td>\n",
              "      <td>24</td>\n",
              "      <td>737387</td>\n",
              "    </tr>\n",
              "    <tr>\n",
              "      <th>2019-11-29</th>\n",
              "      <td>171584</td>\n",
              "      <td>2019</td>\n",
              "      <td>11</td>\n",
              "      <td>29</td>\n",
              "      <td>737392</td>\n",
              "    </tr>\n",
              "    <tr>\n",
              "      <th>2019-11-30</th>\n",
              "      <td>141161</td>\n",
              "      <td>2019</td>\n",
              "      <td>11</td>\n",
              "      <td>30</td>\n",
              "      <td>737393</td>\n",
              "    </tr>\n",
              "    <tr>\n",
              "      <th>2019-12-01</th>\n",
              "      <td>142918</td>\n",
              "      <td>2019</td>\n",
              "      <td>12</td>\n",
              "      <td>1</td>\n",
              "      <td>737394</td>\n",
              "    </tr>\n",
              "    <tr>\n",
              "      <th>2019-12-03</th>\n",
              "      <td>158549</td>\n",
              "      <td>2019</td>\n",
              "      <td>12</td>\n",
              "      <td>3</td>\n",
              "      <td>737396</td>\n",
              "    </tr>\n",
              "  </tbody>\n",
              "</table>\n",
              "<p>1238 rows × 5 columns</p>\n",
              "</div>\n",
              "      <button class=\"colab-df-convert\" onclick=\"convertToInteractive('df-899e4703-7ff9-437b-80ec-dcfca45d35d2')\"\n",
              "              title=\"Convert this dataframe to an interactive table.\"\n",
              "              style=\"display:none;\">\n",
              "        \n",
              "  <svg xmlns=\"http://www.w3.org/2000/svg\" height=\"24px\"viewBox=\"0 0 24 24\"\n",
              "       width=\"24px\">\n",
              "    <path d=\"M0 0h24v24H0V0z\" fill=\"none\"/>\n",
              "    <path d=\"M18.56 5.44l.94 2.06.94-2.06 2.06-.94-2.06-.94-.94-2.06-.94 2.06-2.06.94zm-11 1L8.5 8.5l.94-2.06 2.06-.94-2.06-.94L8.5 2.5l-.94 2.06-2.06.94zm10 10l.94 2.06.94-2.06 2.06-.94-2.06-.94-.94-2.06-.94 2.06-2.06.94z\"/><path d=\"M17.41 7.96l-1.37-1.37c-.4-.4-.92-.59-1.43-.59-.52 0-1.04.2-1.43.59L10.3 9.45l-7.72 7.72c-.78.78-.78 2.05 0 2.83L4 21.41c.39.39.9.59 1.41.59.51 0 1.02-.2 1.41-.59l7.78-7.78 2.81-2.81c.8-.78.8-2.07 0-2.86zM5.41 20L4 18.59l7.72-7.72 1.47 1.35L5.41 20z\"/>\n",
              "  </svg>\n",
              "      </button>\n",
              "      \n",
              "  <style>\n",
              "    .colab-df-container {\n",
              "      display:flex;\n",
              "      flex-wrap:wrap;\n",
              "      gap: 12px;\n",
              "    }\n",
              "\n",
              "    .colab-df-convert {\n",
              "      background-color: #E8F0FE;\n",
              "      border: none;\n",
              "      border-radius: 50%;\n",
              "      cursor: pointer;\n",
              "      display: none;\n",
              "      fill: #1967D2;\n",
              "      height: 32px;\n",
              "      padding: 0 0 0 0;\n",
              "      width: 32px;\n",
              "    }\n",
              "\n",
              "    .colab-df-convert:hover {\n",
              "      background-color: #E2EBFA;\n",
              "      box-shadow: 0px 1px 2px rgba(60, 64, 67, 0.3), 0px 1px 3px 1px rgba(60, 64, 67, 0.15);\n",
              "      fill: #174EA6;\n",
              "    }\n",
              "\n",
              "    [theme=dark] .colab-df-convert {\n",
              "      background-color: #3B4455;\n",
              "      fill: #D2E3FC;\n",
              "    }\n",
              "\n",
              "    [theme=dark] .colab-df-convert:hover {\n",
              "      background-color: #434B5C;\n",
              "      box-shadow: 0px 1px 3px 1px rgba(0, 0, 0, 0.15);\n",
              "      filter: drop-shadow(0px 1px 2px rgba(0, 0, 0, 0.3));\n",
              "      fill: #FFFFFF;\n",
              "    }\n",
              "  </style>\n",
              "\n",
              "      <script>\n",
              "        const buttonEl =\n",
              "          document.querySelector('#df-899e4703-7ff9-437b-80ec-dcfca45d35d2 button.colab-df-convert');\n",
              "        buttonEl.style.display =\n",
              "          google.colab.kernel.accessAllowed ? 'block' : 'none';\n",
              "\n",
              "        async function convertToInteractive(key) {\n",
              "          const element = document.querySelector('#df-899e4703-7ff9-437b-80ec-dcfca45d35d2');\n",
              "          const dataTable =\n",
              "            await google.colab.kernel.invokeFunction('convertToInteractive',\n",
              "                                                     [key], {});\n",
              "          if (!dataTable) return;\n",
              "\n",
              "          const docLinkHtml = 'Like what you see? Visit the ' +\n",
              "            '<a target=\"_blank\" href=https://colab.research.google.com/notebooks/data_table.ipynb>data table notebook</a>'\n",
              "            + ' to learn more about interactive tables.';\n",
              "          element.innerHTML = '';\n",
              "          dataTable['output_type'] = 'display_data';\n",
              "          await google.colab.output.renderOutput(dataTable, element);\n",
              "          const docLink = document.createElement('div');\n",
              "          docLink.innerHTML = docLinkHtml;\n",
              "          element.appendChild(docLink);\n",
              "        }\n",
              "      </script>\n",
              "    </div>\n",
              "  </div>\n",
              "  "
            ]
          },
          "metadata": {}
        }
      ]
    },
    {
      "cell_type": "markdown",
      "source": [
        "The function cal_lin_regress() is using for calculate slope, intercept, r-value and p-value to calculate the linear regression prediction values later. \n",
        "\n",
        "It uses the scipy.stats linregress() to create the linear regression model. Then get slope with .slope, intercept with .intercept, r-value with .rvalue and p-value with .pvalue to fetch the values. "
      ],
      "metadata": {
        "id": "txNklTaGCVzl"
      }
    },
    {
      "cell_type": "code",
      "source": [
        "# calculate liner regression \n",
        "def cal_lin_regress(df,col1,col2):\n",
        "  delta = df.index - df.index[0] # only works if it is an index\n",
        "  x = delta.days # use days from start date\n",
        "  y = df[col2]\n",
        "  regression = linregress(x,y)\n",
        "  slope = regression.slope\n",
        "  yint = regression.intercept\n",
        "  rsquared = (regression.rvalue)**2\n",
        "  pval = regression.pvalue\n",
        "  return slope, yint, rsquared, pval\n",
        "\n",
        "\n",
        "\n",
        "# Calculate liner regression and assign the variables\n",
        "slope, intercept,rsquared, pval = cal_lin_regress(timestamps_final_df3,\"date\",\"value\")\n",
        "print(\"slope =  \",round(slope,1),\"\\nintercept = \",round(intercept,1),\"\\nrsquared = \",round(rsquared,3),\"\\npval = \",pval,\"\\n\")"
      ],
      "metadata": {
        "colab": {
          "base_uri": "https://localhost:8080/"
        },
        "id": "VxpquCZXma71",
        "outputId": "59c0aca0-7bfc-4bae-8c12-462985ad4685"
      },
      "execution_count": 110,
      "outputs": [
        {
          "output_type": "stream",
          "name": "stdout",
          "text": [
            "slope =   73.2 \n",
            "intercept =  16099.0 \n",
            "rsquared =  0.692 \n",
            "pval =  3.855767e-318 \n",
            "\n"
          ]
        }
      ]
    },
    {
      "cell_type": "markdown",
      "source": [
        "The function predict_trend() is using for calculate the predicted value for each date's timestamp with the slope and intercept that We've calculated previously.  We will pass in year 2020, 2025 and 2030 to calculate the predict page views for these years."
      ],
      "metadata": {
        "id": "o24sAaHbFBll"
      }
    },
    {
      "cell_type": "code",
      "source": [
        "# Prediction the trend values\n",
        "def predict_trend(ayear_to_predict, start_date, slope, intercept):\n",
        "  predict_date = dt.date(ayear_to_predict, 12, 31) \n",
        "  predict_date_toordinal = predict_date.toordinal() \n",
        "  delta_date = predict_date - start_date \n",
        "  predicted = intercept + slope * delta_date.days #delta_date is datetime.timedelta and can just view the .days\n",
        "  return predicted\n",
        "\n",
        "\n",
        "# Generate Plot & the earliest date\n",
        "plot_df = final_df\n",
        "y = plot_df['value']\n",
        "x = plot_df.index\n",
        "delta = plot_df.index - plot_df.index[0]\n",
        "x_days = delta.days #use days from start date \n",
        "earliest_date = plot_df.index[0].date()\n",
        "\n",
        "# Predict pageview trend\n",
        "print(\"Prediction pageview for 2020, 2025 and 2030:\")\n",
        "for ayear in (2020,2025,2030):\n",
        "  print(ayear, \" = \",round(predict_trend(ayear, earliest_date, slope, intercept))) #min_date)))"
      ],
      "metadata": {
        "colab": {
          "base_uri": "https://localhost:8080/"
        },
        "id": "CASsLAgKm_jS",
        "outputId": "4f82d0de-2ff4-4dca-b5fd-1393f760ca7d"
      },
      "execution_count": 114,
      "outputs": [
        {
          "output_type": "stream",
          "name": "stdout",
          "text": [
            "Prediction pageview for 2020, 2025 and 2030:\n",
            "2020  =  139507\n",
            "2025  =  273084\n",
            "2030  =  406661\n"
          ]
        }
      ]
    },
    {
      "cell_type": "markdown",
      "source": [
        "### Visualisation - Linear Regression and the Best fit \n",
        "\n",
        "The function generate_plot_regression() is using for draw the scatter plot with a line of best fit. "
      ],
      "metadata": {
        "id": "XuB82SePls7z"
      }
    },
    {
      "cell_type": "code",
      "source": [
        "# generate scatter plot with linear regression \n",
        "def generate_plot_regression(x, y, slope, intercept, x_days):\n",
        "  plt.figure(figsize=(12,6))\n",
        "  plt.title('Linear Regression & a line of best fit')\n",
        "  plt.ylabel(\"Pageviews\")\n",
        "  plt.xlabel(\"Date\")\n",
        "  plt.scatter(x,y, color = '#88c999')\n",
        "  #best fit  \n",
        "  plt.plot(x,  slope * x_days + intercept, color=\"hotpink\", label = \"Best Fit\", linewidth=2) \n",
        "  plt.xticks(rotation=90) \n",
        "  plt.show()\n",
        "\n",
        "\n",
        "\n",
        "generate_plot_regression(x, y, slope, intercept, x_days)"
      ],
      "metadata": {
        "colab": {
          "base_uri": "https://localhost:8080/",
          "height": 436
        },
        "id": "i2hzrfTlD8EY",
        "outputId": "09ce434e-8080-46d0-a344-54c9c40c8dc5"
      },
      "execution_count": 119,
      "outputs": [
        {
          "output_type": "display_data",
          "data": {
            "text/plain": [
              "<Figure size 864x432 with 1 Axes>"
            ],
            "image/png": "[encoded data removed]"
          },
          "metadata": {
            "needs_background": "light"
          }
        }
      ]
    },
    {
      "cell_type": "markdown",
      "source": [
        "A common way to find a straight line that fits some scatter data is the least squares method.  \n",
        "For a given set of points (xn, yn) and a line L, for each point you calculate the distance, dn, between the point and the line, then calculate the sum of the squares of the distances:  \n",
        "s = d0*d0 + d1*d1 + d2*d2 ...  \n",
        "This sum is a measure of the total error of the line fit. The best line is the one that has the smallest s value.\n",
        "There is a formula for finding the best fit of a line to a set of (x, y) data points, and fortunately NumPy has an implementation of that formula:  \n",
        "m, c = np.polyfit(year, value, 1). \n",
        "print(m, c)   \n",
        "polyfit takes an array of x-values, and array of y-values, and a polynomial degree. Setting the degree to 1 gives a straight line fit.  \n",
        "The m and c values plug into the standard equation of a straight line:  \n",
        "y = m*x + c\n",
        "\n",
        "This is a line that crosses the y-axis at c, and has a slope of m. If we plug is a couple of values for x (height 169 and 189), it gives us two points that we can use to draw the line\n"
      ],
      "metadata": {
        "id": "VGGi10GEHXz8"
      }
    },
    {
      "cell_type": "markdown",
      "source": [
        "# Reflect\n",
        "\n",
        "What skills I demostrated in the project? \n",
        "\n",
        "- Use pandas to retrieve data and process data, such as find null values, drop null valus, drop duplicates and sort the value by a column. \n",
        "\n",
        "- Conver data type. for example, convert string to Datetime, convert Datatime type to timestamps etc. \n",
        "\n",
        "- Change whole column values with apply method.\n",
        "\n",
        "- Convert dataframe to pivot_table\n",
        "\n",
        "- Test the code with if statments\n",
        "\n",
        "- Use matplotlib.pyplot to create line, bar charts  \n",
        "\n",
        "- seaborn sns.boxplot to box plot\n",
        "\n",
        "What caused the biggest problems?\n",
        "\n",
        "- If it's wrong dataframe, it will cause different result. \n",
        "\n",
        "- Converting Datetime format to unix timestamps is tricky when date is index.   \n",
        "\n",
        "- using df = timestamps_final_df.index.to_julian_date() or .toordinal() to generate ordinal value will have different results. \n",
        "\n",
        "- Create Linear Regression model and find the best fit line\n",
        "\n",
        "\n",
        "How did you solve these problems?\n",
        "\n",
        "- Break problems to small pieces. \n",
        "- Search for the documents and asked teams. "
      ],
      "metadata": {
        "id": "NkL5dw6ulp6K"
      }
    }
  ]
}