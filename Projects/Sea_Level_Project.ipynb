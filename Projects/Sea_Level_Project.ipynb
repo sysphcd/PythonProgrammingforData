{
  "nbformat": 4,
  "nbformat_minor": 0,
  "metadata": {
    "colab": {
      "name": "Sea-Level-Project.ipynb",
      "provenance": [],
      "toc_visible": true,
      "include_colab_link": true
    },
    "kernelspec": {
      "name": "python3",
      "display_name": "Python 3"
    },
    "language_info": {
      "name": "python"
    }
  },
  "cells": [
    {
      "cell_type": "markdown",
      "metadata": {
        "id": "view-in-github",
        "colab_type": "text"
      },
      "source": [
        "<a href=\"https://colab.research.google.com/github/sysphcd/PythonProgrammingforData/blob/main/Projects/Sea_Level_Project.ipynb\" target=\"_parent\"><img src=\"https://colab.research.google.com/assets/colab-badge.svg\" alt=\"Open In Colab\"/></a>"
      ]
    },
    {
      "cell_type": "markdown",
      "source": [
        "# Seal Leavel Project \n",
        "---\n",
        "Using numpy to look for a correlation between time data and sea level rise"
      ],
      "metadata": {
        "id": "jBYNdCdQ9_cu"
      }
    },
    {
      "cell_type": "markdown",
      "source": [
        "# Aim for this project\n",
        "I will be using pandas, numpy, scipy, sklearn and visualisation tools to retrieve, analyse the sea level data. Try to understand the data and predicate future sea-levels by using linear regression models."
      ],
      "metadata": {
        "id": "n49iLkebmqgg"
      }
    },
    {
      "cell_type": "markdown",
      "source": [
        "# About the data:\n",
        "What it looks like (this will be illustrated through a coded function)\n",
        "\n",
        "An explanation of what the columns show\n"
      ],
      "metadata": {
        "id": "gIiSQigtmwUZ"
      }
    },
    {
      "cell_type": "markdown",
      "source": [
        "## Data Source\n",
        "Global Average Absolute Sea Level Change, 1880-2014 from the US Environmental Protection Agency using data from CSIRO, 2015; NOAA, 2015.\n",
        "https://datahub.io/core/sea-level-rise\n",
        "\n",
        "The data describes annual sea levels from 1880 to 2013.  Measures are adjusted using two standards: Commonwealth Scientific and Industrial Research Organisation(CSIRO) and National Oceanic and Atmospheric Administration (NOAA)  \n",
        "\n",
        "Raw Data file:  https://raw.githubusercontent.com/freeCodeCamp/boilerplate-sea-level-predictor/master/epa-sea-level.csv\n",
        "\n",
        "For this exercise:\n",
        "*  import the pandas library\n",
        "*  import the numpy library\n",
        "*  read the csv dataset containing data on sea-levels from the year 1880 to 2013 into a dataframe (df)\n",
        "*  use df.head() and df.info() to inspect the data and the column data types\n",
        "\n"
      ],
      "metadata": {
        "id": "N_oehqZ2mt4Z"
      }
    },
    {
      "cell_type": "markdown",
      "source": [
        "Import the libraries we need to retreieve data."
      ],
      "metadata": {
        "id": "e8HM18GOh97s"
      }
    },
    {
      "cell_type": "code",
      "source": [
        "import pandas as pd\n",
        "import numpy as np\n",
        "#from scipy.stats import linregress"
      ],
      "metadata": {
        "id": "m_U85JJuTbGz"
      },
      "execution_count": 2,
      "outputs": []
    },
    {
      "cell_type": "markdown",
      "source": [
        "## Sea Level Data Retrieval"
      ],
      "metadata": {
        "id": "TJZ92fR7TYtL"
      }
    },
    {
      "cell_type": "markdown",
      "source": [
        "Write a function get_dataset to read the csv file from the url pass in parameter. It returns the dataframe."
      ],
      "metadata": {
        "id": "8vCwf16sjo-c"
      }
    },
    {
      "cell_type": "code",
      "source": [
        "def get_dataset(url):\n",
        "  df = pd.read_csv(url)\n",
        "  return df\n",
        "\n",
        "# Programe starts here\n",
        "url = 'https://raw.githubusercontent.com/freeCodeCamp/boilerplate-sea-level-predictor/master/epa-sea-level.csv'\n",
        "sea_leavel_df = get_dataset(url)"
      ],
      "metadata": {
        "id": "r1XUCWHV_Cj9"
      },
      "execution_count": 3,
      "outputs": []
    },
    {
      "cell_type": "markdown",
      "source": [
        "## Inspect the data\n",
        "\n",
        "Let's have a look the details and technical summary of this dataset. \n",
        "\n",
        "Using .head() to see the first few rows\n",
        "\n",
        "Get technical summary to know what each column values and variables looks like by using .info() "
      ],
      "metadata": {
        "id": "FkkVZF1KkRwF"
      }
    },
    {
      "cell_type": "code",
      "source": [
        "# see the first few rows\n",
        "display(sea_leavel_df.head())"
      ],
      "metadata": {
        "colab": {
          "base_uri": "https://localhost:8080/",
          "height": 206
        },
        "id": "uO-GxvnHkMbM",
        "outputId": "843dd919-5547-4a8e-fa3f-2bd825fbe936"
      },
      "execution_count": 4,
      "outputs": [
        {
          "output_type": "display_data",
          "data": {
            "text/plain": [
              "   Year  CSIRO Adjusted Sea Level  Lower Error Bound  Upper Error Bound  \\\n",
              "0  1880                  0.000000          -0.952756           0.952756   \n",
              "1  1881                  0.220472          -0.732283           1.173228   \n",
              "2  1882                 -0.440945          -1.346457           0.464567   \n",
              "3  1883                 -0.232283          -1.129921           0.665354   \n",
              "4  1884                  0.590551          -0.283465           1.464567   \n",
              "\n",
              "   NOAA Adjusted Sea Level  \n",
              "0                      NaN  \n",
              "1                      NaN  \n",
              "2                      NaN  \n",
              "3                      NaN  \n",
              "4                      NaN  "
            ],
            "text/html": [
              "\n",
              "  <div id=\"df-3d1e3f0e-eba8-4231-b076-3fe951549f41\">\n",
              "    <div class=\"colab-df-container\">\n",
              "      <div>\n",
              "<style scoped>\n",
              "    .dataframe tbody tr th:only-of-type {\n",
              "        vertical-align: middle;\n",
              "    }\n",
              "\n",
              "    .dataframe tbody tr th {\n",
              "        vertical-align: top;\n",
              "    }\n",
              "\n",
              "    .dataframe thead th {\n",
              "        text-align: right;\n",
              "    }\n",
              "</style>\n",
              "<table border=\"1\" class=\"dataframe\">\n",
              "  <thead>\n",
              "    <tr style=\"text-align: right;\">\n",
              "      <th></th>\n",
              "      <th>Year</th>\n",
              "      <th>CSIRO Adjusted Sea Level</th>\n",
              "      <th>Lower Error Bound</th>\n",
              "      <th>Upper Error Bound</th>\n",
              "      <th>NOAA Adjusted Sea Level</th>\n",
              "    </tr>\n",
              "  </thead>\n",
              "  <tbody>\n",
              "    <tr>\n",
              "      <th>0</th>\n",
              "      <td>1880</td>\n",
              "      <td>0.000000</td>\n",
              "      <td>-0.952756</td>\n",
              "      <td>0.952756</td>\n",
              "      <td>NaN</td>\n",
              "    </tr>\n",
              "    <tr>\n",
              "      <th>1</th>\n",
              "      <td>1881</td>\n",
              "      <td>0.220472</td>\n",
              "      <td>-0.732283</td>\n",
              "      <td>1.173228</td>\n",
              "      <td>NaN</td>\n",
              "    </tr>\n",
              "    <tr>\n",
              "      <th>2</th>\n",
              "      <td>1882</td>\n",
              "      <td>-0.440945</td>\n",
              "      <td>-1.346457</td>\n",
              "      <td>0.464567</td>\n",
              "      <td>NaN</td>\n",
              "    </tr>\n",
              "    <tr>\n",
              "      <th>3</th>\n",
              "      <td>1883</td>\n",
              "      <td>-0.232283</td>\n",
              "      <td>-1.129921</td>\n",
              "      <td>0.665354</td>\n",
              "      <td>NaN</td>\n",
              "    </tr>\n",
              "    <tr>\n",
              "      <th>4</th>\n",
              "      <td>1884</td>\n",
              "      <td>0.590551</td>\n",
              "      <td>-0.283465</td>\n",
              "      <td>1.464567</td>\n",
              "      <td>NaN</td>\n",
              "    </tr>\n",
              "  </tbody>\n",
              "</table>\n",
              "</div>\n",
              "      <button class=\"colab-df-convert\" onclick=\"convertToInteractive('df-3d1e3f0e-eba8-4231-b076-3fe951549f41')\"\n",
              "              title=\"Convert this dataframe to an interactive table.\"\n",
              "              style=\"display:none;\">\n",
              "        \n",
              "  <svg xmlns=\"http://www.w3.org/2000/svg\" height=\"24px\"viewBox=\"0 0 24 24\"\n",
              "       width=\"24px\">\n",
              "    <path d=\"M0 0h24v24H0V0z\" fill=\"none\"/>\n",
              "    <path d=\"M18.56 5.44l.94 2.06.94-2.06 2.06-.94-2.06-.94-.94-2.06-.94 2.06-2.06.94zm-11 1L8.5 8.5l.94-2.06 2.06-.94-2.06-.94L8.5 2.5l-.94 2.06-2.06.94zm10 10l.94 2.06.94-2.06 2.06-.94-2.06-.94-.94-2.06-.94 2.06-2.06.94z\"/><path d=\"M17.41 7.96l-1.37-1.37c-.4-.4-.92-.59-1.43-.59-.52 0-1.04.2-1.43.59L10.3 9.45l-7.72 7.72c-.78.78-.78 2.05 0 2.83L4 21.41c.39.39.9.59 1.41.59.51 0 1.02-.2 1.41-.59l7.78-7.78 2.81-2.81c.8-.78.8-2.07 0-2.86zM5.41 20L4 18.59l7.72-7.72 1.47 1.35L5.41 20z\"/>\n",
              "  </svg>\n",
              "      </button>\n",
              "      \n",
              "  <style>\n",
              "    .colab-df-container {\n",
              "      display:flex;\n",
              "      flex-wrap:wrap;\n",
              "      gap: 12px;\n",
              "    }\n",
              "\n",
              "    .colab-df-convert {\n",
              "      background-color: #E8F0FE;\n",
              "      border: none;\n",
              "      border-radius: 50%;\n",
              "      cursor: pointer;\n",
              "      display: none;\n",
              "      fill: #1967D2;\n",
              "      height: 32px;\n",
              "      padding: 0 0 0 0;\n",
              "      width: 32px;\n",
              "    }\n",
              "\n",
              "    .colab-df-convert:hover {\n",
              "      background-color: #E2EBFA;\n",
              "      box-shadow: 0px 1px 2px rgba(60, 64, 67, 0.3), 0px 1px 3px 1px rgba(60, 64, 67, 0.15);\n",
              "      fill: #174EA6;\n",
              "    }\n",
              "\n",
              "    [theme=dark] .colab-df-convert {\n",
              "      background-color: #3B4455;\n",
              "      fill: #D2E3FC;\n",
              "    }\n",
              "\n",
              "    [theme=dark] .colab-df-convert:hover {\n",
              "      background-color: #434B5C;\n",
              "      box-shadow: 0px 1px 3px 1px rgba(0, 0, 0, 0.15);\n",
              "      filter: drop-shadow(0px 1px 2px rgba(0, 0, 0, 0.3));\n",
              "      fill: #FFFFFF;\n",
              "    }\n",
              "  </style>\n",
              "\n",
              "      <script>\n",
              "        const buttonEl =\n",
              "          document.querySelector('#df-3d1e3f0e-eba8-4231-b076-3fe951549f41 button.colab-df-convert');\n",
              "        buttonEl.style.display =\n",
              "          google.colab.kernel.accessAllowed ? 'block' : 'none';\n",
              "\n",
              "        async function convertToInteractive(key) {\n",
              "          const element = document.querySelector('#df-3d1e3f0e-eba8-4231-b076-3fe951549f41');\n",
              "          const dataTable =\n",
              "            await google.colab.kernel.invokeFunction('convertToInteractive',\n",
              "                                                     [key], {});\n",
              "          if (!dataTable) return;\n",
              "\n",
              "          const docLinkHtml = 'Like what you see? Visit the ' +\n",
              "            '<a target=\"_blank\" href=https://colab.research.google.com/notebooks/data_table.ipynb>data table notebook</a>'\n",
              "            + ' to learn more about interactive tables.';\n",
              "          element.innerHTML = '';\n",
              "          dataTable['output_type'] = 'display_data';\n",
              "          await google.colab.output.renderOutput(dataTable, element);\n",
              "          const docLink = document.createElement('div');\n",
              "          docLink.innerHTML = docLinkHtml;\n",
              "          element.appendChild(docLink);\n",
              "        }\n",
              "      </script>\n",
              "    </div>\n",
              "  </div>\n",
              "  "
            ]
          },
          "metadata": {}
        }
      ]
    },
    {
      "cell_type": "markdown",
      "source": [
        "I notice some Nan/ Null values in NOAA Adjusted Sea Level column. We might have to look more. "
      ],
      "metadata": {
        "id": "fG7ts2fzl3wu"
      }
    },
    {
      "cell_type": "code",
      "source": [
        "# Get technical summary \n",
        "sea_leavel_df.info()"
      ],
      "metadata": {
        "colab": {
          "base_uri": "https://localhost:8080/"
        },
        "id": "_al-S90JkRNL",
        "outputId": "11fe2047-e516-4282-b3b0-bb3ac23fef2a"
      },
      "execution_count": 5,
      "outputs": [
        {
          "output_type": "stream",
          "name": "stdout",
          "text": [
            "<class 'pandas.core.frame.DataFrame'>\n",
            "RangeIndex: 134 entries, 0 to 133\n",
            "Data columns (total 5 columns):\n",
            " #   Column                    Non-Null Count  Dtype  \n",
            "---  ------                    --------------  -----  \n",
            " 0   Year                      134 non-null    int64  \n",
            " 1   CSIRO Adjusted Sea Level  134 non-null    float64\n",
            " 2   Lower Error Bound         134 non-null    float64\n",
            " 3   Upper Error Bound         134 non-null    float64\n",
            " 4   NOAA Adjusted Sea Level   21 non-null     float64\n",
            "dtypes: float64(4), int64(1)\n",
            "memory usage: 5.4 KB\n"
          ]
        }
      ]
    },
    {
      "cell_type": "markdown",
      "source": [
        "## Cleaning, sorting, formating Data\n",
        "\n",
        "Before proceeding any further, let's get rid of duplicates and null values to clean up the data."
      ],
      "metadata": {
        "id": "YougJQhcmhGB"
      }
    },
    {
      "cell_type": "code",
      "source": [
        "cleaned_sealevel_df = sea_leavel_df.drop_duplicates()\n",
        "print(cleaned_sealevel_df.info())"
      ],
      "metadata": {
        "colab": {
          "base_uri": "https://localhost:8080/"
        },
        "id": "UF87OYyaoO_E",
        "outputId": "a2c785b2-bb66-4edf-f355-be04c6497a7c"
      },
      "execution_count": 6,
      "outputs": [
        {
          "output_type": "stream",
          "name": "stdout",
          "text": [
            "<class 'pandas.core.frame.DataFrame'>\n",
            "Int64Index: 134 entries, 0 to 133\n",
            "Data columns (total 5 columns):\n",
            " #   Column                    Non-Null Count  Dtype  \n",
            "---  ------                    --------------  -----  \n",
            " 0   Year                      134 non-null    int64  \n",
            " 1   CSIRO Adjusted Sea Level  134 non-null    float64\n",
            " 2   Lower Error Bound         134 non-null    float64\n",
            " 3   Upper Error Bound         134 non-null    float64\n",
            " 4   NOAA Adjusted Sea Level   21 non-null     float64\n",
            "dtypes: float64(4), int64(1)\n",
            "memory usage: 6.3 KB\n",
            "None\n"
          ]
        }
      ]
    },
    {
      "cell_type": "markdown",
      "source": [
        "check if any nan values in all columns. we notice some null / nan value in the NOAA Adjusted Sea Level column."
      ],
      "metadata": {
        "id": "0U1xCwTKop4K"
      }
    },
    {
      "cell_type": "code",
      "source": [
        "null_values = cleaned_sealevel_df.isna().any()\n",
        "print(null_values)"
      ],
      "metadata": {
        "colab": {
          "base_uri": "https://localhost:8080/"
        },
        "id": "y5uHBhzXmctC",
        "outputId": "30020083-816c-4c94-84d5-25fc5e069a43"
      },
      "execution_count": 7,
      "outputs": [
        {
          "output_type": "stream",
          "name": "stdout",
          "text": [
            "Year                        False\n",
            "CSIRO Adjusted Sea Level    False\n",
            "Lower Error Bound           False\n",
            "Upper Error Bound           False\n",
            "NOAA Adjusted Sea Level      True\n",
            "dtype: bool\n"
          ]
        }
      ]
    },
    {
      "cell_type": "markdown",
      "source": [
        "Let's drop of the column have Null values. "
      ],
      "metadata": {
        "id": "J0FSgYNHoznE"
      }
    },
    {
      "cell_type": "code",
      "source": [
        "cleaned_sealevel_df = cleaned_sealevel_df.drop(columns=['NOAA Adjusted Sea Level'])\n",
        "print(cleaned_sealevel_df.info())"
      ],
      "metadata": {
        "colab": {
          "base_uri": "https://localhost:8080/"
        },
        "id": "bCGwYIxrnre9",
        "outputId": "fe7d86b1-98fa-4155-ed4d-21c59f1b4518"
      },
      "execution_count": 8,
      "outputs": [
        {
          "output_type": "stream",
          "name": "stdout",
          "text": [
            "<class 'pandas.core.frame.DataFrame'>\n",
            "Int64Index: 134 entries, 0 to 133\n",
            "Data columns (total 4 columns):\n",
            " #   Column                    Non-Null Count  Dtype  \n",
            "---  ------                    --------------  -----  \n",
            " 0   Year                      134 non-null    int64  \n",
            " 1   CSIRO Adjusted Sea Level  134 non-null    float64\n",
            " 2   Lower Error Bound         134 non-null    float64\n",
            " 3   Upper Error Bound         134 non-null    float64\n",
            "dtypes: float64(3), int64(1)\n",
            "memory usage: 5.2 KB\n",
            "None\n"
          ]
        }
      ]
    },
    {
      "cell_type": "markdown",
      "source": [
        "Filter out the data between year 1800 and 2013."
      ],
      "metadata": {
        "id": "eJshsQUFjX0z"
      }
    },
    {
      "cell_type": "code",
      "source": [
        "filt_year = (cleaned_sealevel_df['Year']>=1880) & (cleaned_sealevel_df['Year'] <=2013)\n",
        "filted_sealevel_df = cleaned_sealevel_df[filt_year]\n",
        "filted_sealevel_df"
      ],
      "metadata": {
        "colab": {
          "base_uri": "https://localhost:8080/",
          "height": 423
        },
        "id": "zUg0Qw1NjSen",
        "outputId": "75e47c02-fbe7-450a-d028-23ffb44bd652"
      },
      "execution_count": 9,
      "outputs": [
        {
          "output_type": "execute_result",
          "data": {
            "text/plain": [
              "     Year  CSIRO Adjusted Sea Level  Lower Error Bound  Upper Error Bound\n",
              "0    1880                  0.000000          -0.952756           0.952756\n",
              "1    1881                  0.220472          -0.732283           1.173228\n",
              "2    1882                 -0.440945          -1.346457           0.464567\n",
              "3    1883                 -0.232283          -1.129921           0.665354\n",
              "4    1884                  0.590551          -0.283465           1.464567\n",
              "..    ...                       ...                ...                ...\n",
              "129  2009                  8.586614           8.311024           8.862205\n",
              "130  2010                  8.901575           8.618110           9.185039\n",
              "131  2011                  8.964567           8.661417           9.267717\n",
              "132  2012                  9.326772           8.992126           9.661417\n",
              "133  2013                  8.980315           8.622047           9.338583\n",
              "\n",
              "[134 rows x 4 columns]"
            ],
            "text/html": [
              "\n",
              "  <div id=\"df-cb6662f2-5ce0-4289-a525-4b2c6ac26b90\">\n",
              "    <div class=\"colab-df-container\">\n",
              "      <div>\n",
              "<style scoped>\n",
              "    .dataframe tbody tr th:only-of-type {\n",
              "        vertical-align: middle;\n",
              "    }\n",
              "\n",
              "    .dataframe tbody tr th {\n",
              "        vertical-align: top;\n",
              "    }\n",
              "\n",
              "    .dataframe thead th {\n",
              "        text-align: right;\n",
              "    }\n",
              "</style>\n",
              "<table border=\"1\" class=\"dataframe\">\n",
              "  <thead>\n",
              "    <tr style=\"text-align: right;\">\n",
              "      <th></th>\n",
              "      <th>Year</th>\n",
              "      <th>CSIRO Adjusted Sea Level</th>\n",
              "      <th>Lower Error Bound</th>\n",
              "      <th>Upper Error Bound</th>\n",
              "    </tr>\n",
              "  </thead>\n",
              "  <tbody>\n",
              "    <tr>\n",
              "      <th>0</th>\n",
              "      <td>1880</td>\n",
              "      <td>0.000000</td>\n",
              "      <td>-0.952756</td>\n",
              "      <td>0.952756</td>\n",
              "    </tr>\n",
              "    <tr>\n",
              "      <th>1</th>\n",
              "      <td>1881</td>\n",
              "      <td>0.220472</td>\n",
              "      <td>-0.732283</td>\n",
              "      <td>1.173228</td>\n",
              "    </tr>\n",
              "    <tr>\n",
              "      <th>2</th>\n",
              "      <td>1882</td>\n",
              "      <td>-0.440945</td>\n",
              "      <td>-1.346457</td>\n",
              "      <td>0.464567</td>\n",
              "    </tr>\n",
              "    <tr>\n",
              "      <th>3</th>\n",
              "      <td>1883</td>\n",
              "      <td>-0.232283</td>\n",
              "      <td>-1.129921</td>\n",
              "      <td>0.665354</td>\n",
              "    </tr>\n",
              "    <tr>\n",
              "      <th>4</th>\n",
              "      <td>1884</td>\n",
              "      <td>0.590551</td>\n",
              "      <td>-0.283465</td>\n",
              "      <td>1.464567</td>\n",
              "    </tr>\n",
              "    <tr>\n",
              "      <th>...</th>\n",
              "      <td>...</td>\n",
              "      <td>...</td>\n",
              "      <td>...</td>\n",
              "      <td>...</td>\n",
              "    </tr>\n",
              "    <tr>\n",
              "      <th>129</th>\n",
              "      <td>2009</td>\n",
              "      <td>8.586614</td>\n",
              "      <td>8.311024</td>\n",
              "      <td>8.862205</td>\n",
              "    </tr>\n",
              "    <tr>\n",
              "      <th>130</th>\n",
              "      <td>2010</td>\n",
              "      <td>8.901575</td>\n",
              "      <td>8.618110</td>\n",
              "      <td>9.185039</td>\n",
              "    </tr>\n",
              "    <tr>\n",
              "      <th>131</th>\n",
              "      <td>2011</td>\n",
              "      <td>8.964567</td>\n",
              "      <td>8.661417</td>\n",
              "      <td>9.267717</td>\n",
              "    </tr>\n",
              "    <tr>\n",
              "      <th>132</th>\n",
              "      <td>2012</td>\n",
              "      <td>9.326772</td>\n",
              "      <td>8.992126</td>\n",
              "      <td>9.661417</td>\n",
              "    </tr>\n",
              "    <tr>\n",
              "      <th>133</th>\n",
              "      <td>2013</td>\n",
              "      <td>8.980315</td>\n",
              "      <td>8.622047</td>\n",
              "      <td>9.338583</td>\n",
              "    </tr>\n",
              "  </tbody>\n",
              "</table>\n",
              "<p>134 rows × 4 columns</p>\n",
              "</div>\n",
              "      <button class=\"colab-df-convert\" onclick=\"convertToInteractive('df-cb6662f2-5ce0-4289-a525-4b2c6ac26b90')\"\n",
              "              title=\"Convert this dataframe to an interactive table.\"\n",
              "              style=\"display:none;\">\n",
              "        \n",
              "  <svg xmlns=\"http://www.w3.org/2000/svg\" height=\"24px\"viewBox=\"0 0 24 24\"\n",
              "       width=\"24px\">\n",
              "    <path d=\"M0 0h24v24H0V0z\" fill=\"none\"/>\n",
              "    <path d=\"M18.56 5.44l.94 2.06.94-2.06 2.06-.94-2.06-.94-.94-2.06-.94 2.06-2.06.94zm-11 1L8.5 8.5l.94-2.06 2.06-.94-2.06-.94L8.5 2.5l-.94 2.06-2.06.94zm10 10l.94 2.06.94-2.06 2.06-.94-2.06-.94-.94-2.06-.94 2.06-2.06.94z\"/><path d=\"M17.41 7.96l-1.37-1.37c-.4-.4-.92-.59-1.43-.59-.52 0-1.04.2-1.43.59L10.3 9.45l-7.72 7.72c-.78.78-.78 2.05 0 2.83L4 21.41c.39.39.9.59 1.41.59.51 0 1.02-.2 1.41-.59l7.78-7.78 2.81-2.81c.8-.78.8-2.07 0-2.86zM5.41 20L4 18.59l7.72-7.72 1.47 1.35L5.41 20z\"/>\n",
              "  </svg>\n",
              "      </button>\n",
              "      \n",
              "  <style>\n",
              "    .colab-df-container {\n",
              "      display:flex;\n",
              "      flex-wrap:wrap;\n",
              "      gap: 12px;\n",
              "    }\n",
              "\n",
              "    .colab-df-convert {\n",
              "      background-color: #E8F0FE;\n",
              "      border: none;\n",
              "      border-radius: 50%;\n",
              "      cursor: pointer;\n",
              "      display: none;\n",
              "      fill: #1967D2;\n",
              "      height: 32px;\n",
              "      padding: 0 0 0 0;\n",
              "      width: 32px;\n",
              "    }\n",
              "\n",
              "    .colab-df-convert:hover {\n",
              "      background-color: #E2EBFA;\n",
              "      box-shadow: 0px 1px 2px rgba(60, 64, 67, 0.3), 0px 1px 3px 1px rgba(60, 64, 67, 0.15);\n",
              "      fill: #174EA6;\n",
              "    }\n",
              "\n",
              "    [theme=dark] .colab-df-convert {\n",
              "      background-color: #3B4455;\n",
              "      fill: #D2E3FC;\n",
              "    }\n",
              "\n",
              "    [theme=dark] .colab-df-convert:hover {\n",
              "      background-color: #434B5C;\n",
              "      box-shadow: 0px 1px 3px 1px rgba(0, 0, 0, 0.15);\n",
              "      filter: drop-shadow(0px 1px 2px rgba(0, 0, 0, 0.3));\n",
              "      fill: #FFFFFF;\n",
              "    }\n",
              "  </style>\n",
              "\n",
              "      <script>\n",
              "        const buttonEl =\n",
              "          document.querySelector('#df-cb6662f2-5ce0-4289-a525-4b2c6ac26b90 button.colab-df-convert');\n",
              "        buttonEl.style.display =\n",
              "          google.colab.kernel.accessAllowed ? 'block' : 'none';\n",
              "\n",
              "        async function convertToInteractive(key) {\n",
              "          const element = document.querySelector('#df-cb6662f2-5ce0-4289-a525-4b2c6ac26b90');\n",
              "          const dataTable =\n",
              "            await google.colab.kernel.invokeFunction('convertToInteractive',\n",
              "                                                     [key], {});\n",
              "          if (!dataTable) return;\n",
              "\n",
              "          const docLinkHtml = 'Like what you see? Visit the ' +\n",
              "            '<a target=\"_blank\" href=https://colab.research.google.com/notebooks/data_table.ipynb>data table notebook</a>'\n",
              "            + ' to learn more about interactive tables.';\n",
              "          element.innerHTML = '';\n",
              "          dataTable['output_type'] = 'display_data';\n",
              "          await google.colab.output.renderOutput(dataTable, element);\n",
              "          const docLink = document.createElement('div');\n",
              "          docLink.innerHTML = docLinkHtml;\n",
              "          element.appendChild(docLink);\n",
              "        }\n",
              "      </script>\n",
              "    </div>\n",
              "  </div>\n",
              "  "
            ]
          },
          "metadata": {},
          "execution_count": 9
        }
      ]
    },
    {
      "cell_type": "markdown",
      "source": [
        "# Data Analyses & Visualisation\n",
        "---\n",
        "1.  Calculate some statistics on the level array, eg:\n",
        "*  mean\n",
        "*  standard deviation\n",
        "*  total \n",
        "\n",
        "2.  Use the fact that the arrays are aligned (e.g. the first number in the level array is linked to the first year in the year array and display:\n",
        "\n",
        "*  the year with the biggest rise in level\n",
        "*  the year with the lowest rise in level\n",
        "\n",
        "*(**Hint**:  to do this you can use a new numpy function np.where() )*\n",
        " ```\n",
        "np.where(array == value_to_find)\n",
        "```\n",
        "*There is some reference material [here](https://thispointer.com/find-the-index-of-a-value-in-numpy-array/)*\n",
        "\n",
        "**Note**: ```np.where(...)``` will return a tuple containing all indexes where that value was found.  You can print all, or you can print the first value (it is likely that there will only be one in this case) using [0][0].  *With the correct code you should get an answer of 2012*\n",
        "\n",
        "\n",
        "3.  Calculate the Pearson product-moment correlation coefficient between year and the rise in sea level.  (*Expected output:  0.98 when rounded to 2 decimal places*)"
      ],
      "metadata": {
        "id": "3cf1YPgnBSc2"
      }
    },
    {
      "cell_type": "markdown",
      "source": [
        "### Calculate statistics \n",
        "Use numpy array() function to convert series to an array. Calculate some statistics on the level array with numpy mean() , std(), sum() functions. "
      ],
      "metadata": {
        "id": "jNDvsRiwpnqE"
      }
    },
    {
      "cell_type": "code",
      "execution_count": 10,
      "metadata": {
        "id": "8VWUtmK4YhoU",
        "colab": {
          "base_uri": "https://localhost:8080/"
        },
        "outputId": "992253b3-b0ca-473b-d929-4fbfbc662200"
      },
      "outputs": [
        {
          "output_type": "stream",
          "name": "stdout",
          "text": [
            "mean =        3.65\n",
            "std dev =        2.48\n",
            "total =     489.15\n"
          ]
        }
      ],
      "source": [
        "#Calculate some statistics on the level array for a specific column\n",
        "def cal_statistics(df,col):\n",
        "  nparray_col = np.array(df[col])\n",
        "  # mean\n",
        "  mean = np.mean(nparray_col)\n",
        "  \n",
        "  # standard deviation\n",
        "  stddev = np.std(nparray_col)\n",
        "\n",
        "  # total\n",
        "  total = np.sum(nparray_col)\n",
        "\n",
        "  return mean, stddev, total \n",
        "\n",
        "  \n",
        "mean, stddev, total = cal_statistics(filted_sealevel_df,'CSIRO Adjusted Sea Level')\n",
        "print('mean = ',\"{:10.2f}\".format(mean))\n",
        "print('std dev = ',\"{:10.2f}\".format(stddev))\n",
        "print('total =',\"{:10.2f}\".format(total))"
      ]
    },
    {
      "cell_type": "markdown",
      "source": [
        "Use the fact that the arrays are aligned to find the year with biggest rise in sea level and the year with the lowest rise in sea level. Using numpy max() and min() function to get the max and min see level values. Using numpy where() function to find the index of see level by passing a condition. "
      ],
      "metadata": {
        "id": "jaqgqZLf3k2u"
      }
    },
    {
      "cell_type": "code",
      "source": [
        "# find the years with the biggest and lowest rise in level\n",
        "nparray_sealevel = np.array(filted_sealevel_df['CSIRO Adjusted Sea Level'])\n",
        "nparray_year = np.array(filted_sealevel_df['Year'])\n",
        "\n",
        "# get the max and min sea level\n",
        "max_level = np.max(nparray_sealevel)\n",
        "min_level = np.min(nparray_sealevel)\n",
        "\n",
        "# get the index of max and min sea level  \n",
        "max_index = np.where(nparray_sealevel == max_level)\n",
        "min_index = np.where(nparray_sealevel == min_level)\n",
        "\n",
        "# get the year of max and min from the max , min see level index\n",
        "max_year = nparray_year[max_index][0] \n",
        "min_year = nparray_year[min_index][0] \n",
        "print(\"The sea level was highest at\", \"{:10.2f}\".format(max_level), \"in the year\", max_year)\n",
        "print(\"The sea level was lowest at\", \"{:10.2f}\".format(min_level), \"in the year\", min_year)"
      ],
      "metadata": {
        "colab": {
          "base_uri": "https://localhost:8080/"
        },
        "id": "4O9yxOKCuU8c",
        "outputId": "7bdae380-2346-4f30-eb5f-dd89eeda60f0"
      },
      "execution_count": 11,
      "outputs": [
        {
          "output_type": "stream",
          "name": "stdout",
          "text": [
            "The sea level was highest at       9.33 in the year 2012\n",
            "The sea level was lowest at      -0.44 in the year 1882\n"
          ]
        }
      ]
    },
    {
      "cell_type": "markdown",
      "source": [
        "Test and check if it's correct year of the highest sea level."
      ],
      "metadata": {
        "id": "jQAihYlh7dPd"
      }
    },
    {
      "cell_type": "code",
      "source": [
        "# The code below will run and test your code to see if you have returned a series with the correct length and first row\n",
        "actual = max_year\n",
        "expected = 2012\n",
        "\n",
        "if actual == expected:\n",
        "  print(\"Test passed\", actual)\n",
        "else:\n",
        "  print(\"Test failed\",\"Should have got\", expected, \"got\", actual)"
      ],
      "metadata": {
        "colab": {
          "base_uri": "https://localhost:8080/"
        },
        "id": "8McFbbfM3YZE",
        "outputId": "f441ad0d-111e-48bb-8cf5-6aa15a5c4b1c"
      },
      "execution_count": 12,
      "outputs": [
        {
          "output_type": "stream",
          "name": "stdout",
          "text": [
            "Test passed 2012\n"
          ]
        }
      ]
    },
    {
      "cell_type": "markdown",
      "source": [
        "### Pearson correlation coefficient"
      ],
      "metadata": {
        "id": "_O8KDl7Qqg-j"
      }
    },
    {
      "cell_type": "markdown",
      "source": [
        "Correlation coeffcients are used to measure the strength of the linear relationship between variables. I use numpy corrcoef() function to get the correlation coefficient matrix. "
      ],
      "metadata": {
        "id": "rEyMevcp7qdS"
      }
    },
    {
      "cell_type": "code",
      "source": [
        "def cal_coef(df,col1,col2):\n",
        "  #Calculate the Pearson correlation coefficient between year and the rise in sea level.\n",
        "  # (Expected output: 0.98 when rounded to 2 decimal places)\n",
        "  nparray_col1 = np.array(df[col1])\n",
        "  nparray_col2 = np.array(df[col2])\n",
        "  coef = np.corrcoef(nparray_col1,nparray_col2).round(decimals=2)\n",
        "  return coef\n",
        "\n",
        "col1 = 'Year'\n",
        "col2 = 'CSIRO Adjusted Sea Level'\n",
        "coef_matrix = cal_coef(filted_sealevel_df, col1, col2) \n",
        "print(f'correlation coefficient for {col1} and {col2} :\\n',coef_matrix) "
      ],
      "metadata": {
        "colab": {
          "base_uri": "https://localhost:8080/"
        },
        "id": "LwcWBC7Qpu1s",
        "outputId": "75bdbeee-67dc-450c-e1dd-6d853688cb43"
      },
      "execution_count": 13,
      "outputs": [
        {
          "output_type": "stream",
          "name": "stdout",
          "text": [
            "correlation coefficient for Year and CSIRO Adjusted Sea Level :\n",
            " [[1.   0.98]\n",
            " [0.98 1.  ]]\n"
          ]
        }
      ]
    },
    {
      "cell_type": "markdown",
      "source": [
        "A correlation coefficient > 0 indicates a positive relationship while a value < 0 signifies a negative relationship. \n",
        "\n",
        "correlation coefficient = 0 indicates no relationship between the two variables being compared.  \n",
        "\n",
        "Test and check if it's correct correlation coefficient value."
      ],
      "metadata": {
        "id": "M7X6wr8m74vW"
      }
    },
    {
      "cell_type": "code",
      "source": [
        "# The code below will run and test your code to see if you have returned a series with the correct length and first row\n",
        "actual = coef_matrix[0,1]\n",
        "expected = 0.98\n",
        "\n",
        "if actual == expected:\n",
        "  print(\"Test passed\", actual)\n",
        "else:\n",
        "  print(\"Test failed\",\"Should have got\", expected, \"got\", actual)"
      ],
      "metadata": {
        "colab": {
          "base_uri": "https://localhost:8080/"
        },
        "id": "kCBoKjVJr9oZ",
        "outputId": "2194b1e6-d0cd-4a86-a4e1-3803d5b62b05"
      },
      "execution_count": 14,
      "outputs": [
        {
          "output_type": "stream",
          "name": "stdout",
          "text": [
            "Test passed 0.98\n"
          ]
        }
      ]
    },
    {
      "cell_type": "markdown",
      "source": [
        "This shows that there is a strong correlation between year and rising sea levels"
      ],
      "metadata": {
        "id": "e3zXZB8N49Ca"
      }
    },
    {
      "cell_type": "code",
      "source": [
        "import matplotlib.pyplot as plt\n",
        "\n",
        "years = filted_sealevel_df['Year']\n",
        "sea_levels = filted_sealevel_df['CSIRO Adjusted Sea Level']\n",
        "\n",
        "plt.figure(figsize=(10, 8), dpi=80)\n",
        "plt.scatter(years, sea_levels, edgecolors='face')\n",
        "plt.xlabel('Year')\n",
        "plt.ylabel('Sea Level (inches)')\n",
        "plt.title('Rise in Sealevel')\n",
        "plt.show()"
      ],
      "metadata": {
        "colab": {
          "base_uri": "https://localhost:8080/",
          "height": 565
        },
        "id": "1nZrhu9Y8DVv",
        "outputId": "c05aa9b2-b8fa-48fe-b872-67eb0fd36976"
      },
      "execution_count": 15,
      "outputs": [
        {
          "output_type": "display_data",
          "data": {
            "text/plain": [
              "<Figure size 800x640 with 1 Axes>"
            ],
            "image/png": "[encoded data removed]"
          },
          "metadata": {
            "needs_background": "light"
          }
        }
      ]
    },
    {
      "cell_type": "markdown",
      "source": [
        "### Linear Regression \n",
        "\n",
        "We can see the sea level has been increasing between 1880 and 2000. Now, let's calculate the linear regression to predict the trend.  \n",
        "\n",
        "I will be implementing by using 2 different methods : \n",
        "\n",
        "1. sklearn linear regression module\n",
        "\n",
        "2. using linregress from scipy.stats to find the best fit. \n",
        "\n",
        "Time-series data provides a context in which the \"slope\" of the linear model represents a \"rate-of-change\".\n",
        "\n",
        "I also used measurements of sea level change from 1970 to 2100, build a linear model of that changing sea level and use it to make a prediction about the future sea level rise."
      ],
      "metadata": {
        "id": "97t6IoH-A9g_"
      }
    },
    {
      "cell_type": "markdown",
      "source": [
        "**Using import LinearRegression from sklearn.linear_model to find the best fit**"
      ],
      "metadata": {
        "id": "xHQ1Gs9FXKrq"
      }
    },
    {
      "cell_type": "code",
      "source": [
        "# Import LinearRegression class\n",
        "from sklearn.linear_model import LinearRegression\n",
        "import sklearn.metrics\n",
        "from scipy import stats\n",
        "from scipy.stats.stats import pearsonr\n",
        "\n",
        "import numpy as np\n",
        "import seaborn as sns\n",
        "\n"
      ],
      "metadata": {
        "id": "ASzLcirC_9Pp"
      },
      "execution_count": 16,
      "outputs": []
    },
    {
      "cell_type": "code",
      "source": [
        "x = np.array(years).reshape(-1,1)\n",
        "y = np.array(sea_levels).reshape(-1,1)\n"
      ],
      "metadata": {
        "id": "cvjuokqFQkbe"
      },
      "execution_count": 17,
      "outputs": []
    },
    {
      "cell_type": "code",
      "source": [
        "# build a LinearRegression model, fit to the data\n",
        "model = LinearRegression(fit_intercept=True)\n",
        "# fitting the model\n",
        "model.fit(x, y) "
      ],
      "metadata": {
        "colab": {
          "base_uri": "https://localhost:8080/"
        },
        "id": "OV3EaWCLC7bD",
        "outputId": "e7a82d84-b93e-4419-ad36-6383790881cc"
      },
      "execution_count": 18,
      "outputs": [
        {
          "output_type": "execute_result",
          "data": {
            "text/plain": [
              "LinearRegression()"
            ]
          },
          "metadata": {},
          "execution_count": 18
        }
      ]
    },
    {
      "cell_type": "code",
      "source": [
        "# give a forecast years until year 2100 \n",
        "x_new = np.linspace(1970, 2050, 131).reshape(-1, 1) #an array of values you want to predict from\n",
        "# predicting values : Use model to predict for many years\n",
        "y_new = model.predict(x_new) #predict the levels_forecast \n",
        "\n",
        "# print(\"Prediction: year = {}, level = {:.02f}\".format(x_new, y_new[0,0]))"
      ],
      "metadata": {
        "id": "llcSShwMENB_"
      },
      "execution_count": 19,
      "outputs": []
    },
    {
      "cell_type": "code",
      "source": [
        "# Create first line of best fit\n",
        "# lineA = linregress(years, sea_levels)\n",
        "# xA = np.arange(years.min(),2050,1)\n",
        "# yA = xA*lineA.slope + lineA.intercept\n",
        "# y_pred1 = y_new\n",
        "# y_pred1 = y_pred1.reshape(-1,1)\n",
        "\n",
        "# model.fit_intercept()\n",
        "# plt.plot(xA,yA, 'r', label = 'Fitted Line 1')\n",
        "# Get slope, intercept, r_value, p_value, std_err from linregress model \n",
        "# df_2000 = filted_sealevel_df[filted_sealevel_df['Year'] >= 2000]\n",
        "# lineB = linregress(df_2000['Year'], df_2000['CSIRO Adjusted Sea Level'])\n",
        "# xB = np.arange(2000,2050,1)\n",
        "# yB = xB*lineB.slope + lineB.intercept\n",
        "\n",
        "# plt.plot(xB,yB, label='>year 2000')"
      ],
      "metadata": {
        "id": "Pg3C8bfJsxms"
      },
      "execution_count": 20,
      "outputs": []
    },
    {
      "cell_type": "markdown",
      "source": [
        "Use seaborn to draw scatterplot with lineplot"
      ],
      "metadata": {
        "id": "YspoXv4nT0hr"
      }
    },
    {
      "cell_type": "code",
      "source": [
        "# plt.figure(figsize = (15,8))\n",
        "# ax = sns.regplot(years, sea_levels, ci=None)\n",
        "# sns.lineplot(x = x_new[:,0],y = y_new[:,0], color='green')\n",
        "# ax.set(xlabel='Years', ylabel='Sea level')\n",
        "# ax.grid(True)\n",
        "# plt.show()\n"
      ],
      "metadata": {
        "id": "AkFwrTOv0K-H"
      },
      "execution_count": 21,
      "outputs": []
    },
    {
      "cell_type": "code",
      "source": [
        "# plot regression line : over-plot with measured data\n",
        "plt.figure(figsize = (15,8))\n",
        "ax = sns.scatterplot(x[:,0],y[:,0])\n",
        "# sns.regplot(x=years, y=sea_levels, data=filted_sealevel_df, color='red');\n",
        "#create scatterplot with regression line\n",
        "sns.lineplot(x = x_new[:,0],y = y_new[:,0], color='green')\n",
        "ax.set(xlabel='X', ylabel='Y')\n",
        "ax.grid(True)\n",
        "plt.show()\n"
      ],
      "metadata": {
        "colab": {
          "base_uri": "https://localhost:8080/",
          "height": 552
        },
        "id": "FPmP9MIvPonm",
        "outputId": "14db2bca-27d8-4b48-ee75-a34d6825fbfc"
      },
      "execution_count": 22,
      "outputs": [
        {
          "output_type": "stream",
          "name": "stderr",
          "text": [
            "/usr/local/lib/python3.7/dist-packages/seaborn/_decorators.py:43: FutureWarning: Pass the following variables as keyword args: x, y. From version 0.12, the only valid positional argument will be `data`, and passing other arguments without an explicit keyword will result in an error or misinterpretation.\n",
            "  FutureWarning\n"
          ]
        },
        {
          "output_type": "display_data",
          "data": {
            "text/plain": [
              "<Figure size 1080x576 with 1 Axes>"
            ],
            "image/png": "[encoded data removed]"
          },
          "metadata": {
            "needs_background": "light"
          }
        }
      ]
    },
    {
      "cell_type": "code",
      "source": [
        "# R Squared\n",
        "print(f'R Squared: {model.score(x,y)}')"
      ],
      "metadata": {
        "colab": {
          "base_uri": "https://localhost:8080/"
        },
        "id": "0he-UMZZWvvL",
        "outputId": "18791aa9-ddf5-4bbc-97de-e57765a1c715"
      },
      "execution_count": 23,
      "outputs": [
        {
          "output_type": "stream",
          "name": "stdout",
          "text": [
            "R Squared: 0.9697466074149554\n"
          ]
        }
      ]
    },
    {
      "cell_type": "markdown",
      "source": [
        "**Using linregress from scipy.stats to find the best fit**\n",
        "\n",
        "Use matplotlib to create a scatter plot using the \"Year\" column as the x-axis and the \"CSIRO Adjusted Sea Level\" column as the y-axix.\n",
        "\n",
        "Use the linregress function from scipi.stats to get the slope and y-intercept of the line of best fit. Plot the line of best fit over the top of the scatter plot. Make the line go through the year 2050 to predict the sea level rise in 2050.\n",
        "\n",
        "Plot a new line of best fit just using the data from year 2000 through the most recent year in the dataset. Make the line also go through the year 2050 to predict the sea level rise in 2050 if the rate of rise continues as it has since the year 2000.\n",
        "\n",
        "The x label should be \"Year\", the y label should be \"Sea Level (inches)\", and the title should be \"Rise in Sea Level\".\n",
        "\n"
      ],
      "metadata": {
        "id": "4H2wfZJlHa-N"
      }
    },
    {
      "cell_type": "code",
      "source": [
        "import pandas as pd\n",
        "import matplotlib.pyplot as plt\n",
        "from scipy.stats import linregress\n",
        "import numpy as np\n",
        "\n",
        "# def draw_plot():\n",
        "\n",
        "fig, ax = plt.subplots(figsize=(15, 8))\n",
        "\n",
        "# Create scatter plot\n",
        "# plt.scatter(years, sea_levels)\n",
        "ax.scatter(years, sea_levels, label='Original data', alpha=0.5, edgecolors='none')\n",
        "ax.grid(True)\n",
        "\n",
        "# Create first line of best fit\n",
        "lineA = linregress(years, sea_levels)\n",
        "xA = np.arange(years.min(),2050,1)\n",
        "yA = xA*lineA.slope + lineA.intercept\n",
        "\n",
        "plt.plot(xA,yA, 'r', label = 'Fitted Line 1')\n",
        "\n",
        "# Create second line of best fit\n",
        "df_2000 = filted_sealevel_df[filted_sealevel_df['Year'] >= 2000]\n",
        "\n",
        "# Get slope, intercept, r_value, p_value, std_err from linregress model \n",
        "lineB = linregress(df_2000['Year'], df_2000['CSIRO Adjusted Sea Level'])\n",
        "xB = np.arange(2000,2050,1)\n",
        "yB = xB*lineB.slope + lineB.intercept\n",
        "\n",
        "plt.plot(xB,yB, label='>year 2000')\n",
        "\n",
        "# Add labels and title\n",
        "plt.xlabel('Year')\n",
        "plt.ylabel('Sea Level (inches)')\n",
        "plt.title('Rise in Sea Level')\n",
        "plt.legend(fontsize=\"medium\")\n",
        "plt.show()\n",
        "# Save plot and return data for testing (DO NOT MODIFY)\n",
        "# plt.savefig('sea_level_plot.png')\n",
        "# return plt.gca()\n",
        "\n",
        "# draw_plot()"
      ],
      "metadata": {
        "colab": {
          "base_uri": "https://localhost:8080/",
          "height": 513
        },
        "id": "2UId32UWGaa9",
        "outputId": "79ff7a8d-55aa-499e-aafd-179b67809245"
      },
      "execution_count": 24,
      "outputs": [
        {
          "output_type": "display_data",
          "data": {
            "text/plain": [
              "<Figure size 1080x576 with 1 Axes>"
            ],
            "image/png": "[encoded data removed]"
          },
          "metadata": {
            "needs_background": "light"
          }
        }
      ]
    },
    {
      "cell_type": "markdown",
      "source": [
        "R Squared value = explained variation / Total variation. The value is always between 0 and 100%.  \n",
        "\n",
        "0% indicates that the model explains none of the variability of the reponse data around its mean.\n",
        "\n",
        "100% indicates the model explains all the variability of the reponse data round its mean. \n",
        "\n",
        "The higher R-Squared, the better the model fits the data."
      ],
      "metadata": {
        "id": "_oecF0dDvghM"
      }
    },
    {
      "cell_type": "code",
      "source": [
        "# R Squared\n",
        "print(f'LineA R Squared: {lineA.rvalue**2}')\n",
        "\n",
        "print(f'predicited LineB R Squared: {lineB.rvalue**2}')"
      ],
      "metadata": {
        "colab": {
          "base_uri": "https://localhost:8080/"
        },
        "id": "E9lw_MEvbmS3",
        "outputId": "8c7bd481-4247-4944-8bc1-e6c383e0bd0f"
      },
      "execution_count": 25,
      "outputs": [
        {
          "output_type": "stream",
          "name": "stdout",
          "text": [
            "LineA R Squared: 0.969746607414955\n",
            "predicited LineB R Squared: 0.9531374224880818\n"
          ]
        }
      ]
    },
    {
      "cell_type": "markdown",
      "source": [
        "# Conclusion\n",
        "\n",
        "\n",
        "---\n",
        "We got positive correlation coefficient which indicates that sea levels and the years have relationship. \n",
        "\n",
        "The final R-Squared values of both models are really close to 100%. It means the models fit the sea level data. However, R-squared doesn't tell us the entire story. \n",
        "\n"
      ],
      "metadata": {
        "id": "AEZuwqjE74fm"
      }
    },
    {
      "cell_type": "markdown",
      "metadata": {
        "id": "yQyytEbnZ1lw"
      },
      "source": [
        "# Reflection\n",
        "----\n",
        "\n"
      ]
    },
    {
      "cell_type": "markdown",
      "metadata": {
        "id": "MM00hR5aZk1-"
      },
      "source": [
        "## What skills have you demonstrated in completing this notebook?\n",
        "\n",
        "Your answer: \n",
        "\n",
        "Retrieve, investigate, clean, sort, formate and filter data with pandas. \n",
        "\n",
        "Transform dataframes to array and calculate statistic with numpy library. for instance, mean, median, standard deviation, and correlation coefficient. \n",
        "\n",
        "Also, create Linear Regression Models with sklearn.linear_model and scipy.stats libraries. \n",
        "\n",
        "Finally, use matplotlib.pyplot and seaborn to create visualisation of data. Such as, scatter plot and line plot to present the 2 sets of data relationship of correlation coefficient and best fit line of linear Regression."
      ]
    },
    {
      "cell_type": "markdown",
      "source": [
        "## What did I learn in this project?\n",
        "\n",
        "I learned how to retrieve, investigate, clean, sort, formate and filter data with pandas. \n",
        "\n",
        "I've learned how to calculate statistic with numpy library. such as mean, median, standard deviation, and correlation coefficient. \n",
        "\n",
        "Also, create Linear Regression Models with sklearn.linear_model and scipy.stats libraries. \n",
        "\n",
        "Finally, use matplotlib.pyplot and seaborn to create visualisation of data."
      ],
      "metadata": {
        "id": "9OcpKCbJ8AdQ"
      }
    },
    {
      "cell_type": "markdown",
      "metadata": {
        "id": "Zgexd27sZ1ly"
      },
      "source": [
        "## What caused you the most difficulty?"
      ]
    },
    {
      "cell_type": "markdown",
      "metadata": {
        "id": "-Y_nrVBwaGXr"
      },
      "source": [
        "Your answer: \n",
        "\n",
        "The most difficult parts are to understand how data should be processed and what functions/methods to calculate the data statistic.  Also, how to create correlation coefficent ,create linear regressions models and explain what we found based on the model I've created."
      ]
    },
    {
      "cell_type": "markdown",
      "source": [
        "## What are the worksheets where I learnt the skills used in this project?\n",
        "\n",
        "**Data retrieval, Interrogating**\n",
        "https://github.com/sysphcd/PythonProgrammingforData/blob/main/Worksheets/1_Data_retrieval.ipynb\n",
        "\n",
        "https://github.com/sysphcd/PythonProgrammingforData/blob/main/Worksheets/2_Describing_and_Interrogating_Data.ipynb\n",
        "\n",
        "**Sorting, cleaning, and wrangling data**\n",
        "https://github.com/sysphcd/PythonProgrammingforData/blob/main/Worksheets/3_Sorting_and_cleaning.ipynb\n",
        "\n",
        "https://github.com/sysphcd/PythonProgrammingforData/blob/main/Worksheets/4_Wrangle_the_data.ipynb\n",
        "\n",
        "\n",
        "**Testing**\n",
        "https://github.com/sysphcd/PythonProgrammingforData/blob/main/Worksheets/13_Error_handling_and_testing.ipynb\n",
        "\n",
        "**Analysing data**\n",
        "https://github.com/sysphcd/PythonProgrammingforData/blob/main/Worksheets/5_numpy.ipynb\n",
        "\n",
        "**Correlation , Linear Regression**\n",
        "https://github.com/sysphcd/PythonProgrammingforData/blob/main/Worksheets/8_1_Correlation_with_linregress_WITH_scipy_library.ipynb\n",
        "\n",
        "https://github.com/sysphcd/PythonProgrammingforData/blob/main/Worksheets/8_2_Correlation_exercises.ipynb\n",
        "\n",
        "**Visualisation**\n",
        "https://github.com/sysphcd/PythonProgrammingforData/blob/main/Worksheets/7_1_Visualisation_with_matplotlib.ipynb\n",
        "\n",
        "https://github.com/sysphcd/PythonProgrammingforData/blob/main/Worksheets/7_2_Visualisation_with_Seaborn.ipynb\n",
        "\n"
      ],
      "metadata": {
        "id": "rvieirm78I9Q"
      }
    }
  ]
}