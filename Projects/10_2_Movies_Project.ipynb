{
  "nbformat": 4,
  "nbformat_minor": 0,
  "metadata": {
    "colab": {
      "name": "10.2 Movies Project.ipynb",
      "provenance": [],
      "collapsed_sections": [],
      "include_colab_link": true
    },
    "kernelspec": {
      "name": "python3",
      "display_name": "Python 3"
    },
    "language_info": {
      "name": "python"
    }
  },
  "cells": [
    {
      "cell_type": "markdown",
      "metadata": {
        "id": "view-in-github",
        "colab_type": "text"
      },
      "source": [
        "<a href=\"https://colab.research.google.com/github/sysphcd/PythonProgrammingforData/blob/main/10_2_Movies_Project.ipynb\" target=\"_parent\"><img src=\"https://colab.research.google.com/assets/colab-badge.svg\" alt=\"Open In Colab\"/></a>"
      ]
    },
    {
      "cell_type": "markdown",
      "metadata": {
        "id": "iNinIL0w_DHu"
      },
      "source": [
        "# Movies Mini-project\n",
        "---\n",
        "\n",
        "In the previous worksheet you converted an SQL relational database to a single pandas dataframe and downloaded it. You will be analysing it today.\n",
        "\n",
        "If you were unable to download the file, there is a copy located here: \n",
        "\n",
        "\"https://github.com/lilaceri/Working-with-data-/blob/main/Data%20Sets%20for%20code%20divisio/movies.csv?raw=true\"\n",
        "\n"
      ]
    },
    {
      "cell_type": "markdown",
      "metadata": {
        "id": "TlOJOk3vMN2C"
      },
      "source": [
        "### Inspect the dataset \n",
        "---"
      ]
    },
    {
      "cell_type": "code",
      "metadata": {
        "id": "Le5KSKHY_BM9",
        "colab": {
          "base_uri": "https://localhost:8080/"
        },
        "outputId": "41a29cba-db9c-43ae-d6db-5bd6d4be3041"
      },
      "source": [
        "import pandas as pd\n",
        "\n",
        "def get_data(url):\n",
        "  df = pd.read_csv(url) #,skiprows = 1)\n",
        "  return df \n",
        "\n",
        "def describe_data(df):\n",
        "  df.info()  #Displaying Data Types\n",
        "  print(df.describe()) #Showing Basics Statistics\n",
        "  print(df.columns) #Displaying fields\n",
        "  print(df.head()) #Displaying first 5 rows\n",
        "  print(df['name']) #Displaying column name records\n",
        "\n",
        "\n",
        "#program starts here\n",
        "#url= \"https://github.com/sysphcd/PythonProgrammingforData/blob/main/movies.csv?raw=true\"\n",
        "url = \"https://github.com/lilaceri/Working-with-data-/blob/main/Data%20Sets%20for%20code%20divisio/movies.csv?raw=true\"\n",
        "df = get_data(url)\n",
        "describe_data(df)"
      ],
      "execution_count": 2,
      "outputs": [
        {
          "output_type": "stream",
          "name": "stdout",
          "text": [
            "<class 'pandas.core.frame.DataFrame'>\n",
            "RangeIndex: 368894 entries, 0 to 368893\n",
            "Data columns (total 7 columns):\n",
            " #   Column      Non-Null Count   Dtype  \n",
            "---  ------      --------------   -----  \n",
            " 0   Unnamed: 0  368894 non-null  int64  \n",
            " 1   first_name  368894 non-null  object \n",
            " 2   last_name   368894 non-null  object \n",
            " 3   name        368894 non-null  object \n",
            " 4   year        368894 non-null  int64  \n",
            " 5   rank        113376 non-null  float64\n",
            " 6   genre       368894 non-null  object \n",
            "dtypes: float64(1), int64(2), object(4)\n",
            "memory usage: 19.7+ MB\n",
            "          Unnamed: 0           year           rank\n",
            "count  368894.000000  368894.000000  113376.000000\n",
            "mean   184446.500000    1969.442222       5.995124\n",
            "std    106490.669438      29.082051       1.540330\n",
            "min         0.000000    1888.000000       1.000000\n",
            "25%     92223.250000    1947.000000       5.100000\n",
            "50%    184446.500000    1976.000000       6.200000\n",
            "75%    276669.750000    1996.000000       7.100000\n",
            "max    368893.000000    2007.000000       9.900000\n",
            "Index(['Unnamed: 0', 'first_name', 'last_name', 'name', 'year', 'rank',\n",
            "       'genre'],\n",
            "      dtype='object')\n",
            "   Unnamed: 0 first_name    last_name  ...  year  rank        genre\n",
            "0           0        Les  12 Poissons  ...  2002   NaN        Short\n",
            "1           1    Lejaren     a'Hiller  ...  1920   NaN        Drama\n",
            "2           2   Khairiya    A-Mansour  ...  1988   NaN  Documentary\n",
            "3           3    Ricardo     A. Solla  ...  2001   NaN        Drama\n",
            "4           4    Ricardo     A. Solla  ...  2001   NaN        Short\n",
            "\n",
            "[5 rows x 7 columns]\n",
            "0                       Rondo pour trompette\n",
            "1                   Sleep of Cyma Roget, The\n",
            "2                           Churches in Iraq\n",
            "3                                   Foto, La\n",
            "4                                   Foto, La\n",
            "                         ...                \n",
            "368889                        Kalbim agliyor\n",
            "368890                   Ve gnese kan siradi\n",
            "368891    Liebenden vom Hotel von Osman, Die\n",
            "368892                     Evvel zaman iinde\n",
            "368893                     Evvel zaman iinde\n",
            "Name: name, Length: 368894, dtype: object\n"
          ]
        }
      ]
    },
    {
      "cell_type": "markdown",
      "metadata": {
        "id": "wIRDoCnxMRj8"
      },
      "source": [
        "### Clean the dataset \n",
        "---\n"
      ]
    },
    {
      "cell_type": "code",
      "metadata": {
        "id": "LgY60bsbMUc8",
        "colab": {
          "base_uri": "https://localhost:8080/"
        },
        "outputId": "85282e83-fd3a-449b-b262-aeea237af570"
      },
      "source": [
        "def clean_dataset(df):\n",
        "  #removing duplicate rows\n",
        "  #df.drop_duplicates()\n",
        "  \n",
        "  unique_movies_df = df.copy().drop_duplicates(subset = ['name', 'last_name','first_name','year'])\n",
        "  #stripped_df = string.strip()\n",
        "  df_obj = unique_movies_df.select_dtypes(['string'])\n",
        "  # print (df_obj)\n",
        "  unique_movies_df[df_obj.columns] = df_obj.apply(lambda x: x.str.strip())\n",
        "  # print (unique_movies_df)\n",
        "  #df[0] = df[0].str.strip()\n",
        "  \n",
        "  unique_movies_df.rename(columns={\"Unnamed: 0\": \"id\", \"name\": \"movieName\"},inplace=True)\n",
        "  unique_movies_df.info()\n",
        "  return unique_movies_df\n",
        "\n",
        "#removing records with missing or null data (NaN, NA, \"\")\n",
        "  #print(df.isnull().values.any())\n",
        "  #print(df[\"genre\"].isnull().values.any())\n",
        "  #df.dropna(subset = [\"rank\"])\n",
        "  #df.dropna()\n",
        "  #removed_nullrank_df = df[~df[\"rank\"].isnull()]\n",
        "\n",
        "cleaned_df = clean_dataset(df)"
      ],
      "execution_count": 3,
      "outputs": [
        {
          "output_type": "stream",
          "name": "stdout",
          "text": [
            "<class 'pandas.core.frame.DataFrame'>\n",
            "Int64Index: 231609 entries, 0 to 368892\n",
            "Data columns (total 7 columns):\n",
            " #   Column      Non-Null Count   Dtype  \n",
            "---  ------      --------------   -----  \n",
            " 0   id          231609 non-null  int64  \n",
            " 1   first_name  231609 non-null  object \n",
            " 2   last_name   231609 non-null  object \n",
            " 3   movieName   231609 non-null  object \n",
            " 4   year        231609 non-null  int64  \n",
            " 5   rank        63840 non-null   float64\n",
            " 6   genre       231609 non-null  object \n",
            "dtypes: float64(1), int64(2), object(4)\n",
            "memory usage: 14.1+ MB\n"
          ]
        }
      ]
    },
    {
      "cell_type": "markdown",
      "metadata": {
        "id": "00Vb1k3FMdei"
      },
      "source": [
        "### How many movies of each genre are there?\n",
        "---"
      ]
    },
    {
      "cell_type": "code",
      "metadata": {
        "id": "V6MsN8OcQn0u",
        "colab": {
          "base_uri": "https://localhost:8080/"
        },
        "outputId": "1c7f9c28-d528-4c76-b5c4-e24703056be1"
      },
      "source": [
        "def count_genre_movies(df,column):\n",
        "  # genre_movies_df = df.groupby(\"genre\")[\"movieName\"].count()\n",
        "  genre_movies_df = df[column].value_counts()\n",
        "  print(genre_movies_df)\n",
        "   \n",
        "\n",
        "count_genre_movies(cleaned_df, 'genre')"
      ],
      "execution_count": 4,
      "outputs": [
        {
          "output_type": "stream",
          "name": "stdout",
          "text": [
            "Drama          55272\n",
            "Comedy         46812\n",
            "Documentary    34786\n",
            "Short          24758\n",
            "Animation      15924\n",
            "Action         12890\n",
            "Crime           9360\n",
            "Adventure       6126\n",
            "Western         5034\n",
            "Horror          4492\n",
            "Thriller        2710\n",
            "Romance         2357\n",
            "Family          2317\n",
            "Musical         2188\n",
            "Music           1711\n",
            "Mystery         1576\n",
            "Sci-Fi          1283\n",
            "Fantasy         1147\n",
            "War              804\n",
            "Film-Noir         62\n",
            "Name: genre, dtype: int64\n"
          ]
        }
      ]
    },
    {
      "cell_type": "markdown",
      "metadata": {
        "id": "itYpwLPpQnZM"
      },
      "source": [
        "### Which director has the highest ranked movies?\n",
        "---"
      ]
    },
    {
      "cell_type": "code",
      "metadata": {
        "id": "dkW23Q27Qu0A",
        "colab": {
          "base_uri": "https://localhost:8080/"
        },
        "outputId": "f1fc4aba-9608-4ed6-d0ae-26efaeced087"
      },
      "source": [
        "def get_highest_ranked_movies(df):\n",
        "\n",
        "  small_df = df[['first_name','last_name','movieName', 'rank']]\n",
        "  max_rank = small_df['rank'].max()\n",
        "  result_df = small_df[(small_df['rank'] >= max_rank)]\n",
        "  best_directors_df = result_df.groupby(['last_name']).count()\n",
        "  sorted_best_directors_df = best_directors_df.sort_values(by = [\"movieName\"], ascending = False)\n",
        "  hightranked_director = sorted_best_directors_df.index[0]\n",
        "  return hightranked_director\n",
        "\n",
        "\n",
        "highranked_director = get_highest_ranked_movies(cleaned_df)\n",
        "print(highranked_director,\"has the highest ranked movies.\")"
      ],
      "execution_count": 5,
      "outputs": [
        {
          "output_type": "stream",
          "name": "stdout",
          "text": [
            "Roussopoulos has the highest ranked movies.\n"
          ]
        }
      ]
    },
    {
      "cell_type": "markdown",
      "metadata": {
        "id": "naiCl5kCQvS-"
      },
      "source": [
        "### How many movies have ranks of over 9?\n",
        "---\n"
      ]
    },
    {
      "cell_type": "code",
      "metadata": {
        "id": "Rb7v7WXEQ3Xl",
        "colab": {
          "base_uri": "https://localhost:8080/",
          "height": 424
        },
        "outputId": "336c6a65-dd3e-4fd6-ec88-dcfbec35435a"
      },
      "source": [
        "def get_movies_over9(df):\n",
        "  movie_df = df[['movieName','rank']]\n",
        "  result_df = movie_df[(movie_df['rank']>9)][['movieName','rank']]\n",
        "  return result_df\n",
        "\n",
        "get_movies_over9(cleaned_df)"
      ],
      "execution_count": 6,
      "outputs": [
        {
          "output_type": "execute_result",
          "data": {
            "text/html": [
              "\n",
              "  <div id=\"df-c82794ed-919d-4d0c-ba60-8025a5870f79\">\n",
              "    <div class=\"colab-df-container\">\n",
              "      <div>\n",
              "<style scoped>\n",
              "    .dataframe tbody tr th:only-of-type {\n",
              "        vertical-align: middle;\n",
              "    }\n",
              "\n",
              "    .dataframe tbody tr th {\n",
              "        vertical-align: top;\n",
              "    }\n",
              "\n",
              "    .dataframe thead th {\n",
              "        text-align: right;\n",
              "    }\n",
              "</style>\n",
              "<table border=\"1\" class=\"dataframe\">\n",
              "  <thead>\n",
              "    <tr style=\"text-align: right;\">\n",
              "      <th></th>\n",
              "      <th>movieName</th>\n",
              "      <th>rank</th>\n",
              "    </tr>\n",
              "  </thead>\n",
              "  <tbody>\n",
              "    <tr>\n",
              "      <th>747</th>\n",
              "      <td>brio, O</td>\n",
              "      <td>9.2</td>\n",
              "    </tr>\n",
              "    <tr>\n",
              "      <th>754</th>\n",
              "      <td>Burying Dvorak</td>\n",
              "      <td>9.2</td>\n",
              "    </tr>\n",
              "    <tr>\n",
              "      <th>1786</th>\n",
              "      <td>Cachorros</td>\n",
              "      <td>9.2</td>\n",
              "    </tr>\n",
              "    <tr>\n",
              "      <th>2065</th>\n",
              "      <td>Burning the Grump</td>\n",
              "      <td>9.3</td>\n",
              "    </tr>\n",
              "    <tr>\n",
              "      <th>2078</th>\n",
              "      <td>Kehrwoche</td>\n",
              "      <td>9.1</td>\n",
              "    </tr>\n",
              "    <tr>\n",
              "      <th>...</th>\n",
              "      <td>...</td>\n",
              "      <td>...</td>\n",
              "    </tr>\n",
              "    <tr>\n",
              "      <th>367442</th>\n",
              "      <td>One of Five</td>\n",
              "      <td>9.5</td>\n",
              "    </tr>\n",
              "    <tr>\n",
              "      <th>367902</th>\n",
              "      <td>Koppnyi Aga testamentuma, A</td>\n",
              "      <td>9.4</td>\n",
              "    </tr>\n",
              "    <tr>\n",
              "      <th>368210</th>\n",
              "      <td>Vozvrashcheniye Domovyonka</td>\n",
              "      <td>9.6</td>\n",
              "    </tr>\n",
              "    <tr>\n",
              "      <th>368486</th>\n",
              "      <td>Heureux anniversaire</td>\n",
              "      <td>9.2</td>\n",
              "    </tr>\n",
              "    <tr>\n",
              "      <th>368620</th>\n",
              "      <td>Travail</td>\n",
              "      <td>9.8</td>\n",
              "    </tr>\n",
              "  </tbody>\n",
              "</table>\n",
              "<p>913 rows × 2 columns</p>\n",
              "</div>\n",
              "      <button class=\"colab-df-convert\" onclick=\"convertToInteractive('df-c82794ed-919d-4d0c-ba60-8025a5870f79')\"\n",
              "              title=\"Convert this dataframe to an interactive table.\"\n",
              "              style=\"display:none;\">\n",
              "        \n",
              "  <svg xmlns=\"http://www.w3.org/2000/svg\" height=\"24px\"viewBox=\"0 0 24 24\"\n",
              "       width=\"24px\">\n",
              "    <path d=\"M0 0h24v24H0V0z\" fill=\"none\"/>\n",
              "    <path d=\"M18.56 5.44l.94 2.06.94-2.06 2.06-.94-2.06-.94-.94-2.06-.94 2.06-2.06.94zm-11 1L8.5 8.5l.94-2.06 2.06-.94-2.06-.94L8.5 2.5l-.94 2.06-2.06.94zm10 10l.94 2.06.94-2.06 2.06-.94-2.06-.94-.94-2.06-.94 2.06-2.06.94z\"/><path d=\"M17.41 7.96l-1.37-1.37c-.4-.4-.92-.59-1.43-.59-.52 0-1.04.2-1.43.59L10.3 9.45l-7.72 7.72c-.78.78-.78 2.05 0 2.83L4 21.41c.39.39.9.59 1.41.59.51 0 1.02-.2 1.41-.59l7.78-7.78 2.81-2.81c.8-.78.8-2.07 0-2.86zM5.41 20L4 18.59l7.72-7.72 1.47 1.35L5.41 20z\"/>\n",
              "  </svg>\n",
              "      </button>\n",
              "      \n",
              "  <style>\n",
              "    .colab-df-container {\n",
              "      display:flex;\n",
              "      flex-wrap:wrap;\n",
              "      gap: 12px;\n",
              "    }\n",
              "\n",
              "    .colab-df-convert {\n",
              "      background-color: #E8F0FE;\n",
              "      border: none;\n",
              "      border-radius: 50%;\n",
              "      cursor: pointer;\n",
              "      display: none;\n",
              "      fill: #1967D2;\n",
              "      height: 32px;\n",
              "      padding: 0 0 0 0;\n",
              "      width: 32px;\n",
              "    }\n",
              "\n",
              "    .colab-df-convert:hover {\n",
              "      background-color: #E2EBFA;\n",
              "      box-shadow: 0px 1px 2px rgba(60, 64, 67, 0.3), 0px 1px 3px 1px rgba(60, 64, 67, 0.15);\n",
              "      fill: #174EA6;\n",
              "    }\n",
              "\n",
              "    [theme=dark] .colab-df-convert {\n",
              "      background-color: #3B4455;\n",
              "      fill: #D2E3FC;\n",
              "    }\n",
              "\n",
              "    [theme=dark] .colab-df-convert:hover {\n",
              "      background-color: #434B5C;\n",
              "      box-shadow: 0px 1px 3px 1px rgba(0, 0, 0, 0.15);\n",
              "      filter: drop-shadow(0px 1px 2px rgba(0, 0, 0, 0.3));\n",
              "      fill: #FFFFFF;\n",
              "    }\n",
              "  </style>\n",
              "\n",
              "      <script>\n",
              "        const buttonEl =\n",
              "          document.querySelector('#df-c82794ed-919d-4d0c-ba60-8025a5870f79 button.colab-df-convert');\n",
              "        buttonEl.style.display =\n",
              "          google.colab.kernel.accessAllowed ? 'block' : 'none';\n",
              "\n",
              "        async function convertToInteractive(key) {\n",
              "          const element = document.querySelector('#df-c82794ed-919d-4d0c-ba60-8025a5870f79');\n",
              "          const dataTable =\n",
              "            await google.colab.kernel.invokeFunction('convertToInteractive',\n",
              "                                                     [key], {});\n",
              "          if (!dataTable) return;\n",
              "\n",
              "          const docLinkHtml = 'Like what you see? Visit the ' +\n",
              "            '<a target=\"_blank\" href=https://colab.research.google.com/notebooks/data_table.ipynb>data table notebook</a>'\n",
              "            + ' to learn more about interactive tables.';\n",
              "          element.innerHTML = '';\n",
              "          dataTable['output_type'] = 'display_data';\n",
              "          await google.colab.output.renderOutput(dataTable, element);\n",
              "          const docLink = document.createElement('div');\n",
              "          docLink.innerHTML = docLinkHtml;\n",
              "          element.appendChild(docLink);\n",
              "        }\n",
              "      </script>\n",
              "    </div>\n",
              "  </div>\n",
              "  "
            ],
            "text/plain": [
              "                          movieName  rank\n",
              "747                         brio, O   9.2\n",
              "754                  Burying Dvorak   9.2\n",
              "1786                      Cachorros   9.2\n",
              "2065              Burning the Grump   9.3\n",
              "2078                      Kehrwoche   9.1\n",
              "...                             ...   ...\n",
              "367442                  One of Five   9.5\n",
              "367902  Koppnyi Aga testamentuma, A   9.4\n",
              "368210   Vozvrashcheniye Domovyonka   9.6\n",
              "368486         Heureux anniversaire   9.2\n",
              "368620                      Travail   9.8\n",
              "\n",
              "[913 rows x 2 columns]"
            ]
          },
          "metadata": {},
          "execution_count": 6
        }
      ]
    },
    {
      "cell_type": "markdown",
      "metadata": {
        "id": "qSM1LAZGQ32W"
      },
      "source": [
        "### Plot a bar chart of mean rank and genre\n",
        "---"
      ]
    },
    {
      "cell_type": "code",
      "metadata": {
        "id": "oDk-3bkpRUfs",
        "colab": {
          "base_uri": "https://localhost:8080/",
          "height": 279
        },
        "outputId": "f98ac7e4-30a4-4e1c-de83-24fd8e4d2b77"
      },
      "source": [
        "import matplotlib.pyplot as plt\n",
        "import seaborn as sns\n",
        "\n",
        "def show_barchart_meanrank_genre(df):\n",
        "  df = df.dropna(subset = [\"rank\"])\n",
        "  mean_rank_genre = df.groupby('genre').mean().sort_values(by='rank')\n",
        "  mean_rank_genre_df = mean_rank_genre['rank']\n",
        "  # movie_rank_genre[['rank']] --> data frame\n",
        "  # movie_rank_genre['rank'].to_frame()--> data frame\n",
        "\n",
        "  label = mean_rank_genre_df.keys()\n",
        "  plt.barh(label, mean_rank_genre_df)\n",
        "  plt.xlabel(\"rank\")\n",
        "  plt.ylabel(\"genre\")\n",
        "  plt.show()\n",
        "\n",
        "show_barchart_meanrank_genre(cleaned_df)  "
      ],
      "execution_count": 7,
      "outputs": [
        {
          "output_type": "display_data",
          "data": {
            "image/png": "[encoded data removed]",
            "text/plain": [
              "<Figure size 432x288 with 1 Axes>"
            ]
          },
          "metadata": {
            "needs_background": "light"
          }
        }
      ]
    },
    {
      "cell_type": "markdown",
      "metadata": {
        "id": "O6srkKPnRbh_"
      },
      "source": [
        "### Plot a pie chart of how many movies of each genre there are \n",
        "---\n"
      ]
    },
    {
      "cell_type": "code",
      "source": [
        "import numpy as np\n",
        "import matplotlib.pyplot as plt\n",
        "\n",
        "fig, ax = plt.subplots(figsize=(6, 3), subplot_kw=dict(aspect=\"equal\"))\n",
        "# print(help(fig))\n",
        "recipe = [\"375 g flour\",\n",
        "          \"75 g sugar\",\n",
        "          \"250 g butter\",\n",
        "          \"300 g berries\"]\n",
        "\n",
        "data = [float(x.split()[0]) for x in recipe]\n",
        "ingredients = [x.split()[-1] for x in recipe]\n",
        "\n",
        "\n",
        "def func(pct, allvals):\n",
        "    absolute = int(np.round(pct/100.*np.sum(allvals)))\n",
        "    return \"{:.1f}%\\n({:d} g)\".format(pct, absolute)\n",
        "\n",
        "\n",
        "wedges, texts, autotexts = ax.pie(data, autopct=lambda pct: func(pct, data),\n",
        "                                  textprops=dict(color=\"w\"))\n",
        "\n",
        "ax.legend(wedges, ingredients,\n",
        "          title=\"Ingredients\",\n",
        "          loc=\"center left\",\n",
        "          bbox_to_anchor=(1, 0, 0.5, 1))\n",
        "\n",
        "plt.setp(autotexts, size=8, weight=\"bold\")\n",
        "\n",
        "ax.set_title(\"Matplotlib bakery: A pie\")\n",
        "\n",
        "plt.show()"
      ],
      "metadata": {
        "colab": {
          "base_uri": "https://localhost:8080/",
          "height": 210
        },
        "id": "ftUvsjfv5tfU",
        "outputId": "d95b60bc-f919-43f6-f3b5-88705ba28daf"
      },
      "execution_count": 8,
      "outputs": [
        {
          "output_type": "display_data",
          "data": {
            "image/png": "[encoded data removed]",
            "text/plain": [
              "<Figure size 432x216 with 1 Axes>"
            ]
          },
          "metadata": {}
        }
      ]
    },
    {
      "cell_type": "code",
      "metadata": {
        "id": "suiaWhkF6Odd",
        "colab": {
          "base_uri": "https://localhost:8080/",
          "height": 744
        },
        "outputId": "c547236b-7330-4f43-fab8-d6066fc80ca9"
      },
      "source": [
        "\n",
        "\n",
        "filt = cleaned_df['genre'].isin(['Sci-Fi','Mystery','Fantasy','Music','War','Film-Noir']) \n",
        "cleaned_df.loc[filt,'genre'] = 'other' #Access group of rows and columns by label(s) \n",
        "cleaned_df['genre'].value_counts(normalize=True) #Return a Series containing counts of unique values.\n",
        "print(cleaned_df.groupby(['genre'])['genre'].count())\n",
        "labels= cleaned_df.groupby(['genre'])['genre'].count().keys()\n",
        "colors = sns.color_palette('pastel')\n",
        "plt.pie(cleaned_df.groupby(['genre'])['genre'].count(), labels = labels,rotatelabels=True, labeldistance=1,radius=2, autopct='%.2f%%',colors=colors)\n",
        "#plt.pie(genre, labels = labels, rotatelabels=True,radius=3.4)\n",
        "plt.show()\n",
        "\n",
        "# labels= cleaned_df['genre'].value_counts(normalize=True).keys()\n",
        "# plt.pie(cleaned_df['genre'].value_counts(normalize=True), labels = labels,rotatelabels=True, labeldistance=1)\n",
        "# plt.show()\n",
        "\n",
        "# def group_genres(df):\n",
        "#   return df['genre'].isin(['Sci-Fi','Mystery','Fantasy','Music','War','Film-Noir']) \n",
        "  \n",
        "# group_genres(cleaned_df)\n",
        "# cleaned_df['others'] = cleaned_df.apply(group_genres(cleaned_df),axis=1)\n",
        "# print(cleaned_df['others'])\n",
        "# def show_piechart_moviecount_eachgenre(df):\n",
        "#   # df['genre'].value_counts(normalize=True)\n",
        "#   countmovie_pergenre =  df.groupby(['genre'])['genre'].count()\n",
        "  # labels= countmovie_pergenre.keys()\n",
        "  # plt.pie(countmovie_pergenre, labels = labels,rotatelabels=True, labeldistance=1.5)\n",
        "  # plt.show()\n",
        "  # return countmovie_pergenre\n",
        "\n",
        "# show_piechart_moviecount_eachgenre(cleaned_df)"
      ],
      "execution_count": 9,
      "outputs": [
        {
          "output_type": "stream",
          "name": "stdout",
          "text": [
            "genre\n",
            "Action         12890\n",
            "Adventure       6126\n",
            "Animation      15924\n",
            "Comedy         46812\n",
            "Crime           9360\n",
            "Documentary    34786\n",
            "Drama          55272\n",
            "Family          2317\n",
            "Horror          4492\n",
            "Musical         2188\n",
            "Romance         2357\n",
            "Short          24758\n",
            "Thriller        2710\n",
            "Western         5034\n",
            "other           6583\n",
            "Name: genre, dtype: int64\n"
          ]
        },
        {
          "output_type": "display_data",
          "data": {
            "image/png": "[encoded data removed]",
            "text/plain": [
              "<Figure size 432x288 with 1 Axes>"
            ]
          },
          "metadata": {}
        }
      ]
    },
    {
      "cell_type": "markdown",
      "metadata": {
        "id": "Cm9HjL_K6bvo"
      },
      "source": [
        "### Plot a graph showing the mean Rank for each year "
      ]
    },
    {
      "cell_type": "code",
      "metadata": {
        "id": "mgwSHrCt6luB",
        "colab": {
          "base_uri": "https://localhost:8080/",
          "height": 772
        },
        "outputId": "2bd66bd0-9823-4119-e6a5-c13c163ba3ec"
      },
      "source": [
        "dorpna_df = cleaned_df.dropna(subset = [\"rank\"])\n",
        "groupedyear_df = dorpna_df.groupby('year')\n",
        "meanrank_data = dorpna_df.groupby(['year'])['rank'].mean()\n",
        "print(meanrank_data)\n",
        "labels = meanrank_data.keys()\n",
        "#matplotlib.pyplot.figure() Function to Change the Size of a Seaborn Plot.\n",
        "\n",
        "chart = sns.lineplot(x=labels, y=meanrank_data)\n",
        "chart.set_xlabel('Year', size=16)\n",
        "chart.set_ylabel('rank', size=16)\n",
        "# chart = sns.barplot(x=labels, y=meanrank_data)\n",
        "# #plt.xticks(rotation='vertical')\n",
        "# chart.set_xticklabels(labels=labels, rotation=45)\n",
        "# # plt.xticks(rotation=70)\n",
        "# # plt.tight_layout()\n",
        "# # chart.set_xticklabels(meanrank_data.get_xticklabels(), \n",
        "# #                           rotation=90, \n",
        "# #                           horizontalalignment='right')\n",
        "# chart.set(xlabel='Year',ylabel='Rank',title='The mean Rank for each year')\n",
        "# # chart.set_xlabel('Year', size=16)\n",
        "# # chart.set_ylabel('rank', size=16)\n",
        "plt.show()\n",
        "\n",
        "# chart.ticklabel_format()\n",
        "\n",
        "#def show_histchart(df):\n",
        "  \n",
        "color = 'green'\n",
        "chart = sns.histplot(data=meanrank_data,color=color)\n",
        "chart.set_xlabel('Data')\n",
        "chart.set_ylabel('year')\n",
        "plt.show()\n",
        "  \n",
        "# show_histchart(meanrank_data)\n"
      ],
      "execution_count": 10,
      "outputs": [
        {
          "output_type": "stream",
          "name": "stdout",
          "text": [
            "year\n",
            "1892    3.450000\n",
            "1893    6.800000\n",
            "1894    6.066667\n",
            "1895    5.642857\n",
            "1896    4.400000\n",
            "          ...   \n",
            "2000    6.012256\n",
            "2001    6.134462\n",
            "2002    6.322129\n",
            "2003    6.247705\n",
            "2004    6.263153\n",
            "Name: rank, Length: 113, dtype: float64\n"
          ]
        },
        {
          "output_type": "display_data",
          "data": {
            "image/png": "[encoded data removed]",
            "text/plain": [
              "<Figure size 432x288 with 1 Axes>"
            ]
          },
          "metadata": {
            "needs_background": "light"
          }
        },
        {
          "output_type": "display_data",
          "data": {
            "image/png": "[encoded data removed]",
            "text/plain": [
              "<Figure size 432x288 with 1 Axes>"
            ]
          },
          "metadata": {
            "needs_background": "light"
          }
        }
      ]
    },
    {
      "cell_type": "markdown",
      "metadata": {
        "id": "FvzMjQ5X6oeU"
      },
      "source": [
        "### What else can you find out from this dataset?\n",
        "---\n",
        "Make a plan of 3 further things you can do to interrogate and analyse this dataset"
      ]
    },
    {
      "cell_type": "markdown",
      "metadata": {
        "id": "a46YOmLd64zb"
      },
      "source": [
        "Type your answer here  \n",
        "\n",
        "1.  how many genre make each year\n",
        "2.  how many films made each year\n",
        "3.  how many films made by director  "
      ]
    },
    {
      "cell_type": "markdown",
      "metadata": {
        "id": "es_Uyz_f6-1F"
      },
      "source": [
        "### Complete the tasks you have set out in the exercise above. \n",
        "---\n"
      ]
    },
    {
      "cell_type": "code",
      "metadata": {
        "id": "GY-HzjZb7L5q",
        "colab": {
          "base_uri": "https://localhost:8080/",
          "height": 296
        },
        "outputId": "6e1b30ae-124d-4a7c-9798-c0cadce36b6b"
      },
      "source": [
        "# How many genre make each year\n",
        "cleaned_df.groupby(['year'],as_index=True)[['genre']].nunique().plot()  #.agg(['count','nunique'])   #.count() #.plot()"
      ],
      "execution_count": 11,
      "outputs": [
        {
          "output_type": "execute_result",
          "data": {
            "text/plain": [
              "<matplotlib.axes._subplots.AxesSubplot at 0x7f3907a06f90>"
            ]
          },
          "metadata": {},
          "execution_count": 11
        },
        {
          "output_type": "display_data",
          "data": {
            "image/png": "[encoded data removed]",
            "text/plain": [
              "<Figure size 432x288 with 1 Axes>"
            ]
          },
          "metadata": {
            "needs_background": "light"
          }
        }
      ]
    },
    {
      "cell_type": "code",
      "source": [
        "# how many films made each year\n",
        "cleaned_df.groupby(['id','first_name','last_name','movieName','year','rank'])['genre'].apply(list).to_frame().rename(columns={0:'genres'})\n"
      ],
      "metadata": {
        "colab": {
          "base_uri": "https://localhost:8080/",
          "height": 455
        },
        "id": "SJayqqJ4RwOI",
        "outputId": "f9f5e693-9d42-4e32-c998-e8295682b0fe"
      },
      "execution_count": 12,
      "outputs": [
        {
          "output_type": "execute_result",
          "data": {
            "text/html": [
              "\n",
              "  <div id=\"df-b3d0a73c-3ee1-4fe7-b3db-7a74c2989424\">\n",
              "    <div class=\"colab-df-container\">\n",
              "      <div>\n",
              "<style scoped>\n",
              "    .dataframe tbody tr th:only-of-type {\n",
              "        vertical-align: middle;\n",
              "    }\n",
              "\n",
              "    .dataframe tbody tr th {\n",
              "        vertical-align: top;\n",
              "    }\n",
              "\n",
              "    .dataframe thead th {\n",
              "        text-align: right;\n",
              "    }\n",
              "</style>\n",
              "<table border=\"1\" class=\"dataframe\">\n",
              "  <thead>\n",
              "    <tr style=\"text-align: right;\">\n",
              "      <th></th>\n",
              "      <th></th>\n",
              "      <th></th>\n",
              "      <th></th>\n",
              "      <th></th>\n",
              "      <th></th>\n",
              "      <th>genre</th>\n",
              "    </tr>\n",
              "    <tr>\n",
              "      <th>id</th>\n",
              "      <th>first_name</th>\n",
              "      <th>last_name</th>\n",
              "      <th>movieName</th>\n",
              "      <th>year</th>\n",
              "      <th>rank</th>\n",
              "      <th></th>\n",
              "    </tr>\n",
              "  </thead>\n",
              "  <tbody>\n",
              "    <tr>\n",
              "      <th>77</th>\n",
              "      <th>Rostislav</th>\n",
              "      <th>Aalto</th>\n",
              "      <th>Cleaning Up!</th>\n",
              "      <th>2002</th>\n",
              "      <th>8.3</th>\n",
              "      <td>[Documentary]</td>\n",
              "    </tr>\n",
              "    <tr>\n",
              "      <th>78</th>\n",
              "      <th>Veikko</th>\n",
              "      <th>Aaltonen</th>\n",
              "      <th>Is meidn</th>\n",
              "      <th>1993</th>\n",
              "      <th>6.8</th>\n",
              "      <td>[Drama]</td>\n",
              "    </tr>\n",
              "    <tr>\n",
              "      <th>79</th>\n",
              "      <th>Veikko</th>\n",
              "      <th>Aaltonen</th>\n",
              "      <th>Juoksuhaudantie</th>\n",
              "      <th>2004</th>\n",
              "      <th>6.3</th>\n",
              "      <td>[Comedy]</td>\n",
              "    </tr>\n",
              "    <tr>\n",
              "      <th>81</th>\n",
              "      <th>Veikko</th>\n",
              "      <th>Aaltonen</th>\n",
              "      <th>Maa</th>\n",
              "      <th>2001</th>\n",
              "      <th>6.0</th>\n",
              "      <td>[Documentary]</td>\n",
              "    </tr>\n",
              "    <tr>\n",
              "      <th>82</th>\n",
              "      <th>Veikko</th>\n",
              "      <th>Aaltonen</th>\n",
              "      <th>Merisairas</th>\n",
              "      <th>1996</th>\n",
              "      <th>4.3</th>\n",
              "      <td>[Drama]</td>\n",
              "    </tr>\n",
              "    <tr>\n",
              "      <th>...</th>\n",
              "      <th>...</th>\n",
              "      <th>...</th>\n",
              "      <th>...</th>\n",
              "      <th>...</th>\n",
              "      <th>...</th>\n",
              "      <td>...</td>\n",
              "    </tr>\n",
              "    <tr>\n",
              "      <th>368828</th>\n",
              "      <th>Memduh</th>\n",
              "      <th>Ün</th>\n",
              "      <th>Cevriyem</th>\n",
              "      <th>1978</th>\n",
              "      <th>7.8</th>\n",
              "      <td>[Drama]</td>\n",
              "    </tr>\n",
              "    <tr>\n",
              "      <th>368832</th>\n",
              "      <th>Memduh</th>\n",
              "      <th>Ün</th>\n",
              "      <th>Devlet Kusu</th>\n",
              "      <th>1980</th>\n",
              "      <th>7.2</th>\n",
              "      <td>[Comedy]</td>\n",
              "    </tr>\n",
              "    <tr>\n",
              "      <th>368837</th>\n",
              "      <th>Memduh</th>\n",
              "      <th>Ün</th>\n",
              "      <th>Garip</th>\n",
              "      <th>1986</th>\n",
              "      <th>7.9</th>\n",
              "      <td>[Comedy]</td>\n",
              "    </tr>\n",
              "    <tr>\n",
              "      <th>368861</th>\n",
              "      <th>Memduh</th>\n",
              "      <th>Ün</th>\n",
              "      <th>Sezercik aslan parcasi</th>\n",
              "      <th>1972</th>\n",
              "      <th>6.0</th>\n",
              "      <td>[Drama]</td>\n",
              "    </tr>\n",
              "    <tr>\n",
              "      <th>368891</th>\n",
              "      <th>Idil</th>\n",
              "      <th>Üner</th>\n",
              "      <th>Liebenden vom Hotel von Osman, Die</th>\n",
              "      <th>2001</th>\n",
              "      <th>8.5</th>\n",
              "      <td>[Short]</td>\n",
              "    </tr>\n",
              "  </tbody>\n",
              "</table>\n",
              "<p>63840 rows × 1 columns</p>\n",
              "</div>\n",
              "      <button class=\"colab-df-convert\" onclick=\"convertToInteractive('df-b3d0a73c-3ee1-4fe7-b3db-7a74c2989424')\"\n",
              "              title=\"Convert this dataframe to an interactive table.\"\n",
              "              style=\"display:none;\">\n",
              "        \n",
              "  <svg xmlns=\"http://www.w3.org/2000/svg\" height=\"24px\"viewBox=\"0 0 24 24\"\n",
              "       width=\"24px\">\n",
              "    <path d=\"M0 0h24v24H0V0z\" fill=\"none\"/>\n",
              "    <path d=\"M18.56 5.44l.94 2.06.94-2.06 2.06-.94-2.06-.94-.94-2.06-.94 2.06-2.06.94zm-11 1L8.5 8.5l.94-2.06 2.06-.94-2.06-.94L8.5 2.5l-.94 2.06-2.06.94zm10 10l.94 2.06.94-2.06 2.06-.94-2.06-.94-.94-2.06-.94 2.06-2.06.94z\"/><path d=\"M17.41 7.96l-1.37-1.37c-.4-.4-.92-.59-1.43-.59-.52 0-1.04.2-1.43.59L10.3 9.45l-7.72 7.72c-.78.78-.78 2.05 0 2.83L4 21.41c.39.39.9.59 1.41.59.51 0 1.02-.2 1.41-.59l7.78-7.78 2.81-2.81c.8-.78.8-2.07 0-2.86zM5.41 20L4 18.59l7.72-7.72 1.47 1.35L5.41 20z\"/>\n",
              "  </svg>\n",
              "      </button>\n",
              "      \n",
              "  <style>\n",
              "    .colab-df-container {\n",
              "      display:flex;\n",
              "      flex-wrap:wrap;\n",
              "      gap: 12px;\n",
              "    }\n",
              "\n",
              "    .colab-df-convert {\n",
              "      background-color: #E8F0FE;\n",
              "      border: none;\n",
              "      border-radius: 50%;\n",
              "      cursor: pointer;\n",
              "      display: none;\n",
              "      fill: #1967D2;\n",
              "      height: 32px;\n",
              "      padding: 0 0 0 0;\n",
              "      width: 32px;\n",
              "    }\n",
              "\n",
              "    .colab-df-convert:hover {\n",
              "      background-color: #E2EBFA;\n",
              "      box-shadow: 0px 1px 2px rgba(60, 64, 67, 0.3), 0px 1px 3px 1px rgba(60, 64, 67, 0.15);\n",
              "      fill: #174EA6;\n",
              "    }\n",
              "\n",
              "    [theme=dark] .colab-df-convert {\n",
              "      background-color: #3B4455;\n",
              "      fill: #D2E3FC;\n",
              "    }\n",
              "\n",
              "    [theme=dark] .colab-df-convert:hover {\n",
              "      background-color: #434B5C;\n",
              "      box-shadow: 0px 1px 3px 1px rgba(0, 0, 0, 0.15);\n",
              "      filter: drop-shadow(0px 1px 2px rgba(0, 0, 0, 0.3));\n",
              "      fill: #FFFFFF;\n",
              "    }\n",
              "  </style>\n",
              "\n",
              "      <script>\n",
              "        const buttonEl =\n",
              "          document.querySelector('#df-b3d0a73c-3ee1-4fe7-b3db-7a74c2989424 button.colab-df-convert');\n",
              "        buttonEl.style.display =\n",
              "          google.colab.kernel.accessAllowed ? 'block' : 'none';\n",
              "\n",
              "        async function convertToInteractive(key) {\n",
              "          const element = document.querySelector('#df-b3d0a73c-3ee1-4fe7-b3db-7a74c2989424');\n",
              "          const dataTable =\n",
              "            await google.colab.kernel.invokeFunction('convertToInteractive',\n",
              "                                                     [key], {});\n",
              "          if (!dataTable) return;\n",
              "\n",
              "          const docLinkHtml = 'Like what you see? Visit the ' +\n",
              "            '<a target=\"_blank\" href=https://colab.research.google.com/notebooks/data_table.ipynb>data table notebook</a>'\n",
              "            + ' to learn more about interactive tables.';\n",
              "          element.innerHTML = '';\n",
              "          dataTable['output_type'] = 'display_data';\n",
              "          await google.colab.output.renderOutput(dataTable, element);\n",
              "          const docLink = document.createElement('div');\n",
              "          docLink.innerHTML = docLinkHtml;\n",
              "          element.appendChild(docLink);\n",
              "        }\n",
              "      </script>\n",
              "    </div>\n",
              "  </div>\n",
              "  "
            ],
            "text/plain": [
              "                                                                                  genre\n",
              "id     first_name last_name movieName                          year rank               \n",
              "77     Rostislav  Aalto     Cleaning Up!                       2002 8.3   [Documentary]\n",
              "78     Veikko     Aaltonen  Is meidn                           1993 6.8         [Drama]\n",
              "79     Veikko     Aaltonen  Juoksuhaudantie                    2004 6.3        [Comedy]\n",
              "81     Veikko     Aaltonen  Maa                                2001 6.0   [Documentary]\n",
              "82     Veikko     Aaltonen  Merisairas                         1996 4.3         [Drama]\n",
              "...                                                                                 ...\n",
              "368828 Memduh     Ün        Cevriyem                           1978 7.8         [Drama]\n",
              "368832 Memduh     Ün        Devlet Kusu                        1980 7.2        [Comedy]\n",
              "368837 Memduh     Ün        Garip                              1986 7.9        [Comedy]\n",
              "368861 Memduh     Ün        Sezercik aslan parcasi             1972 6.0         [Drama]\n",
              "368891 Idil       Üner      Liebenden vom Hotel von Osman, Die 2001 8.5         [Short]\n",
              "\n",
              "[63840 rows x 1 columns]"
            ]
          },
          "metadata": {},
          "execution_count": 12
        }
      ]
    },
    {
      "cell_type": "code",
      "source": [
        "# how many films made by director\n",
        "#cleaned_df.groupby('last_name').count()\n",
        "cleaned_df.groupby(['first_name','last_name'])['last_name'].count()"
      ],
      "metadata": {
        "colab": {
          "base_uri": "https://localhost:8080/"
        },
        "id": "2bxSaOFsShst",
        "outputId": "0e314494-5fd4-4815-8672-603ade3a84fd"
      },
      "execution_count": 13,
      "outputs": [
        {
          "output_type": "execute_result",
          "data": {
            "text/plain": [
              "first_name      last_name   \n",
              "'Philthy' Phil  Phillips         1\n",
              "'Weird Al'      Yankovic         6\n",
              "A.              Aleksandrov      1\n",
              "                Babes            1\n",
              "                Balakrishnan     1\n",
              "                                ..\n",
              "Ülo             Pikkov           1\n",
              "Ümit            Utku            22\n",
              "Þorvaldur       Kristinsson      1\n",
              "Þráinn          Bertelsson       3\n",
              "Þór Elís        Pálsson          2\n",
              "Name: last_name, Length: 64270, dtype: int64"
            ]
          },
          "metadata": {},
          "execution_count": 13
        }
      ]
    },
    {
      "cell_type": "markdown",
      "metadata": {
        "id": "pQV2NO8umBSk"
      },
      "source": [
        "# Reflection\n",
        "----\n",
        "\n",
        "## What skills have you demonstrated in completing this notebook?"
      ]
    },
    {
      "cell_type": "markdown",
      "metadata": {
        "id": "NUVvt2r0mCKq"
      },
      "source": [
        "Your answer:\n",
        "get data info , describe data\n",
        "clean data, \n",
        "import libraries\n",
        "extract data , statistic data\n",
        "produce charts with matplotlib or seaborn libraries."
      ]
    },
    {
      "cell_type": "markdown",
      "metadata": {
        "id": "SOrbWOuFmObq"
      },
      "source": [
        "## What caused you the most difficulty?"
      ]
    },
    {
      "cell_type": "markdown",
      "metadata": {
        "id": "G_eGng1GmO78"
      },
      "source": [
        "Your answer:to clean data properly, use correct syntax to extract  dataframe"
      ]
    }
  ]
}