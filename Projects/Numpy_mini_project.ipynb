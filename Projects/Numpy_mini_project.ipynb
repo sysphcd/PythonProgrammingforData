{
  "nbformat": 4,
  "nbformat_minor": 0,
  "metadata": {
    "colab": {
      "name": "Numpy mini-project.ipynb",
      "provenance": [],
      "collapsed_sections": [],
      "include_colab_link": true
    },
    "kernelspec": {
      "name": "python3",
      "display_name": "Python 3"
    },
    "language_info": {
      "name": "python"
    }
  },
  "cells": [
    {
      "cell_type": "markdown",
      "metadata": {
        "id": "view-in-github",
        "colab_type": "text"
      },
      "source": [
        "<a href=\"https://colab.research.google.com/github/sysphcd/PythonProgrammingforData/blob/main/Numpy_mini_project.ipynb\" target=\"_parent\"><img src=\"https://colab.research.google.com/assets/colab-badge.svg\" alt=\"Open In Colab\"/></a>"
      ]
    },
    {
      "cell_type": "markdown",
      "source": [
        "# Investigate, wrangle, add new data to the dataframe, filter and correlate\n",
        "\n",
        "The following data file contains data about student scores in math, reading and writing.  The exam scores are assumed to be percentages. It also contains data about gender, ethnicity, parental education, whether the student qualifies for free school food and whether or not the student has taken a preparation course for the exams.  The data set has already been cleaned. \n",
        "\n",
        "1.  Investigate the data set.\n",
        "\n",
        "2.  Create numpy arrays to hold each of the three sets of scores.  \n",
        "Create a new numpy array to hold the average exam score (of the three scores for each student)\n",
        "Add the new numpy array as a new column in the dataframe.\n",
        "\n",
        "3.  Filter the original dataset into a new dataframe containing just the females.  Calculate the average exam scores for all rows in this new dataframe and then find the mean of the average column.\n",
        "\n",
        "4.  Do the same for the males.\n",
        "\n",
        "5.  Use the original dataset to find the correlation coefficient for reading and maths.  How closely do they correlate?  Write what you find in a text box below the code.\n",
        "\n",
        "6.  Do the same for reading and writing. What do you find?\n",
        "\n",
        "7.  You might want to filter on different criteria and check correlation (e.g. those on free school meals, or those who had prepared, etc)\n",
        "\n",
        "\n",
        "\n",
        "\n",
        "\n"
      ],
      "metadata": {
        "id": "8qnlsapq24Df"
      }
    },
    {
      "cell_type": "markdown",
      "source": [
        "The dataset can be accessed here:  https://raw.githubusercontent.com/lilaceri/Working-with-data-/main/Data%20Sets%20for%20code%20divisio/exams.csv.  This is a .csv file.\n",
        "\n",
        "**NOTE:** Some useful references are included at the bottom of this spreadsheet.\n",
        "\n",
        "Use the code cell below to work your code."
      ],
      "metadata": {
        "id": "SSvLiFnp4LjG"
      }
    },
    {
      "cell_type": "code",
      "source": [
        "import pandas as pd\n",
        "import numpy as np\n",
        "\n",
        "def cal_avg_score(df,col1,col2,col3):\n",
        "  #Create numpy arrays to hold each of the three sets of scores.\n",
        "  nparray_col1 = np.array(df[col1])\n",
        "  nparray_col2 = np.array(df[col2])\n",
        "  nparray_col3 = np.array(df[col3])\n",
        "  #Create a new numpy array to hold the average exam score (of the three scores for each student) \n",
        "  nparray_avg_score = (nparray_col1 + nparray_col2 + nparray_col3)/3\n",
        "\n",
        "  #Add the new numpy array as a new column in the dataframe.\n",
        "  df['avg_score'] = nparray_avg_score.tolist()\n",
        "  #display(df)\n",
        "  return df\n",
        "\n",
        "def filter_avg_gender(df_withavg,gender):\n",
        "  #display(df_withavg)\n",
        "  #Filter the original dataset into a new dataframe containing just the females.\n",
        "  gender_df = df_withavg[df_withavg['gender'] == gender]\n",
        "  #Calculate the average exam scores for all rows in this new dataframe and then find the mean of the average column.\n",
        "  nparray_avg_score = np.array(gender_df['avg_score'])\n",
        "  print(f\"{gender} mean :\" ,nparray_avg_score.mean())\n",
        "\n",
        "\n",
        "def cal_coef(df,col1,col2):\n",
        "  #Use the original dataset to find the correlation coefficient for reading and maths. \n",
        "  #How closely do they correlate? Write what you find in a text box below the code.\n",
        "  nparray_col1 = np.array(df[col1])\n",
        "  nparray_col2 =np.array(df[col2])\n",
        "  coef = np.corrcoef(nparray_col1,nparray_col2)\n",
        "  print(f'correlation coefficient for {col1} and {col2} :\\n',coef)\n",
        "\n",
        "  \n",
        "  \n",
        "def cal_coef_filtered(df,col1,col2,filterkey,filtervalue):\n",
        "  #You might want to filter on different criteria and check correlation \n",
        "  filter_df = df[df[filterkey] == filtervalue]\n",
        "  nparray_col1 = np.array(filter_df[col1])\n",
        "  nparray_col2 =np.array(filter_df[col2])\n",
        "  coef = np.corrcoef(nparray_col1,nparray_col2)\n",
        "  print(f'correlation coefficient for {filtervalue} {col1} and {col2} :\\n',coef)\n",
        "\n",
        "\n",
        "url = \"https://raw.githubusercontent.com/lilaceri/Working-with-data-/main/Data%20Sets%20for%20code%20divisio/exams.csv\"\n",
        "df = pd.read_csv(url)\n",
        "df.info()\n",
        "print('---------------Average scores ----------------------')\n",
        "df_withavg = cal_avg_score(df,'math_score','reading_score','writing_score')\n",
        "filter_avg_gender(df_withavg,'female')\n",
        "filter_avg_gender(df_withavg,'male')\n",
        "print('---------------correlation coefficient reading & math ----------------------')\n",
        "cal_coef(df,'reading_score','math_score')\n",
        "print('what do i find ? \\n')\n",
        "print('The matrix gives 4 values showing the correlation between:\\n')\n",
        "print('|    (reading/reading)        (reading/math)     |\\n')\n",
        "print('|    (math/reading)      (math/math)  | \\n')\n",
        "print('This suggests that math decreases with reading (the correlation is posigive so as one increases the other increases) \\n')\n",
        "print('but that the correlation is quite strong (an absolute correlation would be 1 and no correlation would be 0)\\n')  \n",
        "print('----------------correlation coefficient reading & writing ----------------------')\n",
        "cal_coef(df,'reading_score','writing_score')\n",
        "print('what do i find ? \\n')\n",
        "\n",
        "\n",
        "print('---------------correlation coefficient filtered data ----------------------')\n",
        "cal_coef_filtered(df,'reading_score','math_score','gender','female')\n",
        "cal_coef_filtered(df,'reading_score','math_score','gender','male')"
      ],
      "metadata": {
        "id": "txM4TIRUHhsJ",
        "colab": {
          "base_uri": "https://localhost:8080/"
        },
        "outputId": "9477e3bc-01b8-4406-c56f-9dd6e15a1cc1"
      },
      "execution_count": 27,
      "outputs": [
        {
          "output_type": "stream",
          "name": "stdout",
          "text": [
            "<class 'pandas.core.frame.DataFrame'>\n",
            "RangeIndex: 1000 entries, 0 to 999\n",
            "Data columns (total 8 columns):\n",
            " #   Column              Non-Null Count  Dtype \n",
            "---  ------              --------------  ----- \n",
            " 0   gender              1000 non-null   object\n",
            " 1   ethnicity           1000 non-null   object\n",
            " 2   parental_education  1000 non-null   object\n",
            " 3   lunch               1000 non-null   object\n",
            " 4   preparation_course  1000 non-null   object\n",
            " 5   math_score          1000 non-null   int64 \n",
            " 6   reading_score       1000 non-null   int64 \n",
            " 7   writing_score       1000 non-null   int64 \n",
            "dtypes: int64(3), object(5)\n",
            "memory usage: 62.6+ KB\n",
            "---------------Average scores ----------------------\n",
            "female mean : 70.81989247311829\n",
            "male mean : 65.99272486772487\n",
            "---------------correlation coefficient reading & math ----------------------\n",
            "correlation coefficient for reading_score and math_score :\n",
            " [[1.         0.81459752]\n",
            " [0.81459752 1.        ]]\n",
            "what do i find ? \n",
            "\n",
            "The matrix gives 4 values showing the correlation between:\n",
            "\n",
            "|    (reading/reading)        (reading/math)     |\n",
            "\n",
            "|    (math/reading)      (math/math)  | \n",
            "\n",
            "This suggests that math decreases with reading (the correlation is posigive so as one increases the other increases) \n",
            "\n",
            "but that the correlation is quite strong (an absolute correlation would be 1 and no correlation would be 0)\n",
            "\n",
            "----------------correlation coefficient reading & writing ----------------------\n",
            "correlation coefficient for reading_score and writing_score :\n",
            " [[1.         0.95676863]\n",
            " [0.95676863 1.        ]]\n",
            "what do i find ? \n",
            "\n",
            "---------------correlation coefficient filtered data ----------------------\n",
            "correlation coefficient for female reading_score and math_score :\n",
            " [[1.         0.88082438]\n",
            " [0.88082438 1.        ]]\n",
            "correlation coefficient for male reading_score and math_score :\n",
            " [[1.         0.90049667]\n",
            " [0.90049667 1.        ]]\n"
          ]
        }
      ]
    },
    {
      "cell_type": "markdown",
      "source": [
        "### Helpful references\n",
        "---\n",
        "\n",
        "Filtering on criteria using df references:  \n",
        "`filtered_df = df[df['column name' == value]]`  \n",
        "\n",
        "Filtering on multiple criteria using df reference:  \n",
        "`filtered_df = df[df['first column name' == value] & df[second column name] >= value]`\n",
        "\n",
        "Numpy help sheet:  http://datacamp-community-prod.s3.amazonaws.com/da466534-51fe-4c6d-b0cb-154f4782eb54\n",
        "\n"
      ],
      "metadata": {
        "id": "hkj-Ofus_D6_"
      }
    }
  ]
}