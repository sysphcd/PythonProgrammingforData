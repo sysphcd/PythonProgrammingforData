{
  "nbformat": 4,
  "nbformat_minor": 0,
  "metadata": {
    "colab": {
      "name": "Lists and Dictionaries Challenges.ipynb",
      "provenance": [],
      "collapsed_sections": [],
      "include_colab_link": true
    },
    "kernelspec": {
      "name": "python3",
      "display_name": "Python 3"
    },
    "language_info": {
      "name": "python"
    }
  },
  "cells": [
    {
      "cell_type": "markdown",
      "metadata": {
        "id": "view-in-github",
        "colab_type": "text"
      },
      "source": [
        "<a href=\"https://colab.research.google.com/github/sysphcd/PythonProgrammingforData/blob/main/Lists_and_Dictionaries_Challenges.ipynb\" target=\"_parent\"><img src=\"https://colab.research.google.com/assets/colab-badge.svg\" alt=\"Open In Colab\"/></a>"
      ]
    },
    {
      "cell_type": "markdown",
      "metadata": {
        "id": "nEJLJX3J9B2k"
      },
      "source": [
        "# Some challenges to help you become more confident with using Lists, Tuples and Dictionaries\n",
        "\n",
        "---\n",
        "\n"
      ]
    },
    {
      "cell_type": "markdown",
      "metadata": {
        "id": "JvV6htgh9Nc1"
      },
      "source": [
        "### Exercise 1 - extending a list\n",
        "\n",
        "There are three ways to extend a list in Python:  \n",
        "*  use `list_name.append(item)`, `list_name.insert(item)`\n",
        "*  concatenate two lists using the + operator (e.g. new_list = list1 + list2)\n",
        "*  use `list1_name.extend(list2_name)`\n",
        "\n",
        "The last method allows us to add all the `list2` items onto `list1` and for the new, extended list to now be `list1`.  `list2` will always be added to the end of `list1`.  \n",
        "\n",
        "If the objective is to add list2 before list1 then use `list2.extend(list1)`\n",
        "\n",
        "Write a function which will:  \n",
        "*  create a list of **years** containing the years 1960, 1970, 1980, 1990, 2000  \n",
        "*  print the list of years  \n",
        "*  calculate how long ago each year was and print the year and how long ago it was (e.g. 1990 was 30 years ago)  *(Hint:  use the datetime library to get the current year)*   \n",
        "*  create a second list, **years2** containing the years 2010 and 2020, extend `years` to include these later years\n",
        "*  create a third list, **years3** containing the years 1930, 1940 and 1950 and extend the list to include all the years between 1930 and 2020\n",
        "*  print the final list\n",
        "\n",
        "Expected output:  \n",
        "[1960, 1970, 1980, 1990]  \n",
        "1960 was 61 years ago  \n",
        "1970 was 51 years ago  \n",
        "1980 was 41 years ago  \n",
        "1990 was 31 years ago  \n",
        "2000 was 21 years ago  \n",
        "[1930, 1940, 1950, 1960, 1970, 1980, 1990, 2000, 2010, 2020] "
      ]
    },
    {
      "cell_type": "code",
      "metadata": {
        "id": "QAyTVqoO8-08",
        "colab": {
          "base_uri": "https://localhost:8080/"
        },
        "outputId": "71ea442e-55e5-43bd-8c84-3ddf9ba0d6d9"
      },
      "source": [
        "from datetime import datetime\n",
        "def extend_list():\n",
        "  years = [1960, 1970, 1980, 1990, 2000]\n",
        "  print(years)\n",
        "  for y in years:\n",
        "    print(y , \"was \",datetime.now().year-y,\"years ago\")\n",
        "  year2 = [2010,2020]\n",
        "  years.extend(year2)\n",
        "  #print(years)\n",
        "  year3 = [1930, 1940 ,1950]\n",
        "  years = year3 +years\n",
        "  print(years)\n",
        "extend_list()"
      ],
      "execution_count": null,
      "outputs": [
        {
          "output_type": "stream",
          "name": "stdout",
          "text": [
            "[1960, 1970, 1980, 1990, 2000]\n",
            "1960 was  62 years ago\n",
            "1970 was  52 years ago\n",
            "1980 was  42 years ago\n",
            "1990 was  32 years ago\n",
            "2000 was  22 years ago\n",
            "[1930, 1940, 1950, 1960, 1970, 1980, 1990, 2000, 2010, 2020]\n"
          ]
        }
      ]
    },
    {
      "cell_type": "markdown",
      "metadata": {
        "id": "S5iPicFzBzOW"
      },
      "source": [
        "---\n",
        "### Exercise 2 - creating a dictionary from a tuple and three lists\n",
        "\n",
        "Write a function which will create a list of dictionary items using the values in a tuple as the dictionary keys and the values in three corresponding lists as the dictionary values.\n",
        "\n",
        "*  loop through the status items in the tuple called task_status\n",
        "*  for each status, loop through the list with the same name (*Hint:  you can use eval(status) to access the list with the matching name  e.g. for task in eval(status)* )\n",
        "*  each time round this second loop, create a dictionary object with the  key:value pair {status : task}\n",
        "*  add each new dictionary to a list called **project_board** that was created as an empty list before the loops  \n",
        "*  print the project_board list\n",
        "\n",
        "Expected output:  \n",
        "\n",
        "[{'assigned': 'task1'}, {'assigned': 'task2'}, {'assigned': 'task3'}, {'inprogress': 'task4'}, {'inprogress': 'task5'}, {'inprogress': 'task6'}, {'completed': 'task7'}, {'completed': 'task8'}, {'completed': 'task9'}] \n",
        "\n"
      ]
    },
    {
      "cell_type": "code",
      "metadata": {
        "id": "KXYOSHY-C7m4",
        "colab": {
          "base_uri": "https://localhost:8080/"
        },
        "outputId": "2f65239d-311c-4bf0-c387-90a9352f0d98"
      },
      "source": [
        "def create_project_board():\n",
        "  task_status = (\"assigned\", \"inprogress\", \"completed\")\n",
        "  assigned = ['task1','task2','task3']\n",
        "  inprogress = ['task4','task5','task6']\n",
        "  completed = ['task7','task8','task9']\n",
        "  new_dict = {}\n",
        "  project_board = []\n",
        "  #  add your code below here\n",
        "  for status in task_status:\n",
        "    print(status)\n",
        "    for task in eval(status):\n",
        "      print(task)\n",
        "      new_dict = {status : task}\n",
        "      project_board.append(new_dict)\n",
        "  print(project_board)\n",
        "\n",
        "\n",
        "create_project_board()\n"
      ],
      "execution_count": null,
      "outputs": [
        {
          "output_type": "stream",
          "name": "stdout",
          "text": [
            "assigned\n",
            "task1\n",
            "task2\n",
            "task3\n",
            "inprogress\n",
            "task4\n",
            "task5\n",
            "task6\n",
            "completed\n",
            "task7\n",
            "task8\n",
            "task9\n",
            "[{'assigned': 'task1'}, {'assigned': 'task2'}, {'assigned': 'task3'}, {'inprogress': 'task4'}, {'inprogress': 'task5'}, {'inprogress': 'task6'}, {'completed': 'task7'}, {'completed': 'task8'}, {'completed': 'task9'}]\n"
          ]
        }
      ]
    },
    {
      "cell_type": "markdown",
      "metadata": {
        "id": "M1BuTu9p19Ma"
      },
      "source": [
        "---\n",
        "### Exercise 3 - names and heights\n",
        "\n",
        "Write a function which will allow a user to enter the names and heights of a set of people and add each set of information as a record (dictionary) to a list. The function will stop collecting names and heights when the user enters \"STOP\" as the name.\n",
        "\n",
        "Then, the function will:  \n",
        "\n",
        "*   produce a list of names in order of the shortest person to the tallest\n",
        "*   calculate the name of the tallest person\n",
        "*   calculate the name of the shortest person\n",
        "*   calculate the average height\n",
        "*   calculate the name of the person who is closest to the average height\n",
        "\n",
        "\n",
        "\n",
        "\n"
      ]
    },
    {
      "cell_type": "code",
      "metadata": {
        "id": "reuyww3e18uv",
        "colab": {
          "base_uri": "https://localhost:8080/"
        },
        "outputId": "b76e89c6-ac4f-4926-9f85-578980c427be"
      },
      "source": [
        "import operator\n",
        "def names_heights():\n",
        "  record_dict = {}\n",
        "  names_heights_list = []\n",
        "  totalheights = 0\n",
        "  peoplecounter = 0\n",
        "  name = input(\"enter the name (STOP for quit):\")\n",
        "  height = int(input(\"enter the height :\"))\n",
        "  while name != \"STOP\":\n",
        "    #print(\"in\", name)\n",
        "    \n",
        "    if name!= \"STOP\" : \n",
        "      record_dict[name]= height\n",
        "      #print(\"so far, dict :\",record_dict)\n",
        "      totalheights += height\n",
        "      peoplecounter += 1\n",
        "      name = input(\"enter the name:\")\n",
        "      if name == \"STOP\":\n",
        "        print(\"Thank you. Bye\")\n",
        "      else: \n",
        "        height = int(input(\"enter the height :\"))\n",
        "        \n",
        "\n",
        "\n",
        "\n",
        "\n",
        "  sorted_d = dict( sorted(record_dict.items(), key=operator.itemgetter(1),reverse=False))\n",
        "  names_heights_list.append(sorted_d) \n",
        "  print(names_heights_list)  \n",
        "\n",
        "  tallest= max(sorted_d, key=sorted_d.get)\n",
        "  print(\"the tallest person is :\",tallest)\n",
        "\n",
        "  shortest = min(sorted_d, key=sorted_d.get)\n",
        "  print(\"the shortest person is :\",shortest)\n",
        "\n",
        "  print(\"total heights : \",totalheights)\n",
        "  print(\"average heights : \",round(totalheights/peoplecounter,2))\n",
        "  avg = totalheights/peoplecounter\n",
        "  # pre_diff = 0\n",
        "  now_diff = 0\n",
        "  # pre_closest= \"\"\n",
        "  # now_closest = \"\"\n",
        "  diff_dict = {}\n",
        "  for name, value in record_dict.items():\n",
        "    now_diff = abs(value-avg)\n",
        "    diff_dict[name] = now_diff\n",
        "  print(min(diff_dict,key=diff_dict.get),\" is the closest to the average height1\")\n",
        "  \n",
        "names_heights()"
      ],
      "execution_count": null,
      "outputs": [
        {
          "output_type": "stream",
          "name": "stdout",
          "text": [
            "enter the name (STOP for quit):Jack\n",
            "enter the height :186\n",
            "enter the name:Amy\n",
            "enter the height :152\n",
            "enter the name:Sam\n",
            "enter the height :163\n",
            "enter the name:STOP\n",
            "Thank you. Bye\n",
            "[{'Amy': 152, 'Sam': 163, 'Jack': 186}]\n",
            "the tallest person is : Jack\n",
            "the shortest person is : Amy\n",
            "total heights :  501\n",
            "average heights :  167.0\n",
            "Sam  is the closest to the average height1\n"
          ]
        }
      ]
    }
  ]
}